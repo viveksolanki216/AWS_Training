{
 "cells": [
  {
   "cell_type": "markdown",
   "id": "6caff5c1-e802-4ff8-b33d-2e1bb201532c",
   "metadata": {},
   "source": [
    "\n",
    "# Train the model\n",
    "- Write a script that reads train and test data and train an xgboost model.\n",
    "- Create a training job using the above script\n",
    "\n",
    "References:\n",
    " - https://github.com/aws/amazon-sagemaker-examples/blob/4534bff4b5b5062af5789d98c4ddca01b0cb5d1f/end_to_end/fraud_detection/2-lineage-train-assess-bias-tune-registry-e2e.ipynb"
   ]
  },
  {
   "cell_type": "code",
   "execution_count": 1,
   "id": "15392b76-691d-4190-a83a-614c44fffabc",
   "metadata": {},
   "outputs": [
    {
     "name": "stderr",
     "output_type": "stream",
     "text": [
      "/opt/conda/lib/python3.12/site-packages/pydantic/_internal/_fields.py:192: UserWarning: Field name \"json\" in \"MonitoringDatasetFormat\" shadows an attribute in parent \"Base\"\n",
      "  warnings.warn(\n"
     ]
    },
    {
     "name": "stdout",
     "output_type": "stream",
     "text": [
      "sagemaker.config INFO - Not applying SDK defaults from location: /etc/xdg/sagemaker/config.yaml\n",
      "sagemaker.config INFO - Not applying SDK defaults from location: /home/sagemaker-user/.config/sagemaker/config.yaml\n"
     ]
    }
   ],
   "source": [
    "import sagemaker\n",
    "import boto3\n",
    "from sagemaker.xgboost.estimator import XGBoost"
   ]
  },
  {
   "cell_type": "code",
   "execution_count": 2,
   "id": "bd88110a-477b-41a1-af53-6172d6626bce",
   "metadata": {},
   "outputs": [
    {
     "name": "stdout",
     "output_type": "stream",
     "text": [
      "us-east-1\n",
      "sagemaker-us-east-1-205930620783\n",
      "arn:aws:iam::205930620783:role/service-role/AmazonSageMaker-ExecutionRole-20250401T145997\n",
      "205930620783\n"
     ]
    }
   ],
   "source": [
    "sagemaker_session = sagemaker.Session()\n",
    "REGION = sagemaker_session.boto_region_name\n",
    "BUCKET = sagemaker_session.default_bucket()\n",
    "ROLE = sagemaker.get_execution_role()\n",
    "PREFIX = \"FraudDetection_AutoInsurance\"\n",
    "print(REGION)\n",
    "print(BUCKET)\n",
    "print(ROLE)\n",
    "\n",
    "print(sagemaker_session.account_id())\n",
    "#print(sagemaker_session.list_s3_files(bucket=BUCKET, key_prefix=PREFIX))\n",
    "#sagemaker_session.list_feature_groups()"
   ]
  },
  {
   "cell_type": "code",
   "execution_count": 3,
   "id": "fe727b45-3d25-4dd1-9926-a1c6d83120ec",
   "metadata": {},
   "outputs": [
    {
     "name": "stdout",
     "output_type": "stream",
     "text": [
      "205930620783\n"
     ]
    }
   ],
   "source": [
    "# Setup a default session\n",
    "# The following code likely be used when calling aws services from a local system.\n",
    "\n",
    "boto3.setup_default_session(region_name=REGION)\n",
    "boto_session = boto3.Session(region_name=REGION)\n",
    "s3_client = boto_session.client('s3')\n",
    "sagemaker_client = boto3.client('sagemaker', region_name=REGION)\n",
    "\n",
    "sagemaker_session = sagemaker.session.Session(boto_session=boto_session, sagemaker_client=sagemaker_client)\n",
    "account_id = sagemaker_session.account_id()\n",
    "print(account_id)"
   ]
  },
  {
   "cell_type": "code",
   "execution_count": 4,
   "id": "a44a8db4-838d-4c08-89bd-67e2455f50dd",
   "metadata": {},
   "outputs": [],
   "source": [
    "ESTIMATOR_OUTPUT_PATH = f\"s3://{BUCKET}/{PREFIX}/training_jobs\"\n",
    "train_instance_count = 1\n",
    "train_instance_type = \"ml.c5.xlarge\"\n",
    "\n",
    "train_data_uri = f\"s3://{BUCKET}/{PREFIX}/data/train.csv\"\n",
    "test_data_uri = f\"s3://{BUCKET}/{PREFIX}/data/test.csv\"\n",
    "#data_uri = f\"s3://{BUCKET}/{PREFIX}/data/\"\n",
    "model_out_uri = f\"s3://{BUCKET}/{PREFIX}/model/\"\n",
    "target_var = \"fraud\"\n",
    "#print(data_uri)\n",
    "#s3://sagemaker-us-east-1-205930620783/FraudDetection_AutoInsurance/data/"
   ]
  },
  {
   "cell_type": "markdown",
   "id": "cee27c79-433d-44c2-9f35-a2b24b017c94",
   "metadata": {
    "jp-MarkdownHeadingCollapsed": true
   },
   "source": [
    "### First write a training script\n",
    "that trains a model on the input train data, validates on test data, and output the model and model results."
   ]
  },
  {
   "cell_type": "markdown",
   "id": "8b71dbc5-af6c-4afd-b83a-cffa82eb7a01",
   "metadata": {
    "jp-MarkdownHeadingCollapsed": true
   },
   "source": [
    "### Now test it locally"
   ]
  },
  {
   "cell_type": "code",
   "execution_count": 5,
   "id": "e99f5b3f-39b6-43d5-9021-a3bef5aadb53",
   "metadata": {},
   "outputs": [
    {
     "name": "stdout",
     "output_type": "stream",
     "text": [
      "Parsing arguments...\n",
      "Namespace(train_data_path=None, train_file='s3://sagemaker-us-east-1-205930620783/FraudDetection_AutoInsurance/data/train.csv', test_data_path=None, test_file='s3://sagemaker-us-east-1-205930620783/FraudDetection_AutoInsurance/data/test.csv', model_out_dir='model/', model_data_out_dir='model_results/', target_var='fraud', features=None, max_depth=6, eta=0.3, objective='binary:logistic', num_boost_round=1, nfold=2)\n",
      "s3://sagemaker-us-east-1-205930620783/FraudDetection_AutoInsurance/data/train.csv\n",
      "Traceback (most recent call last):\n",
      "  File \"/home/sagemaker-user/Code/EndToEnd_FraudDetection/xgboost_model_script.py\", line 32, in <module>\n",
      "    print(\"Reading Train Data From\", os.path.join(args.train_data_path, args.train_file))\n",
      "                                     ^^^^^^^^^^^^^^^^^^^^^^^^^^^^^^^^^^^^^^^^^^^^^^^^^^^\n",
      "  File \"<frozen posixpath>\", line 76, in join\n",
      "TypeError: expected str, bytes or os.PathLike object, not NoneType\n"
     ]
    }
   ],
   "source": [
    "! python xgboost_model_script.py --train-file \"s3://sagemaker-us-east-1-205930620783/FraudDetection_AutoInsurance/data/train.csv\" \\\n",
    "--test-file \"s3://sagemaker-us-east-1-205930620783/FraudDetection_AutoInsurance/data/test.csv\" \\\n",
    "--model-out-dir \"model/\" \\\n",
    "--model-data-out-dir \"model_results/\""
   ]
  },
  {
   "cell_type": "markdown",
   "id": "aa2e6baf-e08b-4ff4-8612-74d99ced764c",
   "metadata": {},
   "source": [
    "### Run this training script on an EC2 instance, How to do that?\n",
    "### Using SageMaker Estimators"
   ]
  },
  {
   "cell_type": "code",
   "execution_count": 6,
   "id": "0fc9532a-b4a1-4be0-9f6f-e8c9ddceac0a",
   "metadata": {},
   "outputs": [],
   "source": [
    "xgb_estimator = XGBoost(\n",
    "    entry_point=\"xgboost_model_script.py\",\n",
    "    output_path=ESTIMATOR_OUTPUT_PATH,\n",
    "    code_location=ESTIMATOR_OUTPUT_PATH,\n",
    "    hyperparameters={'target-var':'fraud', 'max-depth':6, 'eta':0.3, 'objective':'binary:logistic', 'num-boost-round':100, 'nfold':5},\n",
    "    role=ROLE,\n",
    "    instance_count=train_instance_count,\n",
    "    instance_type=train_instance_type,\n",
    "    framework_version=\"1.0-1\"\n",
    ")"
   ]
  },
  {
   "cell_type": "markdown",
   "id": "39b85338-4703-4dee-b1ce-da9ebbdad0ee",
   "metadata": {},
   "source": [
    "#### The key 'train' corresponds to the channel SM_CHANNEL_TRAIN, which you can access inside your training script like this:, and we have made train-data-path argument defaults to SM_CHANNEL_TRAIN\n",
    "What Happens at Runtime?\n",
    "- SageMaker downloads the training data to /opt/ml/input/data/train\n",
    "- Sets the env var SM_CHANNEL_TRAIN=/opt/ml/input/data/train\n",
    "- Passes CLI arguments for hyperparameters (--max_depth, --eta, etc.)\n",
    "- Your script uses argparse to read these values\n",
    "- You save the model to args.model_dir (== /opt/ml/model)\n",
    "- SageMaker uploads that directory to S3"
   ]
  },
  {
   "cell_type": "code",
   "execution_count": 7,
   "id": "9213bc35-0e90-4807-be45-6144c03f71f4",
   "metadata": {},
   "outputs": [
    {
     "data": {
      "text/html": [
       "<pre style=\"white-space:pre;overflow-x:auto;line-height:normal;font-family:Menlo,'DejaVu Sans Mono',consolas,'Courier New',monospace\"><span style=\"color: #7fbfbf; text-decoration-color: #7fbfbf\">[05/30/25 09:09:33] </span><span style=\"color: #0069ff; text-decoration-color: #0069ff; font-weight: bold\">INFO    </span> SageMaker Python SDK will collect telemetry to help us better  <a href=\"file:///opt/conda/lib/python3.12/site-packages/sagemaker/telemetry/telemetry_logging.py\" target=\"_blank\"><span style=\"color: #7f7f7f; text-decoration-color: #7f7f7f\">telemetry_logging.py</span></a><span style=\"color: #7f7f7f; text-decoration-color: #7f7f7f\">:</span><a href=\"file:///opt/conda/lib/python3.12/site-packages/sagemaker/telemetry/telemetry_logging.py#91\" target=\"_blank\"><span style=\"color: #7f7f7f; text-decoration-color: #7f7f7f\">91</span></a>\n",
       "<span style=\"color: #7fbfbf; text-decoration-color: #7fbfbf\">                    </span>         understand our user's needs, diagnose issues, and deliver      <span style=\"color: #7f7f7f; text-decoration-color: #7f7f7f\">                       </span>\n",
       "<span style=\"color: #7fbfbf; text-decoration-color: #7fbfbf\">                    </span>         additional features.                                           <span style=\"color: #7f7f7f; text-decoration-color: #7f7f7f\">                       </span>\n",
       "<span style=\"color: #7fbfbf; text-decoration-color: #7fbfbf\">                    </span>         To opt out of telemetry, please disable via TelemetryOptOut    <span style=\"color: #7f7f7f; text-decoration-color: #7f7f7f\">                       </span>\n",
       "<span style=\"color: #7fbfbf; text-decoration-color: #7fbfbf\">                    </span>         parameter in SDK defaults config. For more information, refer  <span style=\"color: #7f7f7f; text-decoration-color: #7f7f7f\">                       </span>\n",
       "<span style=\"color: #7fbfbf; text-decoration-color: #7fbfbf\">                    </span>         to                                                             <span style=\"color: #7f7f7f; text-decoration-color: #7f7f7f\">                       </span>\n",
       "<span style=\"color: #7fbfbf; text-decoration-color: #7fbfbf\">                    </span>         <span style=\"color: #0069ff; text-decoration-color: #0069ff; text-decoration: underline\">https://sagemaker.readthedocs.io/en/stable/overview.html#confi</span> <span style=\"color: #7f7f7f; text-decoration-color: #7f7f7f\">                       </span>\n",
       "<span style=\"color: #7fbfbf; text-decoration-color: #7fbfbf\">                    </span>         <span style=\"color: #0069ff; text-decoration-color: #0069ff; text-decoration: underline\">guring-and-using-defaults-with-the-sagemaker-python-sdk.</span>       <span style=\"color: #7f7f7f; text-decoration-color: #7f7f7f\">                       </span>\n",
       "</pre>\n"
      ],
      "text/plain": [
       "\u001b[2;36m[05/30/25 09:09:33]\u001b[0m\u001b[2;36m \u001b[0m\u001b[1;38;2;0;105;255mINFO    \u001b[0m SageMaker Python SDK will collect telemetry to help us better  \u001b]8;id=285206;file:///opt/conda/lib/python3.12/site-packages/sagemaker/telemetry/telemetry_logging.py\u001b\\\u001b[2mtelemetry_logging.py\u001b[0m\u001b]8;;\u001b\\\u001b[2m:\u001b[0m\u001b]8;id=173448;file:///opt/conda/lib/python3.12/site-packages/sagemaker/telemetry/telemetry_logging.py#91\u001b\\\u001b[2m91\u001b[0m\u001b]8;;\u001b\\\n",
       "\u001b[2;36m                    \u001b[0m         understand our user's needs, diagnose issues, and deliver      \u001b[2m                       \u001b[0m\n",
       "\u001b[2;36m                    \u001b[0m         additional features.                                           \u001b[2m                       \u001b[0m\n",
       "\u001b[2;36m                    \u001b[0m         To opt out of telemetry, please disable via TelemetryOptOut    \u001b[2m                       \u001b[0m\n",
       "\u001b[2;36m                    \u001b[0m         parameter in SDK defaults config. For more information, refer  \u001b[2m                       \u001b[0m\n",
       "\u001b[2;36m                    \u001b[0m         to                                                             \u001b[2m                       \u001b[0m\n",
       "\u001b[2;36m                    \u001b[0m         \u001b[4;38;2;0;105;255mhttps://sagemaker.readthedocs.io/en/stable/overview.html#confi\u001b[0m \u001b[2m                       \u001b[0m\n",
       "\u001b[2;36m                    \u001b[0m         \u001b[4;38;2;0;105;255mguring-and-using-defaults-with-the-sagemaker-python-sdk.\u001b[0m       \u001b[2m                       \u001b[0m\n"
      ]
     },
     "metadata": {},
     "output_type": "display_data"
    },
    {
     "data": {
      "text/html": [
       "<pre style=\"white-space:pre;overflow-x:auto;line-height:normal;font-family:Menlo,'DejaVu Sans Mono',consolas,'Courier New',monospace\"><span style=\"color: #7fbfbf; text-decoration-color: #7fbfbf\">                    </span><span style=\"color: #0069ff; text-decoration-color: #0069ff; font-weight: bold\">INFO    </span> Creating training-job with name:                                       <a href=\"file:///opt/conda/lib/python3.12/site-packages/sagemaker/session.py\" target=\"_blank\"><span style=\"color: #7f7f7f; text-decoration-color: #7f7f7f\">session.py</span></a><span style=\"color: #7f7f7f; text-decoration-color: #7f7f7f\">:</span><a href=\"file:///opt/conda/lib/python3.12/site-packages/sagemaker/session.py#1042\" target=\"_blank\"><span style=\"color: #7f7f7f; text-decoration-color: #7f7f7f\">1042</span></a>\n",
       "<span style=\"color: #7fbfbf; text-decoration-color: #7fbfbf\">                    </span>         sagemaker-xgboost-<span style=\"color: #008080; text-decoration-color: #008080; font-weight: bold\">2025</span>-05-30-09-09-33-714                              <span style=\"color: #7f7f7f; text-decoration-color: #7f7f7f\">               </span>\n",
       "</pre>\n"
      ],
      "text/plain": [
       "\u001b[2;36m                   \u001b[0m\u001b[2;36m \u001b[0m\u001b[1;38;2;0;105;255mINFO    \u001b[0m Creating training-job with name:                                       \u001b]8;id=399356;file:///opt/conda/lib/python3.12/site-packages/sagemaker/session.py\u001b\\\u001b[2msession.py\u001b[0m\u001b]8;;\u001b\\\u001b[2m:\u001b[0m\u001b]8;id=417620;file:///opt/conda/lib/python3.12/site-packages/sagemaker/session.py#1042\u001b\\\u001b[2m1042\u001b[0m\u001b]8;;\u001b\\\n",
       "\u001b[2;36m                    \u001b[0m         sagemaker-xgboost-\u001b[1;36m2025\u001b[0m-05-30-09-09-33-714                              \u001b[2m               \u001b[0m\n"
      ]
     },
     "metadata": {},
     "output_type": "display_data"
    },
    {
     "name": "stdout",
     "output_type": "stream",
     "text": [
      "2025-05-30 09:09:36 Starting - Starting the training job...\n",
      "2025-05-30 09:09:51 Starting - Preparing the instances for training...\n",
      "2025-05-30 09:10:38 Downloading - Downloading the training image......\n",
      "2025-05-30 09:11:39 Training - Training image download completed. Training in progress.\n",
      "2025-05-30 09:11:39 Uploading - Uploading generated training model\u001b[34m[2025-05-30 09:11:28.356 ip-10-2-66-37.ec2.internal:7 INFO utils.py:27] RULE_JOB_STOP_SIGNAL_FILENAME: None\u001b[0m\n",
      "\u001b[34mINFO:sagemaker-containers:Imported framework sagemaker_xgboost_container.training\u001b[0m\n",
      "\u001b[34mINFO:sagemaker-containers:No GPUs detected (normal if no gpus installed)\u001b[0m\n",
      "\u001b[34mINFO:sagemaker_xgboost_container.training:Invoking user training script.\u001b[0m\n",
      "\u001b[34mINFO:sagemaker-containers:Module xgboost_model_script does not provide a setup.py. \u001b[0m\n",
      "\u001b[34mGenerating setup.py\u001b[0m\n",
      "\u001b[34mINFO:sagemaker-containers:Generating setup.cfg\u001b[0m\n",
      "\u001b[34mINFO:sagemaker-containers:Generating MANIFEST.in\u001b[0m\n",
      "\u001b[34mINFO:sagemaker-containers:Installing module with the following command:\u001b[0m\n",
      "\u001b[34m/miniconda3/bin/python3 -m pip install . \u001b[0m\n",
      "\u001b[34mProcessing /opt/ml/code\n",
      "  Preparing metadata (setup.py): started\u001b[0m\n",
      "\u001b[34m  Preparing metadata (setup.py): finished with status 'done'\u001b[0m\n",
      "\u001b[34mBuilding wheels for collected packages: xgboost-model-script\n",
      "  Building wheel for xgboost-model-script (setup.py): started\n",
      "  Building wheel for xgboost-model-script (setup.py): finished with status 'done'\n",
      "  Created wheel for xgboost-model-script: filename=xgboost_model_script-1.0.0-py2.py3-none-any.whl size=5710 sha256=e6f1b2d9385b14e4752d281cc274c2c05f40ad87c0eebd7319ee578a6a762d76\n",
      "  Stored in directory: /home/model-server/tmp/pip-ephem-wheel-cache-crf0d769/wheels/3e/0f/51/2f1df833dd0412c1bc2f5ee56baac195b5be563353d111dca6\u001b[0m\n",
      "\u001b[34mSuccessfully built xgboost-model-script\u001b[0m\n",
      "\u001b[34mInstalling collected packages: xgboost-model-script\u001b[0m\n",
      "\u001b[34mSuccessfully installed xgboost-model-script-1.0.0\u001b[0m\n",
      "\u001b[34mWARNING: Running pip as the 'root' user can result in broken permissions and conflicting behaviour with the system package manager. It is recommended to use a virtual environment instead: https://pip.pypa.io/warnings/venv\u001b[0m\n",
      "\u001b[34mINFO:sagemaker-containers:No GPUs detected (normal if no gpus installed)\u001b[0m\n",
      "\u001b[34mINFO:sagemaker-containers:Invoking user script\u001b[0m\n",
      "\u001b[34mTraining Env:\u001b[0m\n",
      "\u001b[34m{\n",
      "    \"additional_framework_parameters\": {},\n",
      "    \"channel_input_dirs\": {\n",
      "        \"test\": \"/opt/ml/input/data/test\",\n",
      "        \"train\": \"/opt/ml/input/data/train\"\n",
      "    },\n",
      "    \"current_host\": \"algo-1\",\n",
      "    \"framework_module\": \"sagemaker_xgboost_container.training:main\",\n",
      "    \"hosts\": [\n",
      "        \"algo-1\"\n",
      "    ],\n",
      "    \"hyperparameters\": {\n",
      "        \"eta\": 0.3,\n",
      "        \"max-depth\": 6,\n",
      "        \"nfold\": 5,\n",
      "        \"num-boost-round\": 100,\n",
      "        \"objective\": \"binary:logistic\",\n",
      "        \"target-var\": \"fraud\"\n",
      "    },\n",
      "    \"input_config_dir\": \"/opt/ml/input/config\",\n",
      "    \"input_data_config\": {\n",
      "        \"test\": {\n",
      "            \"TrainingInputMode\": \"File\",\n",
      "            \"S3DistributionType\": \"FullyReplicated\",\n",
      "            \"RecordWrapperType\": \"None\"\n",
      "        },\n",
      "        \"train\": {\n",
      "            \"TrainingInputMode\": \"File\",\n",
      "            \"S3DistributionType\": \"FullyReplicated\",\n",
      "            \"RecordWrapperType\": \"None\"\n",
      "        }\n",
      "    },\n",
      "    \"input_dir\": \"/opt/ml/input\",\n",
      "    \"is_master\": true,\n",
      "    \"job_name\": \"sagemaker-xgboost-2025-05-30-09-09-33-714\",\n",
      "    \"log_level\": 20,\n",
      "    \"master_hostname\": \"algo-1\",\n",
      "    \"model_dir\": \"/opt/ml/model\",\n",
      "    \"module_dir\": \"s3://sagemaker-us-east-1-205930620783/FraudDetection_AutoInsurance/training_jobs/sagemaker-xgboost-2025-05-30-09-09-33-714/source/sourcedir.tar.gz\",\n",
      "    \"module_name\": \"xgboost_model_script\",\n",
      "    \"network_interface_name\": \"eth0\",\n",
      "    \"num_cpus\": 4,\n",
      "    \"num_gpus\": 0,\n",
      "    \"output_data_dir\": \"/opt/ml/output/data\",\n",
      "    \"output_dir\": \"/opt/ml/output\",\n",
      "    \"output_intermediate_dir\": \"/opt/ml/output/intermediate\",\n",
      "    \"resource_config\": {\n",
      "        \"current_host\": \"algo-1\",\n",
      "        \"current_instance_type\": \"ml.c5.xlarge\",\n",
      "        \"current_group_name\": \"homogeneousCluster\",\n",
      "        \"hosts\": [\n",
      "            \"algo-1\"\n",
      "        ],\n",
      "        \"instance_groups\": [\n",
      "            {\n",
      "                \"instance_group_name\": \"homogeneousCluster\",\n",
      "                \"instance_type\": \"ml.c5.xlarge\",\n",
      "                \"hosts\": [\n",
      "                    \"algo-1\"\n",
      "                ]\n",
      "            }\n",
      "        ],\n",
      "        \"network_interface_name\": \"eth0\",\n",
      "        \"topology\": null\n",
      "    },\n",
      "    \"user_entry_point\": \"xgboost_model_script.py\"\u001b[0m\n",
      "\u001b[34m}\u001b[0m\n",
      "\u001b[34mEnvironment variables:\u001b[0m\n",
      "\u001b[34mSM_HOSTS=[\"algo-1\"]\u001b[0m\n",
      "\u001b[34mSM_NETWORK_INTERFACE_NAME=eth0\u001b[0m\n",
      "\u001b[34mSM_HPS={\"eta\":0.3,\"max-depth\":6,\"nfold\":5,\"num-boost-round\":100,\"objective\":\"binary:logistic\",\"target-var\":\"fraud\"}\u001b[0m\n",
      "\u001b[34mSM_USER_ENTRY_POINT=xgboost_model_script.py\u001b[0m\n",
      "\u001b[34mSM_FRAMEWORK_PARAMS={}\u001b[0m\n",
      "\u001b[34mSM_RESOURCE_CONFIG={\"current_group_name\":\"homogeneousCluster\",\"current_host\":\"algo-1\",\"current_instance_type\":\"ml.c5.xlarge\",\"hosts\":[\"algo-1\"],\"instance_groups\":[{\"hosts\":[\"algo-1\"],\"instance_group_name\":\"homogeneousCluster\",\"instance_type\":\"ml.c5.xlarge\"}],\"network_interface_name\":\"eth0\",\"topology\":null}\u001b[0m\n",
      "\u001b[34mSM_INPUT_DATA_CONFIG={\"test\":{\"RecordWrapperType\":\"None\",\"S3DistributionType\":\"FullyReplicated\",\"TrainingInputMode\":\"File\"},\"train\":{\"RecordWrapperType\":\"None\",\"S3DistributionType\":\"FullyReplicated\",\"TrainingInputMode\":\"File\"}}\u001b[0m\n",
      "\u001b[34mSM_OUTPUT_DATA_DIR=/opt/ml/output/data\u001b[0m\n",
      "\u001b[34mSM_CHANNELS=[\"test\",\"train\"]\u001b[0m\n",
      "\u001b[34mSM_CURRENT_HOST=algo-1\u001b[0m\n",
      "\u001b[34mSM_MODULE_NAME=xgboost_model_script\u001b[0m\n",
      "\u001b[34mSM_LOG_LEVEL=20\u001b[0m\n",
      "\u001b[34mSM_FRAMEWORK_MODULE=sagemaker_xgboost_container.training:main\u001b[0m\n",
      "\u001b[34mSM_INPUT_DIR=/opt/ml/input\u001b[0m\n",
      "\u001b[34mSM_INPUT_CONFIG_DIR=/opt/ml/input/config\u001b[0m\n",
      "\u001b[34mSM_OUTPUT_DIR=/opt/ml/output\u001b[0m\n",
      "\u001b[34mSM_NUM_CPUS=4\u001b[0m\n",
      "\u001b[34mSM_NUM_GPUS=0\u001b[0m\n",
      "\u001b[34mSM_MODEL_DIR=/opt/ml/model\u001b[0m\n",
      "\u001b[34mSM_MODULE_DIR=s3://sagemaker-us-east-1-205930620783/FraudDetection_AutoInsurance/training_jobs/sagemaker-xgboost-2025-05-30-09-09-33-714/source/sourcedir.tar.gz\u001b[0m\n",
      "\u001b[34mSM_TRAINING_ENV={\"additional_framework_parameters\":{},\"channel_input_dirs\":{\"test\":\"/opt/ml/input/data/test\",\"train\":\"/opt/ml/input/data/train\"},\"current_host\":\"algo-1\",\"framework_module\":\"sagemaker_xgboost_container.training:main\",\"hosts\":[\"algo-1\"],\"hyperparameters\":{\"eta\":0.3,\"max-depth\":6,\"nfold\":5,\"num-boost-round\":100,\"objective\":\"binary:logistic\",\"target-var\":\"fraud\"},\"input_config_dir\":\"/opt/ml/input/config\",\"input_data_config\":{\"test\":{\"RecordWrapperType\":\"None\",\"S3DistributionType\":\"FullyReplicated\",\"TrainingInputMode\":\"File\"},\"train\":{\"RecordWrapperType\":\"None\",\"S3DistributionType\":\"FullyReplicated\",\"TrainingInputMode\":\"File\"}},\"input_dir\":\"/opt/ml/input\",\"is_master\":true,\"job_name\":\"sagemaker-xgboost-2025-05-30-09-09-33-714\",\"log_level\":20,\"master_hostname\":\"algo-1\",\"model_dir\":\"/opt/ml/model\",\"module_dir\":\"s3://sagemaker-us-east-1-205930620783/FraudDetection_AutoInsurance/training_jobs/sagemaker-xgboost-2025-05-30-09-09-33-714/source/sourcedir.tar.gz\",\"module_name\":\"xgboost_model_script\",\"network_interface_name\":\"eth0\",\"num_cpus\":4,\"num_gpus\":0,\"output_data_dir\":\"/opt/ml/output/data\",\"output_dir\":\"/opt/ml/output\",\"output_intermediate_dir\":\"/opt/ml/output/intermediate\",\"resource_config\":{\"current_group_name\":\"homogeneousCluster\",\"current_host\":\"algo-1\",\"current_instance_type\":\"ml.c5.xlarge\",\"hosts\":[\"algo-1\"],\"instance_groups\":[{\"hosts\":[\"algo-1\"],\"instance_group_name\":\"homogeneousCluster\",\"instance_type\":\"ml.c5.xlarge\"}],\"network_interface_name\":\"eth0\",\"topology\":null},\"user_entry_point\":\"xgboost_model_script.py\"}\u001b[0m\n",
      "\u001b[34mSM_USER_ARGS=[\"--eta\",\"0.3\",\"--max-depth\",\"6\",\"--nfold\",\"5\",\"--num-boost-round\",\"100\",\"--objective\",\"binary:logistic\",\"--target-var\",\"fraud\"]\u001b[0m\n",
      "\u001b[34mSM_OUTPUT_INTERMEDIATE_DIR=/opt/ml/output/intermediate\u001b[0m\n",
      "\u001b[34mSM_CHANNEL_TEST=/opt/ml/input/data/test\u001b[0m\n",
      "\u001b[34mSM_CHANNEL_TRAIN=/opt/ml/input/data/train\u001b[0m\n",
      "\u001b[34mSM_HP_ETA=0.3\u001b[0m\n",
      "\u001b[34mSM_HP_MAX-DEPTH=6\u001b[0m\n",
      "\u001b[34mSM_HP_NFOLD=5\u001b[0m\n",
      "\u001b[34mSM_HP_NUM-BOOST-ROUND=100\u001b[0m\n",
      "\u001b[34mSM_HP_OBJECTIVE=binary:logistic\u001b[0m\n",
      "\u001b[34mSM_HP_TARGET-VAR=fraud\u001b[0m\n",
      "\u001b[34mPYTHONPATH=/miniconda3/bin:/:/miniconda3/lib/python3.6/site-packages/xgboost/dmlc-core/tracker:/miniconda3/lib/python37.zip:/miniconda3/lib/python3.7:/miniconda3/lib/python3.7/lib-dynload:/miniconda3/lib/python3.7/site-packages\u001b[0m\n",
      "\u001b[34mInvoking script with the following command:\u001b[0m\n",
      "\u001b[34m/miniconda3/bin/python3 -m xgboost_model_script --eta 0.3 --max-depth 6 --nfold 5 --num-boost-round 100 --objective binary:logistic --target-var fraud\u001b[0m\n",
      "\u001b[34mParsing arguments...\u001b[0m\n",
      "\u001b[34mNamespace(eta=0.3, features=None, max_depth=6, model_data_out_dir='/opt/ml/output/data', model_out_dir='/opt/ml/model', nfold=5, num_boost_round=100, objective='binary:logistic', target_var='fraud', test_data_path='/opt/ml/input/data/test', test_file='test.csv', train_data_path='/opt/ml/input/data/train', train_file='train.csv')\u001b[0m\n",
      "\u001b[34mtrain.csv\u001b[0m\n",
      "\u001b[34mReading Train Data From /opt/ml/input/data/train/train.csv\u001b[0m\n",
      "\u001b[34mTraining data shape: (4000, 55)\u001b[0m\n",
      "\u001b[34m[0]#011train-auc:0.9340200000000001\u001b[0m\n",
      "\u001b[34m[1]#011validation-auc:0.7284967999999999\u001b[0m\n",
      "\u001b[34mmodel training done\u001b[0m\n",
      "\n",
      "2025-05-30 09:11:53 Completed - Training job completed\n",
      "Training seconds: 99\n",
      "Billable seconds: 99\n"
     ]
    }
   ],
   "source": [
    "xgb_estimator.fit(inputs={'train':train_data_uri, 'test':test_data_uri})"
   ]
  },
  {
   "cell_type": "markdown",
   "id": "7558df4e-9b80-4e70-be7a-0c235cec149c",
   "metadata": {},
   "source": [
    "## Amazon SageMaker Lineage Tracking\n",
    "Amazon SageMaker Lineage Tracking helps you track the origin and movement of data, code, and models throughout your machine learning workflow. It's useful for debugging, auditing, compliance, and understanding how different ML components relate to each other.\n",
    "\n",
    "🧩 What is Tracked in SageMaker Lineage?\n",
    "SageMaker lineage tracking captures metadata for:\n",
    "\n",
    "- Artifacts: Input/output data, models, feature groups, etc.\n",
    "- Actions: Training jobs, processing jobs, transform jobs, etc.\n",
    "- Contexts: Grouping of related actions/artifacts (e.g., a training experiment).\n",
    "- Associations: Links between artifacts and actions (e.g., this dataset was used in this training job).\n",
    "\n",
    "**Learn more in details, the following should reflect in \"Experiments and Trials\" but I couldn't found the page. Though the \"jobs/training/\" lists all jobs and its lineage tracking too, though I haven't manually done that as below**."
   ]
  },
  {
   "cell_type": "code",
   "execution_count": 26,
   "id": "8636a1b7-a884-45e3-b433-61fd93ef6f5d",
   "metadata": {},
   "outputs": [
    {
     "name": "stdout",
     "output_type": "stream",
     "text": [
      "sagemaker-xgboost-2025-05-30-09-09-33-714\n"
     ]
    },
    {
     "data": {
      "text/plain": [
       "{'TrainingJobName': 'sagemaker-xgboost-2025-05-30-09-09-33-714',\n",
       " 'TrainingJobArn': 'arn:aws:sagemaker:us-east-1:205930620783:training-job/sagemaker-xgboost-2025-05-30-09-09-33-714',\n",
       " 'ModelArtifacts': {'S3ModelArtifacts': 's3://sagemaker-us-east-1-205930620783/FraudDetection_AutoInsurance/training_jobs/sagemaker-xgboost-2025-05-30-09-09-33-714/output/model.tar.gz'},\n",
       " 'TrainingJobStatus': 'Completed',\n",
       " 'SecondaryStatus': 'Completed',\n",
       " 'HyperParameters': {'eta': '0.3',\n",
       "  'max-depth': '6',\n",
       "  'nfold': '5',\n",
       "  'num-boost-round': '100',\n",
       "  'objective': '\"binary:logistic\"',\n",
       "  'sagemaker_container_log_level': '20',\n",
       "  'sagemaker_job_name': '\"sagemaker-xgboost-2025-05-30-09-09-33-714\"',\n",
       "  'sagemaker_program': '\"xgboost_model_script.py\"',\n",
       "  'sagemaker_region': '\"us-east-1\"',\n",
       "  'sagemaker_submit_directory': '\"s3://sagemaker-us-east-1-205930620783/FraudDetection_AutoInsurance/training_jobs/sagemaker-xgboost-2025-05-30-09-09-33-714/source/sourcedir.tar.gz\"',\n",
       "  'target-var': '\"fraud\"'},\n",
       " 'AlgorithmSpecification': {'TrainingImage': '683313688378.dkr.ecr.us-east-1.amazonaws.com/sagemaker-xgboost:1.0-1-cpu-py3',\n",
       "  'TrainingInputMode': 'File',\n",
       "  'MetricDefinitions': [{'Name': 'train:mae',\n",
       "    'Regex': '.*\\\\[[0-9]+\\\\].*#011train-mae:([-+]?[0-9]*\\\\.?[0-9]+(?:[eE][-+]?[0-9]+)?).*'},\n",
       "   {'Name': 'validation:aucpr',\n",
       "    'Regex': '.*\\\\[[0-9]+\\\\].*#011validation-aucpr:([-+]?[0-9]*\\\\.?[0-9]+(?:[eE][-+]?[0-9]+)?).*'},\n",
       "   {'Name': 'validation:f1_binary',\n",
       "    'Regex': '.*\\\\[[0-9]+\\\\].*#011validation-f1_binary:([-+]?[0-9]*\\\\.?[0-9]+(?:[eE][-+]?[0-9]+)?).*'},\n",
       "   {'Name': 'train:merror',\n",
       "    'Regex': '.*\\\\[[0-9]+\\\\].*#011train-merror:([-+]?[0-9]*\\\\.?[0-9]+(?:[eE][-+]?[0-9]+)?).*'},\n",
       "   {'Name': 'train:gamma-nloglik',\n",
       "    'Regex': '.*\\\\[[0-9]+\\\\].*#011train-gamma-nloglik:([-+]?[0-9]*\\\\.?[0-9]+(?:[eE][-+]?[0-9]+)?).*'},\n",
       "   {'Name': 'validation:mae',\n",
       "    'Regex': '.*\\\\[[0-9]+\\\\].*#011validation-mae:([-+]?[0-9]*\\\\.?[0-9]+(?:[eE][-+]?[0-9]+)?).*'},\n",
       "   {'Name': 'validation:logloss',\n",
       "    'Regex': '.*\\\\[[0-9]+\\\\].*#011validation-logloss:([-+]?[0-9]*\\\\.?[0-9]+(?:[eE][-+]?[0-9]+)?).*'},\n",
       "   {'Name': 'train:mlogloss',\n",
       "    'Regex': '.*\\\\[[0-9]+\\\\].*#011train-mlogloss:([-+]?[0-9]*\\\\.?[0-9]+(?:[eE][-+]?[0-9]+)?).*'},\n",
       "   {'Name': 'train:cox-nloglik',\n",
       "    'Regex': '.*\\\\[[0-9]+\\\\].*#011train-cox-nloglik:([-+]?[0-9]*\\\\.?[0-9]+(?:[eE][-+]?[0-9]+)?).*'},\n",
       "   {'Name': 'validation:f1',\n",
       "    'Regex': '.*\\\\[[0-9]+\\\\].*#011validation-f1:([-+]?[0-9]*\\\\.?[0-9]+(?:[eE][-+]?[0-9]+)?).*'},\n",
       "   {'Name': 'validation:cox-nloglik',\n",
       "    'Regex': '.*\\\\[[0-9]+\\\\].*#011validation-cox-nloglik:([-+]?[0-9]*\\\\.?[0-9]+(?:[eE][-+]?[0-9]+)?).*'},\n",
       "   {'Name': 'train:accuracy',\n",
       "    'Regex': '.*\\\\[[0-9]+\\\\].*#011train-accuracy:([-+]?[0-9]*\\\\.?[0-9]+(?:[eE][-+]?[0-9]+)?).*'},\n",
       "   {'Name': 'train:mse',\n",
       "    'Regex': '.*\\\\[[0-9]+\\\\].*#011train-mse:([-+]?[0-9]*\\\\.?[0-9]+(?:[eE][-+]?[0-9]+)?).*'},\n",
       "   {'Name': 'validation:poisson-nloglik',\n",
       "    'Regex': '.*\\\\[[0-9]+\\\\].*#011validation-poisson-nloglik:([-+]?[0-9]*\\\\.?[0-9]+(?:[eE][-+]?[0-9]+)?).*'},\n",
       "   {'Name': 'train:tweedie-nloglik',\n",
       "    'Regex': '.*\\\\[[0-9]+\\\\].*#011train-tweedie-nloglik:([-+]?[0-9]*\\\\.?[0-9]+(?:[eE][-+]?[0-9]+)?).*'},\n",
       "   {'Name': 'train:error',\n",
       "    'Regex': '.*\\\\[[0-9]+\\\\].*#011train-error:([-+]?[0-9]*\\\\.?[0-9]+(?:[eE][-+]?[0-9]+)?).*'},\n",
       "   {'Name': 'train:ndcg',\n",
       "    'Regex': '.*\\\\[[0-9]+\\\\].*#011train-ndcg:([-+]?[0-9]*\\\\.?[0-9]+(?:[eE][-+]?[0-9]+)?).*'},\n",
       "   {'Name': 'validation:map',\n",
       "    'Regex': '.*\\\\[[0-9]+\\\\].*#011validation-map:([-+]?[0-9]*\\\\.?[0-9]+(?:[eE][-+]?[0-9]+)?).*'},\n",
       "   {'Name': 'train:f1_binary',\n",
       "    'Regex': '.*\\\\[[0-9]+\\\\].*#011train-f1_binary:([-+]?[0-9]*\\\\.?[0-9]+(?:[eE][-+]?[0-9]+)?).*'},\n",
       "   {'Name': 'validation:auc',\n",
       "    'Regex': '.*\\\\[[0-9]+\\\\].*#011validation-auc:([-+]?[0-9]*\\\\.?[0-9]+(?:[eE][-+]?[0-9]+)?).*'},\n",
       "   {'Name': 'validation:gamma-deviance',\n",
       "    'Regex': '.*\\\\[[0-9]+\\\\].*#011validation-gamma-deviance:([-+]?[0-9]*\\\\.?[0-9]+(?:[eE][-+]?[0-9]+)?).*'},\n",
       "   {'Name': 'train:auc',\n",
       "    'Regex': '.*\\\\[[0-9]+\\\\].*#011train-auc:([-+]?[0-9]*\\\\.?[0-9]+(?:[eE][-+]?[0-9]+)?).*'},\n",
       "   {'Name': 'validation:error',\n",
       "    'Regex': '.*\\\\[[0-9]+\\\\].*#011validation-error:([-+]?[0-9]*\\\\.?[0-9]+(?:[eE][-+]?[0-9]+)?).*'},\n",
       "   {'Name': 'validation:merror',\n",
       "    'Regex': '.*\\\\[[0-9]+\\\\].*#011validation-merror:([-+]?[0-9]*\\\\.?[0-9]+(?:[eE][-+]?[0-9]+)?).*'},\n",
       "   {'Name': 'train:poisson-nloglik',\n",
       "    'Regex': '.*\\\\[[0-9]+\\\\].*#011train-poisson-nloglik:([-+]?[0-9]*\\\\.?[0-9]+(?:[eE][-+]?[0-9]+)?).*'},\n",
       "   {'Name': 'train:rmse',\n",
       "    'Regex': '.*\\\\[[0-9]+\\\\].*#011train-rmse:([-+]?[0-9]*\\\\.?[0-9]+(?:[eE][-+]?[0-9]+)?).*'},\n",
       "   {'Name': 'train:logloss',\n",
       "    'Regex': '.*\\\\[[0-9]+\\\\].*#011train-logloss:([-+]?[0-9]*\\\\.?[0-9]+(?:[eE][-+]?[0-9]+)?).*'},\n",
       "   {'Name': 'validation:accuracy',\n",
       "    'Regex': '.*\\\\[[0-9]+\\\\].*#011validation-accuracy:([-+]?[0-9]*\\\\.?[0-9]+(?:[eE][-+]?[0-9]+)?).*'},\n",
       "   {'Name': 'train:aucpr',\n",
       "    'Regex': '.*\\\\[[0-9]+\\\\].*#011train-aucpr:([-+]?[0-9]*\\\\.?[0-9]+(?:[eE][-+]?[0-9]+)?).*'},\n",
       "   {'Name': 'validation:tweedie-nloglik',\n",
       "    'Regex': '.*\\\\[[0-9]+\\\\].*#011validation-tweedie-nloglik:([-+]?[0-9]*\\\\.?[0-9]+(?:[eE][-+]?[0-9]+)?).*'},\n",
       "   {'Name': 'validation:rmse',\n",
       "    'Regex': '.*\\\\[[0-9]+\\\\].*#011validation-rmse:([-+]?[0-9]*\\\\.?[0-9]+(?:[eE][-+]?[0-9]+)?).*'},\n",
       "   {'Name': 'train:gamma-deviance',\n",
       "    'Regex': '.*\\\\[[0-9]+\\\\].*#011train-gamma-deviance:([-+]?[0-9]*\\\\.?[0-9]+(?:[eE][-+]?[0-9]+)?).*'},\n",
       "   {'Name': 'validation:mse',\n",
       "    'Regex': '.*\\\\[[0-9]+\\\\].*#011validation-mse:([-+]?[0-9]*\\\\.?[0-9]+(?:[eE][-+]?[0-9]+)?).*'},\n",
       "   {'Name': 'validation:ndcg',\n",
       "    'Regex': '.*\\\\[[0-9]+\\\\].*#011validation-ndcg:([-+]?[0-9]*\\\\.?[0-9]+(?:[eE][-+]?[0-9]+)?).*'},\n",
       "   {'Name': 'train:f1',\n",
       "    'Regex': '.*\\\\[[0-9]+\\\\].*#011train-f1:([-+]?[0-9]*\\\\.?[0-9]+(?:[eE][-+]?[0-9]+)?).*'},\n",
       "   {'Name': 'validation:r2',\n",
       "    'Regex': '.*\\\\[[0-9]+\\\\].*#011validation-r2:([-+]?[0-9]*\\\\.?[0-9]+(?:[eE][-+]?[0-9]+)?).*'},\n",
       "   {'Name': 'validation:mlogloss',\n",
       "    'Regex': '.*\\\\[[0-9]+\\\\].*#011validation-mlogloss:([-+]?[0-9]*\\\\.?[0-9]+(?:[eE][-+]?[0-9]+)?).*'},\n",
       "   {'Name': 'train:map',\n",
       "    'Regex': '.*\\\\[[0-9]+\\\\].*#011train-map:([-+]?[0-9]*\\\\.?[0-9]+(?:[eE][-+]?[0-9]+)?).*'},\n",
       "   {'Name': 'validation:gamma-nloglik',\n",
       "    'Regex': '.*\\\\[[0-9]+\\\\].*#011validation-gamma-nloglik:([-+]?[0-9]*\\\\.?[0-9]+(?:[eE][-+]?[0-9]+)?).*'}],\n",
       "  'EnableSageMakerMetricsTimeSeries': False},\n",
       " 'RoleArn': 'arn:aws:iam::205930620783:role/service-role/AmazonSageMaker-ExecutionRole-20250401T145997',\n",
       " 'InputDataConfig': [{'ChannelName': 'train',\n",
       "   'DataSource': {'S3DataSource': {'S3DataType': 'S3Prefix',\n",
       "     'S3Uri': 's3://sagemaker-us-east-1-205930620783/FraudDetection_AutoInsurance/data/train.csv',\n",
       "     'S3DataDistributionType': 'FullyReplicated'}},\n",
       "   'CompressionType': 'None',\n",
       "   'RecordWrapperType': 'None'},\n",
       "  {'ChannelName': 'test',\n",
       "   'DataSource': {'S3DataSource': {'S3DataType': 'S3Prefix',\n",
       "     'S3Uri': 's3://sagemaker-us-east-1-205930620783/FraudDetection_AutoInsurance/data/test.csv',\n",
       "     'S3DataDistributionType': 'FullyReplicated'}},\n",
       "   'CompressionType': 'None',\n",
       "   'RecordWrapperType': 'None'}],\n",
       " 'OutputDataConfig': {'KmsKeyId': '',\n",
       "  'S3OutputPath': 's3://sagemaker-us-east-1-205930620783/FraudDetection_AutoInsurance/training_jobs',\n",
       "  'CompressionType': 'GZIP'},\n",
       " 'ResourceConfig': {'InstanceType': 'ml.c5.xlarge',\n",
       "  'InstanceCount': 1,\n",
       "  'VolumeSizeInGB': 30},\n",
       " 'StoppingCondition': {'MaxRuntimeInSeconds': 86400},\n",
       " 'CreationTime': datetime.datetime(2025, 5, 30, 9, 9, 34, 14000, tzinfo=tzlocal()),\n",
       " 'TrainingStartTime': datetime.datetime(2025, 5, 30, 9, 10, 13, 139000, tzinfo=tzlocal()),\n",
       " 'TrainingEndTime': datetime.datetime(2025, 5, 30, 9, 11, 52, 822000, tzinfo=tzlocal()),\n",
       " 'LastModifiedTime': datetime.datetime(2025, 5, 30, 9, 11, 53, 95000, tzinfo=tzlocal()),\n",
       " 'SecondaryStatusTransitions': [{'Status': 'Starting',\n",
       "   'StartTime': datetime.datetime(2025, 5, 30, 9, 9, 34, 14000, tzinfo=tzlocal()),\n",
       "   'EndTime': datetime.datetime(2025, 5, 30, 9, 10, 13, 139000, tzinfo=tzlocal()),\n",
       "   'StatusMessage': 'Preparing the instances for training'},\n",
       "  {'Status': 'Downloading',\n",
       "   'StartTime': datetime.datetime(2025, 5, 30, 9, 10, 13, 139000, tzinfo=tzlocal()),\n",
       "   'EndTime': datetime.datetime(2025, 5, 30, 9, 11, 24, 513000, tzinfo=tzlocal()),\n",
       "   'StatusMessage': 'Downloading the training image'},\n",
       "  {'Status': 'Training',\n",
       "   'StartTime': datetime.datetime(2025, 5, 30, 9, 11, 24, 513000, tzinfo=tzlocal()),\n",
       "   'EndTime': datetime.datetime(2025, 5, 30, 9, 11, 39, 971000, tzinfo=tzlocal()),\n",
       "   'StatusMessage': 'Training image download completed. Training in progress.'},\n",
       "  {'Status': 'Uploading',\n",
       "   'StartTime': datetime.datetime(2025, 5, 30, 9, 11, 39, 971000, tzinfo=tzlocal()),\n",
       "   'EndTime': datetime.datetime(2025, 5, 30, 9, 11, 52, 822000, tzinfo=tzlocal()),\n",
       "   'StatusMessage': 'Uploading generated training model'},\n",
       "  {'Status': 'Completed',\n",
       "   'StartTime': datetime.datetime(2025, 5, 30, 9, 11, 52, 822000, tzinfo=tzlocal()),\n",
       "   'EndTime': datetime.datetime(2025, 5, 30, 9, 11, 52, 822000, tzinfo=tzlocal()),\n",
       "   'StatusMessage': 'Training job completed'}],\n",
       " 'FinalMetricDataList': [{'MetricName': 'validation:auc',\n",
       "   'Value': 0.728496789932251,\n",
       "   'Timestamp': datetime.datetime(2025, 5, 30, 9, 11, 31, tzinfo=tzlocal())},\n",
       "  {'MetricName': 'train:auc',\n",
       "   'Value': 0.9340199828147888,\n",
       "   'Timestamp': datetime.datetime(2025, 5, 30, 9, 11, 31, tzinfo=tzlocal())}],\n",
       " 'EnableNetworkIsolation': False,\n",
       " 'EnableInterContainerTrafficEncryption': False,\n",
       " 'EnableManagedSpotTraining': False,\n",
       " 'TrainingTimeInSeconds': 99,\n",
       " 'BillableTimeInSeconds': 99,\n",
       " 'DebugHookConfig': {'S3OutputPath': 's3://sagemaker-us-east-1-205930620783/FraudDetection_AutoInsurance/training_jobs',\n",
       "  'CollectionConfigurations': []},\n",
       " 'ProfilerConfig': {'S3OutputPath': 's3://sagemaker-us-east-1-205930620783/FraudDetection_AutoInsurance/training_jobs',\n",
       "  'ProfilingIntervalInMilliseconds': 500,\n",
       "  'DisableProfiler': False},\n",
       " 'ProfilingStatus': 'Enabled',\n",
       " 'ResponseMetadata': {'RequestId': '857dfb83-86c1-4254-9df6-313b9b6aaa35',\n",
       "  'HTTPStatusCode': 200,\n",
       "  'HTTPHeaders': {'x-amzn-requestid': '857dfb83-86c1-4254-9df6-313b9b6aaa35',\n",
       "   'content-type': 'application/x-amz-json-1.1',\n",
       "   'content-length': '8902',\n",
       "   'date': 'Fri, 30 May 2025 09:57:26 GMT'},\n",
       "  'RetryAttempts': 0}}"
      ]
     },
     "execution_count": 26,
     "metadata": {},
     "output_type": "execute_result"
    }
   ],
   "source": [
    "training_job_1_name = xgb_estimator.latest_training_job.job_name\n",
    "print(training_job_1_name)\n",
    "training_job_1_info = sagemaker_client.describe_training_job(TrainingJobName=training_job_1_name)\n",
    "training_job_1_info"
   ]
  },
  {
   "cell_type": "markdown",
   "id": "e2b8be9b-cb13-4bef-a229-dd62848a10ef",
   "metadata": {},
   "source": [
    "### Code Atrifact"
   ]
  },
  {
   "cell_type": "code",
   "execution_count": 18,
   "id": "97c892e8-e67e-40ae-adfe-fb8a68cf56e8",
   "metadata": {},
   "outputs": [
    {
     "name": "stdout",
     "output_type": "stream",
     "text": [
      "\"s3://sagemaker-us-east-1-205930620783/FraudDetection_AutoInsurance/training_jobs/sagemaker-xgboost-2025-05-30-09-09-33-714/source/sourcedir.tar.gz\"\n",
      "[ArtifactSummary(artifact_arn='arn:aws:sagemaker:us-east-1:205930620783:artifact/2b4d84011d43116551397437a07a1679',artifact_name='TrainingScript',source=ArtifactSource(source_uri='\"s3://sagemaker-us-east-1-205930620783/FraudDetection_AutoInsurance/training_jobs/sagemaker-xgboost-2025-05-30-09-09-33-714/source/sourcedir.tar.gz\"',source_types=[]),artifact_type='Code',creation_time=datetime.datetime(2025, 5, 30, 9, 30, 23, 646000, tzinfo=tzlocal()),last_modified_time=datetime.datetime(2025, 5, 30, 9, 30, 23, 646000, tzinfo=tzlocal()))]\n",
      "Using existing artifact: arn:aws:sagemaker:us-east-1:205930620783:artifact/2b4d84011d43116551397437a07a1679\n"
     ]
    }
   ],
   "source": [
    "code_s3_uri = training_job_1_info[\"HyperParameters\"][\"sagemaker_submit_directory\"]\n",
    "print(code_s3_uri)\n",
    "\n",
    "matching_artifacts = list(\n",
    "    sagemaker.lineage.artifact.Artifact.list(\n",
    "        source_uri=code_s3_uri, sagemaker_session=sagemaker_session\n",
    "    )\n",
    ")\n",
    "print(matching_artifacts)\n",
    "\n",
    "# use existing arifact if it's already been created, otherwise create a new artifact\n",
    "if matching_artifacts:\n",
    "    code_artifact = matching_artifacts[0]\n",
    "    print(f\"Using existing artifact: {code_artifact.artifact_arn}\")\n",
    "else:\n",
    "    code_artifact = sagemaker.lineage.artifact.Artifact.create(\n",
    "        artifact_name=\"TrainingScript\",\n",
    "        source_uri=code_s3_uri,\n",
    "        artifact_type=\"Code\",\n",
    "        sagemaker_session=sagemaker_session,\n",
    "    )\n",
    "    print(f\"Create artifact {code_artifact.artifact_arn}: SUCCESSFUL\")\n"
   ]
  },
  {
   "cell_type": "markdown",
   "id": "3310d089-92ae-468a-82c9-44ef99762469",
   "metadata": {},
   "source": [
    "### Training Data Artifact"
   ]
  },
  {
   "cell_type": "code",
   "execution_count": 19,
   "id": "739d3141-bc52-4261-a635-cbc6ff2c8b99",
   "metadata": {},
   "outputs": [
    {
     "name": "stdout",
     "output_type": "stream",
     "text": [
      "Using existing artifact: arn:aws:sagemaker:us-east-1:205930620783:artifact/bcdfe1446f26e7658d562fc414702760\n"
     ]
    }
   ],
   "source": [
    "training_data_s3_uri = training_job_1_info[\"InputDataConfig\"][0][\"DataSource\"][\"S3DataSource\"][\n",
    "    \"S3Uri\"\n",
    "]\n",
    "\n",
    "matching_artifacts = list(\n",
    "    sagemaker.lineage.artifact.Artifact.list(\n",
    "        source_uri=training_data_s3_uri, sagemaker_session=sagemaker_session\n",
    "    )\n",
    ")\n",
    "\n",
    "if matching_artifacts:\n",
    "    training_data_artifact = matching_artifacts[0]\n",
    "    print(f\"Using existing artifact: {training_data_artifact.artifact_arn}\")\n",
    "else:\n",
    "    training_data_artifact = sagemaker.lineage.artifact.Artifact.create(\n",
    "        artifact_name=\"TrainingData\",\n",
    "        source_uri=training_data_s3_uri,\n",
    "        artifact_type=\"Dataset\",\n",
    "        sagemaker_session=sagemaker_session,\n",
    "    )\n",
    "    print(f\"Create artifact {training_data_artifact.artifact_arn}: SUCCESSFUL\")"
   ]
  },
  {
   "cell_type": "markdown",
   "id": "c0fc0562-7bbf-45e8-9e90-b052c642233e",
   "metadata": {},
   "source": [
    "### Model Artifact"
   ]
  },
  {
   "cell_type": "code",
   "execution_count": 21,
   "id": "633c6d43-ee5a-455e-bf4e-b6d85c57e3ab",
   "metadata": {},
   "outputs": [
    {
     "name": "stdout",
     "output_type": "stream",
     "text": [
      "Using existing artifact: arn:aws:sagemaker:us-east-1:205930620783:artifact/fdc919bc7d76ed906418703c767fa11f\n"
     ]
    }
   ],
   "source": [
    "trained_model_s3_uri = training_job_1_info[\"ModelArtifacts\"][\"S3ModelArtifacts\"]\n",
    "\n",
    "matching_artifacts = list(\n",
    "    sagemaker.lineage.artifact.Artifact.list(\n",
    "        source_uri=trained_model_s3_uri, sagemaker_session=sagemaker_session\n",
    "    )\n",
    ")\n",
    "\n",
    "if matching_artifacts:\n",
    "    model_artifact = matching_artifacts[0]\n",
    "    print(f\"Using existing artifact: {model_artifact.artifact_arn}\")\n",
    "else:\n",
    "    model_artifact = sagemaker.lineage.artifact.Artifact.create(\n",
    "        artifact_name=\"TrainedModel\",\n",
    "        source_uri=trained_model_s3_uri,\n",
    "        artifact_type=\"Model\",\n",
    "        sagemaker_session=sagemaker_session,\n",
    "    )\n",
    "    print(f\"Create artifact {model_artifact.artifact_arn}: SUCCESSFUL\")"
   ]
  },
  {
   "cell_type": "markdown",
   "id": "3cc654bd-32ab-4628-81dd-47ac21181884",
   "metadata": {},
   "source": [
    "## Set artifact associations"
   ]
  },
  {
   "cell_type": "code",
   "execution_count": 28,
   "id": "4ff56756-ab63-43db-b6b3-5df93b1b40a7",
   "metadata": {},
   "outputs": [
    {
     "name": "stdout",
     "output_type": "stream",
     "text": [
      "arn:aws:sagemaker:us-east-1:205930620783:experiment-trial-component/sagemaker-xgboost-2025-05-30-09-09-33-714-aws-training-job\n"
     ]
    }
   ],
   "source": [
    "trial_component = sagemaker_client.describe_trial_component(\n",
    "    TrialComponentName=training_job_1_name + \"-aws-training-job\"\n",
    ")\n",
    "trial_component_arn = trial_component[\"TrialComponentArn\"]\n",
    "print(trial_component_arn)"
   ]
  },
  {
   "cell_type": "code",
   "execution_count": 29,
   "id": "856eadc0-d085-4e2c-a1d0-ad9ebd79634c",
   "metadata": {},
   "outputs": [
    {
     "name": "stdout",
     "output_type": "stream",
     "text": [
      "Association with Code: SUCCEESFUL\n",
      "Association already exists with DataSet\n"
     ]
    }
   ],
   "source": [
    "input_artifacts = [code_artifact, training_data_artifact]\n",
    "\n",
    "for a in input_artifacts:\n",
    "    try:\n",
    "        sagemaker.lineage.association.Association.create(\n",
    "            source_arn=a.artifact_arn,\n",
    "            destination_arn=trial_component_arn,\n",
    "            association_type=\"ContributedTo\",\n",
    "            sagemaker_session=sagemaker_session,\n",
    "        )\n",
    "        print(f\"Association with {a.artifact_type}: SUCCEESFUL\")\n",
    "    except:\n",
    "        print(f\"Association already exists with {a.artifact_type}\")"
   ]
  },
  {
   "cell_type": "code",
   "execution_count": 30,
   "id": "83f8734c-b21a-4314-b4e2-3ccad35bccc2",
   "metadata": {},
   "outputs": [
    {
     "name": "stdout",
     "output_type": "stream",
     "text": [
      "Association with Model: SUCCESSFUL\n"
     ]
    }
   ],
   "source": [
    "output_artifacts = [model_artifact]\n",
    "\n",
    "for a in output_artifacts:\n",
    "    try:\n",
    "        sagemaker.lineage.association.Association.create(\n",
    "            source_arn=a.artifact_arn,\n",
    "            destination_arn=trial_component_arn,\n",
    "            association_type=\"Produced\",\n",
    "            sagemaker_session=sagemaker_session,\n",
    "        )\n",
    "        print(f\"Association with {a.artifact_type}: SUCCESSFUL\")\n",
    "    except:\n",
    "        print(f\"Association already exists with {a.artifact_type}\")"
   ]
  }
 ],
 "metadata": {
  "kernelspec": {
   "display_name": "Python 3 (ipykernel)",
   "language": "python",
   "name": "python3"
  },
  "language_info": {
   "codemirror_mode": {
    "name": "ipython",
    "version": 3
   },
   "file_extension": ".py",
   "mimetype": "text/x-python",
   "name": "python",
   "nbconvert_exporter": "python",
   "pygments_lexer": "ipython3",
   "version": "3.12.9"
  }
 },
 "nbformat": 4,
 "nbformat_minor": 5
}
