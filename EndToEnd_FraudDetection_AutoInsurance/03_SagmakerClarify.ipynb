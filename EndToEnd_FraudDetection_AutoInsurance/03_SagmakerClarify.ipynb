{
 "cells": [
  {
   "cell_type": "markdown",
   "id": "65864d5e-032c-4625-9eae-24f1ba54af18",
   "metadata": {},
   "source": [
    "# Sagamaker Clarify\n",
    "\n",
    "- **ReadtheDocs link:** https://sagemaker-examples.readthedocs.io/en/latest/sagemaker-clarify/index.html\n",
    "- **Pre-Training Bias:** https://docs.aws.amazon.com/sagemaker/latest/dg/clarify-detect-data-bias.html"
   ]
  },
  {
   "cell_type": "code",
   "execution_count": 1,
   "id": "b27a68f9-edfc-419b-8906-988fc81cb61d",
   "metadata": {},
   "outputs": [
    {
     "name": "stderr",
     "output_type": "stream",
     "text": [
      "/opt/conda/lib/python3.12/site-packages/pydantic/_internal/_fields.py:192: UserWarning: Field name \"json\" in \"MonitoringDatasetFormat\" shadows an attribute in parent \"Base\"\n",
      "  warnings.warn(\n"
     ]
    },
    {
     "name": "stdout",
     "output_type": "stream",
     "text": [
      "sagemaker.config INFO - Not applying SDK defaults from location: /etc/xdg/sagemaker/config.yaml\n",
      "sagemaker.config INFO - Not applying SDK defaults from location: /home/sagemaker-user/.config/sagemaker/config.yaml\n"
     ]
    }
   ],
   "source": [
    "import sagemaker\n",
    "import boto3"
   ]
  },
  {
   "cell_type": "code",
   "execution_count": 2,
   "id": "732f26e9-a847-4d97-b303-9d9080093ad5",
   "metadata": {},
   "outputs": [
    {
     "name": "stdout",
     "output_type": "stream",
     "text": [
      "arn:aws:iam::205930620783:role/service-role/AmazonSageMaker-ExecutionRole-20250401T145997\n",
      "us-east-1\n",
      "us-east-1\n",
      "sagemaker-us-east-1-205930620783\n"
     ]
    }
   ],
   "source": [
    "ROLE = sagemaker.get_execution_role()\n",
    "print(ROLE)\n",
    "\n",
    "boto_session = boto3.session.Session()\n",
    "REGION = boto_session.region_name\n",
    "print(REGION)\n",
    "\n",
    "sagemaker_session = sagemaker.session.Session(boto_session=boto_session)\n",
    "print(sagemaker_session.boto_region_name)\n",
    "BUCKET = sagemaker_session.default_bucket()\n",
    "print(BUCKET)\n",
    "\n",
    "KEY = \"FraudDetection_AutoInsurance\""
   ]
  },
  {
   "cell_type": "code",
   "execution_count": 3,
   "id": "b5caffcb-7a12-4120-80e4-0988fd1d8b6e",
   "metadata": {},
   "outputs": [],
   "source": [
    "sagemaker_client = boto_session.client(\"sagemaker\")\n",
    "s3_client = boto_session.client(\"s3\")"
   ]
  },
  {
   "cell_type": "markdown",
   "id": "53fdbcdc-536c-46da-a5fb-e40e98032b7e",
   "metadata": {},
   "source": [
    "### First check if there is a model registered \n",
    "### Create the model from the last training job that we had run"
   ]
  },
  {
   "cell_type": "code",
   "execution_count": 4,
   "id": "8939ecb5-339f-4e1a-9103-1c2f7f44d409",
   "metadata": {},
   "outputs": [
    {
     "name": "stdout",
     "output_type": "stream",
     "text": [
      "[]\n",
      "sagemaker-xgboost-2025-06-11-13-18-27-251\n",
      "683313688378.dkr.ecr.us-east-1.amazonaws.com/sagemaker-xgboost:1.0-1-cpu-py3\n"
     ]
    },
    {
     "data": {
      "text/html": [
       "<pre style=\"white-space:pre;overflow-x:auto;line-height:normal;font-family:Menlo,'DejaVu Sans Mono',consolas,'Courier New',monospace\"><span style=\"color: #7fbfbf; text-decoration-color: #7fbfbf\">[06/14/25 10:56:15] </span><span style=\"color: #0069ff; text-decoration-color: #0069ff; font-weight: bold\">INFO    </span> Creating model with name: sagemaker-xgboost-v3                         <a href=\"file:///opt/conda/lib/python3.12/site-packages/sagemaker/session.py\" target=\"_blank\"><span style=\"color: #7f7f7f; text-decoration-color: #7f7f7f\">session.py</span></a><span style=\"color: #7f7f7f; text-decoration-color: #7f7f7f\">:</span><a href=\"file:///opt/conda/lib/python3.12/site-packages/sagemaker/session.py#4094\" target=\"_blank\"><span style=\"color: #7f7f7f; text-decoration-color: #7f7f7f\">4094</span></a>\n",
       "</pre>\n"
      ],
      "text/plain": [
       "\u001b[2;36m[06/14/25 10:56:15]\u001b[0m\u001b[2;36m \u001b[0m\u001b[1;38;2;0;105;255mINFO    \u001b[0m Creating model with name: sagemaker-xgboost-v3                         \u001b]8;id=946267;file:///opt/conda/lib/python3.12/site-packages/sagemaker/session.py\u001b\\\u001b[2msession.py\u001b[0m\u001b]8;;\u001b\\\u001b[2m:\u001b[0m\u001b]8;id=680667;file:///opt/conda/lib/python3.12/site-packages/sagemaker/session.py#4094\u001b\\\u001b[2m4094\u001b[0m\u001b]8;;\u001b\\\n"
      ]
     },
     "metadata": {},
     "output_type": "display_data"
    },
    {
     "data": {
      "text/html": [
       "<pre style=\"white-space:pre;overflow-x:auto;line-height:normal;font-family:Menlo,'DejaVu Sans Mono',consolas,'Courier New',monospace\"><span style=\"color: #7fbfbf; text-decoration-color: #7fbfbf\">                    </span><span style=\"color: #d7af00; text-decoration-color: #d7af00; font-weight: bold\">WARNING </span> Using already existing model: sagemaker-xgboost-v3                     <a href=\"file:///opt/conda/lib/python3.12/site-packages/sagemaker/session.py\" target=\"_blank\"><span style=\"color: #7f7f7f; text-decoration-color: #7f7f7f\">session.py</span></a><span style=\"color: #7f7f7f; text-decoration-color: #7f7f7f\">:</span><a href=\"file:///opt/conda/lib/python3.12/site-packages/sagemaker/session.py#4105\" target=\"_blank\"><span style=\"color: #7f7f7f; text-decoration-color: #7f7f7f\">4105</span></a>\n",
       "</pre>\n"
      ],
      "text/plain": [
       "\u001b[2;36m                   \u001b[0m\u001b[2;36m \u001b[0m\u001b[1;38;2;215;175;0mWARNING \u001b[0m Using already existing model: sagemaker-xgboost-v3                     \u001b]8;id=339896;file:///opt/conda/lib/python3.12/site-packages/sagemaker/session.py\u001b\\\u001b[2msession.py\u001b[0m\u001b]8;;\u001b\\\u001b[2m:\u001b[0m\u001b]8;id=733726;file:///opt/conda/lib/python3.12/site-packages/sagemaker/session.py#4105\u001b\\\u001b[2m4105\u001b[0m\u001b]8;;\u001b\\\n"
      ]
     },
     "metadata": {},
     "output_type": "display_data"
    },
    {
     "name": "stdout",
     "output_type": "stream",
     "text": [
      "Creating Model\n"
     ]
    }
   ],
   "source": [
    "model_name = \"sagemaker-xgboost-v3\"\n",
    "models = sagemaker_client.list_models(NameContains=model_name)['Models']\n",
    "print(models)\n",
    "if not models:\n",
    "    \n",
    "    training_job_name = 'sagemaker-xgboost-2025-06-11-13-18-27-251'  #'sagemaker-xgboost-2025-05-30-09-09-33-714'\n",
    "    training_job_info = sagemaker_client.describe_training_job(TrainingJobName=training_job_name)\n",
    "    print(training_job_info['TrainingJobName'])\n",
    "    print(training_job_info[\"AlgorithmSpecification\"][\"TrainingImage\"])\n",
    "    \n",
    "    model1 = sagemaker_session.create_model_from_job(\n",
    "        name=model_name, \n",
    "        training_job_name=training_job_name, \n",
    "        role=ROLE, \n",
    "        image_uri=training_job_info[\"AlgorithmSpecification\"][\"TrainingImage\"]\n",
    "    )\n",
    "    print(\"Creating Model\")"
   ]
  },
  {
   "cell_type": "markdown",
   "id": "986bae38-5d27-414c-b2e7-779e6367fd46",
   "metadata": {},
   "source": [
    "#### Now create a sagmaker clarify process"
   ]
  },
  {
   "cell_type": "code",
   "execution_count": 5,
   "id": "ec6f31d0-d5eb-4d01-8112-8a0c6226526c",
   "metadata": {},
   "outputs": [
    {
     "name": "stdout",
     "output_type": "stream",
     "text": [
      "Index(['fraud', 'incident_severity', 'num_vehicles_involved', 'num_injuries',\n",
      "       'num_witnesses', 'police_report_available', 'injury_claim',\n",
      "       'vehicle_claim', 'total_claim_amount', 'incident_month', 'incident_day',\n",
      "       'incident_dow', 'incident_hour', 'driver_relationship_self',\n",
      "       'driver_relationship_na', 'driver_relationship_spouse',\n",
      "       'driver_relationship_child', 'driver_relationship_other',\n",
      "       'incident_type_collision', 'incident_type_breakin',\n",
      "       'incident_type_theft', 'collision_type_front', 'collision_type_rear',\n",
      "       'collision_type_side', 'collision_type_na',\n",
      "       'authorities_contacted_police', 'authorities_contacted_none',\n",
      "       'authorities_contacted_fire', 'authorities_contacted_ambulance',\n",
      "       'eventtime_x', 'customer_age', 'customer_education',\n",
      "       'months_as_customer', 'policy_deductable', 'policy_annual_premium',\n",
      "       'policy_liability', 'auto_year', 'num_claims_past_year',\n",
      "       'num_insurers_past_5_years', 'customer_gender_male',\n",
      "       'customer_gender_female', 'policy_state_ca', 'policy_state_wa',\n",
      "       'policy_state_az', 'policy_state_or', 'policy_state_nv',\n",
      "       'policy_state_id', 'eventtime_y'],\n",
      "      dtype='object')\n",
      "fraud\n",
      "0    3884\n",
      "1     116\n",
      "Name: count, dtype: int64\n",
      "s3://sagemaker-us-east-1-205930620783/FraudDetection_AutoInsurance/clarify-bias\n"
     ]
    }
   ],
   "source": [
    "clarify_instance_count = 1\n",
    "clarify_instance_type = \"ml.c4.xlarge\"\n",
    "\n",
    "train_data_uri = f\"s3://{BUCKET}/{KEY}/data/train.csv\"\n",
    "test_data_uri = f\"s3://{BUCKET}/{KEY}/data/test.csv\"\n",
    "\n",
    "import pandas as pd\n",
    "train_data = pd.read_csv(train_data_uri)\n",
    "print(train_data.columns)  \n",
    "print(train_data['fraud'].value_counts())\n",
    "\n",
    "bias_report_1_output_path = f\"s3://{BUCKET}/{KEY}/clarify-bias\"\n",
    "print(bias_report_1_output_path)"
   ]
  },
  {
   "cell_type": "markdown",
   "id": "67df2e40-1a74-481f-9729-1fba91bbc6b1",
   "metadata": {},
   "source": [
    "## Create a clarify process, prividiing data config, model config, predictions config and the bias config"
   ]
  },
  {
   "cell_type": "code",
   "execution_count": 6,
   "id": "1f99825d-13b8-47d0-8103-792741ccff63",
   "metadata": {},
   "outputs": [
    {
     "data": {
      "text/html": [
       "<pre style=\"white-space:pre;overflow-x:auto;line-height:normal;font-family:Menlo,'DejaVu Sans Mono',consolas,'Courier New',monospace\"><span style=\"color: #7fbfbf; text-decoration-color: #7fbfbf\">[06/14/25 10:56:43] </span><span style=\"color: #0069ff; text-decoration-color: #0069ff; font-weight: bold\">INFO    </span> Ignoring unnecessary instance type: <span style=\"color: #e100e1; text-decoration-color: #e100e1; font-style: italic\">None</span>.                            <a href=\"file:///opt/conda/lib/python3.12/site-packages/sagemaker/image_uris.py\" target=\"_blank\"><span style=\"color: #7f7f7f; text-decoration-color: #7f7f7f\">image_uris.py</span></a><span style=\"color: #7f7f7f; text-decoration-color: #7f7f7f\">:</span><a href=\"file:///opt/conda/lib/python3.12/site-packages/sagemaker/image_uris.py#530\" target=\"_blank\"><span style=\"color: #7f7f7f; text-decoration-color: #7f7f7f\">530</span></a>\n",
       "</pre>\n"
      ],
      "text/plain": [
       "\u001b[2;36m[06/14/25 10:56:43]\u001b[0m\u001b[2;36m \u001b[0m\u001b[1;38;2;0;105;255mINFO    \u001b[0m Ignoring unnecessary instance type: \u001b[3;38;2;225;0;225mNone\u001b[0m.                            \u001b]8;id=642478;file:///opt/conda/lib/python3.12/site-packages/sagemaker/image_uris.py\u001b\\\u001b[2mimage_uris.py\u001b[0m\u001b]8;;\u001b\\\u001b[2m:\u001b[0m\u001b]8;id=78277;file:///opt/conda/lib/python3.12/site-packages/sagemaker/image_uris.py#530\u001b\\\u001b[2m530\u001b[0m\u001b]8;;\u001b\\\n"
      ]
     },
     "metadata": {},
     "output_type": "display_data"
    },
    {
     "name": "stdout",
     "output_type": "stream",
     "text": [
      "<sagemaker.clarify.SageMakerClarifyProcessor object at 0x7f6eb02a3ec0>\n"
     ]
    }
   ],
   "source": [
    "clarify_processor = sagemaker.clarify.SageMakerClarifyProcessor(\n",
    "    role=ROLE, \n",
    "    instance_count=clarify_instance_count, \n",
    "    instance_type=clarify_instance_type, \n",
    "    sagemaker_session=sagemaker_session\n",
    ")\n",
    "print(clarify_processor)"
   ]
  },
  {
   "cell_type": "code",
   "execution_count": 7,
   "id": "c96b0d8d-ccbc-4768-9b61-53c1c9afb193",
   "metadata": {},
   "outputs": [
    {
     "data": {
      "text/plain": [
       "fraud                                int64\n",
       "incident_severity                  float64\n",
       "num_vehicles_involved                int64\n",
       "num_injuries                         int64\n",
       "num_witnesses                        int64\n",
       "police_report_available            float64\n",
       "injury_claim                         int64\n",
       "vehicle_claim                        int64\n",
       "total_claim_amount                   int64\n",
       "incident_month                       int64\n",
       "incident_day                         int64\n",
       "incident_dow                         int64\n",
       "incident_hour                        int64\n",
       "driver_relationship_self           float64\n",
       "driver_relationship_na             float64\n",
       "driver_relationship_spouse         float64\n",
       "driver_relationship_child          float64\n",
       "driver_relationship_other          float64\n",
       "incident_type_collision            float64\n",
       "incident_type_breakin              float64\n",
       "incident_type_theft                float64\n",
       "collision_type_front               float64\n",
       "collision_type_rear                float64\n",
       "collision_type_side                float64\n",
       "collision_type_na                  float64\n",
       "authorities_contacted_police       float64\n",
       "authorities_contacted_none         float64\n",
       "authorities_contacted_fire         float64\n",
       "authorities_contacted_ambulance    float64\n",
       "eventtime_x                        float64\n",
       "customer_age                         int64\n",
       "customer_education                   int64\n",
       "months_as_customer                   int64\n",
       "policy_deductable                    int64\n",
       "policy_annual_premium                int64\n",
       "policy_liability                     int64\n",
       "auto_year                            int64\n",
       "num_claims_past_year                 int64\n",
       "num_insurers_past_5_years            int64\n",
       "customer_gender_male               float64\n",
       "customer_gender_female             float64\n",
       "policy_state_ca                    float64\n",
       "policy_state_wa                    float64\n",
       "policy_state_az                    float64\n",
       "policy_state_or                    float64\n",
       "policy_state_nv                    float64\n",
       "policy_state_id                    float64\n",
       "eventtime_y                        float64\n",
       "dtype: object"
      ]
     },
     "execution_count": 7,
     "metadata": {},
     "output_type": "execute_result"
    }
   ],
   "source": [
    "train_data.dtypes"
   ]
  },
  {
   "cell_type": "code",
   "execution_count": 8,
   "id": "8eab1859-6352-438f-b354-1d48144e1dbe",
   "metadata": {},
   "outputs": [],
   "source": [
    "# Dataconfig - Basic Information about the input data i.e. input data path, output report path, target_label, columns name list, dataset type i.e. csv/json etc\n",
    "bias_data_config = sagemaker.clarify.DataConfig(\n",
    "    s3_data_input_path=train_data_uri, \n",
    "    s3_output_path=bias_report_1_output_path, \n",
    "    label='fraud',\n",
    "    headers=train_data.columns.tolist(),\n",
    "    dataset_type=\"text/csv\"\n",
    ")"
   ]
  },
  {
   "cell_type": "code",
   "execution_count": 9,
   "id": "06a6fe23-55c7-4c1a-bc6c-d0140deadff8",
   "metadata": {},
   "outputs": [],
   "source": [
    "# Model Config: Basic Information about the model i.e. model_name to assess bias for, instance_type to run model on, input and output of the mdoel. \n",
    "bias_model_config = sagemaker.clarify.ModelConfig(\n",
    "    model_name=model_name,\n",
    "    instance_count=clarify_instance_count,\n",
    "    instance_type=clarify_instance_type,\n",
    "    accept_type=\"text/csv\"#,\n",
    "    #content_type=\"text/csv\"\n",
    ")"
   ]
  },
  {
   "cell_type": "code",
   "execution_count": 10,
   "id": "883c34d4-b9e3-435f-aaf3-b36c6e4e64ee",
   "metadata": {},
   "outputs": [],
   "source": [
    "# Model Predicted Lable Config i.e. define model score threshold\n",
    "predictions_config = sagemaker.clarify.ModelPredictedLabelConfig(probability_threshold=0.02)"
   ]
  },
  {
   "cell_type": "code",
   "execution_count": 11,
   "id": "e0e31847-936b-4c8d-affe-11a88347300a",
   "metadata": {},
   "outputs": [],
   "source": [
    "# Bias Config\n",
    "bias_config = sagemaker.clarify.BiasConfig(\n",
    "    label_values_or_threshold=[1],\n",
    "    facet_name='customer_gender_female',\n",
    "    facet_values_or_threshold=[1],\n",
    "    group_name='customer_age'\n",
    ")"
   ]
  },
  {
   "cell_type": "code",
   "execution_count": 12,
   "id": "d65ffd54-d086-4103-99b1-b447940bb04a",
   "metadata": {},
   "outputs": [
    {
     "data": {
      "text/html": [
       "<pre style=\"white-space:pre;overflow-x:auto;line-height:normal;font-family:Menlo,'DejaVu Sans Mono',consolas,'Courier New',monospace\"><span style=\"color: #7fbfbf; text-decoration-color: #7fbfbf\">[06/14/25 10:56:54] </span><span style=\"color: #0069ff; text-decoration-color: #0069ff; font-weight: bold\">INFO    </span> Analysis Config: <span style=\"font-weight: bold\">{</span><span style=\"color: #008700; text-decoration-color: #008700\">'dataset_type'</span>: <span style=\"color: #008700; text-decoration-color: #008700\">'text/csv'</span>, <span style=\"color: #008700; text-decoration-color: #008700\">'headers'</span>: <span style=\"font-weight: bold\">[</span><span style=\"color: #008700; text-decoration-color: #008700\">'fraud'</span>,     <a href=\"file:///opt/conda/lib/python3.12/site-packages/sagemaker/clarify.py\" target=\"_blank\"><span style=\"color: #7f7f7f; text-decoration-color: #7f7f7f\">clarify.py</span></a><span style=\"color: #7f7f7f; text-decoration-color: #7f7f7f\">:</span><a href=\"file:///opt/conda/lib/python3.12/site-packages/sagemaker/clarify.py#1987\" target=\"_blank\"><span style=\"color: #7f7f7f; text-decoration-color: #7f7f7f\">1987</span></a>\n",
       "<span style=\"color: #7fbfbf; text-decoration-color: #7fbfbf\">                    </span>         <span style=\"color: #008700; text-decoration-color: #008700\">'incident_severity'</span>, <span style=\"color: #008700; text-decoration-color: #008700\">'num_vehicles_involved'</span>, <span style=\"color: #008700; text-decoration-color: #008700\">'num_injuries'</span>,          <span style=\"color: #7f7f7f; text-decoration-color: #7f7f7f\">               </span>\n",
       "<span style=\"color: #7fbfbf; text-decoration-color: #7fbfbf\">                    </span>         <span style=\"color: #008700; text-decoration-color: #008700\">'num_witnesses'</span>, <span style=\"color: #008700; text-decoration-color: #008700\">'police_report_available'</span>, <span style=\"color: #008700; text-decoration-color: #008700\">'injury_claim'</span>,            <span style=\"color: #7f7f7f; text-decoration-color: #7f7f7f\">               </span>\n",
       "<span style=\"color: #7fbfbf; text-decoration-color: #7fbfbf\">                    </span>         <span style=\"color: #008700; text-decoration-color: #008700\">'vehicle_claim'</span>, <span style=\"color: #008700; text-decoration-color: #008700\">'total_claim_amount'</span>, <span style=\"color: #008700; text-decoration-color: #008700\">'incident_month'</span>,               <span style=\"color: #7f7f7f; text-decoration-color: #7f7f7f\">               </span>\n",
       "<span style=\"color: #7fbfbf; text-decoration-color: #7fbfbf\">                    </span>         <span style=\"color: #008700; text-decoration-color: #008700\">'incident_day'</span>, <span style=\"color: #008700; text-decoration-color: #008700\">'incident_dow'</span>, <span style=\"color: #008700; text-decoration-color: #008700\">'incident_hour'</span>,                       <span style=\"color: #7f7f7f; text-decoration-color: #7f7f7f\">               </span>\n",
       "<span style=\"color: #7fbfbf; text-decoration-color: #7fbfbf\">                    </span>         <span style=\"color: #008700; text-decoration-color: #008700\">'driver_relationship_self'</span>, <span style=\"color: #008700; text-decoration-color: #008700\">'driver_relationship_na'</span>,                  <span style=\"color: #7f7f7f; text-decoration-color: #7f7f7f\">               </span>\n",
       "<span style=\"color: #7fbfbf; text-decoration-color: #7fbfbf\">                    </span>         <span style=\"color: #008700; text-decoration-color: #008700\">'driver_relationship_spouse'</span>, <span style=\"color: #008700; text-decoration-color: #008700\">'driver_relationship_child'</span>,             <span style=\"color: #7f7f7f; text-decoration-color: #7f7f7f\">               </span>\n",
       "<span style=\"color: #7fbfbf; text-decoration-color: #7fbfbf\">                    </span>         <span style=\"color: #008700; text-decoration-color: #008700\">'driver_relationship_other'</span>, <span style=\"color: #008700; text-decoration-color: #008700\">'incident_type_collision'</span>,                <span style=\"color: #7f7f7f; text-decoration-color: #7f7f7f\">               </span>\n",
       "<span style=\"color: #7fbfbf; text-decoration-color: #7fbfbf\">                    </span>         <span style=\"color: #008700; text-decoration-color: #008700\">'incident_type_breakin'</span>, <span style=\"color: #008700; text-decoration-color: #008700\">'incident_type_theft'</span>,                        <span style=\"color: #7f7f7f; text-decoration-color: #7f7f7f\">               </span>\n",
       "<span style=\"color: #7fbfbf; text-decoration-color: #7fbfbf\">                    </span>         <span style=\"color: #008700; text-decoration-color: #008700\">'collision_type_front'</span>, <span style=\"color: #008700; text-decoration-color: #008700\">'collision_type_rear'</span>, <span style=\"color: #008700; text-decoration-color: #008700\">'collision_type_side'</span>,  <span style=\"color: #7f7f7f; text-decoration-color: #7f7f7f\">               </span>\n",
       "<span style=\"color: #7fbfbf; text-decoration-color: #7fbfbf\">                    </span>         <span style=\"color: #008700; text-decoration-color: #008700\">'collision_type_na'</span>, <span style=\"color: #008700; text-decoration-color: #008700\">'authorities_contacted_police'</span>,                   <span style=\"color: #7f7f7f; text-decoration-color: #7f7f7f\">               </span>\n",
       "<span style=\"color: #7fbfbf; text-decoration-color: #7fbfbf\">                    </span>         <span style=\"color: #008700; text-decoration-color: #008700\">'authorities_contacted_none'</span>, <span style=\"color: #008700; text-decoration-color: #008700\">'authorities_contacted_fire'</span>,            <span style=\"color: #7f7f7f; text-decoration-color: #7f7f7f\">               </span>\n",
       "<span style=\"color: #7fbfbf; text-decoration-color: #7fbfbf\">                    </span>         <span style=\"color: #008700; text-decoration-color: #008700\">'authorities_contacted_ambulance'</span>, <span style=\"color: #008700; text-decoration-color: #008700\">'eventtime_x'</span>, <span style=\"color: #008700; text-decoration-color: #008700\">'customer_age'</span>,      <span style=\"color: #7f7f7f; text-decoration-color: #7f7f7f\">               </span>\n",
       "<span style=\"color: #7fbfbf; text-decoration-color: #7fbfbf\">                    </span>         <span style=\"color: #008700; text-decoration-color: #008700\">'customer_education'</span>, <span style=\"color: #008700; text-decoration-color: #008700\">'months_as_customer'</span>, <span style=\"color: #008700; text-decoration-color: #008700\">'policy_deductable'</span>,       <span style=\"color: #7f7f7f; text-decoration-color: #7f7f7f\">               </span>\n",
       "<span style=\"color: #7fbfbf; text-decoration-color: #7fbfbf\">                    </span>         <span style=\"color: #008700; text-decoration-color: #008700\">'policy_annual_premium'</span>, <span style=\"color: #008700; text-decoration-color: #008700\">'policy_liability'</span>, <span style=\"color: #008700; text-decoration-color: #008700\">'auto_year'</span>,              <span style=\"color: #7f7f7f; text-decoration-color: #7f7f7f\">               </span>\n",
       "<span style=\"color: #7fbfbf; text-decoration-color: #7fbfbf\">                    </span>         <span style=\"color: #008700; text-decoration-color: #008700\">'num_claims_past_year'</span>, <span style=\"color: #008700; text-decoration-color: #008700\">'num_insurers_past_5_years'</span>,                   <span style=\"color: #7f7f7f; text-decoration-color: #7f7f7f\">               </span>\n",
       "<span style=\"color: #7fbfbf; text-decoration-color: #7fbfbf\">                    </span>         <span style=\"color: #008700; text-decoration-color: #008700\">'customer_gender_male'</span>, <span style=\"color: #008700; text-decoration-color: #008700\">'customer_gender_female'</span>, <span style=\"color: #008700; text-decoration-color: #008700\">'policy_state_ca'</span>,   <span style=\"color: #7f7f7f; text-decoration-color: #7f7f7f\">               </span>\n",
       "<span style=\"color: #7fbfbf; text-decoration-color: #7fbfbf\">                    </span>         <span style=\"color: #008700; text-decoration-color: #008700\">'policy_state_wa'</span>, <span style=\"color: #008700; text-decoration-color: #008700\">'policy_state_az'</span>, <span style=\"color: #008700; text-decoration-color: #008700\">'policy_state_or'</span>,               <span style=\"color: #7f7f7f; text-decoration-color: #7f7f7f\">               </span>\n",
       "<span style=\"color: #7fbfbf; text-decoration-color: #7fbfbf\">                    </span>         <span style=\"color: #008700; text-decoration-color: #008700\">'policy_state_nv'</span>, <span style=\"color: #008700; text-decoration-color: #008700\">'policy_state_id'</span>, <span style=\"color: #008700; text-decoration-color: #008700\">'eventtime_y'</span><span style=\"font-weight: bold\">]</span>, <span style=\"color: #008700; text-decoration-color: #008700\">'label'</span>:         <span style=\"color: #7f7f7f; text-decoration-color: #7f7f7f\">               </span>\n",
       "<span style=\"color: #7fbfbf; text-decoration-color: #7fbfbf\">                    </span>         <span style=\"color: #008700; text-decoration-color: #008700\">'fraud'</span>, <span style=\"color: #008700; text-decoration-color: #008700\">'label_values_or_threshold'</span>: <span style=\"font-weight: bold\">[</span><span style=\"color: #008080; text-decoration-color: #008080; font-weight: bold\">1</span><span style=\"font-weight: bold\">]</span>, <span style=\"color: #008700; text-decoration-color: #008700\">'facet'</span>: <span style=\"font-weight: bold\">[{</span><span style=\"color: #008700; text-decoration-color: #008700\">'name_or_index'</span>: <span style=\"color: #7f7f7f; text-decoration-color: #7f7f7f\">               </span>\n",
       "<span style=\"color: #7fbfbf; text-decoration-color: #7fbfbf\">                    </span>         <span style=\"color: #008700; text-decoration-color: #008700\">'customer_gender_female'</span>, <span style=\"color: #008700; text-decoration-color: #008700\">'value_or_threshold'</span>: <span style=\"font-weight: bold\">[</span><span style=\"color: #008080; text-decoration-color: #008080; font-weight: bold\">1</span><span style=\"font-weight: bold\">]}]</span>,                 <span style=\"color: #7f7f7f; text-decoration-color: #7f7f7f\">               </span>\n",
       "<span style=\"color: #7fbfbf; text-decoration-color: #7fbfbf\">                    </span>         <span style=\"color: #008700; text-decoration-color: #008700\">'group_variable'</span>: <span style=\"color: #008700; text-decoration-color: #008700\">'customer_age'</span>, <span style=\"color: #008700; text-decoration-color: #008700\">'methods'</span>: <span style=\"font-weight: bold\">{</span><span style=\"color: #008700; text-decoration-color: #008700\">'report'</span>: <span style=\"font-weight: bold\">{</span><span style=\"color: #008700; text-decoration-color: #008700\">'name'</span>:       <span style=\"color: #7f7f7f; text-decoration-color: #7f7f7f\">               </span>\n",
       "<span style=\"color: #7fbfbf; text-decoration-color: #7fbfbf\">                    </span>         <span style=\"color: #008700; text-decoration-color: #008700\">'report'</span>, <span style=\"color: #008700; text-decoration-color: #008700\">'title'</span>: <span style=\"color: #008700; text-decoration-color: #008700\">'Analysis Report'</span><span style=\"font-weight: bold\">}</span>, <span style=\"color: #008700; text-decoration-color: #008700\">'pre_training_bias'</span>:            <span style=\"color: #7f7f7f; text-decoration-color: #7f7f7f\">               </span>\n",
       "<span style=\"color: #7fbfbf; text-decoration-color: #7fbfbf\">                    </span>         <span style=\"font-weight: bold\">{</span><span style=\"color: #008700; text-decoration-color: #008700\">'methods'</span>: <span style=\"color: #008700; text-decoration-color: #008700\">'all'</span><span style=\"font-weight: bold\">}</span>, <span style=\"color: #008700; text-decoration-color: #008700\">'post_training_bias'</span>: <span style=\"font-weight: bold\">{</span><span style=\"color: #008700; text-decoration-color: #008700\">'methods'</span>: <span style=\"color: #008700; text-decoration-color: #008700\">'all'</span><span style=\"font-weight: bold\">}}</span>,         <span style=\"color: #7f7f7f; text-decoration-color: #7f7f7f\">               </span>\n",
       "<span style=\"color: #7fbfbf; text-decoration-color: #7fbfbf\">                    </span>         <span style=\"color: #008700; text-decoration-color: #008700\">'predictor'</span>: <span style=\"font-weight: bold\">{</span><span style=\"color: #008700; text-decoration-color: #008700\">'model_name'</span>: <span style=\"color: #008700; text-decoration-color: #008700\">'sagemaker-xgboost-v3'</span>, <span style=\"color: #008700; text-decoration-color: #008700\">'instance_type'</span>:   <span style=\"color: #7f7f7f; text-decoration-color: #7f7f7f\">               </span>\n",
       "<span style=\"color: #7fbfbf; text-decoration-color: #7fbfbf\">                    </span>         <span style=\"color: #008700; text-decoration-color: #008700\">'ml.c4.xlarge'</span>, <span style=\"color: #008700; text-decoration-color: #008700\">'initial_instance_count'</span>: <span style=\"color: #008080; text-decoration-color: #008080; font-weight: bold\">1</span>, <span style=\"color: #008700; text-decoration-color: #008700\">'accept_type'</span>:            <span style=\"color: #7f7f7f; text-decoration-color: #7f7f7f\">               </span>\n",
       "<span style=\"color: #7fbfbf; text-decoration-color: #7fbfbf\">                    </span>         <span style=\"color: #008700; text-decoration-color: #008700\">'text/csv'</span><span style=\"font-weight: bold\">}</span>, <span style=\"color: #008700; text-decoration-color: #008700\">'probability_threshold'</span>: <span style=\"color: #008080; text-decoration-color: #008080; font-weight: bold\">0.02</span><span style=\"font-weight: bold\">}</span>                            <span style=\"color: #7f7f7f; text-decoration-color: #7f7f7f\">               </span>\n",
       "</pre>\n"
      ],
      "text/plain": [
       "\u001b[2;36m[06/14/25 10:56:54]\u001b[0m\u001b[2;36m \u001b[0m\u001b[1;38;2;0;105;255mINFO    \u001b[0m Analysis Config: \u001b[1m{\u001b[0m\u001b[38;2;0;135;0m'dataset_type'\u001b[0m: \u001b[38;2;0;135;0m'text/csv'\u001b[0m, \u001b[38;2;0;135;0m'headers'\u001b[0m: \u001b[1m[\u001b[0m\u001b[38;2;0;135;0m'fraud'\u001b[0m,     \u001b]8;id=980421;file:///opt/conda/lib/python3.12/site-packages/sagemaker/clarify.py\u001b\\\u001b[2mclarify.py\u001b[0m\u001b]8;;\u001b\\\u001b[2m:\u001b[0m\u001b]8;id=65367;file:///opt/conda/lib/python3.12/site-packages/sagemaker/clarify.py#1987\u001b\\\u001b[2m1987\u001b[0m\u001b]8;;\u001b\\\n",
       "\u001b[2;36m                    \u001b[0m         \u001b[38;2;0;135;0m'incident_severity'\u001b[0m, \u001b[38;2;0;135;0m'num_vehicles_involved'\u001b[0m, \u001b[38;2;0;135;0m'num_injuries'\u001b[0m,          \u001b[2m               \u001b[0m\n",
       "\u001b[2;36m                    \u001b[0m         \u001b[38;2;0;135;0m'num_witnesses'\u001b[0m, \u001b[38;2;0;135;0m'police_report_available'\u001b[0m, \u001b[38;2;0;135;0m'injury_claim'\u001b[0m,            \u001b[2m               \u001b[0m\n",
       "\u001b[2;36m                    \u001b[0m         \u001b[38;2;0;135;0m'vehicle_claim'\u001b[0m, \u001b[38;2;0;135;0m'total_claim_amount'\u001b[0m, \u001b[38;2;0;135;0m'incident_month'\u001b[0m,               \u001b[2m               \u001b[0m\n",
       "\u001b[2;36m                    \u001b[0m         \u001b[38;2;0;135;0m'incident_day'\u001b[0m, \u001b[38;2;0;135;0m'incident_dow'\u001b[0m, \u001b[38;2;0;135;0m'incident_hour'\u001b[0m,                       \u001b[2m               \u001b[0m\n",
       "\u001b[2;36m                    \u001b[0m         \u001b[38;2;0;135;0m'driver_relationship_self'\u001b[0m, \u001b[38;2;0;135;0m'driver_relationship_na'\u001b[0m,                  \u001b[2m               \u001b[0m\n",
       "\u001b[2;36m                    \u001b[0m         \u001b[38;2;0;135;0m'driver_relationship_spouse'\u001b[0m, \u001b[38;2;0;135;0m'driver_relationship_child'\u001b[0m,             \u001b[2m               \u001b[0m\n",
       "\u001b[2;36m                    \u001b[0m         \u001b[38;2;0;135;0m'driver_relationship_other'\u001b[0m, \u001b[38;2;0;135;0m'incident_type_collision'\u001b[0m,                \u001b[2m               \u001b[0m\n",
       "\u001b[2;36m                    \u001b[0m         \u001b[38;2;0;135;0m'incident_type_breakin'\u001b[0m, \u001b[38;2;0;135;0m'incident_type_theft'\u001b[0m,                        \u001b[2m               \u001b[0m\n",
       "\u001b[2;36m                    \u001b[0m         \u001b[38;2;0;135;0m'collision_type_front'\u001b[0m, \u001b[38;2;0;135;0m'collision_type_rear'\u001b[0m, \u001b[38;2;0;135;0m'collision_type_side'\u001b[0m,  \u001b[2m               \u001b[0m\n",
       "\u001b[2;36m                    \u001b[0m         \u001b[38;2;0;135;0m'collision_type_na'\u001b[0m, \u001b[38;2;0;135;0m'authorities_contacted_police'\u001b[0m,                   \u001b[2m               \u001b[0m\n",
       "\u001b[2;36m                    \u001b[0m         \u001b[38;2;0;135;0m'authorities_contacted_none'\u001b[0m, \u001b[38;2;0;135;0m'authorities_contacted_fire'\u001b[0m,            \u001b[2m               \u001b[0m\n",
       "\u001b[2;36m                    \u001b[0m         \u001b[38;2;0;135;0m'authorities_contacted_ambulance'\u001b[0m, \u001b[38;2;0;135;0m'eventtime_x'\u001b[0m, \u001b[38;2;0;135;0m'customer_age'\u001b[0m,      \u001b[2m               \u001b[0m\n",
       "\u001b[2;36m                    \u001b[0m         \u001b[38;2;0;135;0m'customer_education'\u001b[0m, \u001b[38;2;0;135;0m'months_as_customer'\u001b[0m, \u001b[38;2;0;135;0m'policy_deductable'\u001b[0m,       \u001b[2m               \u001b[0m\n",
       "\u001b[2;36m                    \u001b[0m         \u001b[38;2;0;135;0m'policy_annual_premium'\u001b[0m, \u001b[38;2;0;135;0m'policy_liability'\u001b[0m, \u001b[38;2;0;135;0m'auto_year'\u001b[0m,              \u001b[2m               \u001b[0m\n",
       "\u001b[2;36m                    \u001b[0m         \u001b[38;2;0;135;0m'num_claims_past_year'\u001b[0m, \u001b[38;2;0;135;0m'num_insurers_past_5_years'\u001b[0m,                   \u001b[2m               \u001b[0m\n",
       "\u001b[2;36m                    \u001b[0m         \u001b[38;2;0;135;0m'customer_gender_male'\u001b[0m, \u001b[38;2;0;135;0m'customer_gender_female'\u001b[0m, \u001b[38;2;0;135;0m'policy_state_ca'\u001b[0m,   \u001b[2m               \u001b[0m\n",
       "\u001b[2;36m                    \u001b[0m         \u001b[38;2;0;135;0m'policy_state_wa'\u001b[0m, \u001b[38;2;0;135;0m'policy_state_az'\u001b[0m, \u001b[38;2;0;135;0m'policy_state_or'\u001b[0m,               \u001b[2m               \u001b[0m\n",
       "\u001b[2;36m                    \u001b[0m         \u001b[38;2;0;135;0m'policy_state_nv'\u001b[0m, \u001b[38;2;0;135;0m'policy_state_id'\u001b[0m, \u001b[38;2;0;135;0m'eventtime_y'\u001b[0m\u001b[1m]\u001b[0m, \u001b[38;2;0;135;0m'label'\u001b[0m:         \u001b[2m               \u001b[0m\n",
       "\u001b[2;36m                    \u001b[0m         \u001b[38;2;0;135;0m'fraud'\u001b[0m, \u001b[38;2;0;135;0m'label_values_or_threshold'\u001b[0m: \u001b[1m[\u001b[0m\u001b[1;36m1\u001b[0m\u001b[1m]\u001b[0m, \u001b[38;2;0;135;0m'facet'\u001b[0m: \u001b[1m[\u001b[0m\u001b[1m{\u001b[0m\u001b[38;2;0;135;0m'name_or_index'\u001b[0m: \u001b[2m               \u001b[0m\n",
       "\u001b[2;36m                    \u001b[0m         \u001b[38;2;0;135;0m'customer_gender_female'\u001b[0m, \u001b[38;2;0;135;0m'value_or_threshold'\u001b[0m: \u001b[1m[\u001b[0m\u001b[1;36m1\u001b[0m\u001b[1m]\u001b[0m\u001b[1m}\u001b[0m\u001b[1m]\u001b[0m,                 \u001b[2m               \u001b[0m\n",
       "\u001b[2;36m                    \u001b[0m         \u001b[38;2;0;135;0m'group_variable'\u001b[0m: \u001b[38;2;0;135;0m'customer_age'\u001b[0m, \u001b[38;2;0;135;0m'methods'\u001b[0m: \u001b[1m{\u001b[0m\u001b[38;2;0;135;0m'report'\u001b[0m: \u001b[1m{\u001b[0m\u001b[38;2;0;135;0m'name'\u001b[0m:       \u001b[2m               \u001b[0m\n",
       "\u001b[2;36m                    \u001b[0m         \u001b[38;2;0;135;0m'report'\u001b[0m, \u001b[38;2;0;135;0m'title'\u001b[0m: \u001b[38;2;0;135;0m'Analysis Report'\u001b[0m\u001b[1m}\u001b[0m, \u001b[38;2;0;135;0m'pre_training_bias'\u001b[0m:            \u001b[2m               \u001b[0m\n",
       "\u001b[2;36m                    \u001b[0m         \u001b[1m{\u001b[0m\u001b[38;2;0;135;0m'methods'\u001b[0m: \u001b[38;2;0;135;0m'all'\u001b[0m\u001b[1m}\u001b[0m, \u001b[38;2;0;135;0m'post_training_bias'\u001b[0m: \u001b[1m{\u001b[0m\u001b[38;2;0;135;0m'methods'\u001b[0m: \u001b[38;2;0;135;0m'all'\u001b[0m\u001b[1m}\u001b[0m\u001b[1m}\u001b[0m,         \u001b[2m               \u001b[0m\n",
       "\u001b[2;36m                    \u001b[0m         \u001b[38;2;0;135;0m'predictor'\u001b[0m: \u001b[1m{\u001b[0m\u001b[38;2;0;135;0m'model_name'\u001b[0m: \u001b[38;2;0;135;0m'sagemaker-xgboost-v3'\u001b[0m, \u001b[38;2;0;135;0m'instance_type'\u001b[0m:   \u001b[2m               \u001b[0m\n",
       "\u001b[2;36m                    \u001b[0m         \u001b[38;2;0;135;0m'ml.c4.xlarge'\u001b[0m, \u001b[38;2;0;135;0m'initial_instance_count'\u001b[0m: \u001b[1;36m1\u001b[0m, \u001b[38;2;0;135;0m'accept_type'\u001b[0m:            \u001b[2m               \u001b[0m\n",
       "\u001b[2;36m                    \u001b[0m         \u001b[38;2;0;135;0m'text/csv'\u001b[0m\u001b[1m}\u001b[0m, \u001b[38;2;0;135;0m'probability_threshold'\u001b[0m: \u001b[1;36m0.02\u001b[0m\u001b[1m}\u001b[0m                            \u001b[2m               \u001b[0m\n"
      ]
     },
     "metadata": {},
     "output_type": "display_data"
    },
    {
     "data": {
      "text/html": [
       "<pre style=\"white-space:pre;overflow-x:auto;line-height:normal;font-family:Menlo,'DejaVu Sans Mono',consolas,'Courier New',monospace\"><span style=\"color: #7fbfbf; text-decoration-color: #7fbfbf\">                    </span><span style=\"color: #0069ff; text-decoration-color: #0069ff; font-weight: bold\">INFO    </span> Creating processing-job with name Clarify-Bias-<span style=\"color: #008080; text-decoration-color: #008080; font-weight: bold\">2025</span>-06-14-10-56-54-664 <a href=\"file:///opt/conda/lib/python3.12/site-packages/sagemaker/session.py\" target=\"_blank\"><span style=\"color: #7f7f7f; text-decoration-color: #7f7f7f\">session.py</span></a><span style=\"color: #7f7f7f; text-decoration-color: #7f7f7f\">:</span><a href=\"file:///opt/conda/lib/python3.12/site-packages/sagemaker/session.py#1575\" target=\"_blank\"><span style=\"color: #7f7f7f; text-decoration-color: #7f7f7f\">1575</span></a>\n",
       "</pre>\n"
      ],
      "text/plain": [
       "\u001b[2;36m                   \u001b[0m\u001b[2;36m \u001b[0m\u001b[1;38;2;0;105;255mINFO    \u001b[0m Creating processing-job with name Clarify-Bias-\u001b[1;36m2025\u001b[0m-06-14-10-56-54-664 \u001b]8;id=334068;file:///opt/conda/lib/python3.12/site-packages/sagemaker/session.py\u001b\\\u001b[2msession.py\u001b[0m\u001b]8;;\u001b\\\u001b[2m:\u001b[0m\u001b]8;id=204501;file:///opt/conda/lib/python3.12/site-packages/sagemaker/session.py#1575\u001b\\\u001b[2m1575\u001b[0m\u001b]8;;\u001b\\\n"
      ]
     },
     "metadata": {},
     "output_type": "display_data"
    },
    {
     "name": "stdout",
     "output_type": "stream",
     "text": [
      ".............................\u001b[34msagemaker.config INFO - Not applying SDK defaults from location: /etc/xdg/sagemaker/config.yaml\u001b[0m\n",
      "\u001b[34msagemaker.config INFO - Not applying SDK defaults from location: /root/.config/sagemaker/config.yaml\u001b[0m\n",
      "\u001b[34mWe are not in a supported iso region, /bin/sh exiting gracefully with no changes.\u001b[0m\n",
      "\u001b[34mWARNING:root:logging.conf not found when configuring logging, using default logging configuration.\u001b[0m\n",
      "\u001b[34mINFO:sagemaker-clarify-processing:Starting SageMaker Clarify Processing job\u001b[0m\n",
      "\u001b[34mINFO:analyzer.data_loading.data_loader_util:Analysis config path: /opt/ml/processing/input/config/analysis_config.json\u001b[0m\n",
      "\u001b[34mINFO:analyzer.data_loading.data_loader_util:Analysis result path: /opt/ml/processing/output\u001b[0m\n",
      "\u001b[34mINFO:analyzer.data_loading.data_loader_util:This host is algo-1.\u001b[0m\n",
      "\u001b[34mINFO:analyzer.data_loading.data_loader_util:This host is the leader.\u001b[0m\n",
      "\u001b[34mINFO:analyzer.data_loading.data_loader_util:Number of hosts in the cluster is 1.\u001b[0m\n",
      "\u001b[34mINFO:sagemaker-clarify-processing:Running Python / Pandas based analyzer.\u001b[0m\n",
      "\u001b[34mINFO:analyzer.data_loading.data_loader_factory:Dataset type: text/csv uri: /opt/ml/processing/input/data\u001b[0m\n",
      "\u001b[34mINFO:sagemaker-clarify-processing:Loading dataset...\u001b[0m\n",
      "\u001b[34mINFO:sagemaker-clarify-processing:Loaded dataset. Dataset info:\u001b[0m\n",
      "\u001b[34m<class 'pandas.core.frame.DataFrame'>\u001b[0m\n",
      "\u001b[34mRangeIndex: 4000 entries, 0 to 3999\u001b[0m\n",
      "\u001b[34mData columns (total 47 columns):\n",
      " #   Column                           Non-Null Count  Dtype  \u001b[0m\n",
      "\u001b[34m---  ------                           --------------  -----  \n",
      " 0   incident_severity                4000 non-null   float64\n",
      " 1   num_vehicles_involved            4000 non-null   int64  \n",
      " 2   num_injuries                     4000 non-null   int64  \n",
      " 3   num_witnesses                    4000 non-null   int64  \n",
      " 4   police_report_available          4000 non-null   float64\n",
      " 5   injury_claim                     4000 non-null   int64  \n",
      " 6   vehicle_claim                    4000 non-null   int64  \n",
      " 7   total_claim_amount               4000 non-null   int64  \n",
      " 8   incident_month                   4000 non-null   int64  \n",
      " 9   incident_day                     4000 non-null   int64  \n",
      " 10  incident_dow                     4000 non-null   int64  \n",
      " 11  incident_hour                    4000 non-null   int64  \n",
      " 12  driver_relationship_self         4000 non-null   float64\n",
      " 13  driver_relationship_na           4000 non-null   float64\n",
      " 14  driver_relationship_spouse       4000 non-null   float64\n",
      " 15  driver_relationship_child        4000 non-null   float64\n",
      " 16  driver_relationship_other        4000 non-null   float64\n",
      " 17  incident_type_collision          4000 non-null   float64\n",
      " 18  incident_type_breakin            4000 non-null   float64\n",
      " 19  incident_type_theft              4000 non-null   float64\n",
      " 20  collision_type_front             4000 non-null   float64\n",
      " 21  collision_type_rear              4000 non-null   float64\n",
      " 22  collision_type_side              4000 non-null   float64\n",
      " 23  collision_type_na                4000 non-null   float64\n",
      " 24  authorities_contacted_police     4000 non-null   float64\n",
      " 25  authorities_contacted_none       4000 non-null   float64\n",
      " 26  authorities_contacted_fire       4000 non-null   float64\n",
      " 27  authorities_contacted_ambulance  4000 non-null   float64\n",
      " 28  eventtime_x                      4000 non-null   float64\n",
      " 29  customer_age                     4000 non-null   int64  \n",
      " 30  customer_education               4000 non-null   int64  \n",
      " 31  months_as_customer               4000 non-null   int64  \n",
      " 32  policy_deductable                4000 non-null   int64  \n",
      " 33  policy_annual_premium            4000 non-null   int64  \n",
      " 34  policy_liability                 4000 non-null   int64  \n",
      " 35  auto_year                        4000 non-null   int64  \n",
      " 36  num_claims_past_year             4000 non-null   int64  \n",
      " 37  num_insurers_past_5_years        4000 non-null   int64  \n",
      " 38  customer_gender_male             4000 non-null   float64\n",
      " 39  customer_gender_female           4000 non-null   float64\n",
      " 40  policy_state_ca                  4000 non-null   float64\n",
      " 41  policy_state_wa                  4000 non-null   float64\n",
      " 42  policy_state_az                  4000 non-null   float64\n",
      " 43  policy_state_or                  4000 non-null   float64\n",
      " 44  policy_state_nv                  4000 non-null   float64\n",
      " 45  policy_state_id                  4000 non-null   float64\n",
      " 46  eventtime_y                      4000 non-null   float64\u001b[0m\n",
      "\u001b[34mdtypes: float64(28), int64(19)\u001b[0m\n",
      "\u001b[34mmemory usage: 1.4 MB\u001b[0m\n",
      "\u001b[34mINFO:analyzer.predictor.managed_endpoint:Spinning up shadow endpoint\u001b[0m\n",
      "\u001b[34mINFO:sagemaker:Creating endpoint-config with name sm-clarify-config-1749898907-cbd1\u001b[0m\n",
      "\u001b[34mINFO:analyzer.predictor.managed_endpoint:Creating endpoint: 'sm-clarify-sagemaker-xgboost-v3-1749898907-9c14'\u001b[0m\n",
      "\u001b[34mINFO:botocore.client:No endpoints ruleset found for service sagemaker-internal, falling back to legacy endpoint routing.\u001b[0m\n",
      "\u001b[34mINFO:sagemaker-clarify-processing:Using endpoint name: sm-clarify-sagemaker-xgboost-v3-1749898907-9c14\u001b[0m\n",
      "\u001b[34mINFO:sagemaker-clarify-processing:Waiting for endpoint ...\u001b[0m\n",
      "\u001b[34mINFO:analyzer.predictor.managed_endpoint:Checking endpoint status:\u001b[0m\n",
      "\u001b[34mLegend:\u001b[0m\n",
      "\u001b[34m(OutOfService: x, Creating: -, Updating: -, InService: !, RollingBack: <, Deleting: o, Failed: *)\u001b[0m\n",
      "\u001b[34mINFO:analyzer.predictor.managed_endpoint:Endpoint is in service after 241 seconds\u001b[0m\n",
      "\u001b[34mINFO:sagemaker-clarify-processing:Endpoint ready.\u001b[0m\n",
      "\u001b[34mINFO:sagemaker-clarify-processing:======================================\u001b[0m\n",
      "\u001b[34mINFO:sagemaker-clarify-processing:Calculating post-training bias metrics\u001b[0m\n",
      "\u001b[34mINFO:sagemaker-clarify-processing:======================================\u001b[0m\n",
      "\u001b[34mINFO:sagemaker-clarify-processing:Getting predictions from the endpoint\u001b[0m\n",
      "\u001b[34mINFO:analyzer.utils.prediction_util:We assume a prediction above 0.020 indicates 1 and below or equal indicates 0.\u001b[0m\n",
      "\u001b[34mINFO:smclarify.bias.metrics.common:Column fraud with data uniqueness fraction 0.0005 is classifed as a CATEGORICAL column\u001b[0m\n",
      "\u001b[34mINFO:smclarify.bias.metrics.common:Column customer_gender_female with data uniqueness fraction 0.0005 is classifed as a CONTINUOUS column\u001b[0m\n",
      "\u001b[34mINFO:smclarify.bias.metrics.common:Column fraud with data uniqueness fraction 0.0005 is classifed as a CATEGORICAL column\u001b[0m\n",
      "\u001b[34mINFO:smclarify.bias.metrics.common:Column None with data uniqueness fraction 0.0005 is classifed as a CATEGORICAL column\u001b[0m\n",
      "\u001b[34mINFO:smclarify.bias.report:Threshold Interval indices: IntervalIndex([], dtype='interval[int64, right]')\u001b[0m\n",
      "\u001b[34mERROR:smclarify.bias.report:AD metrics failed\u001b[0m\n",
      "\u001b[34mTraceback (most recent call last):\n",
      "  File \"/usr/local/lib/python3.9/site-packages/smclarify/bias/report.py\", line 356, in _continuous_metric_call_wrapper\n",
      "    metric_value = smclarify.bias.metrics.call_metric(\n",
      "  File \"/usr/local/lib/python3.9/site-packages/smclarify/bias/metrics/__init__.py\", line 27, in call_metric\n",
      "    return metric(**{key: kwargs[key] for key in inspect.signature(metric).parameters.keys()})\n",
      "  File \"/usr/local/lib/python3.9/site-packages/smclarify/bias/metrics/posttraining.py\", line 223, in AD\n",
      "    raise ValueError(\"Facet set is empty\")\u001b[0m\n",
      "\u001b[34mValueError: Facet set is empty\u001b[0m\n",
      "\u001b[34mERROR:smclarify.bias.report:DAR metrics failed\u001b[0m\n",
      "\u001b[34mTraceback (most recent call last):\n",
      "  File \"/usr/local/lib/python3.9/site-packages/smclarify/bias/report.py\", line 356, in _continuous_metric_call_wrapper\n",
      "    metric_value = smclarify.bias.metrics.call_metric(\n",
      "  File \"/usr/local/lib/python3.9/site-packages/smclarify/bias/metrics/__init__.py\", line 27, in call_metric\n",
      "    return metric(**{key: kwargs[key] for key in inspect.signature(metric).parameters.keys()})\n",
      "  File \"/usr/local/lib/python3.9/site-packages/smclarify/bias/metrics/posttraining.py\", line 178, in DAR\n",
      "    dar, _ = common.DLR(feature, sensitive_facet_index, positive_label_index, positive_predicted_label_index)\n",
      "  File \"/usr/local/lib/python3.9/site-packages/smclarify/bias/metrics/common.py\", line 320, in DLR\n",
      "    raise ValueError(\"DLR: Facet set is empty\")\u001b[0m\n",
      "\u001b[34mValueError: DLR: Facet set is empty\u001b[0m\n",
      "\u001b[34mERROR:smclarify.bias.report:DCA metrics failed\u001b[0m\n",
      "\u001b[34mTraceback (most recent call last):\n",
      "  File \"/usr/local/lib/python3.9/site-packages/smclarify/bias/report.py\", line 356, in _continuous_metric_call_wrapper\n",
      "    metric_value = smclarify.bias.metrics.call_metric(\n",
      "  File \"/usr/local/lib/python3.9/site-packages/smclarify/bias/metrics/__init__.py\", line 27, in call_metric\n",
      "    return metric(**{key: kwargs[key] for key in inspect.signature(metric).parameters.keys()})\n",
      "  File \"/usr/local/lib/python3.9/site-packages/smclarify/bias/metrics/posttraining.py\", line 95, in DCA\n",
      "    dca, _ = common.DCO(feature, sensitive_facet_index, positive_label_index, positive_predicted_label_index)\n",
      "  File \"/usr/local/lib/python3.9/site-packages/smclarify/bias/metrics/common.py\", line 266, in DCO\n",
      "    raise ValueError(\"DCO: Facet set is empty\")\u001b[0m\n",
      "\u001b[34mValueError: DCO: Facet set is empty\u001b[0m\n",
      "\u001b[34mERROR:smclarify.bias.report:DCR metrics failed\u001b[0m\n",
      "\u001b[34mTraceback (most recent call last):\n",
      "  File \"/usr/local/lib/python3.9/site-packages/smclarify/bias/report.py\", line 356, in _continuous_metric_call_wrapper\n",
      "    metric_value = smclarify.bias.metrics.call_metric(\n",
      "  File \"/usr/local/lib/python3.9/site-packages/smclarify/bias/metrics/__init__.py\", line 27, in call_metric\n",
      "    return metric(**{key: kwargs[key] for key in inspect.signature(metric).parameters.keys()})\n",
      "  File \"/usr/local/lib/python3.9/site-packages/smclarify/bias/metrics/posttraining.py\", line 115, in DCR\n",
      "    _, dcr = common.DCO(feature, sensitive_facet_index, positive_label_index, positive_predicted_label_index)\n",
      "  File \"/usr/local/lib/python3.9/site-packages/smclarify/bias/metrics/common.py\", line 266, in DCO\n",
      "    raise ValueError(\"DCO: Facet set is empty\")\u001b[0m\n",
      "\u001b[34mValueError: DCO: Facet set is empty\u001b[0m\n",
      "\u001b[34mERROR:smclarify.bias.report:DI metrics failed\u001b[0m\n",
      "\u001b[34mTraceback (most recent call last):\n",
      "  File \"/usr/local/lib/python3.9/site-packages/smclarify/bias/report.py\", line 356, in _continuous_metric_call_wrapper\n",
      "    metric_value = smclarify.bias.metrics.call_metric(\n",
      "  File \"/usr/local/lib/python3.9/site-packages/smclarify/bias/metrics/__init__.py\", line 27, in call_metric\n",
      "    return metric(**{key: kwargs[key] for key in inspect.signature(metric).parameters.keys()})\n",
      "  File \"/usr/local/lib/python3.9/site-packages/smclarify/bias/metrics/posttraining.py\", line 74, in DI\n",
      "    raise ValueError(\"Facet set is empty\")\u001b[0m\n",
      "\u001b[34mValueError: Facet set is empty\u001b[0m\n",
      "\u001b[34mERROR:smclarify.bias.report:DPPL metrics failed\u001b[0m\n",
      "\u001b[34mTraceback (most recent call last):\n",
      "  File \"/usr/local/lib/python3.9/site-packages/smclarify/bias/report.py\", line 356, in _continuous_metric_call_wrapper\n",
      "    metric_value = smclarify.bias.metrics.call_metric(\n",
      "  File \"/usr/local/lib/python3.9/site-packages/smclarify/bias/metrics/__init__.py\", line 27, in call_metric\n",
      "    return metric(**{key: kwargs[key] for key in inspect.signature(metric).parameters.keys()})\n",
      "  File \"/usr/local/lib/python3.9/site-packages/smclarify/bias/metrics/posttraining.py\", line 40, in DPPL\n",
      "    return common.DPL(feature, sensitive_facet_index, positive_predicted_label_index)\n",
      "  File \"/usr/local/lib/python3.9/site-packages/smclarify/bias/metrics/common.py\", line 81, in DPL\n",
      "    raise ValueError(\"Facet set is empty.\")\u001b[0m\n",
      "\u001b[34mValueError: Facet set is empty.\u001b[0m\n",
      "\u001b[34mERROR:smclarify.bias.report:DRR metrics failed\u001b[0m\n",
      "\u001b[34mTraceback (most recent call last):\n",
      "  File \"/usr/local/lib/python3.9/site-packages/smclarify/bias/report.py\", line 356, in _continuous_metric_call_wrapper\n",
      "    metric_value = smclarify.bias.metrics.call_metric(\n",
      "  File \"/usr/local/lib/python3.9/site-packages/smclarify/bias/metrics/__init__.py\", line 27, in call_metric\n",
      "    return metric(**{key: kwargs[key] for key in inspect.signature(metric).parameters.keys()})\n",
      "  File \"/usr/local/lib/python3.9/site-packages/smclarify/bias/metrics/posttraining.py\", line 198, in DRR\n",
      "    _, drr = common.DLR(feature, sensitive_facet_index, positive_label_index, positive_predicted_label_index)\n",
      "  File \"/usr/local/lib/python3.9/site-packages/smclarify/bias/metrics/common.py\", line 320, in DLR\n",
      "    raise ValueError(\"DLR: Facet set is empty\")\u001b[0m\n",
      "\u001b[34mValueError: DLR: Facet set is empty\u001b[0m\n",
      "\u001b[34mERROR:smclarify.bias.report:FT metrics failed\u001b[0m\n",
      "\u001b[34mTraceback (most recent call last):\n",
      "  File \"/usr/local/lib/python3.9/site-packages/smclarify/bias/report.py\", line 356, in _continuous_metric_call_wrapper\n",
      "    metric_value = smclarify.bias.metrics.call_metric(\n",
      "  File \"/usr/local/lib/python3.9/site-packages/smclarify/bias/metrics/__init__.py\", line 27, in call_metric\n",
      "    return metric(**{key: kwargs[key] for key in inspect.signature(metric).parameters.keys()})\n",
      "  File \"/usr/local/lib/python3.9/site-packages/smclarify/bias/metrics/posttraining.py\", line 354, in FT\n",
      "    raise ValueError(\"Facet set is empty\")\u001b[0m\n",
      "\u001b[34mValueError: Facet set is empty\u001b[0m\n",
      "\u001b[34mERROR:smclarify.bias.report:RD metrics failed\u001b[0m\n",
      "\u001b[34mTraceback (most recent call last):\n",
      "  File \"/usr/local/lib/python3.9/site-packages/smclarify/bias/report.py\", line 356, in _continuous_metric_call_wrapper\n",
      "    metric_value = smclarify.bias.metrics.call_metric(\n",
      "  File \"/usr/local/lib/python3.9/site-packages/smclarify/bias/metrics/__init__.py\", line 27, in call_metric\n",
      "    return metric(**{key: kwargs[key] for key in inspect.signature(metric).parameters.keys()})\n",
      "  File \"/usr/local/lib/python3.9/site-packages/smclarify/bias/metrics/posttraining.py\", line 136, in RD\n",
      "    rd, _ = common.DLA(feature, sensitive_facet_index, positive_label_index, positive_predicted_label_index)\n",
      "  File \"/usr/local/lib/python3.9/site-packages/smclarify/bias/metrics/common.py\", line 371, in DLA\n",
      "    raise ValueError(\"DLA: Facet set is empty\")\u001b[0m\n",
      "\u001b[34mValueError: DLA: Facet set is empty\u001b[0m\n",
      "\u001b[34mERROR:smclarify.bias.report:SD metrics failed\u001b[0m\n",
      "\u001b[34mTraceback (most recent call last):\n",
      "  File \"/usr/local/lib/python3.9/site-packages/smclarify/bias/report.py\", line 356, in _continuous_metric_call_wrapper\n",
      "    metric_value = smclarify.bias.metrics.call_metric(\n",
      "  File \"/usr/local/lib/python3.9/site-packages/smclarify/bias/metrics/__init__.py\", line 27, in call_metric\n",
      "    return metric(**{key: kwargs[key] for key in inspect.signature(metric).parameters.keys()})\n",
      "  File \"/usr/local/lib/python3.9/site-packages/smclarify/bias/metrics/posttraining.py\", line 157, in SD\n",
      "    _, sd = common.DLA(feature, sensitive_facet_index, positive_label_index, positive_predicted_label_index)\n",
      "  File \"/usr/local/lib/python3.9/site-packages/smclarify/bias/metrics/common.py\", line 371, in DLA\n",
      "    raise ValueError(\"DLA: Facet set is empty\")\u001b[0m\n",
      "\u001b[34mValueError: DLA: Facet set is empty\u001b[0m\n",
      "\u001b[34mERROR:smclarify.bias.report:TE metrics failed\u001b[0m\n",
      "\u001b[34mTraceback (most recent call last):\n",
      "  File \"/usr/local/lib/python3.9/site-packages/smclarify/bias/report.py\", line 356, in _continuous_metric_call_wrapper\n",
      "    metric_value = smclarify.bias.metrics.call_metric(\n",
      "  File \"/usr/local/lib/python3.9/site-packages/smclarify/bias/metrics/__init__.py\", line 27, in call_metric\n",
      "    return metric(**{key: kwargs[key] for key in inspect.signature(metric).parameters.keys()})\n",
      "  File \"/usr/local/lib/python3.9/site-packages/smclarify/bias/metrics/posttraining.py\", line 301, in TE\n",
      "    raise ValueError(\"Facet set is empty\")\u001b[0m\n",
      "\u001b[34mValueError: Facet set is empty\u001b[0m\n",
      "\u001b[34mINFO:sagemaker-clarify-processing:Calculated global analysis with predictor\u001b[0m\n",
      "\u001b[34mINFO:analyzer.predictor.predictor:Stop using endpoint: sm-clarify-sagemaker-xgboost-v3-1749898907-9c14\u001b[0m\n",
      "\u001b[34mINFO:sagemaker:Deleting endpoint configuration with name: sm-clarify-config-1749898907-cbd1\u001b[0m\n",
      "\u001b[34mINFO:sagemaker:Deleting endpoint with name: sm-clarify-sagemaker-xgboost-v3-1749898907-9c14\u001b[0m\n",
      "\u001b[34mINFO:analyzer.predictor.managed_endpoint:Model endpoint delivered 2.10701 requests per second and a total of 2 requests over 1 seconds\u001b[0m\n",
      "\u001b[34mINFO:sagemaker-clarify-processing:=====================================\u001b[0m\n",
      "\u001b[34mINFO:sagemaker-clarify-processing:Calculating pre-training bias metrics\u001b[0m\n",
      "\u001b[34mINFO:sagemaker-clarify-processing:=====================================\u001b[0m\n",
      "\u001b[34mINFO:smclarify.bias.metrics.common:Column fraud with data uniqueness fraction 0.0005 is classifed as a CATEGORICAL column\u001b[0m\n",
      "\u001b[34mINFO:smclarify.bias.metrics.common:Column customer_gender_female with data uniqueness fraction 0.0005 is classifed as a CONTINUOUS column\u001b[0m\n",
      "\u001b[34mINFO:smclarify.bias.metrics.common:Column fraud with data uniqueness fraction 0.0005 is classifed as a CATEGORICAL column\u001b[0m\n",
      "\u001b[34mINFO:smclarify.bias.report:Threshold Interval indices: IntervalIndex([], dtype='interval[int64, right]')\u001b[0m\n",
      "\u001b[34mERROR:smclarify.bias.report:CI metrics failed\u001b[0m\n",
      "\u001b[34mTraceback (most recent call last):\n",
      "  File \"/usr/local/lib/python3.9/site-packages/smclarify/bias/report.py\", line 356, in _continuous_metric_call_wrapper\n",
      "    metric_value = smclarify.bias.metrics.call_metric(\n",
      "  File \"/usr/local/lib/python3.9/site-packages/smclarify/bias/metrics/__init__.py\", line 27, in call_metric\n",
      "    return metric(**{key: kwargs[key] for key in inspect.signature(metric).parameters.keys()})\n",
      "  File \"/usr/local/lib/python3.9/site-packages/smclarify/bias/metrics/pretraining.py\", line 52, in CI\n",
      "    raise ValueError(\"CI: facet set is empty. Check that x[facet] has non-zero length.\")\u001b[0m\n",
      "\u001b[34mValueError: CI: facet set is empty. Check that x[facet] has non-zero length.\u001b[0m\n",
      "\u001b[34mERROR:smclarify.bias.report:DPL metrics failed\u001b[0m\n",
      "\u001b[34mTraceback (most recent call last):\n",
      "  File \"/usr/local/lib/python3.9/site-packages/smclarify/bias/report.py\", line 356, in _continuous_metric_call_wrapper\n",
      "    metric_value = smclarify.bias.metrics.call_metric(\n",
      "  File \"/usr/local/lib/python3.9/site-packages/smclarify/bias/metrics/__init__.py\", line 27, in call_metric\n",
      "    return metric(**{key: kwargs[key] for key in inspect.signature(metric).parameters.keys()})\n",
      "  File \"/usr/local/lib/python3.9/site-packages/smclarify/bias/metrics/pretraining.py\", line 70, in DPL\n",
      "    return common.DPL(feature, sensitive_facet_index, positive_label_index)\n",
      "  File \"/usr/local/lib/python3.9/site-packages/smclarify/bias/metrics/common.py\", line 81, in DPL\n",
      "    raise ValueError(\"Facet set is empty.\")\u001b[0m\n",
      "\u001b[34mValueError: Facet set is empty.\u001b[0m\n",
      "\u001b[34mERROR:smclarify.bias.report:JS metrics failed\u001b[0m\n",
      "\u001b[34mTraceback (most recent call last):\n",
      "  File \"/usr/local/lib/python3.9/site-packages/smclarify/bias/report.py\", line 356, in _continuous_metric_call_wrapper\n",
      "    metric_value = smclarify.bias.metrics.call_metric(\n",
      "  File \"/usr/local/lib/python3.9/site-packages/smclarify/bias/metrics/__init__.py\", line 27, in call_metric\n",
      "    return metric(**{key: kwargs[key] for key in inspect.signature(metric).parameters.keys()})\n",
      "  File \"/usr/local/lib/python3.9/site-packages/smclarify/bias/metrics/pretraining.py\", line 113, in JS\n",
      "    raise ValueError(\"No instance of common facet found, dataset may be too small\")\u001b[0m\n",
      "\u001b[34mValueError: No instance of common facet found, dataset may be too small\u001b[0m\n",
      "\u001b[34mERROR:smclarify.bias.report:KL metrics failed\u001b[0m\n",
      "\u001b[34mTraceback (most recent call last):\n",
      "  File \"/usr/local/lib/python3.9/site-packages/smclarify/bias/report.py\", line 356, in _continuous_metric_call_wrapper\n",
      "    metric_value = smclarify.bias.metrics.call_metric(\n",
      "  File \"/usr/local/lib/python3.9/site-packages/smclarify/bias/metrics/__init__.py\", line 27, in call_metric\n",
      "    return metric(**{key: kwargs[key] for key in inspect.signature(metric).parameters.keys()})\n",
      "  File \"/usr/local/lib/python3.9/site-packages/smclarify/bias/metrics/pretraining.py\", line 90, in KL\n",
      "    raise ValueError(\"No instance of common facet found, dataset may be too small\")\u001b[0m\n",
      "\u001b[34mValueError: No instance of common facet found, dataset may be too small\u001b[0m\n",
      "\u001b[34mERROR:smclarify.bias.report:KS metrics failed\u001b[0m\n",
      "\u001b[34mTraceback (most recent call last):\n",
      "  File \"/usr/local/lib/python3.9/site-packages/smclarify/bias/report.py\", line 356, in _continuous_metric_call_wrapper\n",
      "    metric_value = smclarify.bias.metrics.call_metric(\n",
      "  File \"/usr/local/lib/python3.9/site-packages/smclarify/bias/metrics/__init__.py\", line 27, in call_metric\n",
      "    return metric(**{key: kwargs[key] for key in inspect.signature(metric).parameters.keys()})\n",
      "  File \"/usr/local/lib/python3.9/site-packages/smclarify/bias/metrics/pretraining.py\", line 174, in KS\n",
      "    return LP_norm(label, sensitive_facet_index, np.inf)\n",
      "  File \"/usr/local/lib/python3.9/site-packages/smclarify/bias/metrics/pretraining.py\", line 140, in LP_norm\n",
      "    raise ValueError(\"No instance of common facet found, dataset may be too small\")\u001b[0m\n",
      "\u001b[34mValueError: No instance of common facet found, dataset may be too small\u001b[0m\n",
      "\u001b[34mERROR:smclarify.bias.report:LP metrics failed\u001b[0m\n",
      "\u001b[34mTraceback (most recent call last):\n",
      "  File \"/usr/local/lib/python3.9/site-packages/smclarify/bias/report.py\", line 356, in _continuous_metric_call_wrapper\n",
      "    metric_value = smclarify.bias.metrics.call_metric(\n",
      "  File \"/usr/local/lib/python3.9/site-packages/smclarify/bias/metrics/__init__.py\", line 27, in call_metric\n",
      "    return metric(**{key: kwargs[key] for key in inspect.signature(metric).parameters.keys()})\n",
      "  File \"/usr/local/lib/python3.9/site-packages/smclarify/bias/metrics/pretraining.py\", line 131, in LP\n",
      "    return LP_norm(label, sensitive_facet_index, 2)\n",
      "  File \"/usr/local/lib/python3.9/site-packages/smclarify/bias/metrics/pretraining.py\", line 140, in LP_norm\n",
      "    raise ValueError(\"No instance of common facet found, dataset may be too small\")\u001b[0m\n",
      "\u001b[34mValueError: No instance of common facet found, dataset may be too small\u001b[0m\n",
      "\u001b[34mERROR:smclarify.bias.report:TVD metrics failed\u001b[0m\n",
      "\u001b[34mTraceback (most recent call last):\n",
      "  File \"/usr/local/lib/python3.9/site-packages/smclarify/bias/report.py\", line 356, in _continuous_metric_call_wrapper\n",
      "    metric_value = smclarify.bias.metrics.call_metric(\n",
      "  File \"/usr/local/lib/python3.9/site-packages/smclarify/bias/metrics/__init__.py\", line 27, in call_metric\n",
      "    return metric(**{key: kwargs[key] for key in inspect.signature(metric).parameters.keys()})\n",
      "  File \"/usr/local/lib/python3.9/site-packages/smclarify/bias/metrics/pretraining.py\", line 157, in TVD\n",
      "    Lp_res = LP_norm(label, sensitive_facet_index, 1)\n",
      "  File \"/usr/local/lib/python3.9/site-packages/smclarify/bias/metrics/pretraining.py\", line 140, in LP_norm\n",
      "    raise ValueError(\"No instance of common facet found, dataset may be too small\")\u001b[0m\n",
      "\u001b[34mValueError: No instance of common facet found, dataset may be too small\u001b[0m\n",
      "\u001b[34mINFO:sagemaker-clarify-processing:======================================\u001b[0m\n",
      "\u001b[34mINFO:sagemaker-clarify-processing:Calculating bias statistics for report\u001b[0m\n",
      "\u001b[34mINFO:sagemaker-clarify-processing:======================================\u001b[0m\n",
      "\u001b[34mINFO:smclarify.bias.metrics.common:Column fraud with data uniqueness fraction 0.0005 is classifed as a CATEGORICAL column\u001b[0m\n",
      "\u001b[34mINFO:smclarify.bias.metrics.common:Column customer_gender_female with data uniqueness fraction 0.0005 is classifed as a CONTINUOUS column\u001b[0m\n",
      "\u001b[34mINFO:smclarify.bias.metrics.common:Column fraud with data uniqueness fraction 0.0005 is classifed as a CATEGORICAL column\u001b[0m\n",
      "\u001b[34mINFO:smclarify.bias.metrics.common:Column None with data uniqueness fraction 0.0005 is classifed as a CATEGORICAL column\u001b[0m\n",
      "\u001b[34mINFO:smclarify.bias.report:Threshold Interval indices: IntervalIndex([], dtype='interval[int64, right]')\u001b[0m\n",
      "\u001b[34mINFO:smclarify.bias.metrics.common:Column fraud with data uniqueness fraction 0.0005 is classifed as a CATEGORICAL column\u001b[0m\n",
      "\u001b[34mINFO:smclarify.bias.metrics.common:Column None with data uniqueness fraction 0.0005 is classifed as a CATEGORICAL column\u001b[0m\n",
      "\u001b[34mINFO:analyzer.utils.spark_util:Converting Pandas DataFrame to SparkDataFrame for computing report metadata\u001b[0m\n",
      "\u001b[34mSetting default log level to \"WARN\".\u001b[0m\n",
      "\u001b[34mTo adjust logging level use sc.setLogLevel(newLevel). For SparkR, use setLogLevel(newLevel).\u001b[0m\n",
      "\u001b[34m25/06/14 11:05:54 WARN NativeCodeLoader: Unable to load native-hadoop library for your platform... using builtin-java classes where applicable\u001b[0m\n",
      "\u001b[34m25/06/14 11:06:00 WARN package: Truncated the string representation of a plan since it was too large. This behavior can be adjusted by setting 'spark.sql.debug.maxToStringFields'.\u001b[0m\n",
      "\u001b[34m#015[Stage 0:>                                                          (0 + 4) / 4]#015#015                                                                                #015INFO:sagemaker-clarify-processing:Calculated global analysis without predictor\u001b[0m\n",
      "\u001b[34mINFO:analyzer.predictor.predictor:Stop using endpoint: None\u001b[0m\n",
      "\u001b[34mINFO:sagemaker-clarify-processing:Collected analyses: \u001b[0m\n",
      "\u001b[34m{'version': '1.0', 'post_training_bias_metrics': {'label': 'fraud', 'facets': {'customer_gender_female': [{'value_or_threshold': '', 'metrics': [{'name': 'AD', 'description': 'Accuracy Difference (AD)', 'value': None, 'error': 'Facet set is empty'}, {'name': 'CDDPL', 'description': 'Conditional Demographic Disparity in Predicted Labels (CDDPL)', 'value': 0.0}, {'name': 'DAR', 'description': 'Difference in Acceptance Rates (DAR)', 'value': None, 'error': 'DLR: Facet set is empty'}, {'name': 'DCA', 'description': 'Difference in Conditional Acceptance (DCA)', 'value': None, 'error': 'DCO: Facet set is empty'}, {'name': 'DCR', 'description': 'Difference in Conditional Rejection (DCR)', 'value': None, 'error': 'DCO: Facet set is empty'}, {'name': 'DI', 'description': 'Disparate Impact (DI)', 'value': None, 'error': 'Facet set is empty'}, {'name': 'DPPL', 'description': 'Difference in Positive Proportions in Predicted Labels (DPPL)', 'value': None, 'error': 'Facet set is empty.'}, {'name': 'DRR', 'description': 'Difference in Rejection Rates (DRR)', 'value': None, 'error': 'DLR: Facet set is empty'}, {'name': 'FT', 'description': 'Flip Test (FT)', 'value': None, 'error': 'Facet set is empty'}, {'name': 'GE', 'description': 'Generalized Entropy (GE)', 'value': 0.062384533571694524}, {'name': 'RD', 'description': 'Recall Difference (RD)', 'value': None, 'error': 'DLA: Facet set is empty'}, {'name': 'SD', 'description': 'Specificity Difference (SD)', 'value': None, 'error': 'DLA: Facet set is empty'}, {'name': 'TE', 'description': 'Treatment Equality (TE)', 'value': None, 'error': 'Facet set is empty'}]}]}, 'label_value_or_threshold': '1'}, 'pre_training_bias_metrics': {'label': 'fraud', 'facets': {'customer_gender_female': [{'value_or_threshold': '', 'metrics': [{'name': 'CDDL', 'description': 'Conditional Demographic Disparity in Labels (CDDL)', 'value': 0.0}, {'name': 'CI', 'description': 'Class Imbalance (CI)', 'value': None, 'error': 'CI: facet set is empty. Check that x[facet] has non-zero length.'}, {'name': 'DPL', 'description': 'Difference in Positive Proportions in Labels (DPL)', 'value': None, 'error': 'Facet set is empty.'}, {'name': 'JS', 'description': 'Jensen-Shannon Divergence (JS)', 'value': None, 'error': 'No instance of common facet found, dataset may be too small'}, {'name': 'KL', 'description': 'Kullback-Liebler Divergence (KL)', 'value': None, 'error': 'No instance of common facet found, dataset may be too small'}, {'name': 'KS', 'description': 'Kolmogorov-Smirnov Distance (KS)', 'value': None, 'error': 'No instance of common facet found, dataset may be too small'}, {'name': 'LP', 'description': 'L-p Norm (LP)', 'value': None, 'error': 'No instance of common facet found, dataset may be too small'}, {'name': 'TVD', 'description': 'Total Variation Distance (TVD)', 'value': None, 'error': 'No instance of common facet found, dataset may be too small'}]}]}, 'label_value_or_threshold': '1'}}\u001b[0m\n",
      "\u001b[34mINFO:analyzer.utils.util:['jupyter', 'nbconvert', '--to', 'html', '--output', '/opt/ml/processing/output/report.html', '/opt/ml/processing/output/report.ipynb', '--template', 'sagemaker-xai']\u001b[0m\n",
      "\u001b[34m[NbConvertApp] Converting notebook /opt/ml/processing/output/report.ipynb to html\u001b[0m\n",
      "\u001b[34m[NbConvertApp] Writing 814071 bytes to /opt/ml/processing/output/report.html\u001b[0m\n",
      "\u001b[34mINFO:analyzer.utils.util:['wkhtmltopdf', '-q', '--enable-local-file-access', '/opt/ml/processing/output/report.html', '/opt/ml/processing/output/report.pdf']\u001b[0m\n",
      "\u001b[34mINFO:analyzer.utils.system_util:exit_message: Completed: SageMaker XAI Analyzer ran successfully\u001b[0m\n",
      "\u001b[34mINFO:py4j.clientserver:Closing down clientserver connection\u001b[0m\n",
      "\u001b[34m---!\u001b[0m\n",
      "\n"
     ]
    }
   ],
   "source": [
    "clarify_processor.run_bias(\n",
    "    data_config=bias_data_config,\n",
    "    model_config=bias_model_config,\n",
    "    bias_config=bias_config,\n",
    "    model_predicted_label_config=predictions_config,\n",
    "    pre_training_methods=\"all\",\n",
    "    post_training_methods=\"all\"\n",
    ")"
   ]
  }
 ],
 "metadata": {
  "kernelspec": {
   "display_name": "Python 3 (ipykernel)",
   "language": "python",
   "name": "python3"
  },
  "language_info": {
   "codemirror_mode": {
    "name": "ipython",
    "version": 3
   },
   "file_extension": ".py",
   "mimetype": "text/x-python",
   "name": "python",
   "nbconvert_exporter": "python",
   "pygments_lexer": "ipython3",
   "version": "3.12.9"
  }
 },
 "nbformat": 4,
 "nbformat_minor": 5
}
