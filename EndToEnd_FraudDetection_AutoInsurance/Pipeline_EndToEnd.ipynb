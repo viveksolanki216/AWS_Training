{
 "cells": [
  {
   "cell_type": "markdown",
   "id": "32a5b22d-06b4-4dd5-9205-250969151c6f",
   "metadata": {},
   "source": [
    "# Create a SageMaker Pipeline to Automate All the Steps from Data Prep to Model Deployment\n",
    "\n",
    "Reference: \n",
    "- https://sagemaker-examples.readthedocs.io/en/latest/end_to_end/fraud_detection/pipeline-e2e.html\n",
    "- https://docs.aws.amazon.com/sagemaker/latest/dg/pipelines.html\n",
    "\n",
    "\n",
    "Steps:\n",
    "- Claims Data Wrangler Preprocessing Step\n",
    "- Customers Data Wrangler Preprocessing Step\n",
    "- Create Dataset and Train/Test Split\n",
    "- Train XGBoost Model\n",
    "- Model Pre-Deployment Step\n",
    "- Run Bias Metrics with Clarify\n",
    "- Register Model\n",
    "- Deploy Model\n",
    "- Combine and Run the Pipeline Steps\n",
    "\n"
   ]
  },
  {
   "cell_type": "code",
   "execution_count": 20,
   "id": "ad6e6846-1e2d-449a-a3c1-228791cfa574",
   "metadata": {},
   "outputs": [],
   "source": [
    "import sagemaker \n",
    "import boto3 \n",
    "import pandas as pd \n"
   ]
  },
  {
   "cell_type": "code",
   "execution_count": 34,
   "id": "42d8595d-5f94-4267-8d88-cd13167c8a3a",
   "metadata": {},
   "outputs": [
    {
     "name": "stdout",
     "output_type": "stream",
     "text": [
      "REGION:  us-east-1\n",
      "ROLE:  arn:aws:iam::205930620783:role/service-role/AmazonSageMaker-ExecutionRole-20250401T145997\n",
      "BUCKET:  sagemaker-us-east-1-205930620783\n",
      "PREFIX:  FraudDetection_AutoInsurance\n",
      "s3://sagemaker-us-east-1-205930620783/FraudDetection_AutoInsurance/data\n"
     ]
    }
   ],
   "source": [
    "REGION = sagemaker.session.Session().boto_region_name\n",
    "print(\"REGION: \", REGION) \n",
    "\n",
    "boto3_session = boto3.Session(region_name=REGION)\n",
    "\n",
    "sagemaker_boto3_client = boto3_session.client(\"sagemaker\")\n",
    "s3_boto3_client = boto3_session.client(\"s3\")\n",
    "sagemaker_session = sagemaker.session.Session(boto_session=boto3_session, sagemaker_client=sagemaker_boto3_client)\n",
    "\n",
    "BUCKET = sagemaker_session.default_bucket()\n",
    "PREFIX = \"FraudDetection_AutoInsurance\"\n",
    "\n",
    "ROLE=sagemaker.get_execution_role()\n",
    "print(\"ROLE: \", ROLE)\n",
    "print(\"BUCKET: \", BUCKET) \n",
    "print(\"PREFIX: \", PREFIX) \n",
    "\n",
    "s3_data_dir_uri = f\"s3://{BUCKET}/{PREFIX}/data\"\n",
    "print(s3_data_dir_uri)"
   ]
  },
  {
   "cell_type": "markdown",
   "id": "164c1ba5-fb46-48ab-b473-57a1be6537bc",
   "metadata": {},
   "source": [
    "## Pipeline Parameters\n",
    "\n",
    "Pipeline parameters are conceptually similar to command-line arguments (argparse) in a Python script. Both allow external users or systems to provide input values at runtime instead of hardcoding them.\n",
    "\n",
    "As well, unlike command line args, these \"Parameters\" are automatically logged and tracked. \n"
   ]
  },
  {
   "cell_type": "code",
   "execution_count": 43,
   "id": "f42765e2-e497-430b-bb19-3f3fd9cab1a4",
   "metadata": {},
   "outputs": [],
   "source": [
    "from sagemaker.workflow.parameters import (    \n",
    "    ParameterInteger, ParameterFloat, ParameterString\n",
    ")\n",
    "\n",
    "p_processing_instance_type = ParameterString(name=\"DataProcessingInstance\", default_value=\"ml.m5.xlarge\")# \"ml.t2.medium\" is not supported\n",
    "p_s3_data_dir_uri = ParameterString(name=\"s3DataDirURI\", default_value=s3_data_dir_uri)\n",
    "p_train_instance_type = ParameterString(name=\"TrainingInstance\", default_value=\"ml.t2.medium\")\n",
    "p_model_appoval_status = ParameterString(name=\"ModelApprovalStatus\", default_value=\"PendingManualApproval\")"
   ]
  },
  {
   "cell_type": "markdown",
   "id": "2c5d19d1-4f88-4813-92d6-27a0333a88ba",
   "metadata": {},
   "source": [
    "## Data Preprocessing Step\n",
    "\n",
    "For now create a step which returns the path of the processed train and test data csv on s3.\n",
    "\n",
    "### sagemaker.processing.Processor v/s  sagemaker.sklearn.processing.SKLearnProcessor\n",
    "-  **Processor** is base class in the Sagemaker SDK used to run arbritary processing jobs. It gives you full control, i.e. which docker image to choose, entry point, env vars. You must configure everything including the image uri.\n",
    "-  **SKLearnProcessor** is a pre-configured sub class of Processor. Automaticallt sets the scikit-learn image, handles dependencies. Designed specifically for scikit learn based workflows.\n",
    "  "
   ]
  },
  {
   "cell_type": "code",
   "execution_count": 44,
   "id": "fa081c1a-c822-43ae-a900-60231ca3c827",
   "metadata": {},
   "outputs": [
    {
     "data": {
      "text/html": [
       "<pre style=\"white-space:pre;overflow-x:auto;line-height:normal;font-family:Menlo,'DejaVu Sans Mono',consolas,'Courier New',monospace\"><span style=\"color: #7fbfbf; text-decoration-color: #7fbfbf\">[06/16/25 15:25:30] </span><span style=\"color: #d7af00; text-decoration-color: #d7af00; font-weight: bold\">WARNING </span> The input argument instance_type of function                          <a href=\"file:///opt/conda/lib/python3.12/site-packages/sagemaker/workflow/utilities.py\" target=\"_blank\"><span style=\"color: #7f7f7f; text-decoration-color: #7f7f7f\">utilities.py</span></a><span style=\"color: #7f7f7f; text-decoration-color: #7f7f7f\">:</span><a href=\"file:///opt/conda/lib/python3.12/site-packages/sagemaker/workflow/utilities.py#422\" target=\"_blank\"><span style=\"color: #7f7f7f; text-decoration-color: #7f7f7f\">422</span></a>\n",
       "<span style=\"color: #7fbfbf; text-decoration-color: #7fbfbf\">                    </span>         <span style=\"font-weight: bold\">(</span>sagemaker.image_uris.retrieve<span style=\"font-weight: bold\">)</span> is a pipeline variable <span style=\"font-weight: bold\">(&lt;</span><span style=\"color: #e100e1; text-decoration-color: #e100e1; font-weight: bold\">class</span><span style=\"color: #000000; text-decoration-color: #000000\"> </span>       <span style=\"color: #7f7f7f; text-decoration-color: #7f7f7f\">                </span>\n",
       "<span style=\"color: #7fbfbf; text-decoration-color: #7fbfbf\">                    </span>         <span style=\"color: #008700; text-decoration-color: #008700\">'sagemaker.workflow.parameters.ParameterString'</span><span style=\"font-weight: bold\">&gt;)</span>, which is           <span style=\"color: #7f7f7f; text-decoration-color: #7f7f7f\">                </span>\n",
       "<span style=\"color: #7fbfbf; text-decoration-color: #7fbfbf\">                    </span>         interpreted in pipeline execution time only. As the function needs to <span style=\"color: #7f7f7f; text-decoration-color: #7f7f7f\">                </span>\n",
       "<span style=\"color: #7fbfbf; text-decoration-color: #7fbfbf\">                    </span>         evaluate the argument value in SDK compile time, the default_value of <span style=\"color: #7f7f7f; text-decoration-color: #7f7f7f\">                </span>\n",
       "<span style=\"color: #7fbfbf; text-decoration-color: #7fbfbf\">                    </span>         this Parameter object will be used to override it. Please make sure   <span style=\"color: #7f7f7f; text-decoration-color: #7f7f7f\">                </span>\n",
       "<span style=\"color: #7fbfbf; text-decoration-color: #7fbfbf\">                    </span>         the default_value is valid.                                           <span style=\"color: #7f7f7f; text-decoration-color: #7f7f7f\">                </span>\n",
       "</pre>\n"
      ],
      "text/plain": [
       "\u001b[2;36m[06/16/25 15:25:30]\u001b[0m\u001b[2;36m \u001b[0m\u001b[1;38;2;215;175;0mWARNING \u001b[0m The input argument instance_type of function                          \u001b]8;id=186778;file:///opt/conda/lib/python3.12/site-packages/sagemaker/workflow/utilities.py\u001b\\\u001b[2mutilities.py\u001b[0m\u001b]8;;\u001b\\\u001b[2m:\u001b[0m\u001b]8;id=670233;file:///opt/conda/lib/python3.12/site-packages/sagemaker/workflow/utilities.py#422\u001b\\\u001b[2m422\u001b[0m\u001b]8;;\u001b\\\n",
       "\u001b[2;36m                    \u001b[0m         \u001b[1m(\u001b[0msagemaker.image_uris.retrieve\u001b[1m)\u001b[0m is a pipeline variable \u001b[1m(\u001b[0m\u001b[1m<\u001b[0m\u001b[1;38;2;225;0;225mclass\u001b[0m\u001b[39m \u001b[0m       \u001b[2m                \u001b[0m\n",
       "\u001b[2;36m                    \u001b[0m         \u001b[38;2;0;135;0m'sagemaker.workflow.parameters.ParameterString'\u001b[0m\u001b[1m>\u001b[0m\u001b[1m)\u001b[0m, which is           \u001b[2m                \u001b[0m\n",
       "\u001b[2;36m                    \u001b[0m         interpreted in pipeline execution time only. As the function needs to \u001b[2m                \u001b[0m\n",
       "\u001b[2;36m                    \u001b[0m         evaluate the argument value in SDK compile time, the default_value of \u001b[2m                \u001b[0m\n",
       "\u001b[2;36m                    \u001b[0m         this Parameter object will be used to override it. Please make sure   \u001b[2m                \u001b[0m\n",
       "\u001b[2;36m                    \u001b[0m         the default_value is valid.                                           \u001b[2m                \u001b[0m\n"
      ]
     },
     "metadata": {},
     "output_type": "display_data"
    },
    {
     "data": {
      "text/html": [
       "<pre style=\"white-space:pre;overflow-x:auto;line-height:normal;font-family:Menlo,'DejaVu Sans Mono',consolas,'Courier New',monospace\"><span style=\"color: #7fbfbf; text-decoration-color: #7fbfbf\">                    </span><span style=\"color: #0069ff; text-decoration-color: #0069ff; font-weight: bold\">INFO    </span> Defaulting to only available Python version: py3                     <a href=\"file:///opt/conda/lib/python3.12/site-packages/sagemaker/image_uris.py\" target=\"_blank\"><span style=\"color: #7f7f7f; text-decoration-color: #7f7f7f\">image_uris.py</span></a><span style=\"color: #7f7f7f; text-decoration-color: #7f7f7f\">:</span><a href=\"file:///opt/conda/lib/python3.12/site-packages/sagemaker/image_uris.py#610\" target=\"_blank\"><span style=\"color: #7f7f7f; text-decoration-color: #7f7f7f\">610</span></a>\n",
       "</pre>\n"
      ],
      "text/plain": [
       "\u001b[2;36m                   \u001b[0m\u001b[2;36m \u001b[0m\u001b[1;38;2;0;105;255mINFO    \u001b[0m Defaulting to only available Python version: py3                     \u001b]8;id=342525;file:///opt/conda/lib/python3.12/site-packages/sagemaker/image_uris.py\u001b\\\u001b[2mimage_uris.py\u001b[0m\u001b]8;;\u001b\\\u001b[2m:\u001b[0m\u001b]8;id=729631;file:///opt/conda/lib/python3.12/site-packages/sagemaker/image_uris.py#610\u001b\\\u001b[2m610\u001b[0m\u001b]8;;\u001b\\\n"
      ]
     },
     "metadata": {},
     "output_type": "display_data"
    }
   ],
   "source": [
    "from sagemaker.sklearn.processing import SKLearnProcessor \n",
    "from sagemaker.workflow.steps import ProcessingStep, TrainingStep\n",
    "\n",
    "# first configure the SKLearnProcessor Class\n",
    "data_processor = SKLearnProcessor(\n",
    "    framework_version='0.23-1',\n",
    "    role=ROLE,\n",
    "    instance_type=p_processing_instance_type,\n",
    "    instance_count=1,\n",
    "    base_job_name='data_processing_job',\n",
    "    sagemaker_session=sagemaker_session\n",
    ")\n",
    "\n",
    "dataset_step_01 = ProcessingStep(\n",
    "    name=\"ProcessData\",\n",
    "    processor=data_processor,\n",
    "    code=\"data_processing_script.py\",\n",
    "    inputs=[\n",
    "        sagemaker.processing.ProcessingInput(source=p_s3_data_dir_uri, destination=\"/opt/ml/processing/input/\")\n",
    "    ],\n",
    "    outputs=[\n",
    "        sagemaker.processing.ProcessingOutput(source=\"/opt/ml/processing/output/\", destination=p_s3_data_dir_uri)\n",
    "    ],\n",
    "    #job_arguments=[\n",
    "    #    \n",
    "    #]\n",
    ")\n"
   ]
  },
  {
   "cell_type": "markdown",
   "id": "7aebf121-ea26-4c39-b218-e403f4fa05ee",
   "metadata": {},
   "source": [
    "## Combine and Run the pipeline steps.\n"
   ]
  },
  {
   "cell_type": "code",
   "execution_count": 45,
   "id": "4fd583bb-c864-4e18-aae6-5b6909156f00",
   "metadata": {},
   "outputs": [
    {
     "data": {
      "text/html": [
       "<pre style=\"white-space:pre;overflow-x:auto;line-height:normal;font-family:Menlo,'DejaVu Sans Mono',consolas,'Courier New',monospace\"><span style=\"color: #7fbfbf; text-decoration-color: #7fbfbf\">[06/16/25 15:25:33] </span><span style=\"color: #d7af00; text-decoration-color: #d7af00; font-weight: bold\">WARNING </span> Popping out <span style=\"color: #008700; text-decoration-color: #008700\">'ProcessingJobName'</span> from the pipeline definition by       <a href=\"file:///opt/conda/lib/python3.12/site-packages/sagemaker/workflow/utilities.py\" target=\"_blank\"><span style=\"color: #7f7f7f; text-decoration-color: #7f7f7f\">utilities.py</span></a><span style=\"color: #7f7f7f; text-decoration-color: #7f7f7f\">:</span><a href=\"file:///opt/conda/lib/python3.12/site-packages/sagemaker/workflow/utilities.py#465\" target=\"_blank\"><span style=\"color: #7f7f7f; text-decoration-color: #7f7f7f\">465</span></a>\n",
       "<span style=\"color: #7fbfbf; text-decoration-color: #7fbfbf\">                    </span>         default since it will be overridden at pipeline execution time.       <span style=\"color: #7f7f7f; text-decoration-color: #7f7f7f\">                </span>\n",
       "<span style=\"color: #7fbfbf; text-decoration-color: #7fbfbf\">                    </span>         Please utilize the PipelineDefinitionConfig to persist this field in  <span style=\"color: #7f7f7f; text-decoration-color: #7f7f7f\">                </span>\n",
       "<span style=\"color: #7fbfbf; text-decoration-color: #7fbfbf\">                    </span>         the pipeline definition if desired.                                   <span style=\"color: #7f7f7f; text-decoration-color: #7f7f7f\">                </span>\n",
       "</pre>\n"
      ],
      "text/plain": [
       "\u001b[2;36m[06/16/25 15:25:33]\u001b[0m\u001b[2;36m \u001b[0m\u001b[1;38;2;215;175;0mWARNING \u001b[0m Popping out \u001b[38;2;0;135;0m'ProcessingJobName'\u001b[0m from the pipeline definition by       \u001b]8;id=484280;file:///opt/conda/lib/python3.12/site-packages/sagemaker/workflow/utilities.py\u001b\\\u001b[2mutilities.py\u001b[0m\u001b]8;;\u001b\\\u001b[2m:\u001b[0m\u001b]8;id=877710;file:///opt/conda/lib/python3.12/site-packages/sagemaker/workflow/utilities.py#465\u001b\\\u001b[2m465\u001b[0m\u001b]8;;\u001b\\\n",
       "\u001b[2;36m                    \u001b[0m         default since it will be overridden at pipeline execution time.       \u001b[2m                \u001b[0m\n",
       "\u001b[2;36m                    \u001b[0m         Please utilize the PipelineDefinitionConfig to persist this field in  \u001b[2m                \u001b[0m\n",
       "\u001b[2;36m                    \u001b[0m         the pipeline definition if desired.                                   \u001b[2m                \u001b[0m\n"
      ]
     },
     "metadata": {},
     "output_type": "display_data"
    },
    {
     "data": {
      "text/html": [
       "<pre style=\"white-space:pre;overflow-x:auto;line-height:normal;font-family:Menlo,'DejaVu Sans Mono',consolas,'Courier New',monospace\"><span style=\"color: #7fbfbf; text-decoration-color: #7fbfbf\">[06/16/25 15:25:34] </span><span style=\"color: #d7af00; text-decoration-color: #d7af00; font-weight: bold\">WARNING </span> Popping out <span style=\"color: #008700; text-decoration-color: #008700\">'ProcessingJobName'</span> from the pipeline definition by       <a href=\"file:///opt/conda/lib/python3.12/site-packages/sagemaker/workflow/utilities.py\" target=\"_blank\"><span style=\"color: #7f7f7f; text-decoration-color: #7f7f7f\">utilities.py</span></a><span style=\"color: #7f7f7f; text-decoration-color: #7f7f7f\">:</span><a href=\"file:///opt/conda/lib/python3.12/site-packages/sagemaker/workflow/utilities.py#465\" target=\"_blank\"><span style=\"color: #7f7f7f; text-decoration-color: #7f7f7f\">465</span></a>\n",
       "<span style=\"color: #7fbfbf; text-decoration-color: #7fbfbf\">                    </span>         default since it will be overridden at pipeline execution time.       <span style=\"color: #7f7f7f; text-decoration-color: #7f7f7f\">                </span>\n",
       "<span style=\"color: #7fbfbf; text-decoration-color: #7fbfbf\">                    </span>         Please utilize the PipelineDefinitionConfig to persist this field in  <span style=\"color: #7f7f7f; text-decoration-color: #7f7f7f\">                </span>\n",
       "<span style=\"color: #7fbfbf; text-decoration-color: #7fbfbf\">                    </span>         the pipeline definition if desired.                                   <span style=\"color: #7f7f7f; text-decoration-color: #7f7f7f\">                </span>\n",
       "</pre>\n"
      ],
      "text/plain": [
       "\u001b[2;36m[06/16/25 15:25:34]\u001b[0m\u001b[2;36m \u001b[0m\u001b[1;38;2;215;175;0mWARNING \u001b[0m Popping out \u001b[38;2;0;135;0m'ProcessingJobName'\u001b[0m from the pipeline definition by       \u001b]8;id=602725;file:///opt/conda/lib/python3.12/site-packages/sagemaker/workflow/utilities.py\u001b\\\u001b[2mutilities.py\u001b[0m\u001b]8;;\u001b\\\u001b[2m:\u001b[0m\u001b]8;id=365433;file:///opt/conda/lib/python3.12/site-packages/sagemaker/workflow/utilities.py#465\u001b\\\u001b[2m465\u001b[0m\u001b]8;;\u001b\\\n",
       "\u001b[2;36m                    \u001b[0m         default since it will be overridden at pipeline execution time.       \u001b[2m                \u001b[0m\n",
       "\u001b[2;36m                    \u001b[0m         Please utilize the PipelineDefinitionConfig to persist this field in  \u001b[2m                \u001b[0m\n",
       "\u001b[2;36m                    \u001b[0m         the pipeline definition if desired.                                   \u001b[2m                \u001b[0m\n"
      ]
     },
     "metadata": {},
     "output_type": "display_data"
    },
    {
     "name": "stdout",
     "output_type": "stream",
     "text": [
      "{'Version': '2020-12-01', 'Metadata': {}, 'Parameters': [{'Name': 'DataProcessingInstance', 'Type': 'String', 'DefaultValue': 'ml.m5.xlarge'}, {'Name': 's3DataDirURI', 'Type': 'String', 'DefaultValue': 's3://sagemaker-us-east-1-205930620783/FraudDetection_AutoInsurance/data'}, {'Name': 'TrainingInstance', 'Type': 'String', 'DefaultValue': 'ml.t2.medium'}, {'Name': 'ModelApprovalStatus', 'Type': 'String', 'DefaultValue': 'PendingManualApproval'}], 'PipelineExperimentConfig': {'ExperimentName': {'Get': 'Execution.PipelineName'}, 'TrialName': {'Get': 'Execution.PipelineExecutionId'}}, 'Steps': [{'Name': 'ProcessData', 'Type': 'Processing', 'Arguments': {'ProcessingResources': {'ClusterConfig': {'InstanceType': {'Get': 'Parameters.DataProcessingInstance'}, 'InstanceCount': 1, 'VolumeSizeInGB': 30}}, 'AppSpecification': {'ImageUri': '683313688378.dkr.ecr.us-east-1.amazonaws.com/sagemaker-scikit-learn:0.23-1-cpu-py3', 'ContainerEntrypoint': ['python3', '/opt/ml/processing/input/code/data_processing_script.py']}, 'RoleArn': 'arn:aws:iam::205930620783:role/service-role/AmazonSageMaker-ExecutionRole-20250401T145997', 'ProcessingInputs': [{'InputName': 'input-1', 'AppManaged': False, 'S3Input': {'S3Uri': {'Get': 'Parameters.s3DataDirURI'}, 'LocalPath': '/opt/ml/processing/input/', 'S3DataType': 'S3Prefix', 'S3InputMode': 'File', 'S3DataDistributionType': 'FullyReplicated', 'S3CompressionType': 'None'}}, {'InputName': 'code', 'AppManaged': False, 'S3Input': {'S3Uri': 's3://sagemaker-us-east-1-205930620783/ProcessData-3a747ad673152b2ebe1da8359f5a326d28e9b56ba6a39c3ad2c667855e94b50f/input/code/data_processing_script.py', 'LocalPath': '/opt/ml/processing/input/code', 'S3DataType': 'S3Prefix', 'S3InputMode': 'File', 'S3DataDistributionType': 'FullyReplicated', 'S3CompressionType': 'None'}}], 'ProcessingOutputConfig': {'Outputs': [{'OutputName': 'output-1', 'AppManaged': False, 'S3Output': {'S3Uri': {'Get': 'Parameters.s3DataDirURI'}, 'LocalPath': '/opt/ml/processing/output/', 'S3UploadMode': 'EndOfJob'}}]}}}]}\n"
     ]
    }
   ],
   "source": [
    "# Composing and creating the pipeline\n",
    "from sagemaker.workflow.pipeline import Pipeline\n",
    "\n",
    "pipeline_name = f\"FraudDetection-AutoInsurance\"\n",
    "\n",
    "pipeline= Pipeline(\n",
    "    name=pipeline_name,\n",
    "    parameters=[p_processing_instance_type, p_s3_data_dir_uri, p_train_instance_type, p_model_appoval_status],\n",
    "    steps=[\n",
    "        dataset_step_01\n",
    "    ]\n",
    ")\n",
    "\n",
    "pipeline.upsert(role_arn=ROLE)\n",
    "import json\n",
    "print(json.loads(pipeline.describe()[\"PipelineDefinition\"]))"
   ]
  },
  {
   "cell_type": "code",
   "execution_count": 46,
   "id": "4360cb76-9345-4c82-bcf3-7e89275e2790",
   "metadata": {},
   "outputs": [
    {
     "data": {
      "text/plain": [
       "_PipelineExecution(arn='arn:aws:sagemaker:us-east-1:205930620783:pipeline/FraudDetection-AutoInsurance/execution/jgucu33x8y84', sagemaker_session=<sagemaker.session.Session object at 0x7fdd0bff7470>)"
      ]
     },
     "execution_count": 46,
     "metadata": {},
     "output_type": "execute_result"
    }
   ],
   "source": [
    "# run the pipeline\n",
    "#parameters = {\"s3DataDirURI\": s3_data_dir_uri}\n",
    "pipeline.start()#parameters=parameters) # You can set parameters are the run time and it will override the default ones."
   ]
  }
 ],
 "metadata": {
  "kernelspec": {
   "display_name": "Python 3 (ipykernel)",
   "language": "python",
   "name": "python3"
  },
  "language_info": {
   "codemirror_mode": {
    "name": "ipython",
    "version": 3
   },
   "file_extension": ".py",
   "mimetype": "text/x-python",
   "name": "python",
   "nbconvert_exporter": "python",
   "pygments_lexer": "ipython3",
   "version": "3.12.9"
  }
 },
 "nbformat": 4,
 "nbformat_minor": 5
}
