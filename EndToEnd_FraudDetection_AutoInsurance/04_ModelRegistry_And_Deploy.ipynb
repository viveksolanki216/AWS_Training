{
 "cells": [
  {
   "cell_type": "markdown",
   "id": "6caff5c1-e802-4ff8-b33d-2e1bb201532c",
   "metadata": {},
   "source": [
    "\n",
    "# 1. Deposit Model and Lineage in SageMaker Model Registry\n",
    "# 2. Deploy to an endpoint\n",
    "\n",
    "Once a useful model has been trained and its artifacts properly associated, the next step is to save the model in a registry for future reference and possible deployment.\n",
    "\n",
    "References: \n",
    "- https://docs.aws.amazon.com/sagemaker/latest/dg/model-registry.html\n",
    "- https://sagemaker-examples.readthedocs.io/en/latest/end_to_end/fraud_detection/2-lineage-train-assess-bias-tune-registry-e2e.html\n",
    "\n",
    "#### What Is Model Registry in SageMaker?\n",
    "SageMaker Model Registry is a centralized repository to:\n",
    "\n",
    "- Catalog models for production.\n",
    "- Manage model versions.\n",
    "- Associate metadata, such as training metrics, with a model.\n",
    "- View information from Amazon SageMaker Model Cards in your registered models.\n",
    "- View model lineage for traceability and reproducibility.\n",
    "- Define a staging construct that models can progress through for your model lifecycle.\n",
    "- Manage the approval status of a model.\n",
    "- Deploy models to production.\n",
    "- Automate model deployment with CI/CD.\n",
    "\n",
    "Share models with other users.\n",
    "#### But When Should You Register a Model?\n",
    "\n",
    "📌 1. Versioning\n",
    "\n",
    "- Model Registry keeps track of multiple versions.\n",
    "- You can roll back to a previous version easily.\n",
    "- Each version stores metadata like creation time, metrics, and approval status.\n",
    "\n",
    "📌 2. Approval Workflow\n",
    "- You can set a model’s status as: PendingManualApproval (Default), Approved, Rejected.\n",
    "- Good for human review, audit, or CI/CD pipelines.\n",
    "- Prevents accidental deployment of unverified models.\n",
    "\n",
    "📌 3. Audit & Traceability\n",
    "- Logs who registered the model, which training job it came from, and what data was used.\n",
    "- Helps in regulated environments like finance, healthcare, or defense.\n",
    "\n",
    "📌 4. Production-readiness\n",
    "- Enables stage promotion (e.g., dev → staging → production).\n",
    "- Integrates with SageMaker Pipelines for full MLOps automation.\n",
    "\n",
    "📌 5. Team collaboration\n",
    "- Shared model group across teams lets everyone see:\n",
    "- Latest approved model\n",
    "- Metrics, parameters, metadata\n",
    "- History of changes\n",
    "\n",
    "References:\n",
    " - https://sagemaker-examples.readthedocs.io/en/latest/end_to_end/fraud_detection/2-lineage-train-assess-bias-tune-registry-e2e.html"
   ]
  },
  {
   "cell_type": "code",
   "execution_count": 1,
   "id": "15392b76-691d-4190-a83a-614c44fffabc",
   "metadata": {},
   "outputs": [
    {
     "name": "stderr",
     "output_type": "stream",
     "text": [
      "/opt/conda/lib/python3.12/site-packages/pydantic/_internal/_fields.py:192: UserWarning: Field name \"json\" in \"MonitoringDatasetFormat\" shadows an attribute in parent \"Base\"\n",
      "  warnings.warn(\n"
     ]
    },
    {
     "name": "stdout",
     "output_type": "stream",
     "text": [
      "sagemaker.config INFO - Not applying SDK defaults from location: /etc/xdg/sagemaker/config.yaml\n",
      "sagemaker.config INFO - Not applying SDK defaults from location: /home/sagemaker-user/.config/sagemaker/config.yaml\n"
     ]
    }
   ],
   "source": [
    "import sagemaker\n",
    "import boto3"
   ]
  },
  {
   "cell_type": "code",
   "execution_count": 2,
   "id": "674b5980-f669-47e1-9382-c442d5e1e8da",
   "metadata": {},
   "outputs": [
    {
     "name": "stdout",
     "output_type": "stream",
     "text": [
      "us-east-1\n",
      "sagemaker-us-east-1-205930620783\n",
      "arn:aws:iam::205930620783:role/service-role/AmazonSageMaker-ExecutionRole-20250401T145997\n"
     ]
    }
   ],
   "source": [
    "REGION = sagemaker.Session().boto_region_name\n",
    "boto_session = boto3.Session(region_name=REGION)\n",
    "s3_client = boto_session.client('s3')\n",
    "sagemaker_client = boto3.client('sagemaker', region_name=REGION)\n",
    "\n",
    "sagemaker_session = sagemaker.session.Session(boto_session=boto_session, sagemaker_client=sagemaker_client)\n",
    "\n",
    "BUCKET = sagemaker_session.default_bucket()\n",
    "ROLE = sagemaker.get_execution_role()\n",
    "PREFIX = \"FraudDetection_AutoInsurance\"\n",
    "print(REGION)\n",
    "print(BUCKET)\n",
    "print(ROLE)"
   ]
  },
  {
   "cell_type": "markdown",
   "id": "8024a983-6d77-4f05-be1f-fec728548561",
   "metadata": {},
   "source": [
    "### If no model is found with the name, then create it from the training job\n"
   ]
  },
  {
   "cell_type": "code",
   "execution_count": 5,
   "id": "0cddb4da-aa0a-4d7f-82f5-dab8ad89b7cb",
   "metadata": {},
   "outputs": [
    {
     "name": "stdout",
     "output_type": "stream",
     "text": [
      "sagemaker-xgboost-2025-06-11-13-18-27-251\n",
      "683313688378.dkr.ecr.us-east-1.amazonaws.com/sagemaker-xgboost:1.0-1-cpu-py3\n",
      "[{'ModelName': 'sagemaker-xgboost-v3', 'ModelArn': 'arn:aws:sagemaker:us-east-1:205930620783:model/sagemaker-xgboost-v3', 'CreationTime': datetime.datetime(2025, 6, 11, 14, 2, 6, 361000, tzinfo=tzlocal())}]\n"
     ]
    }
   ],
   "source": [
    "model_name = \"sagemaker-xgboost-v3\"\n",
    "training_job_name = 'sagemaker-xgboost-2025-06-11-13-18-27-251'\n",
    "\n",
    "training_job_info = sagemaker_client.describe_training_job(TrainingJobName=training_job_name)\n",
    "print(training_job_info['TrainingJobName'])\n",
    "print(training_job_info[\"AlgorithmSpecification\"][\"TrainingImage\"])\n",
    "training_job_info[\"ModelArtifacts\"][\"S3ModelArtifacts\"]    \n",
    "\n",
    "models = sagemaker_client.list_models(NameContains=model_name)['Models']\n",
    "print(models)\n",
    "if not models:\n",
    "    # If no model is found with the name, then create it from the training job\n",
    "    \n",
    "    model1 = sagemaker_session.create_model_from_job(\n",
    "        name=model_name, \n",
    "        training_job_name=training_job_name, \n",
    "        role=ROLE, \n",
    "        image_uri=training_job_info[\"AlgorithmSpecification\"][\"TrainingImage\"]\n",
    "    )\n",
    "    print(\"Creating Model\")"
   ]
  },
  {
   "cell_type": "markdown",
   "id": "fd61cd4e-fd1a-480a-9156-280e83c8b5c9",
   "metadata": {},
   "source": [
    "## Now Registered the model in the Model Registry"
   ]
  },
  {
   "cell_type": "markdown",
   "id": "1ced65e0-6549-4cf7-b1a2-b31bf809fb9e",
   "metadata": {},
   "source": [
    "### Create Model Package Group\n",
    "A Model Package Groups holds multiple versions or iterations of a model. Though it is not required to create them for every model in the registry, they help organize various models which all have the same purpose and provide automatic versioning.\n",
    "\n",
    "The following code will create a model package group i.e. \"SageMaker Studio > Models > Registered Models > FraudDetection AutoInsurance\"\n"
   ]
  },
  {
   "cell_type": "code",
   "execution_count": 6,
   "id": "0e84ebc2-25b9-4d91-bc87-9bf68a1ec724",
   "metadata": {},
   "outputs": [
    {
     "name": "stdout",
     "output_type": "stream",
     "text": [
      "Using existing Model Package Group: FraudDetection-AutoInsurance\n"
     ]
    }
   ],
   "source": [
    "model_package_group_name = PREFIX.replace('_','-')\n",
    "#sagemaker_client.list_model_package_groups(NameContains=model_package_group_name)\n",
    "matching_group = sagemaker_client.list_model_package_groups(NameContains=model_package_group_name)['ModelPackageGroupSummaryList']\n",
    "if matching_group:\n",
    "    print(f'Using existing Model Package Group: {model_package_group_name}')\n",
    "else:\n",
    "    mpg_input_dict = {'ModelPackageGroupName': model_package_group_name, 'ModelPackageGroupDescription': 'Auto Insurance E2E'}\n",
    "    mpg_response = sagemaker_client.create_model_package_group(**mpg_input_dict)\n",
    "    print(f'Create Model Package Group {model_package_group_name}: SUCCESSFUL')"
   ]
  },
  {
   "cell_type": "markdown",
   "id": "792a6479-2a2e-4e57-814e-5b5bfd12dae0",
   "metadata": {},
   "source": [
    "### Create Model Package"
   ]
  },
  {
   "cell_type": "markdown",
   "id": "a127e5cc-114d-4470-b270-bef136418526",
   "metadata": {},
   "source": [
    "#### Define the model inference specification\n",
    "- Containers: i.e. container image, s3 location of model output i.e. model.tar.gz\n",
    "- Request Type: What format the endpoint will accept the input for inference\n",
    "- Response Type: Response format.\n",
    "\n",
    "**Point to note:** This settings serve a declarative/documentation role, not an enforcement one at runtime for SageMaker’s Predictor client. So you need to define serializers and deserializers at the time of predictions"
   ]
  },
  {
   "cell_type": "code",
   "execution_count": 7,
   "id": "a884f8b0-6b11-4acf-99f5-792ba63a1934",
   "metadata": {},
   "outputs": [
    {
     "name": "stdout",
     "output_type": "stream",
     "text": [
      "{'InferenceSpecification': {'Containers': [{'Image': '683313688378.dkr.ecr.us-east-1.amazonaws.com/sagemaker-xgboost:1.0-1-cpu-py3', 'ModelDataUrl': 's3://sagemaker-us-east-1-205930620783/FraudDetection_AutoInsurance/training_jobs/sagemaker-xgboost-2025-06-11-13-18-27-251/output/model.tar.gz'}], 'SupportedContentTypes': ['text/csv'], 'SupportedResponseMIMETypes': ['text/csv']}}\n"
     ]
    }
   ],
   "source": [
    "model_package_inference_specification = {\n",
    "    \"InferenceSpecification\": {\n",
    "        \"Containers\": [{\n",
    "        \"Image\": training_job_info[\"AlgorithmSpecification\"][\"TrainingImage\"],\n",
    "        \"ModelDataUrl\": training_job_info[\"ModelArtifacts\"][\"S3ModelArtifacts\"]\n",
    "        }],\n",
    "        \"SupportedContentTypes\": [\"text/csv\"],\n",
    "        \"SupportedResponseMIMETypes\": [\"text/csv\"],\n",
    "    }\n",
    "}\n",
    "print(model_package_inference_specification)"
   ]
  },
  {
   "cell_type": "code",
   "execution_count": 8,
   "id": "f13c2905-bd88-4328-b5d1-33a545a70e0e",
   "metadata": {},
   "outputs": [
    {
     "name": "stdout",
     "output_type": "stream",
     "text": [
      "ModelPackage Version ARN : arn:aws:sagemaker:us-east-1:205930620783:model-package/FraudDetection-AutoInsurance/2\n"
     ]
    }
   ],
   "source": [
    "\n",
    "create_model_package_input_dict = {\n",
    "    \"ModelPackageGroupName\": model_package_group_name,\n",
    "    \"ModelPackageDescription\": \"Model to detect fraud in auto-insurance\",\n",
    "    \"ModelApprovalStatus\": \"PendingManualApproval\" # Defaul value\n",
    "}\n",
    "create_model_package_input_dict.update(model_package_inference_specification)\n",
    "\n",
    "create_model_package_response = sagemaker_client.create_model_package(**create_model_package_input_dict)\n",
    "model_package_arn = create_model_package_response[\"ModelPackageArn\"]\n",
    "print('ModelPackage Version ARN : {}'.format(model_package_arn))"
   ]
  },
  {
   "cell_type": "markdown",
   "id": "f00613ac-520a-4be5-8820-2cfdfd5e1350",
   "metadata": {},
   "source": [
    "#### List and Describe Model Packages"
   ]
  },
  {
   "cell_type": "code",
   "execution_count": 9,
   "id": "67537d78-3f13-4282-9b7f-a33e55c0c3ca",
   "metadata": {},
   "outputs": [
    {
     "name": "stdout",
     "output_type": "stream",
     "text": [
      "{'ModelPackageGroupSummaryList': [{'ModelPackageGroupName': 'FraudDetection-AutoInsurance', 'ModelPackageGroupArn': 'arn:aws:sagemaker:us-east-1:205930620783:model-package-group/FraudDetection-AutoInsurance', 'ModelPackageGroupDescription': 'Auto Insurance E2E', 'CreationTime': datetime.datetime(2025, 6, 12, 7, 8, 0, 174000, tzinfo=tzlocal()), 'ModelPackageGroupStatus': 'Completed'}], 'ResponseMetadata': {'RequestId': '539ddc35-b5c0-4c69-9d00-6e28f23c452f', 'HTTPStatusCode': 200, 'HTTPHeaders': {'x-amzn-requestid': '539ddc35-b5c0-4c69-9d00-6e28f23c452f', 'content-type': 'application/x-amz-json-1.1', 'content-length': '328', 'date': 'Sat, 14 Jun 2025 07:06:29 GMT'}, 'RetryAttempts': 0}}\n",
      "\n",
      "{'ModelPackageSummaryList': [{'ModelPackageGroupName': 'FraudDetection-AutoInsurance', 'ModelPackageVersion': 2, 'ModelPackageArn': 'arn:aws:sagemaker:us-east-1:205930620783:model-package/FraudDetection-AutoInsurance/2', 'ModelPackageDescription': 'Model to detect fraud in auto-insurance', 'CreationTime': datetime.datetime(2025, 6, 14, 7, 6, 12, 125000, tzinfo=tzlocal()), 'ModelPackageStatus': 'Completed', 'ModelApprovalStatus': 'PendingManualApproval'}, {'ModelPackageGroupName': 'FraudDetection-AutoInsurance', 'ModelPackageVersion': 1, 'ModelPackageArn': 'arn:aws:sagemaker:us-east-1:205930620783:model-package/FraudDetection-AutoInsurance/1', 'ModelPackageDescription': 'Model to detect fraud in auto-insurance', 'CreationTime': datetime.datetime(2025, 6, 13, 3, 37, 16, 814000, tzinfo=tzlocal()), 'ModelPackageStatus': 'Completed', 'ModelApprovalStatus': 'Approved'}], 'ResponseMetadata': {'RequestId': '668225d3-ddd5-41a4-877d-344476ec6648', 'HTTPStatusCode': 200, 'HTTPHeaders': {'x-amzn-requestid': '668225d3-ddd5-41a4-877d-344476ec6648', 'content-type': 'application/x-amz-json-1.1', 'content-length': '748', 'date': 'Sat, 14 Jun 2025 07:06:29 GMT'}, 'RetryAttempts': 0}}\n",
      "\n",
      "{'ModelPackageGroupName': 'FraudDetection-AutoInsurance', 'ModelPackageVersion': 1, 'ModelPackageArn': 'arn:aws:sagemaker:us-east-1:205930620783:model-package/FraudDetection-AutoInsurance/1', 'ModelPackageDescription': 'Model to detect fraud in auto-insurance', 'CreationTime': datetime.datetime(2025, 6, 13, 3, 37, 16, 814000, tzinfo=tzlocal()), 'InferenceSpecification': {'Containers': [{'Image': '683313688378.dkr.ecr.us-east-1.amazonaws.com/sagemaker-xgboost:1.0-1-cpu-py3', 'ImageDigest': 'sha256:da43a3b51e4fddd7743132d10eb2578d42c33f1a4d256bb4eaad349d4515b9b7', 'ModelDataUrl': 's3://sagemaker-us-east-1-205930620783/FraudDetection_AutoInsurance/training_jobs/sagemaker-xgboost-2025-06-11-13-18-27-251/output/model.tar.gz', 'ModelDataETag': 'e0e9268df5564c296d1dfb20501b18a2'}], 'SupportedContentTypes': ['text/csv'], 'SupportedResponseMIMETypes': ['text/csv']}, 'ModelPackageStatus': 'Completed', 'ModelPackageStatusDetails': {'ValidationStatuses': [], 'ImageScanStatuses': []}, 'CertifyForMarketplace': False, 'ModelApprovalStatus': 'Approved', 'CreatedBy': {'UserProfileArn': 'arn:aws:sagemaker:us-east-1:205930620783:user-profile/d-cgsnsysn4who/user-profile-vivek-usaeast1', 'UserProfileName': 'user-profile-vivek-usaeast1', 'DomainId': 'd-cgsnsysn4who', 'IamIdentity': {'Arn': 'arn:aws:sts::205930620783:assumed-role/AmazonSageMaker-ExecutionRole-20250401T145997/SageMaker', 'PrincipalId': 'AROAS74TL45XTNU6HXL5E:SageMaker'}}, 'LastModifiedTime': datetime.datetime(2025, 6, 13, 5, 23, 18, 464000, tzinfo=tzlocal()), 'LastModifiedBy': {'UserProfileArn': 'arn:aws:sagemaker:us-east-1:205930620783:user-profile/d-cgsnsysn4who/user-profile-vivek-usaeast1', 'UserProfileName': 'user-profile-vivek-usaeast1', 'DomainId': 'd-cgsnsysn4who', 'IamIdentity': {'Arn': 'arn:aws:sts::205930620783:assumed-role/AmazonSageMaker-ExecutionRole-20250401T145997/SageMaker', 'PrincipalId': 'AROAS74TL45XTNU6HXL5E:SageMaker'}}, 'ModelCard': {'ModelCardContent': '{\"training_details\":{\"training_job_details\":{\"training_metrics\":[{\"name\":\"validation:auc\",\"value\":0.7610939741134644},{\"name\":\"train:auc\",\"value\":0.9921786189079285}],\"training_datasets\":[\"s3://sagemaker-us-east-1-205930620783/FraudDetection_AutoInsurance/data/train.csv\",\"s3://sagemaker-us-east-1-205930620783/FraudDetection_AutoInsurance/data/test.csv\"],\"hyper_parameters\":[{\"name\":\"eta\",\"value\":\"0.3\"},{\"name\":\"max-depth\",\"value\":\"6\"},{\"name\":\"nfold\",\"value\":\"5\"},{\"name\":\"num-boost-round\",\"value\":\"100\"},{\"name\":\"objective\",\"value\":\"\\\\\"binary:logistic\\\\\"\"},{\"name\":\"sagemaker_container_log_level\",\"value\":\"20\"},{\"name\":\"sagemaker_job_name\",\"value\":\"\\\\\"sagemaker-xgboost-2025-06-11-13-18-27-251\\\\\"\"},{\"name\":\"sagemaker_program\",\"value\":\"\\\\\"xgboost_model_script.py\\\\\"\"},{\"name\":\"sagemaker_region\",\"value\":\"\\\\\"us-east-1\\\\\"\"},{\"name\":\"sagemaker_submit_directory\",\"value\":\"\\\\\"s3://sagemaker-us-east-1-205930620783/FraudDetection_AutoInsurance/training_jobs/sagemaker-xgboost-2025-06-11-13-18-27-251/source/sourcedir.tar.gz\\\\\"\"},{\"name\":\"target-var\",\"value\":\"\\\\\"fraud\\\\\"\"}],\"training_environment\":{\"container_image\":[\"683313688378.dkr.ecr.us-east-1.amazonaws.com/sagemaker-xgboost:1.0-1-cpu-py3\"]},\"training_arn\":\"arn:aws:sagemaker:us-east-1:205930620783:training-job/sagemaker-xgboost-2025-06-11-13-18-27-251\"}},\"intended_uses\":{},\"model_overview\":{\"model_artifact\":[\"s3://sagemaker-us-east-1-205930620783/FraudDetection_AutoInsurance/training_jobs/sagemaker-xgboost-2025-06-11-13-18-27-251/output/model.tar.gz\"]},\"additional_information\":{},\"business_details\":{}}', 'ModelCardStatus': 'Draft'}, 'ResponseMetadata': {'RequestId': '61b50ff4-3230-4f71-a3a0-788df3f9a07b', 'HTTPStatusCode': 200, 'HTTPHeaders': {'x-amzn-requestid': '61b50ff4-3230-4f71-a3a0-788df3f9a07b', 'content-type': 'application/x-amz-json-1.1', 'content-length': '3528', 'date': 'Sat, 14 Jun 2025 07:06:29 GMT'}, 'RetryAttempts': 0}}\n",
      "\n"
     ]
    }
   ],
   "source": [
    "print(sagemaker_client.list_model_package_groups())\n",
    "print()\n",
    "print(sagemaker_client.list_model_packages(ModelPackageGroupName='FraudDetection-AutoInsurance'))\n",
    "print()\n",
    "print(sagemaker_client.describe_model_package(ModelPackageName='arn:aws:sagemaker:us-east-1:205930620783:model-package/FraudDetection-AutoInsurance/1'))\n",
    "print()\n",
    "#print(sagemaker_client.describe_model_package(ModelPackageName='arn:aws:sagemaker:us-east-1:205930620783:model-package/FraudDetection-AutoInsurance/1')['ModelPackageName'])\n",
    "\n"
   ]
  },
  {
   "cell_type": "markdown",
   "id": "56568168-3a9b-470d-aa9d-7aadc28d013e",
   "metadata": {},
   "source": [
    "### Model Registry Collections\n",
    "You can use Collections to group registered models that are related to each other and organize them in hierarchies to improve model discoverability at scale. With Collections, you can organize registered models that are associated with one another. For example, you could categorize your models based on the domain of the problem they solve as Collections titled NLP-models, CV-models, or Speech-recognition-models. To organize your registered models in a tree structure, you can nest Collections within each other.\n",
    "\n",
    "**For now we are skipping it**"
   ]
  },
  {
   "cell_type": "markdown",
   "id": "0da7f922-0c18-45e3-b3b7-238497ac5408",
   "metadata": {},
   "source": [
    "## Model Deployment to an endpoint for real-time inference"
   ]
  },
  {
   "cell_type": "code",
   "execution_count": 10,
   "id": "06600609-fe61-48d3-9740-9eba13ff042a",
   "metadata": {},
   "outputs": [
    {
     "data": {
      "text/plain": [
       "{'ModelPackageArn': 'arn:aws:sagemaker:us-east-1:205930620783:model-package/FraudDetection-AutoInsurance/1',\n",
       " 'ResponseMetadata': {'RequestId': 'fe1d04a2-0563-4040-bb78-131d25a8010f',\n",
       "  'HTTPStatusCode': 200,\n",
       "  'HTTPHeaders': {'x-amzn-requestid': 'fe1d04a2-0563-4040-bb78-131d25a8010f',\n",
       "   'content-type': 'application/x-amz-json-1.1',\n",
       "   'content-length': '107',\n",
       "   'date': 'Sat, 14 Jun 2025 07:06:43 GMT'},\n",
       "  'RetryAttempts': 0}}"
      ]
     },
     "execution_count": 10,
     "metadata": {},
     "output_type": "execute_result"
    }
   ],
   "source": [
    "## First Approve the model to deploy\n",
    "update_model_package_dict = {\n",
    "    'ModelPackageArn': 'arn:aws:sagemaker:us-east-1:205930620783:model-package/FraudDetection-AutoInsurance/1',\n",
    "    'ModelApprovalStatus': 'Approved'\n",
    "}\n",
    "sagemaker_client.update_model_package(**update_model_package_dict)"
   ]
  },
  {
   "cell_type": "code",
   "execution_count": 17,
   "id": "8df388b8-efe5-4630-a39c-01fa99df7b53",
   "metadata": {},
   "outputs": [
    {
     "name": "stdout",
     "output_type": "stream",
     "text": [
      "FraudDetection-AutoInsurance-endpoint\n"
     ]
    }
   ],
   "source": [
    "endpoint_name = f\"{model_package_group_name}-endpoint\"\n",
    "print(endpoint_name)\n",
    "endpoint_instance_count = 1\n",
    "endpoint_instance_type = \"ml.t2.medium\"#\"ml.m4.xlarge\"\n"
   ]
  },
  {
   "cell_type": "code",
   "execution_count": 18,
   "id": "4b29ab41-ef22-4ba6-ba5e-7e22d78fec4a",
   "metadata": {},
   "outputs": [
    {
     "data": {
      "text/html": [
       "<pre style=\"white-space:pre;overflow-x:auto;line-height:normal;font-family:Menlo,'DejaVu Sans Mono',consolas,'Courier New',monospace\"><span style=\"color: #7fbfbf; text-decoration-color: #7fbfbf\">[06/14/25 07:12:20] </span><span style=\"color: #0069ff; text-decoration-color: #0069ff; font-weight: bold\">INFO    </span> Creating model with name:                                              <a href=\"file:///opt/conda/lib/python3.12/site-packages/sagemaker/session.py\" target=\"_blank\"><span style=\"color: #7f7f7f; text-decoration-color: #7f7f7f\">session.py</span></a><span style=\"color: #7f7f7f; text-decoration-color: #7f7f7f\">:</span><a href=\"file:///opt/conda/lib/python3.12/site-packages/sagemaker/session.py#4094\" target=\"_blank\"><span style=\"color: #7f7f7f; text-decoration-color: #7f7f7f\">4094</span></a>\n",
       "<span style=\"color: #7fbfbf; text-decoration-color: #7fbfbf\">                    </span>         FraudDetection-AutoInsurance-<span style=\"color: #008080; text-decoration-color: #008080; font-weight: bold\">2025</span>-06-14-07-12-20-391                   <span style=\"color: #7f7f7f; text-decoration-color: #7f7f7f\">               </span>\n",
       "</pre>\n"
      ],
      "text/plain": [
       "\u001b[2;36m[06/14/25 07:12:20]\u001b[0m\u001b[2;36m \u001b[0m\u001b[1;38;2;0;105;255mINFO    \u001b[0m Creating model with name:                                              \u001b]8;id=395117;file:///opt/conda/lib/python3.12/site-packages/sagemaker/session.py\u001b\\\u001b[2msession.py\u001b[0m\u001b]8;;\u001b\\\u001b[2m:\u001b[0m\u001b]8;id=316181;file:///opt/conda/lib/python3.12/site-packages/sagemaker/session.py#4094\u001b\\\u001b[2m4094\u001b[0m\u001b]8;;\u001b\\\n",
       "\u001b[2;36m                    \u001b[0m         FraudDetection-AutoInsurance-\u001b[1;36m2025\u001b[0m-06-14-07-12-20-391                   \u001b[2m               \u001b[0m\n"
      ]
     },
     "metadata": {},
     "output_type": "display_data"
    },
    {
     "data": {
      "text/html": [
       "<pre style=\"white-space:pre;overflow-x:auto;line-height:normal;font-family:Menlo,'DejaVu Sans Mono',consolas,'Courier New',monospace\"><span style=\"color: #7fbfbf; text-decoration-color: #7fbfbf\">[06/14/25 07:12:21] </span><span style=\"color: #0069ff; text-decoration-color: #0069ff; font-weight: bold\">INFO    </span> Creating endpoint-config with name                                     <a href=\"file:///opt/conda/lib/python3.12/site-packages/sagemaker/session.py\" target=\"_blank\"><span style=\"color: #7f7f7f; text-decoration-color: #7f7f7f\">session.py</span></a><span style=\"color: #7f7f7f; text-decoration-color: #7f7f7f\">:</span><a href=\"file:///opt/conda/lib/python3.12/site-packages/sagemaker/session.py#5937\" target=\"_blank\"><span style=\"color: #7f7f7f; text-decoration-color: #7f7f7f\">5937</span></a>\n",
       "<span style=\"color: #7fbfbf; text-decoration-color: #7fbfbf\">                    </span>         FraudDetection-AutoInsurance-endpoint                                  <span style=\"color: #7f7f7f; text-decoration-color: #7f7f7f\">               </span>\n",
       "</pre>\n"
      ],
      "text/plain": [
       "\u001b[2;36m[06/14/25 07:12:21]\u001b[0m\u001b[2;36m \u001b[0m\u001b[1;38;2;0;105;255mINFO    \u001b[0m Creating endpoint-config with name                                     \u001b]8;id=201311;file:///opt/conda/lib/python3.12/site-packages/sagemaker/session.py\u001b\\\u001b[2msession.py\u001b[0m\u001b]8;;\u001b\\\u001b[2m:\u001b[0m\u001b]8;id=657529;file:///opt/conda/lib/python3.12/site-packages/sagemaker/session.py#5937\u001b\\\u001b[2m5937\u001b[0m\u001b]8;;\u001b\\\n",
       "\u001b[2;36m                    \u001b[0m         FraudDetection-AutoInsurance-endpoint                                  \u001b[2m               \u001b[0m\n"
      ]
     },
     "metadata": {},
     "output_type": "display_data"
    },
    {
     "data": {
      "text/html": [
       "<pre style=\"white-space:pre;overflow-x:auto;line-height:normal;font-family:Menlo,'DejaVu Sans Mono',consolas,'Courier New',monospace\"><span style=\"color: #7fbfbf; text-decoration-color: #7fbfbf\">                    </span><span style=\"color: #0069ff; text-decoration-color: #0069ff; font-weight: bold\">INFO    </span> Creating endpoint with name FraudDetection-AutoInsurance-endpoint      <a href=\"file:///opt/conda/lib/python3.12/site-packages/sagemaker/session.py\" target=\"_blank\"><span style=\"color: #7f7f7f; text-decoration-color: #7f7f7f\">session.py</span></a><span style=\"color: #7f7f7f; text-decoration-color: #7f7f7f\">:</span><a href=\"file:///opt/conda/lib/python3.12/site-packages/sagemaker/session.py#4759\" target=\"_blank\"><span style=\"color: #7f7f7f; text-decoration-color: #7f7f7f\">4759</span></a>\n",
       "</pre>\n"
      ],
      "text/plain": [
       "\u001b[2;36m                   \u001b[0m\u001b[2;36m \u001b[0m\u001b[1;38;2;0;105;255mINFO    \u001b[0m Creating endpoint with name FraudDetection-AutoInsurance-endpoint      \u001b]8;id=382555;file:///opt/conda/lib/python3.12/site-packages/sagemaker/session.py\u001b\\\u001b[2msession.py\u001b[0m\u001b]8;;\u001b\\\u001b[2m:\u001b[0m\u001b]8;id=251541;file:///opt/conda/lib/python3.12/site-packages/sagemaker/session.py#4759\u001b\\\u001b[2m4759\u001b[0m\u001b]8;;\u001b\\\n"
      ]
     },
     "metadata": {},
     "output_type": "display_data"
    },
    {
     "name": "stdout",
     "output_type": "stream",
     "text": [
      "-----------!"
     ]
    }
   ],
   "source": [
    "from sagemaker import ModelPackage\n",
    "\n",
    "model_package = ModelPackage(\n",
    "    role=ROLE, \n",
    "    model_package_arn='arn:aws:sagemaker:us-east-1:205930620783:model-package/FraudDetection-AutoInsurance/1',\n",
    "    sagemaker_session=sagemaker_session\n",
    ")\n",
    "\n",
    "predictor = model_package.deploy(\n",
    "    endpoint_name=endpoint_name,\n",
    "    instance_type=endpoint_instance_type,\n",
    "    initial_instance_count=1\n",
    ")"
   ]
  },
  {
   "cell_type": "code",
   "execution_count": 20,
   "id": "bcc41a4d-db8e-4cad-bd65-79a688d6125a",
   "metadata": {},
   "outputs": [
    {
     "name": "stdout",
     "output_type": "stream",
     "text": [
      "Help on method deploy in module sagemaker.model:\n",
      "\n",
      "deploy(initial_instance_count=None, instance_type=None, serializer=None, deserializer=None, accelerator_type=None, endpoint_name=None, tags=None, kms_key=None, wait=True, data_capture_config=None, async_inference_config=None, serverless_inference_config=None, volume_size=None, model_data_download_timeout=None, container_startup_health_check_timeout=None, inference_recommendation_id=None, explainer_config=None, accept_eula: Optional[bool] = None, endpoint_logging=False, resources: Optional[sagemaker.compute_resource_requirements.resource_requirements.ResourceRequirements] = None, endpoint_type: sagemaker.enums.EndpointType = <EndpointType.MODEL_BASED: 'ModelBased'>, managed_instance_scaling: Optional[str] = None, inference_component_name=None, routing_config: Optional[Dict[str, Any]] = None, model_reference_arn: Optional[str] = None, inference_ami_version: Optional[str] = None, **kwargs) method of sagemaker.model.ModelPackage instance\n",
      "    Deploy this ``Model`` to an ``Endpoint`` and optionally return a ``Predictor``.\n",
      "\n",
      "    Create a SageMaker ``Model`` and ``EndpointConfig``, and deploy an\n",
      "    ``Endpoint`` from this ``Model``. If ``self.predictor_cls`` is not None,\n",
      "    this method returns a the result of invoking ``self.predictor_cls`` on\n",
      "    the created endpoint name.\n",
      "\n",
      "    The name of the created model is accessible in the ``name`` field of\n",
      "    this ``Model`` after deploy returns\n",
      "\n",
      "    The name of the created endpoint is accessible in the\n",
      "    ``endpoint_name`` field of this ``Model`` after deploy returns.\n",
      "\n",
      "    Args:\n",
      "        initial_instance_count (int): The initial number of instances to run\n",
      "            in the ``Endpoint`` created from this ``Model``. If not using\n",
      "            serverless inference or the model has not called ``right_size()``,\n",
      "            then it need to be a number larger or equals\n",
      "            to 1 (default: None).\n",
      "        instance_type (str): The EC2 instance type to deploy this Model to.\n",
      "            For example, 'ml.p2.xlarge', or 'local' for local mode. If not using\n",
      "            serverless inference or the model has not called ``right_size()``,\n",
      "            then it is required to deploy a model.\n",
      "            (default: None).\n",
      "        serializer (:class:`~sagemaker.serializers.BaseSerializer`): A\n",
      "            serializer object, used to encode data for an inference endpoint\n",
      "            (default: None). If ``serializer`` is not None, then\n",
      "            ``serializer`` will override the default serializer. The\n",
      "            default serializer is set by the ``predictor_cls``.\n",
      "        deserializer (:class:`~sagemaker.deserializers.BaseDeserializer`): A\n",
      "            deserializer object, used to decode data from an inference\n",
      "            endpoint (default: None). If ``deserializer`` is not None, then\n",
      "            ``deserializer`` will override the default deserializer. The\n",
      "            default deserializer is set by the ``predictor_cls``.\n",
      "        accelerator_type (str): Type of Elastic Inference accelerator to\n",
      "            deploy this model for model loading and inference, for example,\n",
      "            'ml.eia1.medium'. If not specified, no Elastic Inference\n",
      "            accelerator will be attached to the endpoint. For more\n",
      "            information:\n",
      "            https://docs.aws.amazon.com/sagemaker/latest/dg/ei.html\n",
      "        endpoint_name (str): The name of the endpoint to create (default:\n",
      "            None). If not specified, a unique endpoint name will be created.\n",
      "        tags (Optional[Tags]): Tags to attach to this\n",
      "            specific endpoint.\n",
      "        kms_key (str): The ARN of the KMS key that is used to encrypt the\n",
      "            data on the storage volume attached to the instance hosting the\n",
      "            endpoint.\n",
      "        wait (bool): Whether the call should wait until the deployment of\n",
      "            this model completes (default: True).\n",
      "        data_capture_config (sagemaker.model_monitor.DataCaptureConfig): Specifies\n",
      "            configuration related to Endpoint data capture for use with\n",
      "            Amazon SageMaker Model Monitoring. (Default: None).\n",
      "        async_inference_config (sagemaker.model_monitor.AsyncInferenceConfig): Specifies\n",
      "            configuration related to async endpoint. Use this configuration when trying\n",
      "            to create async endpoint and make async inference. If empty config object\n",
      "            passed through, will use default config to deploy async endpoint. Deploy a\n",
      "            real-time endpoint if it's None. (default: None).\n",
      "        serverless_inference_config (sagemaker.serverless.ServerlessInferenceConfig):\n",
      "            Specifies configuration related to serverless endpoint. Use this configuration\n",
      "            when trying to create serverless endpoint and make serverless inference. If\n",
      "            empty object passed through, will use pre-defined values in\n",
      "            ``ServerlessInferenceConfig`` class to deploy serverless endpoint. Deploy an\n",
      "            instance based endpoint if it's None. (default: None).\n",
      "        volume_size (int): The size, in GB, of the ML storage volume attached to individual\n",
      "            inference instance associated with the production variant. Currenly only Amazon EBS\n",
      "            gp2 storage volumes are supported.\n",
      "        model_data_download_timeout (int): The timeout value, in seconds, to download and\n",
      "            extract model data from Amazon S3 to the individual inference instance associated\n",
      "            with this production variant.\n",
      "        container_startup_health_check_timeout (int): The timeout value, in seconds, for your\n",
      "            inference container to pass health check by SageMaker Hosting. For more information\n",
      "            about health check see:\n",
      "            https://docs.aws.amazon.com/sagemaker/latest/dg/your-algorithms-inference-code.html#your-algorithms-inference-algo-ping-requests\n",
      "        inference_recommendation_id (str): The recommendation id which specifies the\n",
      "            recommendation you picked from inference recommendation job results and\n",
      "            would like to deploy the model and endpoint with recommended parameters.\n",
      "            This can also be a recommendation id returned from ``DescribeModel`` contained in\n",
      "            a list of ``RealtimeInferenceRecommendations`` within ``DeploymentRecommendation``\n",
      "        explainer_config (sagemaker.explainer.ExplainerConfig): Specifies online explainability\n",
      "            configuration for use with Amazon SageMaker Clarify. Default: None.\n",
      "        accept_eula (bool): For models that require a Model Access Config, specify True or\n",
      "            False to indicate whether model terms of use have been accepted.\n",
      "            The `accept_eula` value must be explicitly defined as `True` in order to\n",
      "            accept the end-user license agreement (EULA) that some\n",
      "            models require. (Default: None).\n",
      "        endpoint_logging (Optiona[bool]): If set to true, live logging will be emitted as\n",
      "            the SageMaker Endpoint starts up. (Default: False).\n",
      "        resources (Optional[ResourceRequirements]): The compute resource requirements\n",
      "            for a model to be deployed to an endpoint. Only\n",
      "            EndpointType.INFERENCE_COMPONENT_BASED supports this feature. (Default: None).\n",
      "        managed_instance_scaling (Optional[Dict]): Managed instance scaling options,\n",
      "            if configured Amazon SageMaker will manage the instance number behind the\n",
      "            Endpoint. (Default: None).\n",
      "        endpoint_type (Optional[EndpointType]): The type of an endpoint used to deploy models.\n",
      "            (Default: EndpointType.MODEL_BASED).\n",
      "        routing_config (Optional[Dict[str, Any]): Settings the control how the endpoint routes incoming\n",
      "            traffic to the instances that the endpoint hosts.\n",
      "            Currently, support dictionary key ``RoutingStrategy``.\n",
      "\n",
      "            .. code:: python\n",
      "\n",
      "                {\n",
      "                    \"RoutingStrategy\":  sagemaker.enums.RoutingStrategy.RANDOM\n",
      "                }\n",
      "        model_reference_arn (Optional [str]): Hub Content Arn of a Model Reference type\n",
      "            content (default: None).\n",
      "        inference_ami_version (Optional [str]): Specifies an option from a collection of preconfigured\n",
      "         Amazon Machine Image (AMI) images. For a full list of options, see:\n",
      "         https://docs.aws.amazon.com/sagemaker/latest/APIReference/API_ProductionVariant.html\n",
      "    Raises:\n",
      "         ValueError: If arguments combination check failed in these circumstances:\n",
      "            - If no role is specified or\n",
      "            - If serverless inference config is not specified and instance type and instance\n",
      "                count are also not specified or\n",
      "            - If a wrong type of object is provided as serverless inference config or async\n",
      "                inference config or\n",
      "            - If inference recommendation id is specified along with incompatible parameters\n",
      "    Returns:\n",
      "        Callable[[string, sagemaker.session.Session], Any] or None: Invocation of\n",
      "            ``self.predictor_cls`` on the created endpoint name, if ``self.predictor_cls``\n",
      "            is not None. Otherwise, return None.\n",
      "\n"
     ]
    }
   ],
   "source": [
    "help(model_package.deploy)"
   ]
  }
 ],
 "metadata": {
  "kernelspec": {
   "display_name": "Python 3 (ipykernel)",
   "language": "python",
   "name": "python3"
  },
  "language_info": {
   "codemirror_mode": {
    "name": "ipython",
    "version": 3
   },
   "file_extension": ".py",
   "mimetype": "text/x-python",
   "name": "python",
   "nbconvert_exporter": "python",
   "pygments_lexer": "ipython3",
   "version": "3.12.9"
  }
 },
 "nbformat": 4,
 "nbformat_minor": 5
}
