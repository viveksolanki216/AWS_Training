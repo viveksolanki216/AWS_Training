{
 "cells": [
  {
   "cell_type": "markdown",
   "id": "861a7bb3-5b6e-4d83-a9a3-51721b971956",
   "metadata": {},
   "source": [
    "# Prepare Data in this Step\n",
    " - ## Data Wrangler: To Make transformation and process the data\n",
    " - ## Sagemaker Feature Store: To store the features\n",
    "   \n",
    "1. Use Data Wrangler UI to transform and preprocess the data, create .flow files.\n",
    "2. Use .flow files to create the processed datasets.\n",
    "3. Store the features (processed dataset) in feature store\n",
    "4. FeatureGroup Creation, Ingest batch data and retrive records\n",
    "\n",
    "References:\n",
    " - https://github.com/aws/amazon-sagemaker-examples/blob/4534bff4b5b5062af5789d98c4ddca01b0cb5d1f/end_to_end/fraud_detection/0-AutoClaimFraudDetection.ipynb\n",
    " - https://docs.aws.amazon.com/sagemaker/latest/dg/feature-store-introduction-notebook.html\n",
    " - https://boto3.amazonaws.com/v1/documentation/api/1.20.9/reference/services/sagemaker-featurestore-runtime.html\n",
    "\n"
   ]
  },
  {
   "cell_type": "code",
   "execution_count": 1,
   "id": "4b58e160-70e5-4c58-b489-0433e25bf75b",
   "metadata": {},
   "outputs": [
    {
     "name": "stderr",
     "output_type": "stream",
     "text": [
      "/opt/conda/lib/python3.12/site-packages/pydantic/_internal/_fields.py:192: UserWarning: Field name \"json\" in \"MonitoringDatasetFormat\" shadows an attribute in parent \"Base\"\n",
      "  warnings.warn(\n"
     ]
    },
    {
     "name": "stdout",
     "output_type": "stream",
     "text": [
      "sagemaker.config INFO - Not applying SDK defaults from location: /etc/xdg/sagemaker/config.yaml\n",
      "sagemaker.config INFO - Not applying SDK defaults from location: /home/sagemaker-user/.config/sagemaker/config.yaml\n"
     ]
    }
   ],
   "source": [
    "from sagemaker import get_execution_role\n",
    "from sagemaker.session import Session\n",
    "import sagemaker\n",
    "import boto3\n",
    "import pandas as pd\n",
    "import numpy as np \n",
    "from time import strftime, gmtime\n",
    "import time\n",
    "from sagemaker.feature_store.feature_group import FeatureGroup"
   ]
  },
  {
   "cell_type": "code",
   "execution_count": 2,
   "id": "b506fea7-a57d-4c64-8be7-926e1188c6d6",
   "metadata": {},
   "outputs": [
    {
     "name": "stdout",
     "output_type": "stream",
     "text": [
      "us-east-1\n"
     ]
    }
   ],
   "source": [
    "sagemaker_session = Session()\n",
    "REGION = sagemaker_session.boto_region_name\n",
    "BUCKET = sagemaker_session.default_bucket()\n",
    "PREFIX = \"FraudDetection_AutoInsurance\"\n",
    "\n",
    "s3_client = boto3.client(\"s3\")\n",
    "sagemaker_client = boto3.client(\"sagemaker\")\n",
    "iam_client = boto3.client(\"iam\")\n",
    "print(REGION)"
   ]
  },
  {
   "cell_type": "code",
   "execution_count": 3,
   "id": "788d0e40-c2e3-4ec9-98f2-8676319cdfa8",
   "metadata": {},
   "outputs": [
    {
     "name": "stdout",
     "output_type": "stream",
     "text": [
      "arn:aws:iam::205930620783:role/service-role/AmazonSageMaker-ExecutionRole-20250401T145997\n",
      "205930620783\n"
     ]
    }
   ],
   "source": [
    "\"\"\"\n",
    "Note: if you are not running this notebook from SageMaker Studio or SageMaker Classic Notebooks you will need to instanatiate \n",
    "the sagemaker_execution_role_name with an AWS role that has SageMakerFullAccess and SageMakerFeatureStoreFullAccess\n",
    "\"\"\"\n",
    "try:\n",
    "    ROLE = sagemaker.get_execution_role()\n",
    "    print(ROLE)\n",
    "except:\n",
    "    print(\"Need to set role manually\")\n",
    "    exec_role_name = \"AmazonSageMaker-ExecutionRole-20250401T145997\"\n",
    "    sagemaker_role = iam_client.get_role(RoleName=exec_role_name)[\"Role\"][\"Arn\"]\n",
    "    print(f\"\\n instantiating sagemaker_role with supplied role name : {sagemaker_role}\")\n",
    "\n",
    "account_id = boto3.client(\"sts\").get_caller_identity()[\"Account\"]\n",
    "print(account_id)"
   ]
  },
  {
   "cell_type": "code",
   "execution_count": 4,
   "id": "14c4ba9a-0ea7-4a5e-b480-b520e7554da3",
   "metadata": {},
   "outputs": [
    {
     "data": {
      "text/html": [
       "<pre style=\"white-space:pre;overflow-x:auto;line-height:normal;font-family:Menlo,'DejaVu Sans Mono',consolas,'Courier New',monospace\"><span style=\"color: #ff0000; text-decoration-color: #ff0000\">╭─────────────────────────────── </span><span style=\"color: #ff0000; text-decoration-color: #ff0000; font-weight: bold\">Traceback </span><span style=\"color: #ff7f7f; text-decoration-color: #ff7f7f; font-weight: bold\">(most recent call last)</span><span style=\"color: #ff0000; text-decoration-color: #ff0000\"> ────────────────────────────────╮</span>\n",
       "<span style=\"color: #ff0000; text-decoration-color: #ff0000\">│</span> in <span style=\"color: #00ff00; text-decoration-color: #00ff00\">&lt;module&gt;</span>:<span style=\"color: #0000ff; text-decoration-color: #0000ff\">2</span>                                                                                    <span style=\"color: #ff0000; text-decoration-color: #ff0000\">│</span>\n",
       "<span style=\"color: #ff0000; text-decoration-color: #ff0000\">│</span>                                                                                                  <span style=\"color: #ff0000; text-decoration-color: #ff0000\">│</span>\n",
       "<span style=\"color: #ff0000; text-decoration-color: #ff0000\">│</span>   <span style=\"color: #7f7f7f; text-decoration-color: #7f7f7f\">1 # Upload Files to S3 Buckets</span>                                                                 <span style=\"color: #ff0000; text-decoration-color: #ff0000\">│</span>\n",
       "<span style=\"color: #ff0000; text-decoration-color: #ff0000\">│</span> <span style=\"color: #800000; text-decoration-color: #800000\">❱ </span>2 <span style=\"font-weight: bold; text-decoration: underline\">s3_client.upload_file(Filename=</span><span style=\"color: #808000; text-decoration-color: #808000; font-weight: bold; text-decoration: underline\">\"Data/customers.csv\"</span><span style=\"font-weight: bold; text-decoration: underline\">, Bucket=BUCKET, Key=</span><span style=\"color: #808000; text-decoration-color: #808000; font-weight: bold; text-decoration: underline\">f\"{</span><span style=\"font-weight: bold; text-decoration: underline\">PREFIX</span><span style=\"color: #808000; text-decoration-color: #808000; font-weight: bold; text-decoration: underline\">}/data/</span>     <span style=\"color: #ff0000; text-decoration-color: #ff0000\">│</span>\n",
       "<span style=\"color: #ff0000; text-decoration-color: #ff0000\">│</span>   <span style=\"color: #7f7f7f; text-decoration-color: #7f7f7f\">3 </span>s3_client.upload_file(Filename=<span style=\"color: #808000; text-decoration-color: #808000\">\"Data/claims.csv\"</span>, Bucket=BUCKET, Key=<span style=\"color: #808000; text-decoration-color: #808000\">f\"{</span>PREFIX<span style=\"color: #808000; text-decoration-color: #808000\">}/data/raw</span>     <span style=\"color: #ff0000; text-decoration-color: #ff0000\">│</span>\n",
       "<span style=\"color: #ff0000; text-decoration-color: #ff0000\">│</span>   <span style=\"color: #7f7f7f; text-decoration-color: #7f7f7f\">4 </span>                                                                                             <span style=\"color: #ff0000; text-decoration-color: #ff0000\">│</span>\n",
       "<span style=\"color: #ff0000; text-decoration-color: #ff0000\">│</span>                                                                                                  <span style=\"color: #ff0000; text-decoration-color: #ff0000\">│</span>\n",
       "<span style=\"color: #ff0000; text-decoration-color: #ff0000\">│</span> <span style=\"color: #bfbf7f; text-decoration-color: #bfbf7f\">/opt/conda/lib/python3.12/site-packages/boto3/s3/</span><span style=\"color: #808000; text-decoration-color: #808000; font-weight: bold\">inject.py</span>:<span style=\"color: #0000ff; text-decoration-color: #0000ff\">145</span> in <span style=\"color: #00ff00; text-decoration-color: #00ff00\">upload_file</span>                    <span style=\"color: #ff0000; text-decoration-color: #ff0000\">│</span>\n",
       "<span style=\"color: #ff0000; text-decoration-color: #ff0000\">│</span>                                                                                                  <span style=\"color: #ff0000; text-decoration-color: #ff0000\">│</span>\n",
       "<span style=\"color: #ff0000; text-decoration-color: #ff0000\">│</span>   <span style=\"color: #7f7f7f; text-decoration-color: #7f7f7f\">142 </span><span style=\"color: #bfbf7f; text-decoration-color: #bfbf7f\">│   │   </span><span style=\"color: #808000; text-decoration-color: #808000\">transfer.</span>                                                                          <span style=\"color: #ff0000; text-decoration-color: #ff0000\">│</span>\n",
       "<span style=\"color: #ff0000; text-decoration-color: #ff0000\">│</span>   <span style=\"color: #7f7f7f; text-decoration-color: #7f7f7f\">143 </span><span style=\"color: #bfbf7f; text-decoration-color: #bfbf7f\">│   </span><span style=\"color: #808000; text-decoration-color: #808000\">\"\"\"</span>                                                                                    <span style=\"color: #ff0000; text-decoration-color: #ff0000\">│</span>\n",
       "<span style=\"color: #ff0000; text-decoration-color: #ff0000\">│</span>   <span style=\"color: #7f7f7f; text-decoration-color: #7f7f7f\">144 </span><span style=\"color: #7f7f7f; text-decoration-color: #7f7f7f\">│   </span><span style=\"color: #0000ff; text-decoration-color: #0000ff\">with</span> S3Transfer(<span style=\"color: #00ffff; text-decoration-color: #00ffff\">self</span>, Config) <span style=\"color: #0000ff; text-decoration-color: #0000ff\">as</span> transfer:                                             <span style=\"color: #ff0000; text-decoration-color: #ff0000\">│</span>\n",
       "<span style=\"color: #ff0000; text-decoration-color: #ff0000\">│</span> <span style=\"color: #800000; text-decoration-color: #800000\">❱ </span>145 <span style=\"color: #7f7f7f; text-decoration-color: #7f7f7f\">│   │   </span><span style=\"color: #0000ff; text-decoration-color: #0000ff\">return</span> transfer.upload_file(                                                       <span style=\"color: #ff0000; text-decoration-color: #ff0000\">│</span>\n",
       "<span style=\"color: #ff0000; text-decoration-color: #ff0000\">│</span>   <span style=\"color: #7f7f7f; text-decoration-color: #7f7f7f\">146 </span><span style=\"color: #7f7f7f; text-decoration-color: #7f7f7f\">│   │   │   </span>filename=Filename,                                                             <span style=\"color: #ff0000; text-decoration-color: #ff0000\">│</span>\n",
       "<span style=\"color: #ff0000; text-decoration-color: #ff0000\">│</span>   <span style=\"color: #7f7f7f; text-decoration-color: #7f7f7f\">147 </span><span style=\"color: #7f7f7f; text-decoration-color: #7f7f7f\">│   │   │   </span>bucket=Bucket,                                                                 <span style=\"color: #ff0000; text-decoration-color: #ff0000\">│</span>\n",
       "<span style=\"color: #ff0000; text-decoration-color: #ff0000\">│</span>   <span style=\"color: #7f7f7f; text-decoration-color: #7f7f7f\">148 </span><span style=\"color: #7f7f7f; text-decoration-color: #7f7f7f\">│   │   │   </span>key=Key,                                                                       <span style=\"color: #ff0000; text-decoration-color: #ff0000\">│</span>\n",
       "<span style=\"color: #ff0000; text-decoration-color: #ff0000\">│</span>                                                                                                  <span style=\"color: #ff0000; text-decoration-color: #ff0000\">│</span>\n",
       "<span style=\"color: #ff0000; text-decoration-color: #ff0000\">│</span> <span style=\"color: #bfbf7f; text-decoration-color: #bfbf7f\">/opt/conda/lib/python3.12/site-packages/boto3/s3/</span><span style=\"color: #808000; text-decoration-color: #808000; font-weight: bold\">transfer.py</span>:<span style=\"color: #0000ff; text-decoration-color: #0000ff\">372</span> in <span style=\"color: #00ff00; text-decoration-color: #00ff00\">upload_file</span>                  <span style=\"color: #ff0000; text-decoration-color: #ff0000\">│</span>\n",
       "<span style=\"color: #ff0000; text-decoration-color: #ff0000\">│</span>                                                                                                  <span style=\"color: #ff0000; text-decoration-color: #ff0000\">│</span>\n",
       "<span style=\"color: #ff0000; text-decoration-color: #ff0000\">│</span>   <span style=\"color: #7f7f7f; text-decoration-color: #7f7f7f\">369 </span><span style=\"color: #7f7f7f; text-decoration-color: #7f7f7f\">│   │   │   </span>filename, bucket, key, extra_args, subscribers                                 <span style=\"color: #ff0000; text-decoration-color: #ff0000\">│</span>\n",
       "<span style=\"color: #ff0000; text-decoration-color: #ff0000\">│</span>   <span style=\"color: #7f7f7f; text-decoration-color: #7f7f7f\">370 </span><span style=\"color: #7f7f7f; text-decoration-color: #7f7f7f\">│   │   </span>)                                                                                  <span style=\"color: #ff0000; text-decoration-color: #ff0000\">│</span>\n",
       "<span style=\"color: #ff0000; text-decoration-color: #ff0000\">│</span>   <span style=\"color: #7f7f7f; text-decoration-color: #7f7f7f\">371 </span><span style=\"color: #7f7f7f; text-decoration-color: #7f7f7f\">│   │   </span><span style=\"color: #0000ff; text-decoration-color: #0000ff\">try</span>:                                                                               <span style=\"color: #ff0000; text-decoration-color: #ff0000\">│</span>\n",
       "<span style=\"color: #ff0000; text-decoration-color: #ff0000\">│</span> <span style=\"color: #800000; text-decoration-color: #800000\">❱ </span>372 <span style=\"color: #7f7f7f; text-decoration-color: #7f7f7f\">│   │   │   </span>future.result()                                                                <span style=\"color: #ff0000; text-decoration-color: #ff0000\">│</span>\n",
       "<span style=\"color: #ff0000; text-decoration-color: #ff0000\">│</span>   <span style=\"color: #7f7f7f; text-decoration-color: #7f7f7f\">373 </span><span style=\"color: #7f7f7f; text-decoration-color: #7f7f7f\">│   │   </span><span style=\"color: #7f7f7f; text-decoration-color: #7f7f7f\"># If a client error was raised, add the backwards compatibility layer</span>              <span style=\"color: #ff0000; text-decoration-color: #ff0000\">│</span>\n",
       "<span style=\"color: #ff0000; text-decoration-color: #ff0000\">│</span>   <span style=\"color: #7f7f7f; text-decoration-color: #7f7f7f\">374 </span><span style=\"color: #7f7f7f; text-decoration-color: #7f7f7f\">│   │   </span><span style=\"color: #7f7f7f; text-decoration-color: #7f7f7f\"># that raises a S3UploadFailedError. These specific errors were only</span>               <span style=\"color: #ff0000; text-decoration-color: #ff0000\">│</span>\n",
       "<span style=\"color: #ff0000; text-decoration-color: #ff0000\">│</span>   <span style=\"color: #7f7f7f; text-decoration-color: #7f7f7f\">375 </span><span style=\"color: #7f7f7f; text-decoration-color: #7f7f7f\">│   │   </span><span style=\"color: #7f7f7f; text-decoration-color: #7f7f7f\"># ever thrown for upload_parts but now can be thrown for any related</span>               <span style=\"color: #ff0000; text-decoration-color: #ff0000\">│</span>\n",
       "<span style=\"color: #ff0000; text-decoration-color: #ff0000\">│</span>                                                                                                  <span style=\"color: #ff0000; text-decoration-color: #ff0000\">│</span>\n",
       "<span style=\"color: #ff0000; text-decoration-color: #ff0000\">│</span> <span style=\"color: #bfbf7f; text-decoration-color: #bfbf7f\">/opt/conda/lib/python3.12/site-packages/s3transfer/</span><span style=\"color: #808000; text-decoration-color: #808000; font-weight: bold\">futures.py</span>:<span style=\"color: #0000ff; text-decoration-color: #0000ff\">103</span> in <span style=\"color: #00ff00; text-decoration-color: #00ff00\">result</span>                      <span style=\"color: #ff0000; text-decoration-color: #ff0000\">│</span>\n",
       "<span style=\"color: #ff0000; text-decoration-color: #ff0000\">│</span>                                                                                                  <span style=\"color: #ff0000; text-decoration-color: #ff0000\">│</span>\n",
       "<span style=\"color: #ff0000; text-decoration-color: #ff0000\">│</span>   <span style=\"color: #7f7f7f; text-decoration-color: #7f7f7f\">100 </span><span style=\"color: #7f7f7f; text-decoration-color: #7f7f7f\">│   │   │   </span><span style=\"color: #7f7f7f; text-decoration-color: #7f7f7f\"># Usually the result() method blocks until the transfer is done,</span>               <span style=\"color: #ff0000; text-decoration-color: #ff0000\">│</span>\n",
       "<span style=\"color: #ff0000; text-decoration-color: #ff0000\">│</span>   <span style=\"color: #7f7f7f; text-decoration-color: #7f7f7f\">101 </span><span style=\"color: #7f7f7f; text-decoration-color: #7f7f7f\">│   │   │   </span><span style=\"color: #7f7f7f; text-decoration-color: #7f7f7f\"># however if a KeyboardInterrupt is raised we want want to exit</span>                <span style=\"color: #ff0000; text-decoration-color: #ff0000\">│</span>\n",
       "<span style=\"color: #ff0000; text-decoration-color: #ff0000\">│</span>   <span style=\"color: #7f7f7f; text-decoration-color: #7f7f7f\">102 </span><span style=\"color: #7f7f7f; text-decoration-color: #7f7f7f\">│   │   │   </span><span style=\"color: #7f7f7f; text-decoration-color: #7f7f7f\"># out of this and propagate the exception.</span>                                     <span style=\"color: #ff0000; text-decoration-color: #ff0000\">│</span>\n",
       "<span style=\"color: #ff0000; text-decoration-color: #ff0000\">│</span> <span style=\"color: #800000; text-decoration-color: #800000\">❱ </span>103 <span style=\"color: #7f7f7f; text-decoration-color: #7f7f7f\">│   │   │   </span><span style=\"color: #0000ff; text-decoration-color: #0000ff\">return</span> <span style=\"color: #00ffff; text-decoration-color: #00ffff\">self</span>._coordinator.result()                                              <span style=\"color: #ff0000; text-decoration-color: #ff0000\">│</span>\n",
       "<span style=\"color: #ff0000; text-decoration-color: #ff0000\">│</span>   <span style=\"color: #7f7f7f; text-decoration-color: #7f7f7f\">104 </span><span style=\"color: #7f7f7f; text-decoration-color: #7f7f7f\">│   │   </span><span style=\"color: #0000ff; text-decoration-color: #0000ff; font-weight: bold; text-decoration: underline\">except</span><span style=\"font-weight: bold; text-decoration: underline\"> </span><span style=\"color: #00ffff; text-decoration-color: #00ffff; font-weight: bold; text-decoration: underline\">KeyboardInterrupt</span><span style=\"font-weight: bold; text-decoration: underline\"> </span><span style=\"color: #0000ff; text-decoration-color: #0000ff; font-weight: bold; text-decoration: underline\">as</span><span style=\"font-weight: bold; text-decoration: underline\"> e:</span>                                                     <span style=\"color: #ff0000; text-decoration-color: #ff0000\">│</span>\n",
       "<span style=\"color: #ff0000; text-decoration-color: #ff0000\">│</span>   <span style=\"color: #7f7f7f; text-decoration-color: #7f7f7f\">105 </span><span style=\"color: #7f7f7f; text-decoration-color: #7f7f7f; font-weight: bold; text-decoration: underline\">│   │   │   </span><span style=\"color: #00ffff; text-decoration-color: #00ffff; font-weight: bold; text-decoration: underline\">self</span><span style=\"font-weight: bold; text-decoration: underline\">.cancel()</span>                                                                  <span style=\"color: #ff0000; text-decoration-color: #ff0000\">│</span>\n",
       "<span style=\"color: #ff0000; text-decoration-color: #ff0000\">│</span>   <span style=\"color: #7f7f7f; text-decoration-color: #7f7f7f\">106 </span><span style=\"color: #7f7f7f; text-decoration-color: #7f7f7f; font-weight: bold; text-decoration: underline\">│   │   │   </span><span style=\"color: #0000ff; text-decoration-color: #0000ff; font-weight: bold; text-decoration: underline\">raise</span><span style=\"font-weight: bold; text-decoration: underline\"> e</span>                                                                        <span style=\"color: #ff0000; text-decoration-color: #ff0000\">│</span>\n",
       "<span style=\"color: #ff0000; text-decoration-color: #ff0000\">│</span>                                                                                                  <span style=\"color: #ff0000; text-decoration-color: #ff0000\">│</span>\n",
       "<span style=\"color: #ff0000; text-decoration-color: #ff0000\">│</span> <span style=\"color: #bfbf7f; text-decoration-color: #bfbf7f\">/opt/conda/lib/python3.12/site-packages/s3transfer/</span><span style=\"color: #808000; text-decoration-color: #808000; font-weight: bold\">futures.py</span>:<span style=\"color: #0000ff; text-decoration-color: #0000ff\">264</span> in <span style=\"color: #00ff00; text-decoration-color: #00ff00\">result</span>                      <span style=\"color: #ff0000; text-decoration-color: #ff0000\">│</span>\n",
       "<span style=\"color: #ff0000; text-decoration-color: #ff0000\">│</span>                                                                                                  <span style=\"color: #ff0000; text-decoration-color: #ff0000\">│</span>\n",
       "<span style=\"color: #ff0000; text-decoration-color: #ff0000\">│</span>   <span style=\"color: #7f7f7f; text-decoration-color: #7f7f7f\">261 </span><span style=\"color: #7f7f7f; text-decoration-color: #7f7f7f\">│   │   </span><span style=\"color: #7f7f7f; text-decoration-color: #7f7f7f\"># Once done waiting, raise an exception if present or return the</span>                   <span style=\"color: #ff0000; text-decoration-color: #ff0000\">│</span>\n",
       "<span style=\"color: #ff0000; text-decoration-color: #ff0000\">│</span>   <span style=\"color: #7f7f7f; text-decoration-color: #7f7f7f\">262 </span><span style=\"color: #7f7f7f; text-decoration-color: #7f7f7f\">│   │   </span><span style=\"color: #7f7f7f; text-decoration-color: #7f7f7f\"># final result.</span>                                                                    <span style=\"color: #ff0000; text-decoration-color: #ff0000\">│</span>\n",
       "<span style=\"color: #ff0000; text-decoration-color: #ff0000\">│</span>   <span style=\"color: #7f7f7f; text-decoration-color: #7f7f7f\">263 </span><span style=\"color: #7f7f7f; text-decoration-color: #7f7f7f\">│   │   </span><span style=\"color: #0000ff; text-decoration-color: #0000ff\">if</span> <span style=\"color: #00ffff; text-decoration-color: #00ffff\">self</span>._exception:                                                                <span style=\"color: #ff0000; text-decoration-color: #ff0000\">│</span>\n",
       "<span style=\"color: #ff0000; text-decoration-color: #ff0000\">│</span> <span style=\"color: #800000; text-decoration-color: #800000\">❱ </span>264 <span style=\"color: #7f7f7f; text-decoration-color: #7f7f7f\">│   │   │   </span><span style=\"color: #0000ff; text-decoration-color: #0000ff; font-weight: bold; text-decoration: underline\">raise</span><span style=\"font-weight: bold; text-decoration: underline\"> </span><span style=\"color: #00ffff; text-decoration-color: #00ffff; font-weight: bold; text-decoration: underline\">self</span><span style=\"font-weight: bold; text-decoration: underline\">._exception</span>                                                          <span style=\"color: #ff0000; text-decoration-color: #ff0000\">│</span>\n",
       "<span style=\"color: #ff0000; text-decoration-color: #ff0000\">│</span>   <span style=\"color: #7f7f7f; text-decoration-color: #7f7f7f\">265 </span><span style=\"color: #7f7f7f; text-decoration-color: #7f7f7f\">│   │   </span><span style=\"color: #0000ff; text-decoration-color: #0000ff\">return</span> <span style=\"color: #00ffff; text-decoration-color: #00ffff\">self</span>._result                                                                <span style=\"color: #ff0000; text-decoration-color: #ff0000\">│</span>\n",
       "<span style=\"color: #ff0000; text-decoration-color: #ff0000\">│</span>   <span style=\"color: #7f7f7f; text-decoration-color: #7f7f7f\">266 </span><span style=\"color: #7f7f7f; text-decoration-color: #7f7f7f\">│   </span>                                                                                       <span style=\"color: #ff0000; text-decoration-color: #ff0000\">│</span>\n",
       "<span style=\"color: #ff0000; text-decoration-color: #ff0000\">│</span>   <span style=\"color: #7f7f7f; text-decoration-color: #7f7f7f\">267 </span><span style=\"color: #7f7f7f; text-decoration-color: #7f7f7f\">│   </span><span style=\"color: #0000ff; text-decoration-color: #0000ff\">def</span><span style=\"color: #808080; text-decoration-color: #808080\"> </span><span style=\"color: #00ff00; text-decoration-color: #00ff00\">cancel</span>(<span style=\"color: #00ffff; text-decoration-color: #00ffff\">self</span>, msg=<span style=\"color: #808000; text-decoration-color: #808000\">''</span>, exc_type=CancelledError):                                     <span style=\"color: #ff0000; text-decoration-color: #ff0000\">│</span>\n",
       "<span style=\"color: #ff0000; text-decoration-color: #ff0000\">│</span>                                                                                                  <span style=\"color: #ff0000; text-decoration-color: #ff0000\">│</span>\n",
       "<span style=\"color: #ff0000; text-decoration-color: #ff0000\">│</span> <span style=\"color: #bfbf7f; text-decoration-color: #bfbf7f\">/opt/conda/lib/python3.12/site-packages/s3transfer/</span><span style=\"color: #808000; text-decoration-color: #808000; font-weight: bold\">tasks.py</span>:<span style=\"color: #0000ff; text-decoration-color: #0000ff\">265</span> in <span style=\"color: #00ff00; text-decoration-color: #00ff00\">_main</span>                         <span style=\"color: #ff0000; text-decoration-color: #ff0000\">│</span>\n",
       "<span style=\"color: #ff0000; text-decoration-color: #ff0000\">│</span>                                                                                                  <span style=\"color: #ff0000; text-decoration-color: #ff0000\">│</span>\n",
       "<span style=\"color: #ff0000; text-decoration-color: #ff0000\">│</span>   <span style=\"color: #7f7f7f; text-decoration-color: #7f7f7f\">262 </span><span style=\"color: #7f7f7f; text-decoration-color: #7f7f7f\">│   │   │   </span>                                                                               <span style=\"color: #ff0000; text-decoration-color: #ff0000\">│</span>\n",
       "<span style=\"color: #ff0000; text-decoration-color: #ff0000\">│</span>   <span style=\"color: #7f7f7f; text-decoration-color: #7f7f7f\">263 </span><span style=\"color: #7f7f7f; text-decoration-color: #7f7f7f\">│   │   │   </span><span style=\"color: #7f7f7f; text-decoration-color: #7f7f7f\"># Call the submit method to start submitting tasks to execute the</span>              <span style=\"color: #ff0000; text-decoration-color: #ff0000\">│</span>\n",
       "<span style=\"color: #ff0000; text-decoration-color: #ff0000\">│</span>   <span style=\"color: #7f7f7f; text-decoration-color: #7f7f7f\">264 </span><span style=\"color: #7f7f7f; text-decoration-color: #7f7f7f\">│   │   │   </span><span style=\"color: #7f7f7f; text-decoration-color: #7f7f7f\"># transfer.</span>                                                                    <span style=\"color: #ff0000; text-decoration-color: #ff0000\">│</span>\n",
       "<span style=\"color: #ff0000; text-decoration-color: #ff0000\">│</span> <span style=\"color: #800000; text-decoration-color: #800000\">❱ </span>265 <span style=\"color: #7f7f7f; text-decoration-color: #7f7f7f\">│   │   │   </span><span style=\"color: #00ffff; text-decoration-color: #00ffff\">self</span>._submit(transfer_future=transfer_future, **kwargs)                        <span style=\"color: #ff0000; text-decoration-color: #ff0000\">│</span>\n",
       "<span style=\"color: #ff0000; text-decoration-color: #ff0000\">│</span>   <span style=\"color: #7f7f7f; text-decoration-color: #7f7f7f\">266 </span><span style=\"color: #7f7f7f; text-decoration-color: #7f7f7f\">│   │   </span><span style=\"color: #0000ff; text-decoration-color: #0000ff\">except</span> <span style=\"color: #00ffff; text-decoration-color: #00ffff\">BaseException</span> <span style=\"color: #0000ff; text-decoration-color: #0000ff\">as</span> e:                                                         <span style=\"color: #ff0000; text-decoration-color: #ff0000\">│</span>\n",
       "<span style=\"color: #ff0000; text-decoration-color: #ff0000\">│</span>   <span style=\"color: #7f7f7f; text-decoration-color: #7f7f7f\">267 </span><span style=\"color: #7f7f7f; text-decoration-color: #7f7f7f\">│   │   │   </span><span style=\"color: #7f7f7f; text-decoration-color: #7f7f7f\"># If there was an exception raised during the submission of task</span>               <span style=\"color: #ff0000; text-decoration-color: #ff0000\">│</span>\n",
       "<span style=\"color: #ff0000; text-decoration-color: #ff0000\">│</span>   <span style=\"color: #7f7f7f; text-decoration-color: #7f7f7f\">268 </span><span style=\"color: #7f7f7f; text-decoration-color: #7f7f7f\">│   │   │   </span><span style=\"color: #7f7f7f; text-decoration-color: #7f7f7f\"># there is a chance that the final task that signals if a transfer</span>             <span style=\"color: #ff0000; text-decoration-color: #ff0000\">│</span>\n",
       "<span style=\"color: #ff0000; text-decoration-color: #ff0000\">│</span>                                                                                                  <span style=\"color: #ff0000; text-decoration-color: #ff0000\">│</span>\n",
       "<span style=\"color: #ff0000; text-decoration-color: #ff0000\">│</span> <span style=\"color: #bfbf7f; text-decoration-color: #bfbf7f\">/opt/conda/lib/python3.12/site-packages/s3transfer/</span><span style=\"color: #808000; text-decoration-color: #808000; font-weight: bold\">upload.py</span>:<span style=\"color: #0000ff; text-decoration-color: #0000ff\">596</span> in <span style=\"color: #00ff00; text-decoration-color: #00ff00\">_submit</span>                      <span style=\"color: #ff0000; text-decoration-color: #ff0000\">│</span>\n",
       "<span style=\"color: #ff0000; text-decoration-color: #ff0000\">│</span>                                                                                                  <span style=\"color: #ff0000; text-decoration-color: #ff0000\">│</span>\n",
       "<span style=\"color: #ff0000; text-decoration-color: #ff0000\">│</span>   <span style=\"color: #7f7f7f; text-decoration-color: #7f7f7f\">593 </span><span style=\"color: #7f7f7f; text-decoration-color: #7f7f7f\">│   │   </span>                                                                                   <span style=\"color: #ff0000; text-decoration-color: #ff0000\">│</span>\n",
       "<span style=\"color: #ff0000; text-decoration-color: #ff0000\">│</span>   <span style=\"color: #7f7f7f; text-decoration-color: #7f7f7f\">594 </span><span style=\"color: #7f7f7f; text-decoration-color: #7f7f7f\">│   │   </span><span style=\"color: #7f7f7f; text-decoration-color: #7f7f7f\"># Determine the size if it was not provided</span>                                        <span style=\"color: #ff0000; text-decoration-color: #ff0000\">│</span>\n",
       "<span style=\"color: #ff0000; text-decoration-color: #ff0000\">│</span>   <span style=\"color: #7f7f7f; text-decoration-color: #7f7f7f\">595 </span><span style=\"color: #7f7f7f; text-decoration-color: #7f7f7f\">│   │   </span><span style=\"color: #0000ff; text-decoration-color: #0000ff\">if</span> transfer_future.meta.size <span style=\"color: #ff00ff; text-decoration-color: #ff00ff\">is</span> <span style=\"color: #0000ff; text-decoration-color: #0000ff\">None</span>:                                              <span style=\"color: #ff0000; text-decoration-color: #ff0000\">│</span>\n",
       "<span style=\"color: #ff0000; text-decoration-color: #ff0000\">│</span> <span style=\"color: #800000; text-decoration-color: #800000\">❱ </span>596 <span style=\"color: #7f7f7f; text-decoration-color: #7f7f7f\">│   │   │   </span><span style=\"font-weight: bold; text-decoration: underline\">upload_input_manager.provide_transfer_size(transfer_future)</span>                    <span style=\"color: #ff0000; text-decoration-color: #ff0000\">│</span>\n",
       "<span style=\"color: #ff0000; text-decoration-color: #ff0000\">│</span>   <span style=\"color: #7f7f7f; text-decoration-color: #7f7f7f\">597 </span><span style=\"color: #7f7f7f; text-decoration-color: #7f7f7f\">│   │   </span>                                                                                   <span style=\"color: #ff0000; text-decoration-color: #ff0000\">│</span>\n",
       "<span style=\"color: #ff0000; text-decoration-color: #ff0000\">│</span>   <span style=\"color: #7f7f7f; text-decoration-color: #7f7f7f\">598 </span><span style=\"color: #7f7f7f; text-decoration-color: #7f7f7f\">│   │   </span><span style=\"color: #7f7f7f; text-decoration-color: #7f7f7f\"># Do a multipart upload if needed, otherwise do a regular put object.</span>              <span style=\"color: #ff0000; text-decoration-color: #ff0000\">│</span>\n",
       "<span style=\"color: #ff0000; text-decoration-color: #ff0000\">│</span>   <span style=\"color: #7f7f7f; text-decoration-color: #7f7f7f\">599 </span><span style=\"color: #7f7f7f; text-decoration-color: #7f7f7f\">│   │   </span><span style=\"color: #0000ff; text-decoration-color: #0000ff\">if</span> <span style=\"color: #ff00ff; text-decoration-color: #ff00ff\">not</span> upload_input_manager.requires_multipart_upload(                             <span style=\"color: #ff0000; text-decoration-color: #ff0000\">│</span>\n",
       "<span style=\"color: #ff0000; text-decoration-color: #ff0000\">│</span>                                                                                                  <span style=\"color: #ff0000; text-decoration-color: #ff0000\">│</span>\n",
       "<span style=\"color: #ff0000; text-decoration-color: #ff0000\">│</span> <span style=\"color: #bfbf7f; text-decoration-color: #bfbf7f\">/opt/conda/lib/python3.12/site-packages/s3transfer/</span><span style=\"color: #808000; text-decoration-color: #808000; font-weight: bold\">upload.py</span>:<span style=\"color: #0000ff; text-decoration-color: #0000ff\">245</span> in <span style=\"color: #00ff00; text-decoration-color: #00ff00\">provide_transfer_size</span>        <span style=\"color: #ff0000; text-decoration-color: #ff0000\">│</span>\n",
       "<span style=\"color: #ff0000; text-decoration-color: #ff0000\">│</span>                                                                                                  <span style=\"color: #ff0000; text-decoration-color: #ff0000\">│</span>\n",
       "<span style=\"color: #ff0000; text-decoration-color: #ff0000\">│</span>   <span style=\"color: #7f7f7f; text-decoration-color: #7f7f7f\">242 </span><span style=\"color: #7f7f7f; text-decoration-color: #7f7f7f\">│   </span>                                                                                       <span style=\"color: #ff0000; text-decoration-color: #ff0000\">│</span>\n",
       "<span style=\"color: #ff0000; text-decoration-color: #ff0000\">│</span>   <span style=\"color: #7f7f7f; text-decoration-color: #7f7f7f\">243 </span><span style=\"color: #7f7f7f; text-decoration-color: #7f7f7f\">│   </span><span style=\"color: #0000ff; text-decoration-color: #0000ff\">def</span><span style=\"color: #808080; text-decoration-color: #808080\"> </span><span style=\"color: #00ff00; text-decoration-color: #00ff00\">provide_transfer_size</span>(<span style=\"color: #00ffff; text-decoration-color: #00ffff\">self</span>, transfer_future):                                      <span style=\"color: #ff0000; text-decoration-color: #ff0000\">│</span>\n",
       "<span style=\"color: #ff0000; text-decoration-color: #ff0000\">│</span>   <span style=\"color: #7f7f7f; text-decoration-color: #7f7f7f\">244 </span><span style=\"color: #7f7f7f; text-decoration-color: #7f7f7f\">│   │   </span>transfer_future.meta.provide_transfer_size(                                        <span style=\"color: #ff0000; text-decoration-color: #ff0000\">│</span>\n",
       "<span style=\"color: #ff0000; text-decoration-color: #ff0000\">│</span> <span style=\"color: #800000; text-decoration-color: #800000\">❱ </span>245 <span style=\"color: #7f7f7f; text-decoration-color: #7f7f7f\">│   │   │   </span><span style=\"color: #00ffff; text-decoration-color: #00ffff; font-weight: bold; text-decoration: underline\">self</span><span style=\"font-weight: bold; text-decoration: underline\">._osutil.get_file_size(transfer_future.meta.call_args.fileobj)</span>             <span style=\"color: #ff0000; text-decoration-color: #ff0000\">│</span>\n",
       "<span style=\"color: #ff0000; text-decoration-color: #ff0000\">│</span>   <span style=\"color: #7f7f7f; text-decoration-color: #7f7f7f\">246 </span><span style=\"color: #7f7f7f; text-decoration-color: #7f7f7f\">│   │   </span>)                                                                                  <span style=\"color: #ff0000; text-decoration-color: #ff0000\">│</span>\n",
       "<span style=\"color: #ff0000; text-decoration-color: #ff0000\">│</span>   <span style=\"color: #7f7f7f; text-decoration-color: #7f7f7f\">247 </span><span style=\"color: #7f7f7f; text-decoration-color: #7f7f7f\">│   </span>                                                                                       <span style=\"color: #ff0000; text-decoration-color: #ff0000\">│</span>\n",
       "<span style=\"color: #ff0000; text-decoration-color: #ff0000\">│</span>   <span style=\"color: #7f7f7f; text-decoration-color: #7f7f7f\">248 </span><span style=\"color: #7f7f7f; text-decoration-color: #7f7f7f\">│   </span><span style=\"color: #0000ff; text-decoration-color: #0000ff\">def</span><span style=\"color: #808080; text-decoration-color: #808080\"> </span><span style=\"color: #00ff00; text-decoration-color: #00ff00\">requires_multipart_upload</span>(<span style=\"color: #00ffff; text-decoration-color: #00ffff\">self</span>, transfer_future, config):                          <span style=\"color: #ff0000; text-decoration-color: #ff0000\">│</span>\n",
       "<span style=\"color: #ff0000; text-decoration-color: #ff0000\">│</span>                                                                                                  <span style=\"color: #ff0000; text-decoration-color: #ff0000\">│</span>\n",
       "<span style=\"color: #ff0000; text-decoration-color: #ff0000\">│</span> <span style=\"color: #bfbf7f; text-decoration-color: #bfbf7f\">/opt/conda/lib/python3.12/site-packages/s3transfer/</span><span style=\"color: #808000; text-decoration-color: #808000; font-weight: bold\">utils.py</span>:<span style=\"color: #0000ff; text-decoration-color: #0000ff\">262</span> in <span style=\"color: #00ff00; text-decoration-color: #00ff00\">get_file_size</span>                 <span style=\"color: #ff0000; text-decoration-color: #ff0000\">│</span>\n",
       "<span style=\"color: #ff0000; text-decoration-color: #ff0000\">│</span>                                                                                                  <span style=\"color: #ff0000; text-decoration-color: #ff0000\">│</span>\n",
       "<span style=\"color: #ff0000; text-decoration-color: #ff0000\">│</span>   <span style=\"color: #7f7f7f; text-decoration-color: #7f7f7f\">259 </span><span style=\"color: #7f7f7f; text-decoration-color: #7f7f7f\">│   </span>_MAX_FILENAME_LEN = <span style=\"color: #0000ff; text-decoration-color: #0000ff\">255</span>                                                                <span style=\"color: #ff0000; text-decoration-color: #ff0000\">│</span>\n",
       "<span style=\"color: #ff0000; text-decoration-color: #ff0000\">│</span>   <span style=\"color: #7f7f7f; text-decoration-color: #7f7f7f\">260 </span><span style=\"color: #7f7f7f; text-decoration-color: #7f7f7f\">│   </span>                                                                                       <span style=\"color: #ff0000; text-decoration-color: #ff0000\">│</span>\n",
       "<span style=\"color: #ff0000; text-decoration-color: #ff0000\">│</span>   <span style=\"color: #7f7f7f; text-decoration-color: #7f7f7f\">261 </span><span style=\"color: #7f7f7f; text-decoration-color: #7f7f7f\">│   </span><span style=\"color: #0000ff; text-decoration-color: #0000ff\">def</span><span style=\"color: #808080; text-decoration-color: #808080\"> </span><span style=\"color: #00ff00; text-decoration-color: #00ff00\">get_file_size</span>(<span style=\"color: #00ffff; text-decoration-color: #00ffff\">self</span>, filename):                                                     <span style=\"color: #ff0000; text-decoration-color: #ff0000\">│</span>\n",
       "<span style=\"color: #ff0000; text-decoration-color: #ff0000\">│</span> <span style=\"color: #800000; text-decoration-color: #800000\">❱ </span>262 <span style=\"color: #7f7f7f; text-decoration-color: #7f7f7f\">│   │   </span><span style=\"color: #0000ff; text-decoration-color: #0000ff\">return</span> <span style=\"font-weight: bold; text-decoration: underline\">os.path.getsize(filename)</span>                                                   <span style=\"color: #ff0000; text-decoration-color: #ff0000\">│</span>\n",
       "<span style=\"color: #ff0000; text-decoration-color: #ff0000\">│</span>   <span style=\"color: #7f7f7f; text-decoration-color: #7f7f7f\">263 </span><span style=\"color: #7f7f7f; text-decoration-color: #7f7f7f\">│   </span>                                                                                       <span style=\"color: #ff0000; text-decoration-color: #ff0000\">│</span>\n",
       "<span style=\"color: #ff0000; text-decoration-color: #ff0000\">│</span>   <span style=\"color: #7f7f7f; text-decoration-color: #7f7f7f\">264 </span><span style=\"color: #7f7f7f; text-decoration-color: #7f7f7f\">│   </span><span style=\"color: #0000ff; text-decoration-color: #0000ff\">def</span><span style=\"color: #808080; text-decoration-color: #808080\"> </span><span style=\"color: #00ff00; text-decoration-color: #00ff00\">open_file_chunk_reader</span>(<span style=\"color: #00ffff; text-decoration-color: #00ffff\">self</span>, filename, start_byte, size, callbacks):               <span style=\"color: #ff0000; text-decoration-color: #ff0000\">│</span>\n",
       "<span style=\"color: #ff0000; text-decoration-color: #ff0000\">│</span>   <span style=\"color: #7f7f7f; text-decoration-color: #7f7f7f\">265 </span><span style=\"color: #7f7f7f; text-decoration-color: #7f7f7f\">│   │   </span><span style=\"color: #0000ff; text-decoration-color: #0000ff\">return</span> ReadFileChunk.from_filename(                                                <span style=\"color: #ff0000; text-decoration-color: #ff0000\">│</span>\n",
       "<span style=\"color: #ff0000; text-decoration-color: #ff0000\">│</span> in <span style=\"color: #00ff00; text-decoration-color: #00ff00\">getsize</span>:<span style=\"color: #0000ff; text-decoration-color: #0000ff\">62</span>                                                                                    <span style=\"color: #ff0000; text-decoration-color: #ff0000\">│</span>\n",
       "<span style=\"color: #ff0000; text-decoration-color: #ff0000\">╰──────────────────────────────────────────────────────────────────────────────────────────────────╯</span>\n",
       "<span style=\"color: #ff0000; text-decoration-color: #ff0000; font-weight: bold\">FileNotFoundError: </span><span style=\"font-weight: bold\">[</span>Errno <span style=\"color: #008080; text-decoration-color: #008080; font-weight: bold\">2</span><span style=\"font-weight: bold\">]</span> No such file or directory: <span style=\"color: #008700; text-decoration-color: #008700\">'Data/customers.csv'</span>\n",
       "</pre>\n"
      ],
      "text/plain": [
       "\u001b[38;2;255;0;0m╭─\u001b[0m\u001b[38;2;255;0;0m──────────────────────────────\u001b[0m\u001b[38;2;255;0;0m \u001b[0m\u001b[1;38;2;255;0;0mTraceback \u001b[0m\u001b[1;2;38;2;255;0;0m(most recent call last)\u001b[0m\u001b[38;2;255;0;0m \u001b[0m\u001b[38;2;255;0;0m───────────────────────────────\u001b[0m\u001b[38;2;255;0;0m─╮\u001b[0m\n",
       "\u001b[38;2;255;0;0m│\u001b[0m in \u001b[92m<module>\u001b[0m:\u001b[94m2\u001b[0m                                                                                    \u001b[38;2;255;0;0m│\u001b[0m\n",
       "\u001b[38;2;255;0;0m│\u001b[0m                                                                                                  \u001b[38;2;255;0;0m│\u001b[0m\n",
       "\u001b[38;2;255;0;0m│\u001b[0m   \u001b[2m1 \u001b[0m\u001b[2m# Upload Files to S3 Buckets\u001b[0m                                                                 \u001b[38;2;255;0;0m│\u001b[0m\n",
       "\u001b[38;2;255;0;0m│\u001b[0m \u001b[31m❱ \u001b[0m2 \u001b[1;4ms3_client.upload_file(Filename=\u001b[0m\u001b[1;4;33m\"\u001b[0m\u001b[1;4;33mData/customers.csv\u001b[0m\u001b[1;4;33m\"\u001b[0m\u001b[1;4m, Bucket=BUCKET, Key=\u001b[0m\u001b[1;4;33mf\u001b[0m\u001b[1;4;33m\"\u001b[0m\u001b[1;4;33m{\u001b[0m\u001b[1;4mPREFIX\u001b[0m\u001b[1;4;33m}\u001b[0m\u001b[1;4;33m/data/\u001b[0m     \u001b[38;2;255;0;0m│\u001b[0m\n",
       "\u001b[38;2;255;0;0m│\u001b[0m   \u001b[2m3 \u001b[0ms3_client.upload_file(Filename=\u001b[33m\"\u001b[0m\u001b[33mData/claims.csv\u001b[0m\u001b[33m\"\u001b[0m, Bucket=BUCKET, Key=\u001b[33mf\u001b[0m\u001b[33m\"\u001b[0m\u001b[33m{\u001b[0mPREFIX\u001b[33m}\u001b[0m\u001b[33m/data/raw\u001b[0m     \u001b[38;2;255;0;0m│\u001b[0m\n",
       "\u001b[38;2;255;0;0m│\u001b[0m   \u001b[2m4 \u001b[0m                                                                                             \u001b[38;2;255;0;0m│\u001b[0m\n",
       "\u001b[38;2;255;0;0m│\u001b[0m                                                                                                  \u001b[38;2;255;0;0m│\u001b[0m\n",
       "\u001b[38;2;255;0;0m│\u001b[0m \u001b[2;33m/opt/conda/lib/python3.12/site-packages/boto3/s3/\u001b[0m\u001b[1;33minject.py\u001b[0m:\u001b[94m145\u001b[0m in \u001b[92mupload_file\u001b[0m                    \u001b[38;2;255;0;0m│\u001b[0m\n",
       "\u001b[38;2;255;0;0m│\u001b[0m                                                                                                  \u001b[38;2;255;0;0m│\u001b[0m\n",
       "\u001b[38;2;255;0;0m│\u001b[0m   \u001b[2m142 \u001b[0m\u001b[2;33m│   │   \u001b[0m\u001b[33mtransfer.\u001b[0m                                                                          \u001b[38;2;255;0;0m│\u001b[0m\n",
       "\u001b[38;2;255;0;0m│\u001b[0m   \u001b[2m143 \u001b[0m\u001b[2;33m│   \u001b[0m\u001b[33m\"\"\"\u001b[0m                                                                                    \u001b[38;2;255;0;0m│\u001b[0m\n",
       "\u001b[38;2;255;0;0m│\u001b[0m   \u001b[2m144 \u001b[0m\u001b[2m│   \u001b[0m\u001b[94mwith\u001b[0m S3Transfer(\u001b[96mself\u001b[0m, Config) \u001b[94mas\u001b[0m transfer:                                             \u001b[38;2;255;0;0m│\u001b[0m\n",
       "\u001b[38;2;255;0;0m│\u001b[0m \u001b[31m❱ \u001b[0m145 \u001b[2m│   │   \u001b[0m\u001b[94mreturn\u001b[0m transfer.upload_file(                                                       \u001b[38;2;255;0;0m│\u001b[0m\n",
       "\u001b[38;2;255;0;0m│\u001b[0m   \u001b[2m146 \u001b[0m\u001b[2m│   │   │   \u001b[0mfilename=Filename,                                                             \u001b[38;2;255;0;0m│\u001b[0m\n",
       "\u001b[38;2;255;0;0m│\u001b[0m   \u001b[2m147 \u001b[0m\u001b[2m│   │   │   \u001b[0mbucket=Bucket,                                                                 \u001b[38;2;255;0;0m│\u001b[0m\n",
       "\u001b[38;2;255;0;0m│\u001b[0m   \u001b[2m148 \u001b[0m\u001b[2m│   │   │   \u001b[0mkey=Key,                                                                       \u001b[38;2;255;0;0m│\u001b[0m\n",
       "\u001b[38;2;255;0;0m│\u001b[0m                                                                                                  \u001b[38;2;255;0;0m│\u001b[0m\n",
       "\u001b[38;2;255;0;0m│\u001b[0m \u001b[2;33m/opt/conda/lib/python3.12/site-packages/boto3/s3/\u001b[0m\u001b[1;33mtransfer.py\u001b[0m:\u001b[94m372\u001b[0m in \u001b[92mupload_file\u001b[0m                  \u001b[38;2;255;0;0m│\u001b[0m\n",
       "\u001b[38;2;255;0;0m│\u001b[0m                                                                                                  \u001b[38;2;255;0;0m│\u001b[0m\n",
       "\u001b[38;2;255;0;0m│\u001b[0m   \u001b[2m369 \u001b[0m\u001b[2m│   │   │   \u001b[0mfilename, bucket, key, extra_args, subscribers                                 \u001b[38;2;255;0;0m│\u001b[0m\n",
       "\u001b[38;2;255;0;0m│\u001b[0m   \u001b[2m370 \u001b[0m\u001b[2m│   │   \u001b[0m)                                                                                  \u001b[38;2;255;0;0m│\u001b[0m\n",
       "\u001b[38;2;255;0;0m│\u001b[0m   \u001b[2m371 \u001b[0m\u001b[2m│   │   \u001b[0m\u001b[94mtry\u001b[0m:                                                                               \u001b[38;2;255;0;0m│\u001b[0m\n",
       "\u001b[38;2;255;0;0m│\u001b[0m \u001b[31m❱ \u001b[0m372 \u001b[2m│   │   │   \u001b[0mfuture.result()                                                                \u001b[38;2;255;0;0m│\u001b[0m\n",
       "\u001b[38;2;255;0;0m│\u001b[0m   \u001b[2m373 \u001b[0m\u001b[2m│   │   \u001b[0m\u001b[2m# If a client error was raised, add the backwards compatibility layer\u001b[0m              \u001b[38;2;255;0;0m│\u001b[0m\n",
       "\u001b[38;2;255;0;0m│\u001b[0m   \u001b[2m374 \u001b[0m\u001b[2m│   │   \u001b[0m\u001b[2m# that raises a S3UploadFailedError. These specific errors were only\u001b[0m               \u001b[38;2;255;0;0m│\u001b[0m\n",
       "\u001b[38;2;255;0;0m│\u001b[0m   \u001b[2m375 \u001b[0m\u001b[2m│   │   \u001b[0m\u001b[2m# ever thrown for upload_parts but now can be thrown for any related\u001b[0m               \u001b[38;2;255;0;0m│\u001b[0m\n",
       "\u001b[38;2;255;0;0m│\u001b[0m                                                                                                  \u001b[38;2;255;0;0m│\u001b[0m\n",
       "\u001b[38;2;255;0;0m│\u001b[0m \u001b[2;33m/opt/conda/lib/python3.12/site-packages/s3transfer/\u001b[0m\u001b[1;33mfutures.py\u001b[0m:\u001b[94m103\u001b[0m in \u001b[92mresult\u001b[0m                      \u001b[38;2;255;0;0m│\u001b[0m\n",
       "\u001b[38;2;255;0;0m│\u001b[0m                                                                                                  \u001b[38;2;255;0;0m│\u001b[0m\n",
       "\u001b[38;2;255;0;0m│\u001b[0m   \u001b[2m100 \u001b[0m\u001b[2m│   │   │   \u001b[0m\u001b[2m# Usually the result() method blocks until the transfer is done,\u001b[0m               \u001b[38;2;255;0;0m│\u001b[0m\n",
       "\u001b[38;2;255;0;0m│\u001b[0m   \u001b[2m101 \u001b[0m\u001b[2m│   │   │   \u001b[0m\u001b[2m# however if a KeyboardInterrupt is raised we want want to exit\u001b[0m                \u001b[38;2;255;0;0m│\u001b[0m\n",
       "\u001b[38;2;255;0;0m│\u001b[0m   \u001b[2m102 \u001b[0m\u001b[2m│   │   │   \u001b[0m\u001b[2m# out of this and propagate the exception.\u001b[0m                                     \u001b[38;2;255;0;0m│\u001b[0m\n",
       "\u001b[38;2;255;0;0m│\u001b[0m \u001b[31m❱ \u001b[0m103 \u001b[2m│   │   │   \u001b[0m\u001b[94mreturn\u001b[0m \u001b[96mself\u001b[0m._coordinator.result()                                              \u001b[38;2;255;0;0m│\u001b[0m\n",
       "\u001b[38;2;255;0;0m│\u001b[0m   \u001b[2m104 \u001b[0m\u001b[2m│   │   \u001b[0m\u001b[1;4;94mexcept\u001b[0m\u001b[1;4m \u001b[0m\u001b[1;4;96mKeyboardInterrupt\u001b[0m\u001b[1;4m \u001b[0m\u001b[1;4;94mas\u001b[0m\u001b[1;4m e:\u001b[0m                                                     \u001b[38;2;255;0;0m│\u001b[0m\n",
       "\u001b[38;2;255;0;0m│\u001b[0m   \u001b[2m105 \u001b[0m\u001b[1;2;4m│   │   │   \u001b[0m\u001b[1;4;96mself\u001b[0m\u001b[1;4m.cancel()\u001b[0m                                                                  \u001b[38;2;255;0;0m│\u001b[0m\n",
       "\u001b[38;2;255;0;0m│\u001b[0m   \u001b[2m106 \u001b[0m\u001b[1;2;4m│   │   │   \u001b[0m\u001b[1;4;94mraise\u001b[0m\u001b[1;4m e\u001b[0m                                                                        \u001b[38;2;255;0;0m│\u001b[0m\n",
       "\u001b[38;2;255;0;0m│\u001b[0m                                                                                                  \u001b[38;2;255;0;0m│\u001b[0m\n",
       "\u001b[38;2;255;0;0m│\u001b[0m \u001b[2;33m/opt/conda/lib/python3.12/site-packages/s3transfer/\u001b[0m\u001b[1;33mfutures.py\u001b[0m:\u001b[94m264\u001b[0m in \u001b[92mresult\u001b[0m                      \u001b[38;2;255;0;0m│\u001b[0m\n",
       "\u001b[38;2;255;0;0m│\u001b[0m                                                                                                  \u001b[38;2;255;0;0m│\u001b[0m\n",
       "\u001b[38;2;255;0;0m│\u001b[0m   \u001b[2m261 \u001b[0m\u001b[2m│   │   \u001b[0m\u001b[2m# Once done waiting, raise an exception if present or return the\u001b[0m                   \u001b[38;2;255;0;0m│\u001b[0m\n",
       "\u001b[38;2;255;0;0m│\u001b[0m   \u001b[2m262 \u001b[0m\u001b[2m│   │   \u001b[0m\u001b[2m# final result.\u001b[0m                                                                    \u001b[38;2;255;0;0m│\u001b[0m\n",
       "\u001b[38;2;255;0;0m│\u001b[0m   \u001b[2m263 \u001b[0m\u001b[2m│   │   \u001b[0m\u001b[94mif\u001b[0m \u001b[96mself\u001b[0m._exception:                                                                \u001b[38;2;255;0;0m│\u001b[0m\n",
       "\u001b[38;2;255;0;0m│\u001b[0m \u001b[31m❱ \u001b[0m264 \u001b[2m│   │   │   \u001b[0m\u001b[1;4;94mraise\u001b[0m\u001b[1;4m \u001b[0m\u001b[1;4;96mself\u001b[0m\u001b[1;4m._exception\u001b[0m                                                          \u001b[38;2;255;0;0m│\u001b[0m\n",
       "\u001b[38;2;255;0;0m│\u001b[0m   \u001b[2m265 \u001b[0m\u001b[2m│   │   \u001b[0m\u001b[94mreturn\u001b[0m \u001b[96mself\u001b[0m._result                                                                \u001b[38;2;255;0;0m│\u001b[0m\n",
       "\u001b[38;2;255;0;0m│\u001b[0m   \u001b[2m266 \u001b[0m\u001b[2m│   \u001b[0m                                                                                       \u001b[38;2;255;0;0m│\u001b[0m\n",
       "\u001b[38;2;255;0;0m│\u001b[0m   \u001b[2m267 \u001b[0m\u001b[2m│   \u001b[0m\u001b[94mdef\u001b[0m\u001b[90m \u001b[0m\u001b[92mcancel\u001b[0m(\u001b[96mself\u001b[0m, msg=\u001b[33m'\u001b[0m\u001b[33m'\u001b[0m, exc_type=CancelledError):                                     \u001b[38;2;255;0;0m│\u001b[0m\n",
       "\u001b[38;2;255;0;0m│\u001b[0m                                                                                                  \u001b[38;2;255;0;0m│\u001b[0m\n",
       "\u001b[38;2;255;0;0m│\u001b[0m \u001b[2;33m/opt/conda/lib/python3.12/site-packages/s3transfer/\u001b[0m\u001b[1;33mtasks.py\u001b[0m:\u001b[94m265\u001b[0m in \u001b[92m_main\u001b[0m                         \u001b[38;2;255;0;0m│\u001b[0m\n",
       "\u001b[38;2;255;0;0m│\u001b[0m                                                                                                  \u001b[38;2;255;0;0m│\u001b[0m\n",
       "\u001b[38;2;255;0;0m│\u001b[0m   \u001b[2m262 \u001b[0m\u001b[2m│   │   │   \u001b[0m                                                                               \u001b[38;2;255;0;0m│\u001b[0m\n",
       "\u001b[38;2;255;0;0m│\u001b[0m   \u001b[2m263 \u001b[0m\u001b[2m│   │   │   \u001b[0m\u001b[2m# Call the submit method to start submitting tasks to execute the\u001b[0m              \u001b[38;2;255;0;0m│\u001b[0m\n",
       "\u001b[38;2;255;0;0m│\u001b[0m   \u001b[2m264 \u001b[0m\u001b[2m│   │   │   \u001b[0m\u001b[2m# transfer.\u001b[0m                                                                    \u001b[38;2;255;0;0m│\u001b[0m\n",
       "\u001b[38;2;255;0;0m│\u001b[0m \u001b[31m❱ \u001b[0m265 \u001b[2m│   │   │   \u001b[0m\u001b[96mself\u001b[0m._submit(transfer_future=transfer_future, **kwargs)                        \u001b[38;2;255;0;0m│\u001b[0m\n",
       "\u001b[38;2;255;0;0m│\u001b[0m   \u001b[2m266 \u001b[0m\u001b[2m│   │   \u001b[0m\u001b[94mexcept\u001b[0m \u001b[96mBaseException\u001b[0m \u001b[94mas\u001b[0m e:                                                         \u001b[38;2;255;0;0m│\u001b[0m\n",
       "\u001b[38;2;255;0;0m│\u001b[0m   \u001b[2m267 \u001b[0m\u001b[2m│   │   │   \u001b[0m\u001b[2m# If there was an exception raised during the submission of task\u001b[0m               \u001b[38;2;255;0;0m│\u001b[0m\n",
       "\u001b[38;2;255;0;0m│\u001b[0m   \u001b[2m268 \u001b[0m\u001b[2m│   │   │   \u001b[0m\u001b[2m# there is a chance that the final task that signals if a transfer\u001b[0m             \u001b[38;2;255;0;0m│\u001b[0m\n",
       "\u001b[38;2;255;0;0m│\u001b[0m                                                                                                  \u001b[38;2;255;0;0m│\u001b[0m\n",
       "\u001b[38;2;255;0;0m│\u001b[0m \u001b[2;33m/opt/conda/lib/python3.12/site-packages/s3transfer/\u001b[0m\u001b[1;33mupload.py\u001b[0m:\u001b[94m596\u001b[0m in \u001b[92m_submit\u001b[0m                      \u001b[38;2;255;0;0m│\u001b[0m\n",
       "\u001b[38;2;255;0;0m│\u001b[0m                                                                                                  \u001b[38;2;255;0;0m│\u001b[0m\n",
       "\u001b[38;2;255;0;0m│\u001b[0m   \u001b[2m593 \u001b[0m\u001b[2m│   │   \u001b[0m                                                                                   \u001b[38;2;255;0;0m│\u001b[0m\n",
       "\u001b[38;2;255;0;0m│\u001b[0m   \u001b[2m594 \u001b[0m\u001b[2m│   │   \u001b[0m\u001b[2m# Determine the size if it was not provided\u001b[0m                                        \u001b[38;2;255;0;0m│\u001b[0m\n",
       "\u001b[38;2;255;0;0m│\u001b[0m   \u001b[2m595 \u001b[0m\u001b[2m│   │   \u001b[0m\u001b[94mif\u001b[0m transfer_future.meta.size \u001b[95mis\u001b[0m \u001b[94mNone\u001b[0m:                                              \u001b[38;2;255;0;0m│\u001b[0m\n",
       "\u001b[38;2;255;0;0m│\u001b[0m \u001b[31m❱ \u001b[0m596 \u001b[2m│   │   │   \u001b[0m\u001b[1;4mupload_input_manager.provide_transfer_size(transfer_future)\u001b[0m                    \u001b[38;2;255;0;0m│\u001b[0m\n",
       "\u001b[38;2;255;0;0m│\u001b[0m   \u001b[2m597 \u001b[0m\u001b[2m│   │   \u001b[0m                                                                                   \u001b[38;2;255;0;0m│\u001b[0m\n",
       "\u001b[38;2;255;0;0m│\u001b[0m   \u001b[2m598 \u001b[0m\u001b[2m│   │   \u001b[0m\u001b[2m# Do a multipart upload if needed, otherwise do a regular put object.\u001b[0m              \u001b[38;2;255;0;0m│\u001b[0m\n",
       "\u001b[38;2;255;0;0m│\u001b[0m   \u001b[2m599 \u001b[0m\u001b[2m│   │   \u001b[0m\u001b[94mif\u001b[0m \u001b[95mnot\u001b[0m upload_input_manager.requires_multipart_upload(                             \u001b[38;2;255;0;0m│\u001b[0m\n",
       "\u001b[38;2;255;0;0m│\u001b[0m                                                                                                  \u001b[38;2;255;0;0m│\u001b[0m\n",
       "\u001b[38;2;255;0;0m│\u001b[0m \u001b[2;33m/opt/conda/lib/python3.12/site-packages/s3transfer/\u001b[0m\u001b[1;33mupload.py\u001b[0m:\u001b[94m245\u001b[0m in \u001b[92mprovide_transfer_size\u001b[0m        \u001b[38;2;255;0;0m│\u001b[0m\n",
       "\u001b[38;2;255;0;0m│\u001b[0m                                                                                                  \u001b[38;2;255;0;0m│\u001b[0m\n",
       "\u001b[38;2;255;0;0m│\u001b[0m   \u001b[2m242 \u001b[0m\u001b[2m│   \u001b[0m                                                                                       \u001b[38;2;255;0;0m│\u001b[0m\n",
       "\u001b[38;2;255;0;0m│\u001b[0m   \u001b[2m243 \u001b[0m\u001b[2m│   \u001b[0m\u001b[94mdef\u001b[0m\u001b[90m \u001b[0m\u001b[92mprovide_transfer_size\u001b[0m(\u001b[96mself\u001b[0m, transfer_future):                                      \u001b[38;2;255;0;0m│\u001b[0m\n",
       "\u001b[38;2;255;0;0m│\u001b[0m   \u001b[2m244 \u001b[0m\u001b[2m│   │   \u001b[0mtransfer_future.meta.provide_transfer_size(                                        \u001b[38;2;255;0;0m│\u001b[0m\n",
       "\u001b[38;2;255;0;0m│\u001b[0m \u001b[31m❱ \u001b[0m245 \u001b[2m│   │   │   \u001b[0m\u001b[1;4;96mself\u001b[0m\u001b[1;4m._osutil.get_file_size(transfer_future.meta.call_args.fileobj)\u001b[0m             \u001b[38;2;255;0;0m│\u001b[0m\n",
       "\u001b[38;2;255;0;0m│\u001b[0m   \u001b[2m246 \u001b[0m\u001b[2m│   │   \u001b[0m)                                                                                  \u001b[38;2;255;0;0m│\u001b[0m\n",
       "\u001b[38;2;255;0;0m│\u001b[0m   \u001b[2m247 \u001b[0m\u001b[2m│   \u001b[0m                                                                                       \u001b[38;2;255;0;0m│\u001b[0m\n",
       "\u001b[38;2;255;0;0m│\u001b[0m   \u001b[2m248 \u001b[0m\u001b[2m│   \u001b[0m\u001b[94mdef\u001b[0m\u001b[90m \u001b[0m\u001b[92mrequires_multipart_upload\u001b[0m(\u001b[96mself\u001b[0m, transfer_future, config):                          \u001b[38;2;255;0;0m│\u001b[0m\n",
       "\u001b[38;2;255;0;0m│\u001b[0m                                                                                                  \u001b[38;2;255;0;0m│\u001b[0m\n",
       "\u001b[38;2;255;0;0m│\u001b[0m \u001b[2;33m/opt/conda/lib/python3.12/site-packages/s3transfer/\u001b[0m\u001b[1;33mutils.py\u001b[0m:\u001b[94m262\u001b[0m in \u001b[92mget_file_size\u001b[0m                 \u001b[38;2;255;0;0m│\u001b[0m\n",
       "\u001b[38;2;255;0;0m│\u001b[0m                                                                                                  \u001b[38;2;255;0;0m│\u001b[0m\n",
       "\u001b[38;2;255;0;0m│\u001b[0m   \u001b[2m259 \u001b[0m\u001b[2m│   \u001b[0m_MAX_FILENAME_LEN = \u001b[94m255\u001b[0m                                                                \u001b[38;2;255;0;0m│\u001b[0m\n",
       "\u001b[38;2;255;0;0m│\u001b[0m   \u001b[2m260 \u001b[0m\u001b[2m│   \u001b[0m                                                                                       \u001b[38;2;255;0;0m│\u001b[0m\n",
       "\u001b[38;2;255;0;0m│\u001b[0m   \u001b[2m261 \u001b[0m\u001b[2m│   \u001b[0m\u001b[94mdef\u001b[0m\u001b[90m \u001b[0m\u001b[92mget_file_size\u001b[0m(\u001b[96mself\u001b[0m, filename):                                                     \u001b[38;2;255;0;0m│\u001b[0m\n",
       "\u001b[38;2;255;0;0m│\u001b[0m \u001b[31m❱ \u001b[0m262 \u001b[2m│   │   \u001b[0m\u001b[94mreturn\u001b[0m \u001b[1;4mos.path.getsize(filename)\u001b[0m                                                   \u001b[38;2;255;0;0m│\u001b[0m\n",
       "\u001b[38;2;255;0;0m│\u001b[0m   \u001b[2m263 \u001b[0m\u001b[2m│   \u001b[0m                                                                                       \u001b[38;2;255;0;0m│\u001b[0m\n",
       "\u001b[38;2;255;0;0m│\u001b[0m   \u001b[2m264 \u001b[0m\u001b[2m│   \u001b[0m\u001b[94mdef\u001b[0m\u001b[90m \u001b[0m\u001b[92mopen_file_chunk_reader\u001b[0m(\u001b[96mself\u001b[0m, filename, start_byte, size, callbacks):               \u001b[38;2;255;0;0m│\u001b[0m\n",
       "\u001b[38;2;255;0;0m│\u001b[0m   \u001b[2m265 \u001b[0m\u001b[2m│   │   \u001b[0m\u001b[94mreturn\u001b[0m ReadFileChunk.from_filename(                                                \u001b[38;2;255;0;0m│\u001b[0m\n",
       "\u001b[38;2;255;0;0m│\u001b[0m in \u001b[92mgetsize\u001b[0m:\u001b[94m62\u001b[0m                                                                                    \u001b[38;2;255;0;0m│\u001b[0m\n",
       "\u001b[38;2;255;0;0m╰──────────────────────────────────────────────────────────────────────────────────────────────────╯\u001b[0m\n",
       "\u001b[1;91mFileNotFoundError: \u001b[0m\u001b[1m[\u001b[0mErrno \u001b[1;36m2\u001b[0m\u001b[1m]\u001b[0m No such file or directory: \u001b[38;2;0;135;0m'Data/customers.csv'\u001b[0m\n"
      ]
     },
     "metadata": {},
     "output_type": "display_data"
    }
   ],
   "source": [
    "# Upload Files to S3 Buckets\n",
    "s3_client.upload_file(Filename=\"Data/customers.csv\", Bucket=BUCKET, Key=f\"{PREFIX}/data/raw/customers.csv\")\n",
    "s3_client.upload_file(Filename=\"Data/claims.csv\", Bucket=BUCKET, Key=f\"{PREFIX}/data/raw/claims.csv\")"
   ]
  },
  {
   "cell_type": "markdown",
   "id": "fb30cb77-c7a4-46b7-9232-f3ff41b413ba",
   "metadata": {},
   "source": [
    "### USE DATA WRANGLER UI TO TRANSFORM THE ABOVE RAW DATA AND GENERATE THE BELOW PROCESSED DATA\n",
    "**I am skipping for this now. But will learn more about this step"
   ]
  },
  {
   "cell_type": "code",
   "execution_count": 5,
   "id": "027219f7-a9fb-4dd3-b364-3a5f2215a01c",
   "metadata": {},
   "outputs": [],
   "source": [
    "s3_uri = f\"s3://{BUCKET}\"\n",
    "\n",
    "claims_data = pd.read_csv(f\"{s3_uri}/{PREFIX}/data/claims_preprocessed.csv\")\n",
    "customers_data = pd.read_csv(f\"{s3_uri}/{PREFIX}/data/customers_preprocessed.csv\")"
   ]
  },
  {
   "cell_type": "code",
   "execution_count": 6,
   "id": "6cd2ea5c-301b-4772-baac-3fa6e8a85027",
   "metadata": {},
   "outputs": [
    {
     "name": "stdout",
     "output_type": "stream",
     "text": [
      "Index(['policy_id', 'incident_severity', 'num_vehicles_involved',\n",
      "       'num_injuries', 'num_witnesses', 'police_report_available',\n",
      "       'injury_claim', 'vehicle_claim', 'total_claim_amount', 'incident_month',\n",
      "       'incident_day', 'incident_dow', 'incident_hour', 'fraud',\n",
      "       'driver_relationship_self', 'driver_relationship_na',\n",
      "       'driver_relationship_spouse', 'driver_relationship_child',\n",
      "       'driver_relationship_other', 'incident_type_collision',\n",
      "       'incident_type_breakin', 'incident_type_theft', 'collision_type_front',\n",
      "       'collision_type_rear', 'collision_type_side', 'collision_type_na',\n",
      "       'authorities_contacted_police', 'authorities_contacted_none',\n",
      "       'authorities_contacted_fire', 'authorities_contacted_ambulance'],\n",
      "      dtype='object') \n",
      "\n",
      "Index(['policy_id', 'customer_age', 'customer_education', 'months_as_customer',\n",
      "       'policy_deductable', 'policy_annual_premium', 'policy_liability',\n",
      "       'auto_year', 'num_claims_past_year', 'num_insurers_past_5_years',\n",
      "       'customer_gender_male', 'customer_gender_female', 'policy_state_ca',\n",
      "       'policy_state_wa', 'policy_state_az', 'policy_state_or',\n",
      "       'policy_state_nv', 'policy_state_id'],\n",
      "      dtype='object') \n",
      "\n",
      "\n",
      "Policy id is the unique identifier in both cases\n",
      "5000 5000\n",
      "5000 5000\n"
     ]
    }
   ],
   "source": [
    "print(claims_data.columns, \"\\n\")\n",
    "print(customers_data.columns, \"\\n\")\n",
    "print()\n",
    "print(\"Policy id is the unique identifier in both cases\")\n",
    "print(claims_data.shape[0], claims_data['policy_id'].nunique())\n",
    "print(customers_data.shape[0], customers_data['policy_id'].nunique())"
   ]
  },
  {
   "cell_type": "markdown",
   "id": "f07e185c-53ca-4550-826b-ec8b19fdc505",
   "metadata": {},
   "source": [
    "### Create Two Feature Groups for claims and customers.\n",
    "Feature Groups is equivalent to tables/datasets."
   ]
  },
  {
   "cell_type": "code",
   "execution_count": 7,
   "id": "56a1ee50-6a96-404a-b247-229e083eb624",
   "metadata": {},
   "outputs": [
    {
     "name": "stdout",
     "output_type": "stream",
     "text": [
      "customers-feature-group-25-12-17-38 \n",
      " claims-feature-group-25-12-17-38\n"
     ]
    }
   ],
   "source": [
    "customers_feature_group_name = \"customers-feature-group-\" + strftime(\"%d-%H-%M-%S\", gmtime())\n",
    "claims_feature_group_name = \"claims-feature-group-\" + strftime(\"%d-%H-%M-%S\", gmtime())\n",
    "print(customers_feature_group_name, \"\\n\", claims_feature_group_name)"
   ]
  },
  {
   "cell_type": "code",
   "execution_count": 9,
   "id": "9e0e197d-a0c0-48b4-9c6a-571e040dcad4",
   "metadata": {},
   "outputs": [],
   "source": [
    "# Initiate Feature Group objects. Each feature group reprsents a table.\n",
    "customers_feature_group = FeatureGroup(customers_feature_group_name, sagemaker_session)\n",
    "claims_feature_group = FeatureGroup(claims_feature_group_name, sagemaker_session)"
   ]
  },
  {
   "cell_type": "code",
   "execution_count": 10,
   "id": "b08522e7-4765-4789-8baa-22974065a407",
   "metadata": {},
   "outputs": [
    {
     "name": "stdout",
     "output_type": "stream",
     "text": [
      "0       1.748176e+09\n",
      "1       1.748176e+09\n",
      "2       1.748176e+09\n",
      "3       1.748176e+09\n",
      "4       1.748176e+09\n",
      "            ...     \n",
      "4995    1.748176e+09\n",
      "4996    1.748176e+09\n",
      "4997    1.748176e+09\n",
      "4998    1.748176e+09\n",
      "4999    1.748176e+09\n",
      "Name: EventTime, Length: 5000, dtype: float64\n"
     ]
    }
   ],
   "source": [
    "# Add event time in the datasets, that is required\n",
    "customers_data['EventTime'] = time.time()\n",
    "claims_data['EventTime'] = time.time()\n",
    "print(customers_data['EventTime'])"
   ]
  },
  {
   "cell_type": "markdown",
   "id": "3590f22a-3cd9-432a-ace8-dcbeb0b41453",
   "metadata": {},
   "source": [
    "### Load Feature Definitions into the feature groups"
   ]
  },
  {
   "cell_type": "code",
   "execution_count": 11,
   "id": "3efc7a67-8aa6-4693-aa79-7758fb1f6ffa",
   "metadata": {},
   "outputs": [
    {
     "data": {
      "text/plain": [
       "[FeatureDefinition(feature_name='policy_id', feature_type=<FeatureTypeEnum.INTEGRAL: 'Integral'>, collection_type=None),\n",
       " FeatureDefinition(feature_name='incident_severity', feature_type=<FeatureTypeEnum.FRACTIONAL: 'Fractional'>, collection_type=None),\n",
       " FeatureDefinition(feature_name='num_vehicles_involved', feature_type=<FeatureTypeEnum.INTEGRAL: 'Integral'>, collection_type=None),\n",
       " FeatureDefinition(feature_name='num_injuries', feature_type=<FeatureTypeEnum.INTEGRAL: 'Integral'>, collection_type=None),\n",
       " FeatureDefinition(feature_name='num_witnesses', feature_type=<FeatureTypeEnum.INTEGRAL: 'Integral'>, collection_type=None),\n",
       " FeatureDefinition(feature_name='police_report_available', feature_type=<FeatureTypeEnum.FRACTIONAL: 'Fractional'>, collection_type=None),\n",
       " FeatureDefinition(feature_name='injury_claim', feature_type=<FeatureTypeEnum.INTEGRAL: 'Integral'>, collection_type=None),\n",
       " FeatureDefinition(feature_name='vehicle_claim', feature_type=<FeatureTypeEnum.INTEGRAL: 'Integral'>, collection_type=None),\n",
       " FeatureDefinition(feature_name='total_claim_amount', feature_type=<FeatureTypeEnum.INTEGRAL: 'Integral'>, collection_type=None),\n",
       " FeatureDefinition(feature_name='incident_month', feature_type=<FeatureTypeEnum.INTEGRAL: 'Integral'>, collection_type=None),\n",
       " FeatureDefinition(feature_name='incident_day', feature_type=<FeatureTypeEnum.INTEGRAL: 'Integral'>, collection_type=None),\n",
       " FeatureDefinition(feature_name='incident_dow', feature_type=<FeatureTypeEnum.INTEGRAL: 'Integral'>, collection_type=None),\n",
       " FeatureDefinition(feature_name='incident_hour', feature_type=<FeatureTypeEnum.INTEGRAL: 'Integral'>, collection_type=None),\n",
       " FeatureDefinition(feature_name='fraud', feature_type=<FeatureTypeEnum.INTEGRAL: 'Integral'>, collection_type=None),\n",
       " FeatureDefinition(feature_name='driver_relationship_self', feature_type=<FeatureTypeEnum.FRACTIONAL: 'Fractional'>, collection_type=None),\n",
       " FeatureDefinition(feature_name='driver_relationship_na', feature_type=<FeatureTypeEnum.FRACTIONAL: 'Fractional'>, collection_type=None),\n",
       " FeatureDefinition(feature_name='driver_relationship_spouse', feature_type=<FeatureTypeEnum.FRACTIONAL: 'Fractional'>, collection_type=None),\n",
       " FeatureDefinition(feature_name='driver_relationship_child', feature_type=<FeatureTypeEnum.FRACTIONAL: 'Fractional'>, collection_type=None),\n",
       " FeatureDefinition(feature_name='driver_relationship_other', feature_type=<FeatureTypeEnum.FRACTIONAL: 'Fractional'>, collection_type=None),\n",
       " FeatureDefinition(feature_name='incident_type_collision', feature_type=<FeatureTypeEnum.FRACTIONAL: 'Fractional'>, collection_type=None),\n",
       " FeatureDefinition(feature_name='incident_type_breakin', feature_type=<FeatureTypeEnum.FRACTIONAL: 'Fractional'>, collection_type=None),\n",
       " FeatureDefinition(feature_name='incident_type_theft', feature_type=<FeatureTypeEnum.FRACTIONAL: 'Fractional'>, collection_type=None),\n",
       " FeatureDefinition(feature_name='collision_type_front', feature_type=<FeatureTypeEnum.FRACTIONAL: 'Fractional'>, collection_type=None),\n",
       " FeatureDefinition(feature_name='collision_type_rear', feature_type=<FeatureTypeEnum.FRACTIONAL: 'Fractional'>, collection_type=None),\n",
       " FeatureDefinition(feature_name='collision_type_side', feature_type=<FeatureTypeEnum.FRACTIONAL: 'Fractional'>, collection_type=None),\n",
       " FeatureDefinition(feature_name='collision_type_na', feature_type=<FeatureTypeEnum.FRACTIONAL: 'Fractional'>, collection_type=None),\n",
       " FeatureDefinition(feature_name='authorities_contacted_police', feature_type=<FeatureTypeEnum.FRACTIONAL: 'Fractional'>, collection_type=None),\n",
       " FeatureDefinition(feature_name='authorities_contacted_none', feature_type=<FeatureTypeEnum.FRACTIONAL: 'Fractional'>, collection_type=None),\n",
       " FeatureDefinition(feature_name='authorities_contacted_fire', feature_type=<FeatureTypeEnum.FRACTIONAL: 'Fractional'>, collection_type=None),\n",
       " FeatureDefinition(feature_name='authorities_contacted_ambulance', feature_type=<FeatureTypeEnum.FRACTIONAL: 'Fractional'>, collection_type=None),\n",
       " FeatureDefinition(feature_name='EventTime', feature_type=<FeatureTypeEnum.FRACTIONAL: 'Fractional'>, collection_type=None)]"
      ]
     },
     "execution_count": 11,
     "metadata": {},
     "output_type": "execute_result"
    }
   ],
   "source": [
    "customers_feature_group.load_feature_definitions(data_frame=customers_data)\n",
    "claims_feature_group.load_feature_definitions(data_frame=claims_data)"
   ]
  },
  {
   "cell_type": "markdown",
   "id": "2cecff9e-2ce0-4339-8a9c-68676aec49ca",
   "metadata": {},
   "source": [
    "### The following calls create to create two feature groups, customers_feature_group and orders_feature_group, respectively:\n",
    "Point to note, only the necessary structure will be created on \"Feature Store\" we still need to load the data yet."
   ]
  },
  {
   "cell_type": "code",
   "execution_count": 12,
   "id": "fceb2493-9034-40ff-b767-bc84c3f3af62",
   "metadata": {},
   "outputs": [
    {
     "data": {
      "text/plain": [
       "{'FeatureGroupArn': 'arn:aws:sagemaker:us-east-1:205930620783:feature-group/claims-feature-group-25-12-17-38',\n",
       " 'ResponseMetadata': {'RequestId': '0dad4a61-3f7a-49d9-84f0-4b61842e6a13',\n",
       "  'HTTPStatusCode': 200,\n",
       "  'HTTPHeaders': {'x-amzn-requestid': '0dad4a61-3f7a-49d9-84f0-4b61842e6a13',\n",
       "   'content-type': 'application/x-amz-json-1.1',\n",
       "   'content-length': '109',\n",
       "   'date': 'Sun, 25 May 2025 12:22:20 GMT'},\n",
       "  'RetryAttempts': 1}}"
      ]
     },
     "execution_count": 12,
     "metadata": {},
     "output_type": "execute_result"
    }
   ],
   "source": [
    "\n",
    "customers_feature_group.create(\n",
    "    s3_uri = f\"{s3_uri}/{PREFIX}/data/feature_store\",\n",
    "    record_identifier_name='policy_id',\n",
    "    event_time_feature_name=\"EventTime\",\n",
    "    role_arn=ROLE,\n",
    "    enable_online_store=True\n",
    ")\n",
    "\n",
    "\n",
    "claims_feature_group.create(\n",
    "    s3_uri = f\"{s3_uri}/{PREFIX}/data/feature_store\",\n",
    "    record_identifier_name='policy_id',\n",
    "    event_time_feature_name=\"EventTime\",\n",
    "    role_arn=ROLE,\n",
    "    enable_online_store=True\n",
    ")"
   ]
  },
  {
   "cell_type": "code",
   "execution_count": 17,
   "id": "d9bff051-a147-46f1-b361-f95f5610255d",
   "metadata": {},
   "outputs": [
    {
     "name": "stdout",
     "output_type": "stream",
     "text": [
      "{'FeatureGroupArn': 'arn:aws:sagemaker:us-east-1:205930620783:feature-group/customers-feature-group-25-12-17-38', 'FeatureGroupName': 'customers-feature-group-25-12-17-38', 'RecordIdentifierFeatureName': 'policy_id', 'EventTimeFeatureName': 'EventTime', 'FeatureDefinitions': [{'FeatureName': 'policy_id', 'FeatureType': 'Integral'}, {'FeatureName': 'customer_age', 'FeatureType': 'Integral'}, {'FeatureName': 'customer_education', 'FeatureType': 'Integral'}, {'FeatureName': 'months_as_customer', 'FeatureType': 'Integral'}, {'FeatureName': 'policy_deductable', 'FeatureType': 'Integral'}, {'FeatureName': 'policy_annual_premium', 'FeatureType': 'Integral'}, {'FeatureName': 'policy_liability', 'FeatureType': 'Integral'}, {'FeatureName': 'auto_year', 'FeatureType': 'Integral'}, {'FeatureName': 'num_claims_past_year', 'FeatureType': 'Integral'}, {'FeatureName': 'num_insurers_past_5_years', 'FeatureType': 'Integral'}, {'FeatureName': 'customer_gender_male', 'FeatureType': 'Fractional'}, {'FeatureName': 'customer_gender_female', 'FeatureType': 'Fractional'}, {'FeatureName': 'policy_state_ca', 'FeatureType': 'Fractional'}, {'FeatureName': 'policy_state_wa', 'FeatureType': 'Fractional'}, {'FeatureName': 'policy_state_az', 'FeatureType': 'Fractional'}, {'FeatureName': 'policy_state_or', 'FeatureType': 'Fractional'}, {'FeatureName': 'policy_state_nv', 'FeatureType': 'Fractional'}, {'FeatureName': 'policy_state_id', 'FeatureType': 'Fractional'}, {'FeatureName': 'EventTime', 'FeatureType': 'Fractional'}], 'CreationTime': datetime.datetime(2025, 5, 25, 12, 22, 19, 134000, tzinfo=tzlocal()), 'OnlineStoreConfig': {'EnableOnlineStore': True}, 'OfflineStoreConfig': {'S3StorageConfig': {'S3Uri': 's3://sagemaker-us-east-1-205930620783/FraudDetection_AutoInsurance/data/feature_store', 'ResolvedOutputS3Uri': 's3://sagemaker-us-east-1-205930620783/FraudDetection_AutoInsurance/data/feature_store/205930620783/sagemaker/us-east-1/offline-store/customers-feature-group-25-12-17-38-1748175739/data'}, 'DisableGlueTableCreation': False, 'DataCatalogConfig': {'TableName': 'customers_feature_group_25_12_17_38_1748175739', 'Catalog': 'AwsDataCatalog', 'Database': 'sagemaker_featurestore'}}, 'ThroughputConfig': {'ThroughputMode': 'OnDemand'}, 'RoleArn': 'arn:aws:iam::205930620783:role/service-role/AmazonSageMaker-ExecutionRole-20250401T145997', 'FeatureGroupStatus': 'Created', 'OnlineStoreTotalSizeBytes': 0, 'ResponseMetadata': {'RequestId': '7cf90579-bb66-4cd9-9d1a-ffb064ecd925', 'HTTPStatusCode': 200, 'HTTPHeaders': {'x-amzn-requestid': '7cf90579-bb66-4cd9-9d1a-ffb064ecd925', 'content-type': 'application/x-amz-json-1.1', 'content-length': '2758', 'date': 'Sun, 25 May 2025 12:26:51 GMT'}, 'RetryAttempts': 0}}\n"
     ]
    }
   ],
   "source": [
    "print(customers_feature_group.describe())"
   ]
  },
  {
   "cell_type": "markdown",
   "id": "b8fe74e7-f6ad-49a6-b64b-e5bd0540652c",
   "metadata": {},
   "source": [
    "### List Feature Groups"
   ]
  },
  {
   "cell_type": "code",
   "execution_count": 14,
   "id": "2ed6cac7-a39c-459f-a531-5a43fbad2eeb",
   "metadata": {},
   "outputs": [
    {
     "name": "stdout",
     "output_type": "stream",
     "text": [
      "{'FeatureGroupSummaries': [{'FeatureGroupName': 'customers-feature-group-25-12-17-38', 'FeatureGroupArn': 'arn:aws:sagemaker:us-east-1:205930620783:feature-group/customers-feature-group-25-12-17-38', 'CreationTime': datetime.datetime(2025, 5, 25, 12, 22, 19, 134000, tzinfo=tzlocal()), 'FeatureGroupStatus': 'Creating'}, {'FeatureGroupName': 'claims-feature-group-25-12-17-38', 'FeatureGroupArn': 'arn:aws:sagemaker:us-east-1:205930620783:feature-group/claims-feature-group-25-12-17-38', 'CreationTime': datetime.datetime(2025, 5, 25, 12, 22, 20, 178000, tzinfo=tzlocal()), 'FeatureGroupStatus': 'Creating'}], 'ResponseMetadata': {'RequestId': '535b1e62-3938-4510-a387-0d796cd67ada', 'HTTPStatusCode': 200, 'HTTPHeaders': {'x-amzn-requestid': '535b1e62-3938-4510-a387-0d796cd67ada', 'content-type': 'application/x-amz-json-1.1', 'content-length': '489', 'date': 'Sun, 25 May 2025 12:22:28 GMT'}, 'RetryAttempts': 0}}\n",
      "\n",
      "{'FeatureGroupSummaries': [{'FeatureGroupName': 'customers-feature-group-25-12-17-38', 'FeatureGroupArn': 'arn:aws:sagemaker:us-east-1:205930620783:feature-group/customers-feature-group-25-12-17-38', 'CreationTime': datetime.datetime(2025, 5, 25, 12, 22, 19, 134000, tzinfo=tzlocal()), 'FeatureGroupStatus': 'Creating'}, {'FeatureGroupName': 'claims-feature-group-25-12-17-38', 'FeatureGroupArn': 'arn:aws:sagemaker:us-east-1:205930620783:feature-group/claims-feature-group-25-12-17-38', 'CreationTime': datetime.datetime(2025, 5, 25, 12, 22, 20, 178000, tzinfo=tzlocal()), 'FeatureGroupStatus': 'Creating'}], 'ResponseMetadata': {'RequestId': '5f7b46b3-2255-47c9-9b3d-967f8c4d2a20', 'HTTPStatusCode': 200, 'HTTPHeaders': {'x-amzn-requestid': '5f7b46b3-2255-47c9-9b3d-967f8c4d2a20', 'content-type': 'application/x-amz-json-1.1', 'content-length': '489', 'date': 'Sun, 25 May 2025 12:22:28 GMT'}, 'RetryAttempts': 0}}\n"
     ]
    }
   ],
   "source": [
    "print(sagemaker_session.boto_session.client('sagemaker').list_feature_groups())\n",
    "print()\n",
    "print(boto3.client('sagemaker').list_feature_groups())"
   ]
  },
  {
   "cell_type": "code",
   "execution_count": 15,
   "id": "f4cde7f5-7456-4306-96fd-0fe7066c50cd",
   "metadata": {},
   "outputs": [
    {
     "name": "stdout",
     "output_type": "stream",
     "text": [
      "Waiting for Feature Group to be Created\n",
      "Waiting for Feature Group to be Created\n",
      "Waiting for Feature Group to be Created\n",
      "Waiting for Feature Group to be Created\n",
      "FeatureGroup customers-feature-group-25-12-17-38 successfully created.\n",
      "FeatureGroup claims-feature-group-25-12-17-38 successfully created.\n"
     ]
    }
   ],
   "source": [
    "def check_feature_group_status(feature_group):\n",
    "    status = feature_group.describe().get(\"FeatureGroupStatus\")\n",
    "    while status == \"Creating\":\n",
    "        print(\"Waiting for Feature Group to be Created\")\n",
    "        time.sleep(5)\n",
    "        status = feature_group.describe().get(\"FeatureGroupStatus\")\n",
    "    print(f\"FeatureGroup {feature_group.name} successfully created.\")\n",
    "\n",
    "check_feature_group_status(customers_feature_group)\n",
    "check_feature_group_status(claims_feature_group)"
   ]
  },
  {
   "cell_type": "markdown",
   "id": "f56332b4-385c-4bf9-8055-e97f00393d9f",
   "metadata": {},
   "source": [
    "### Upload data into feature groups"
   ]
  },
  {
   "cell_type": "code",
   "execution_count": 23,
   "id": "b0a4c19b-6a8f-4e42-8b77-7e783dfd1a98",
   "metadata": {},
   "outputs": [
    {
     "data": {
      "text/plain": [
       "IngestionManagerPandas(feature_group_name='claims-feature-group-25-12-17-38', feature_definitions={'policy_id': {'FeatureName': 'policy_id', 'FeatureType': 'Integral'}, 'incident_severity': {'FeatureName': 'incident_severity', 'FeatureType': 'Fractional'}, 'num_vehicles_involved': {'FeatureName': 'num_vehicles_involved', 'FeatureType': 'Integral'}, 'num_injuries': {'FeatureName': 'num_injuries', 'FeatureType': 'Integral'}, 'num_witnesses': {'FeatureName': 'num_witnesses', 'FeatureType': 'Integral'}, 'police_report_available': {'FeatureName': 'police_report_available', 'FeatureType': 'Fractional'}, 'injury_claim': {'FeatureName': 'injury_claim', 'FeatureType': 'Integral'}, 'vehicle_claim': {'FeatureName': 'vehicle_claim', 'FeatureType': 'Integral'}, 'total_claim_amount': {'FeatureName': 'total_claim_amount', 'FeatureType': 'Integral'}, 'incident_month': {'FeatureName': 'incident_month', 'FeatureType': 'Integral'}, 'incident_day': {'FeatureName': 'incident_day', 'FeatureType': 'Integral'}, 'incident_dow': {'FeatureName': 'incident_dow', 'FeatureType': 'Integral'}, 'incident_hour': {'FeatureName': 'incident_hour', 'FeatureType': 'Integral'}, 'fraud': {'FeatureName': 'fraud', 'FeatureType': 'Integral'}, 'driver_relationship_self': {'FeatureName': 'driver_relationship_self', 'FeatureType': 'Fractional'}, 'driver_relationship_na': {'FeatureName': 'driver_relationship_na', 'FeatureType': 'Fractional'}, 'driver_relationship_spouse': {'FeatureName': 'driver_relationship_spouse', 'FeatureType': 'Fractional'}, 'driver_relationship_child': {'FeatureName': 'driver_relationship_child', 'FeatureType': 'Fractional'}, 'driver_relationship_other': {'FeatureName': 'driver_relationship_other', 'FeatureType': 'Fractional'}, 'incident_type_collision': {'FeatureName': 'incident_type_collision', 'FeatureType': 'Fractional'}, 'incident_type_breakin': {'FeatureName': 'incident_type_breakin', 'FeatureType': 'Fractional'}, 'incident_type_theft': {'FeatureName': 'incident_type_theft', 'FeatureType': 'Fractional'}, 'collision_type_front': {'FeatureName': 'collision_type_front', 'FeatureType': 'Fractional'}, 'collision_type_rear': {'FeatureName': 'collision_type_rear', 'FeatureType': 'Fractional'}, 'collision_type_side': {'FeatureName': 'collision_type_side', 'FeatureType': 'Fractional'}, 'collision_type_na': {'FeatureName': 'collision_type_na', 'FeatureType': 'Fractional'}, 'authorities_contacted_police': {'FeatureName': 'authorities_contacted_police', 'FeatureType': 'Fractional'}, 'authorities_contacted_none': {'FeatureName': 'authorities_contacted_none', 'FeatureType': 'Fractional'}, 'authorities_contacted_fire': {'FeatureName': 'authorities_contacted_fire', 'FeatureType': 'Fractional'}, 'authorities_contacted_ambulance': {'FeatureName': 'authorities_contacted_ambulance', 'FeatureType': 'Fractional'}, 'EventTime': {'FeatureName': 'EventTime', 'FeatureType': 'Fractional'}}, sagemaker_fs_runtime_client_config=<botocore.config.Config object at 0x7ffb02a1bf50>, sagemaker_session=<sagemaker.session.Session object at 0x7ffb3dc268a0>, max_workers=3, max_processes=1, profile_name=None, _async_result=<multiprocess.pool.MapResult object at 0x7ffaeb4a5670>, _processing_pool=<pool ProcessPool(ncpus=1)>, _failed_indices=[])"
      ]
     },
     "execution_count": 23,
     "metadata": {},
     "output_type": "execute_result"
    }
   ],
   "source": [
    "customers_feature_group.ingest(data_frame=customers_data, max_workers=3, wait=True) \n",
    "claims_feature_group.ingest(data_frame=claims_data, max_workers=3, wait=True) "
   ]
  },
  {
   "cell_type": "markdown",
   "id": "6afef51f-6bf2-47ea-978e-5f24b451f0ab",
   "metadata": {},
   "source": [
    "### Use Athena query to load the datasets"
   ]
  },
  {
   "cell_type": "code",
   "execution_count": 24,
   "id": "157a2018-20ae-4527-9ec9-d1f43a90a200",
   "metadata": {},
   "outputs": [
    {
     "name": "stdout",
     "output_type": "stream",
     "text": [
      "claims_feature_group_25_12_17_38_1748175740 \n",
      " sagemaker_featurestore\n",
      "customers_feature_group_25_12_17_38_1748175739 \n",
      " sagemaker_featurestore\n",
      " \n",
      "    SELECT * \n",
      "    FROM claims_feature_group_25_12_17_38_1748175740 LEFT JOIN customers_feature_group_25_12_17_38_1748175739 \n",
      "    ON claims_feature_group_25_12_17_38_1748175740.policy_id = customers_feature_group_25_12_17_38_1748175739.policy_id \n",
      "\n"
     ]
    },
    {
     "data": {
      "text/html": [
       "<pre style=\"white-space:pre;overflow-x:auto;line-height:normal;font-family:Menlo,'DejaVu Sans Mono',consolas,'Courier New',monospace\"><span style=\"color: #7fbfbf; text-decoration-color: #7fbfbf\">[05/25/25 12:32:46] </span><span style=\"color: #0069ff; text-decoration-color: #0069ff; font-weight: bold\">INFO    </span> Query <span style=\"color: #ffff00; text-decoration-color: #ffff00\">2e951403-17b8-47b4-9aa8-0346bcb6938b</span> is being executed.          <a href=\"file:///opt/conda/lib/python3.12/site-packages/sagemaker/session.py\" target=\"_blank\"><span style=\"color: #7f7f7f; text-decoration-color: #7f7f7f\">session.py</span></a><span style=\"color: #7f7f7f; text-decoration-color: #7f7f7f\">:</span><a href=\"file:///opt/conda/lib/python3.12/site-packages/sagemaker/session.py#6663\" target=\"_blank\"><span style=\"color: #7f7f7f; text-decoration-color: #7f7f7f\">6663</span></a>\n",
       "</pre>\n"
      ],
      "text/plain": [
       "\u001b[2;36m[05/25/25 12:32:46]\u001b[0m\u001b[2;36m \u001b[0m\u001b[1;38;2;0;105;255mINFO    \u001b[0m Query \u001b[93m2e951403-17b8-47b4-9aa8-0346bcb6938b\u001b[0m is being executed.          \u001b]8;id=991732;file:///opt/conda/lib/python3.12/site-packages/sagemaker/session.py\u001b\\\u001b[2msession.py\u001b[0m\u001b]8;;\u001b\\\u001b[2m:\u001b[0m\u001b]8;id=628929;file:///opt/conda/lib/python3.12/site-packages/sagemaker/session.py#6663\u001b\\\u001b[2m6663\u001b[0m\u001b]8;;\u001b\\\n"
      ]
     },
     "metadata": {},
     "output_type": "display_data"
    },
    {
     "data": {
      "text/html": [
       "<pre style=\"white-space:pre;overflow-x:auto;line-height:normal;font-family:Menlo,'DejaVu Sans Mono',consolas,'Courier New',monospace\"><span style=\"color: #7fbfbf; text-decoration-color: #7fbfbf\">[05/25/25 12:32:51] </span><span style=\"color: #0069ff; text-decoration-color: #0069ff; font-weight: bold\">INFO    </span> Query <span style=\"color: #ffff00; text-decoration-color: #ffff00\">2e951403-17b8-47b4-9aa8-0346bcb6938b</span> successfully executed.      <a href=\"file:///opt/conda/lib/python3.12/site-packages/sagemaker/session.py\" target=\"_blank\"><span style=\"color: #7f7f7f; text-decoration-color: #7f7f7f\">session.py</span></a><span style=\"color: #7f7f7f; text-decoration-color: #7f7f7f\">:</span><a href=\"file:///opt/conda/lib/python3.12/site-packages/sagemaker/session.py#6672\" target=\"_blank\"><span style=\"color: #7f7f7f; text-decoration-color: #7f7f7f\">6672</span></a>\n",
       "</pre>\n"
      ],
      "text/plain": [
       "\u001b[2;36m[05/25/25 12:32:51]\u001b[0m\u001b[2;36m \u001b[0m\u001b[1;38;2;0;105;255mINFO    \u001b[0m Query \u001b[93m2e951403-17b8-47b4-9aa8-0346bcb6938b\u001b[0m successfully executed.      \u001b]8;id=118814;file:///opt/conda/lib/python3.12/site-packages/sagemaker/session.py\u001b\\\u001b[2msession.py\u001b[0m\u001b]8;;\u001b\\\u001b[2m:\u001b[0m\u001b]8;id=867966;file:///opt/conda/lib/python3.12/site-packages/sagemaker/session.py#6672\u001b\\\u001b[2m6672\u001b[0m\u001b]8;;\u001b\\\n"
      ]
     },
     "metadata": {},
     "output_type": "display_data"
    }
   ],
   "source": [
    "claims_query = claims_feature_group.athena_query()\n",
    "print(claims_query.table_name, \"\\n\", claims_query.database)\n",
    "customers_query = customers_feature_group.athena_query()\n",
    "print(customers_query.table_name, \"\\n\", customers_query.database)\n",
    "\n",
    "query = f\"\"\" \n",
    "    SELECT * \n",
    "    FROM {claims_query.table_name} LEFT JOIN {customers_query.table_name} \n",
    "    ON {claims_query.table_name}.policy_id = {customers_query.table_name}.policy_id \n",
    "\"\"\"\n",
    "print(query)\n",
    "\n",
    "claims_query.run(query, output_location=f\"s3://{BUCKET}/FraudDetection_AutoInsurance/data/query_results\")\n",
    "claims_query.wait() \n",
    "dataset = claims_query.as_dataframe()"
   ]
  },
  {
   "cell_type": "code",
   "execution_count": 25,
   "id": "2cf8ccab-eed4-4ff8-9180-03585c8a816e",
   "metadata": {},
   "outputs": [],
   "source": [
    "dataset_col_order = ['fraud']  + list(dataset.drop([\"fraud\", \"policy_id\"], axis=1).columns)\n",
    "train = dataset.sample(frac=.80, random_state=0)[dataset_col_order]\n",
    "test = dataset.drop(train.index)[dataset_col_order]\n",
    "train.to_csv(\"data/train.csv\", index=False)\n",
    "test.to_csv(\"data/test.csv\", index=False)\n",
    "dataset.to_csv(\"data/dataset.csv\", index=True)"
   ]
  },
  {
   "cell_type": "code",
   "execution_count": 26,
   "id": "d5d73d0b-267e-4d1a-b455-3813db9819db",
   "metadata": {},
   "outputs": [],
   "source": [
    "# Upload the data to S3\n",
    "s3_client = sagemaker_session.boto_session.client(\"s3\")\n",
    "s3_client.upload_file('data/train.csv', Bucket=BUCKET, Key=\"FraudDetection_AutoInsurance/data/train.csv\")\n",
    "s3_client.upload_file('data/test.csv', Bucket=BUCKET, Key=\"FraudDetection_AutoInsurance/data/test.csv\")\n",
    "s3_client.upload_file('data/dataset.csv', Bucket=BUCKET, Key=\"FraudDetection_AutoInsurance/data/dataset.csv\")\n"
   ]
  }
 ],
 "metadata": {
  "kernelspec": {
   "display_name": "Python 3 (ipykernel)",
   "language": "python",
   "name": "python3"
  },
  "language_info": {
   "codemirror_mode": {
    "name": "ipython",
    "version": 3
   },
   "file_extension": ".py",
   "mimetype": "text/x-python",
   "name": "python",
   "nbconvert_exporter": "python",
   "pygments_lexer": "ipython3",
   "version": "3.12.9"
  }
 },
 "nbformat": 4,
 "nbformat_minor": 5
}
