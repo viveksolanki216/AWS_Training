{
 "cells": [
  {
   "cell_type": "markdown",
   "id": "861a7bb3-5b6e-4d83-a9a3-51721b971956",
   "metadata": {},
   "source": [
    "# Prepare Data in this Step\n",
    " - ## Data Wrangler: To Make transformation and process the data\n",
    " - ## Sagemaker Feature Store: To store the features\n",
    "   \n",
    "1. Use Data Wrangler UI to transform and preprocess the data, create .flow files.\n",
    "2. Use .flow files to create the processed datasets.\n",
    "3. Store the features (processed dataset) in feature store\n",
    "4. FeatureGroup Creation, Ingest batch data and retrive records\n",
    "\n",
    "References:\n",
    " - https://github.com/aws/amazon-sagemaker-examples/blob/4534bff4b5b5062af5789d98c4ddca01b0cb5d1f/end_to_end/fraud_detection/0-AutoClaimFraudDetection.ipynb\n",
    " - https://docs.aws.amazon.com/sagemaker/latest/dg/feature-store-introduction-notebook.html\n",
    " - https://boto3.amazonaws.com/v1/documentation/api/1.20.9/reference/services/sagemaker-featurestore-runtime.html\n",
    "\n"
   ]
  },
  {
   "cell_type": "code",
   "execution_count": 2,
   "id": "4b58e160-70e5-4c58-b489-0433e25bf75b",
   "metadata": {},
   "outputs": [],
   "source": [
    "from sagemaker import get_execution_role\n",
    "from sagemaker.session import Session\n",
    "import sagemaker\n",
    "import boto3\n",
    "import pandas as pd\n",
    "import numpy as np \n",
    "from time import strftime, gmtime\n",
    "import time\n",
    "from sagemaker.feature_store.feature_group import FeatureGroup"
   ]
  },
  {
   "cell_type": "code",
   "execution_count": 3,
   "id": "b506fea7-a57d-4c64-8be7-926e1188c6d6",
   "metadata": {},
   "outputs": [
    {
     "name": "stdout",
     "output_type": "stream",
     "text": [
      "us-east-1\n"
     ]
    }
   ],
   "source": [
    "sagemaker_session = Session()\n",
    "REGION = sagemaker_session.boto_region_name\n",
    "BUCKET = sagemaker_session.default_bucket()\n",
    "PREFIX = \"FraudDetection_AutoInsurance\"\n",
    "\n",
    "s3_client = boto3.client(\"s3\")\n",
    "sagemaker_client = boto3.client(\"sagemaker\")\n",
    "iam_client = boto3.client(\"iam\")\n",
    "print(REGION)"
   ]
  },
  {
   "cell_type": "code",
   "execution_count": 4,
   "id": "788d0e40-c2e3-4ec9-98f2-8676319cdfa8",
   "metadata": {},
   "outputs": [
    {
     "name": "stdout",
     "output_type": "stream",
     "text": [
      "arn:aws:iam::205930620783:role/service-role/AmazonSageMaker-ExecutionRole-20250401T145997\n",
      "205930620783\n"
     ]
    }
   ],
   "source": [
    "\"\"\"\n",
    "Note: if you are not running this notebook from SageMaker Studio or SageMaker Classic Notebooks you will need to instanatiate \n",
    "the sagemaker_execution_role_name with an AWS role that has SageMakerFullAccess and SageMakerFeatureStoreFullAccess\n",
    "\"\"\"\n",
    "try:\n",
    "    ROLE = sagemaker.get_execution_role()\n",
    "    print(ROLE)\n",
    "except:\n",
    "    print(\"Need to set role manually\")\n",
    "    exec_role_name = \"AmazonSageMaker-ExecutionRole-20250401T145997\"\n",
    "    sagemaker_role = iam_client.get_role(RoleName=exec_role_name)[\"Role\"][\"Arn\"]\n",
    "    print(f\"\\n instantiating sagemaker_role with supplied role name : {sagemaker_role}\")\n",
    "\n",
    "account_id = boto3.client(\"sts\").get_caller_identity()[\"Account\"]\n",
    "print(account_id)"
   ]
  },
  {
   "cell_type": "code",
   "execution_count": 6,
   "id": "14c4ba9a-0ea7-4a5e-b480-b520e7554da3",
   "metadata": {},
   "outputs": [],
   "source": [
    "# Upload Files to S3 Buckets\n",
    "#s3_client.upload_file(Filename=\"Data/customers.csv\", Bucket=BUCKET, Key=f\"{PREFIX}/data/raw/customers.csv\")\n",
    "#s3_client.upload_file(Filename=\"Data/claims.csv\", Bucket=BUCKET, Key=f\"{PREFIX}/data/raw/claims.csv\")"
   ]
  },
  {
   "cell_type": "markdown",
   "id": "fb30cb77-c7a4-46b7-9232-f3ff41b413ba",
   "metadata": {},
   "source": [
    "### USE DATA WRANGLER UI TO TRANSFORM THE ABOVE RAW DATA AND GENERATE THE BELOW PROCESSED DATA\n",
    "**I am skipping for this now. But will learn more about this step"
   ]
  },
  {
   "cell_type": "code",
   "execution_count": 9,
   "id": "027219f7-a9fb-4dd3-b364-3a5f2215a01c",
   "metadata": {},
   "outputs": [
    {
     "name": "stdout",
     "output_type": "stream",
     "text": [
      "policy_id                            int64\n",
      "incident_severity                  float64\n",
      "num_vehicles_involved                int64\n",
      "num_injuries                         int64\n",
      "num_witnesses                        int64\n",
      "police_report_available            float64\n",
      "injury_claim                         int64\n",
      "vehicle_claim                        int64\n",
      "total_claim_amount                   int64\n",
      "incident_month                       int64\n",
      "incident_day                         int64\n",
      "incident_dow                         int64\n",
      "incident_hour                        int64\n",
      "fraud                                int64\n",
      "driver_relationship_self           float64\n",
      "driver_relationship_na             float64\n",
      "driver_relationship_spouse         float64\n",
      "driver_relationship_child          float64\n",
      "driver_relationship_other          float64\n",
      "incident_type_collision            float64\n",
      "incident_type_breakin              float64\n",
      "incident_type_theft                float64\n",
      "collision_type_front               float64\n",
      "collision_type_rear                float64\n",
      "collision_type_side                float64\n",
      "collision_type_na                  float64\n",
      "authorities_contacted_police       float64\n",
      "authorities_contacted_none         float64\n",
      "authorities_contacted_fire         float64\n",
      "authorities_contacted_ambulance    float64\n",
      "dtype: object\n",
      "policy_id                      int64\n",
      "customer_age                   int64\n",
      "customer_education             int64\n",
      "months_as_customer             int64\n",
      "policy_deductable              int64\n",
      "policy_annual_premium          int64\n",
      "policy_liability               int64\n",
      "auto_year                      int64\n",
      "num_claims_past_year           int64\n",
      "num_insurers_past_5_years      int64\n",
      "customer_gender_male         float64\n",
      "customer_gender_female       float64\n",
      "policy_state_ca              float64\n",
      "policy_state_wa              float64\n",
      "policy_state_az              float64\n",
      "policy_state_or              float64\n",
      "policy_state_nv              float64\n",
      "policy_state_id              float64\n",
      "dtype: object\n"
     ]
    }
   ],
   "source": [
    "s3_uri = f\"s3://{BUCKET}\"\n",
    "\n",
    "claims_data = pd.read_csv(f\"{s3_uri}/{PREFIX}/data/claims_preprocessed.csv\")\n",
    "customers_data = pd.read_csv(f\"{s3_uri}/{PREFIX}/data/customers_preprocessed.csv\")\n",
    "print(claims_data.dtypes)\n",
    "print(customers_data.dtypes)"
   ]
  },
  {
   "cell_type": "code",
   "execution_count": 10,
   "id": "6cd2ea5c-301b-4772-baac-3fa6e8a85027",
   "metadata": {},
   "outputs": [
    {
     "name": "stdout",
     "output_type": "stream",
     "text": [
      "Index(['policy_id', 'incident_severity', 'num_vehicles_involved',\n",
      "       'num_injuries', 'num_witnesses', 'police_report_available',\n",
      "       'injury_claim', 'vehicle_claim', 'total_claim_amount', 'incident_month',\n",
      "       'incident_day', 'incident_dow', 'incident_hour', 'fraud',\n",
      "       'driver_relationship_self', 'driver_relationship_na',\n",
      "       'driver_relationship_spouse', 'driver_relationship_child',\n",
      "       'driver_relationship_other', 'incident_type_collision',\n",
      "       'incident_type_breakin', 'incident_type_theft', 'collision_type_front',\n",
      "       'collision_type_rear', 'collision_type_side', 'collision_type_na',\n",
      "       'authorities_contacted_police', 'authorities_contacted_none',\n",
      "       'authorities_contacted_fire', 'authorities_contacted_ambulance'],\n",
      "      dtype='object') \n",
      "\n",
      "Index(['policy_id', 'customer_age', 'customer_education', 'months_as_customer',\n",
      "       'policy_deductable', 'policy_annual_premium', 'policy_liability',\n",
      "       'auto_year', 'num_claims_past_year', 'num_insurers_past_5_years',\n",
      "       'customer_gender_male', 'customer_gender_female', 'policy_state_ca',\n",
      "       'policy_state_wa', 'policy_state_az', 'policy_state_or',\n",
      "       'policy_state_nv', 'policy_state_id'],\n",
      "      dtype='object') \n",
      "\n",
      "\n",
      "Policy id is the unique identifier in both cases\n",
      "5000 5000\n",
      "5000 5000\n"
     ]
    }
   ],
   "source": [
    "print(claims_data.columns, \"\\n\")\n",
    "print(customers_data.columns, \"\\n\")\n",
    "print()\n",
    "print(\"Policy id is the unique identifier in both cases\")\n",
    "print(claims_data.shape[0], claims_data['policy_id'].nunique())\n",
    "print(customers_data.shape[0], customers_data['policy_id'].nunique())"
   ]
  },
  {
   "cell_type": "markdown",
   "id": "f07e185c-53ca-4550-826b-ec8b19fdc505",
   "metadata": {},
   "source": [
    "### Create Two Feature Groups for claims and customers.\n",
    "Feature Groups is equivalent to tables/datasets."
   ]
  },
  {
   "cell_type": "code",
   "execution_count": 7,
   "id": "56a1ee50-6a96-404a-b247-229e083eb624",
   "metadata": {},
   "outputs": [
    {
     "name": "stdout",
     "output_type": "stream",
     "text": [
      "customers-feature-group-25-12-17-38 \n",
      " claims-feature-group-25-12-17-38\n"
     ]
    }
   ],
   "source": [
    "customers_feature_group_name = \"customers-feature-group-\" + strftime(\"%d-%H-%M-%S\", gmtime())\n",
    "claims_feature_group_name = \"claims-feature-group-\" + strftime(\"%d-%H-%M-%S\", gmtime())\n",
    "print(customers_feature_group_name, \"\\n\", claims_feature_group_name)"
   ]
  },
  {
   "cell_type": "code",
   "execution_count": 9,
   "id": "9e0e197d-a0c0-48b4-9c6a-571e040dcad4",
   "metadata": {},
   "outputs": [],
   "source": [
    "# Initiate Feature Group objects. Each feature group reprsents a table.\n",
    "customers_feature_group = FeatureGroup(customers_feature_group_name, sagemaker_session)\n",
    "claims_feature_group = FeatureGroup(claims_feature_group_name, sagemaker_session)"
   ]
  },
  {
   "cell_type": "code",
   "execution_count": 10,
   "id": "b08522e7-4765-4789-8baa-22974065a407",
   "metadata": {},
   "outputs": [
    {
     "name": "stdout",
     "output_type": "stream",
     "text": [
      "0       1.748176e+09\n",
      "1       1.748176e+09\n",
      "2       1.748176e+09\n",
      "3       1.748176e+09\n",
      "4       1.748176e+09\n",
      "            ...     \n",
      "4995    1.748176e+09\n",
      "4996    1.748176e+09\n",
      "4997    1.748176e+09\n",
      "4998    1.748176e+09\n",
      "4999    1.748176e+09\n",
      "Name: EventTime, Length: 5000, dtype: float64\n"
     ]
    }
   ],
   "source": [
    "# Add event time in the datasets, that is required\n",
    "customers_data['EventTime'] = time.time()\n",
    "claims_data['EventTime'] = time.time()\n",
    "print(customers_data['EventTime'])"
   ]
  },
  {
   "cell_type": "markdown",
   "id": "3590f22a-3cd9-432a-ace8-dcbeb0b41453",
   "metadata": {},
   "source": [
    "### Load Feature Definitions into the feature groups"
   ]
  },
  {
   "cell_type": "code",
   "execution_count": 11,
   "id": "3efc7a67-8aa6-4693-aa79-7758fb1f6ffa",
   "metadata": {},
   "outputs": [
    {
     "data": {
      "text/plain": [
       "[FeatureDefinition(feature_name='policy_id', feature_type=<FeatureTypeEnum.INTEGRAL: 'Integral'>, collection_type=None),\n",
       " FeatureDefinition(feature_name='incident_severity', feature_type=<FeatureTypeEnum.FRACTIONAL: 'Fractional'>, collection_type=None),\n",
       " FeatureDefinition(feature_name='num_vehicles_involved', feature_type=<FeatureTypeEnum.INTEGRAL: 'Integral'>, collection_type=None),\n",
       " FeatureDefinition(feature_name='num_injuries', feature_type=<FeatureTypeEnum.INTEGRAL: 'Integral'>, collection_type=None),\n",
       " FeatureDefinition(feature_name='num_witnesses', feature_type=<FeatureTypeEnum.INTEGRAL: 'Integral'>, collection_type=None),\n",
       " FeatureDefinition(feature_name='police_report_available', feature_type=<FeatureTypeEnum.FRACTIONAL: 'Fractional'>, collection_type=None),\n",
       " FeatureDefinition(feature_name='injury_claim', feature_type=<FeatureTypeEnum.INTEGRAL: 'Integral'>, collection_type=None),\n",
       " FeatureDefinition(feature_name='vehicle_claim', feature_type=<FeatureTypeEnum.INTEGRAL: 'Integral'>, collection_type=None),\n",
       " FeatureDefinition(feature_name='total_claim_amount', feature_type=<FeatureTypeEnum.INTEGRAL: 'Integral'>, collection_type=None),\n",
       " FeatureDefinition(feature_name='incident_month', feature_type=<FeatureTypeEnum.INTEGRAL: 'Integral'>, collection_type=None),\n",
       " FeatureDefinition(feature_name='incident_day', feature_type=<FeatureTypeEnum.INTEGRAL: 'Integral'>, collection_type=None),\n",
       " FeatureDefinition(feature_name='incident_dow', feature_type=<FeatureTypeEnum.INTEGRAL: 'Integral'>, collection_type=None),\n",
       " FeatureDefinition(feature_name='incident_hour', feature_type=<FeatureTypeEnum.INTEGRAL: 'Integral'>, collection_type=None),\n",
       " FeatureDefinition(feature_name='fraud', feature_type=<FeatureTypeEnum.INTEGRAL: 'Integral'>, collection_type=None),\n",
       " FeatureDefinition(feature_name='driver_relationship_self', feature_type=<FeatureTypeEnum.FRACTIONAL: 'Fractional'>, collection_type=None),\n",
       " FeatureDefinition(feature_name='driver_relationship_na', feature_type=<FeatureTypeEnum.FRACTIONAL: 'Fractional'>, collection_type=None),\n",
       " FeatureDefinition(feature_name='driver_relationship_spouse', feature_type=<FeatureTypeEnum.FRACTIONAL: 'Fractional'>, collection_type=None),\n",
       " FeatureDefinition(feature_name='driver_relationship_child', feature_type=<FeatureTypeEnum.FRACTIONAL: 'Fractional'>, collection_type=None),\n",
       " FeatureDefinition(feature_name='driver_relationship_other', feature_type=<FeatureTypeEnum.FRACTIONAL: 'Fractional'>, collection_type=None),\n",
       " FeatureDefinition(feature_name='incident_type_collision', feature_type=<FeatureTypeEnum.FRACTIONAL: 'Fractional'>, collection_type=None),\n",
       " FeatureDefinition(feature_name='incident_type_breakin', feature_type=<FeatureTypeEnum.FRACTIONAL: 'Fractional'>, collection_type=None),\n",
       " FeatureDefinition(feature_name='incident_type_theft', feature_type=<FeatureTypeEnum.FRACTIONAL: 'Fractional'>, collection_type=None),\n",
       " FeatureDefinition(feature_name='collision_type_front', feature_type=<FeatureTypeEnum.FRACTIONAL: 'Fractional'>, collection_type=None),\n",
       " FeatureDefinition(feature_name='collision_type_rear', feature_type=<FeatureTypeEnum.FRACTIONAL: 'Fractional'>, collection_type=None),\n",
       " FeatureDefinition(feature_name='collision_type_side', feature_type=<FeatureTypeEnum.FRACTIONAL: 'Fractional'>, collection_type=None),\n",
       " FeatureDefinition(feature_name='collision_type_na', feature_type=<FeatureTypeEnum.FRACTIONAL: 'Fractional'>, collection_type=None),\n",
       " FeatureDefinition(feature_name='authorities_contacted_police', feature_type=<FeatureTypeEnum.FRACTIONAL: 'Fractional'>, collection_type=None),\n",
       " FeatureDefinition(feature_name='authorities_contacted_none', feature_type=<FeatureTypeEnum.FRACTIONAL: 'Fractional'>, collection_type=None),\n",
       " FeatureDefinition(feature_name='authorities_contacted_fire', feature_type=<FeatureTypeEnum.FRACTIONAL: 'Fractional'>, collection_type=None),\n",
       " FeatureDefinition(feature_name='authorities_contacted_ambulance', feature_type=<FeatureTypeEnum.FRACTIONAL: 'Fractional'>, collection_type=None),\n",
       " FeatureDefinition(feature_name='EventTime', feature_type=<FeatureTypeEnum.FRACTIONAL: 'Fractional'>, collection_type=None)]"
      ]
     },
     "execution_count": 11,
     "metadata": {},
     "output_type": "execute_result"
    }
   ],
   "source": [
    "customers_feature_group.load_feature_definitions(data_frame=customers_data)\n",
    "claims_feature_group.load_feature_definitions(data_frame=claims_data)"
   ]
  },
  {
   "cell_type": "markdown",
   "id": "2cecff9e-2ce0-4339-8a9c-68676aec49ca",
   "metadata": {},
   "source": [
    "### The following calls create to create two feature groups, customers_feature_group and orders_feature_group, respectively:\n",
    "Point to note, only the necessary structure will be created on \"Feature Store\" we still need to load the data yet."
   ]
  },
  {
   "cell_type": "code",
   "execution_count": 12,
   "id": "fceb2493-9034-40ff-b767-bc84c3f3af62",
   "metadata": {},
   "outputs": [
    {
     "data": {
      "text/plain": [
       "{'FeatureGroupArn': 'arn:aws:sagemaker:us-east-1:205930620783:feature-group/claims-feature-group-25-12-17-38',\n",
       " 'ResponseMetadata': {'RequestId': '0dad4a61-3f7a-49d9-84f0-4b61842e6a13',\n",
       "  'HTTPStatusCode': 200,\n",
       "  'HTTPHeaders': {'x-amzn-requestid': '0dad4a61-3f7a-49d9-84f0-4b61842e6a13',\n",
       "   'content-type': 'application/x-amz-json-1.1',\n",
       "   'content-length': '109',\n",
       "   'date': 'Sun, 25 May 2025 12:22:20 GMT'},\n",
       "  'RetryAttempts': 1}}"
      ]
     },
     "execution_count": 12,
     "metadata": {},
     "output_type": "execute_result"
    }
   ],
   "source": [
    "\n",
    "customers_feature_group.create(\n",
    "    s3_uri = f\"{s3_uri}/{PREFIX}/data/feature_store\",\n",
    "    record_identifier_name='policy_id',\n",
    "    event_time_feature_name=\"EventTime\",\n",
    "    role_arn=ROLE,\n",
    "    enable_online_store=True\n",
    ")\n",
    "\n",
    "\n",
    "claims_feature_group.create(\n",
    "    s3_uri = f\"{s3_uri}/{PREFIX}/data/feature_store\",\n",
    "    record_identifier_name='policy_id',\n",
    "    event_time_feature_name=\"EventTime\",\n",
    "    role_arn=ROLE,\n",
    "    enable_online_store=True\n",
    ")"
   ]
  },
  {
   "cell_type": "code",
   "execution_count": 17,
   "id": "d9bff051-a147-46f1-b361-f95f5610255d",
   "metadata": {},
   "outputs": [
    {
     "name": "stdout",
     "output_type": "stream",
     "text": [
      "{'FeatureGroupArn': 'arn:aws:sagemaker:us-east-1:205930620783:feature-group/customers-feature-group-25-12-17-38', 'FeatureGroupName': 'customers-feature-group-25-12-17-38', 'RecordIdentifierFeatureName': 'policy_id', 'EventTimeFeatureName': 'EventTime', 'FeatureDefinitions': [{'FeatureName': 'policy_id', 'FeatureType': 'Integral'}, {'FeatureName': 'customer_age', 'FeatureType': 'Integral'}, {'FeatureName': 'customer_education', 'FeatureType': 'Integral'}, {'FeatureName': 'months_as_customer', 'FeatureType': 'Integral'}, {'FeatureName': 'policy_deductable', 'FeatureType': 'Integral'}, {'FeatureName': 'policy_annual_premium', 'FeatureType': 'Integral'}, {'FeatureName': 'policy_liability', 'FeatureType': 'Integral'}, {'FeatureName': 'auto_year', 'FeatureType': 'Integral'}, {'FeatureName': 'num_claims_past_year', 'FeatureType': 'Integral'}, {'FeatureName': 'num_insurers_past_5_years', 'FeatureType': 'Integral'}, {'FeatureName': 'customer_gender_male', 'FeatureType': 'Fractional'}, {'FeatureName': 'customer_gender_female', 'FeatureType': 'Fractional'}, {'FeatureName': 'policy_state_ca', 'FeatureType': 'Fractional'}, {'FeatureName': 'policy_state_wa', 'FeatureType': 'Fractional'}, {'FeatureName': 'policy_state_az', 'FeatureType': 'Fractional'}, {'FeatureName': 'policy_state_or', 'FeatureType': 'Fractional'}, {'FeatureName': 'policy_state_nv', 'FeatureType': 'Fractional'}, {'FeatureName': 'policy_state_id', 'FeatureType': 'Fractional'}, {'FeatureName': 'EventTime', 'FeatureType': 'Fractional'}], 'CreationTime': datetime.datetime(2025, 5, 25, 12, 22, 19, 134000, tzinfo=tzlocal()), 'OnlineStoreConfig': {'EnableOnlineStore': True}, 'OfflineStoreConfig': {'S3StorageConfig': {'S3Uri': 's3://sagemaker-us-east-1-205930620783/FraudDetection_AutoInsurance/data/feature_store', 'ResolvedOutputS3Uri': 's3://sagemaker-us-east-1-205930620783/FraudDetection_AutoInsurance/data/feature_store/205930620783/sagemaker/us-east-1/offline-store/customers-feature-group-25-12-17-38-1748175739/data'}, 'DisableGlueTableCreation': False, 'DataCatalogConfig': {'TableName': 'customers_feature_group_25_12_17_38_1748175739', 'Catalog': 'AwsDataCatalog', 'Database': 'sagemaker_featurestore'}}, 'ThroughputConfig': {'ThroughputMode': 'OnDemand'}, 'RoleArn': 'arn:aws:iam::205930620783:role/service-role/AmazonSageMaker-ExecutionRole-20250401T145997', 'FeatureGroupStatus': 'Created', 'OnlineStoreTotalSizeBytes': 0, 'ResponseMetadata': {'RequestId': '7cf90579-bb66-4cd9-9d1a-ffb064ecd925', 'HTTPStatusCode': 200, 'HTTPHeaders': {'x-amzn-requestid': '7cf90579-bb66-4cd9-9d1a-ffb064ecd925', 'content-type': 'application/x-amz-json-1.1', 'content-length': '2758', 'date': 'Sun, 25 May 2025 12:26:51 GMT'}, 'RetryAttempts': 0}}\n"
     ]
    }
   ],
   "source": [
    "print(customers_feature_group.describe())"
   ]
  },
  {
   "cell_type": "markdown",
   "id": "b8fe74e7-f6ad-49a6-b64b-e5bd0540652c",
   "metadata": {},
   "source": [
    "### List Feature Groups"
   ]
  },
  {
   "cell_type": "code",
   "execution_count": 11,
   "id": "2ed6cac7-a39c-459f-a531-5a43fbad2eeb",
   "metadata": {},
   "outputs": [
    {
     "name": "stdout",
     "output_type": "stream",
     "text": [
      "{'FeatureGroupSummaries': [{'FeatureGroupName': 'customers-feature-group-25-12-17-38', 'FeatureGroupArn': 'arn:aws:sagemaker:us-east-1:205930620783:feature-group/customers-feature-group-25-12-17-38', 'CreationTime': datetime.datetime(2025, 5, 25, 12, 22, 19, 134000, tzinfo=tzlocal()), 'FeatureGroupStatus': 'Created', 'OfflineStoreStatus': {'Status': 'Active'}}, {'FeatureGroupName': 'claims-feature-group-25-12-17-38', 'FeatureGroupArn': 'arn:aws:sagemaker:us-east-1:205930620783:feature-group/claims-feature-group-25-12-17-38', 'CreationTime': datetime.datetime(2025, 5, 25, 12, 22, 20, 178000, tzinfo=tzlocal()), 'FeatureGroupStatus': 'Created', 'OfflineStoreStatus': {'Status': 'Active'}}], 'ResponseMetadata': {'RequestId': '233c2494-73ed-4108-8a4c-98cd057027d4', 'HTTPStatusCode': 200, 'HTTPHeaders': {'x-amzn-requestid': '233c2494-73ed-4108-8a4c-98cd057027d4', 'content-type': 'application/x-amz-json-1.1', 'content-length': '569', 'date': 'Wed, 11 Jun 2025 12:07:12 GMT'}, 'RetryAttempts': 0}}\n",
      "\n",
      "{'FeatureGroupSummaries': [{'FeatureGroupName': 'customers-feature-group-25-12-17-38', 'FeatureGroupArn': 'arn:aws:sagemaker:us-east-1:205930620783:feature-group/customers-feature-group-25-12-17-38', 'CreationTime': datetime.datetime(2025, 5, 25, 12, 22, 19, 134000, tzinfo=tzlocal()), 'FeatureGroupStatus': 'Created', 'OfflineStoreStatus': {'Status': 'Active'}}, {'FeatureGroupName': 'claims-feature-group-25-12-17-38', 'FeatureGroupArn': 'arn:aws:sagemaker:us-east-1:205930620783:feature-group/claims-feature-group-25-12-17-38', 'CreationTime': datetime.datetime(2025, 5, 25, 12, 22, 20, 178000, tzinfo=tzlocal()), 'FeatureGroupStatus': 'Created', 'OfflineStoreStatus': {'Status': 'Active'}}], 'ResponseMetadata': {'RequestId': '1445493c-2378-461f-81c0-acb1ecc122c2', 'HTTPStatusCode': 200, 'HTTPHeaders': {'x-amzn-requestid': '1445493c-2378-461f-81c0-acb1ecc122c2', 'content-type': 'application/x-amz-json-1.1', 'content-length': '569', 'date': 'Wed, 11 Jun 2025 12:07:12 GMT'}, 'RetryAttempts': 0}}\n"
     ]
    }
   ],
   "source": [
    "print(sagemaker_session.boto_session.client('sagemaker').list_feature_groups())\n",
    "print()\n",
    "print(boto3.client('sagemaker').list_feature_groups())"
   ]
  },
  {
   "cell_type": "code",
   "execution_count": 12,
   "id": "f4cde7f5-7456-4306-96fd-0fe7066c50cd",
   "metadata": {},
   "outputs": [
    {
     "data": {
      "text/html": [
       "<pre style=\"white-space:pre;overflow-x:auto;line-height:normal;font-family:Menlo,'DejaVu Sans Mono',consolas,'Courier New',monospace\"><span style=\"color: #ff0000; text-decoration-color: #ff0000\">╭─────────────────────────────── </span><span style=\"color: #ff0000; text-decoration-color: #ff0000; font-weight: bold\">Traceback </span><span style=\"color: #ff7f7f; text-decoration-color: #ff7f7f; font-weight: bold\">(most recent call last)</span><span style=\"color: #ff0000; text-decoration-color: #ff0000\"> ────────────────────────────────╮</span>\n",
       "<span style=\"color: #ff0000; text-decoration-color: #ff0000\">│</span> in <span style=\"color: #00ff00; text-decoration-color: #00ff00\">&lt;module&gt;</span>:<span style=\"color: #0000ff; text-decoration-color: #0000ff\">9</span>                                                                                    <span style=\"color: #ff0000; text-decoration-color: #ff0000\">│</span>\n",
       "<span style=\"color: #ff0000; text-decoration-color: #ff0000\">│</span>                                                                                                  <span style=\"color: #ff0000; text-decoration-color: #ff0000\">│</span>\n",
       "<span style=\"color: #ff0000; text-decoration-color: #ff0000\">│</span>   <span style=\"color: #7f7f7f; text-decoration-color: #7f7f7f\"> 6 </span><span style=\"color: #7f7f7f; text-decoration-color: #7f7f7f\">│   │   </span>status = feature_group.describe().get(<span style=\"color: #808000; text-decoration-color: #808000\">\"FeatureGroupStatus\"</span>)                         <span style=\"color: #ff0000; text-decoration-color: #ff0000\">│</span>\n",
       "<span style=\"color: #ff0000; text-decoration-color: #ff0000\">│</span>   <span style=\"color: #7f7f7f; text-decoration-color: #7f7f7f\"> 7 </span><span style=\"color: #7f7f7f; text-decoration-color: #7f7f7f\">│   </span><span style=\"color: #00ffff; text-decoration-color: #00ffff\">print</span>(<span style=\"color: #808000; text-decoration-color: #808000\">f\"FeatureGroup {</span>feature_group.name<span style=\"color: #808000; text-decoration-color: #808000\">} successfully created.\"</span>)                       <span style=\"color: #ff0000; text-decoration-color: #ff0000\">│</span>\n",
       "<span style=\"color: #ff0000; text-decoration-color: #ff0000\">│</span>   <span style=\"color: #7f7f7f; text-decoration-color: #7f7f7f\"> 8 </span>                                                                                            <span style=\"color: #ff0000; text-decoration-color: #ff0000\">│</span>\n",
       "<span style=\"color: #ff0000; text-decoration-color: #ff0000\">│</span> <span style=\"color: #800000; text-decoration-color: #800000\">❱ </span> 9 check_feature_group_status(<span style=\"font-weight: bold; text-decoration: underline\">customers_feature_group</span>)                                         <span style=\"color: #ff0000; text-decoration-color: #ff0000\">│</span>\n",
       "<span style=\"color: #ff0000; text-decoration-color: #ff0000\">│</span>   <span style=\"color: #7f7f7f; text-decoration-color: #7f7f7f\">10 </span>check_feature_group_status(claims_feature_group)                                            <span style=\"color: #ff0000; text-decoration-color: #ff0000\">│</span>\n",
       "<span style=\"color: #ff0000; text-decoration-color: #ff0000\">│</span>   <span style=\"color: #7f7f7f; text-decoration-color: #7f7f7f\">11 </span>                                                                                            <span style=\"color: #ff0000; text-decoration-color: #ff0000\">│</span>\n",
       "<span style=\"color: #ff0000; text-decoration-color: #ff0000\">╰──────────────────────────────────────────────────────────────────────────────────────────────────╯</span>\n",
       "<span style=\"color: #ff0000; text-decoration-color: #ff0000; font-weight: bold\">NameError: </span>name <span style=\"color: #008700; text-decoration-color: #008700\">'customers_feature_group'</span> is not defined\n",
       "</pre>\n"
      ],
      "text/plain": [
       "\u001b[38;2;255;0;0m╭─\u001b[0m\u001b[38;2;255;0;0m──────────────────────────────\u001b[0m\u001b[38;2;255;0;0m \u001b[0m\u001b[1;38;2;255;0;0mTraceback \u001b[0m\u001b[1;2;38;2;255;0;0m(most recent call last)\u001b[0m\u001b[38;2;255;0;0m \u001b[0m\u001b[38;2;255;0;0m───────────────────────────────\u001b[0m\u001b[38;2;255;0;0m─╮\u001b[0m\n",
       "\u001b[38;2;255;0;0m│\u001b[0m in \u001b[92m<module>\u001b[0m:\u001b[94m9\u001b[0m                                                                                    \u001b[38;2;255;0;0m│\u001b[0m\n",
       "\u001b[38;2;255;0;0m│\u001b[0m                                                                                                  \u001b[38;2;255;0;0m│\u001b[0m\n",
       "\u001b[38;2;255;0;0m│\u001b[0m   \u001b[2m 6 \u001b[0m\u001b[2m│   │   \u001b[0mstatus = feature_group.describe().get(\u001b[33m\"\u001b[0m\u001b[33mFeatureGroupStatus\u001b[0m\u001b[33m\"\u001b[0m)                         \u001b[38;2;255;0;0m│\u001b[0m\n",
       "\u001b[38;2;255;0;0m│\u001b[0m   \u001b[2m 7 \u001b[0m\u001b[2m│   \u001b[0m\u001b[96mprint\u001b[0m(\u001b[33mf\u001b[0m\u001b[33m\"\u001b[0m\u001b[33mFeatureGroup \u001b[0m\u001b[33m{\u001b[0mfeature_group.name\u001b[33m}\u001b[0m\u001b[33m successfully created.\u001b[0m\u001b[33m\"\u001b[0m)                       \u001b[38;2;255;0;0m│\u001b[0m\n",
       "\u001b[38;2;255;0;0m│\u001b[0m   \u001b[2m 8 \u001b[0m                                                                                            \u001b[38;2;255;0;0m│\u001b[0m\n",
       "\u001b[38;2;255;0;0m│\u001b[0m \u001b[31m❱ \u001b[0m 9 check_feature_group_status(\u001b[1;4mcustomers_feature_group\u001b[0m)                                         \u001b[38;2;255;0;0m│\u001b[0m\n",
       "\u001b[38;2;255;0;0m│\u001b[0m   \u001b[2m10 \u001b[0mcheck_feature_group_status(claims_feature_group)                                            \u001b[38;2;255;0;0m│\u001b[0m\n",
       "\u001b[38;2;255;0;0m│\u001b[0m   \u001b[2m11 \u001b[0m                                                                                            \u001b[38;2;255;0;0m│\u001b[0m\n",
       "\u001b[38;2;255;0;0m╰──────────────────────────────────────────────────────────────────────────────────────────────────╯\u001b[0m\n",
       "\u001b[1;91mNameError: \u001b[0mname \u001b[38;2;0;135;0m'customers_feature_group'\u001b[0m is not defined\n"
      ]
     },
     "metadata": {},
     "output_type": "display_data"
    }
   ],
   "source": [
    "def check_feature_group_status(feature_group):\n",
    "    status = feature_group.describe().get(\"FeatureGroupStatus\")\n",
    "    while status == \"Creating\":\n",
    "        print(\"Waiting for Feature Group to be Created\")\n",
    "        time.sleep(5)\n",
    "        status = feature_group.describe().get(\"FeatureGroupStatus\")\n",
    "    print(f\"FeatureGroup {feature_group.name} successfully created.\")\n",
    "\n",
    "check_feature_group_status(customers_feature_group)\n",
    "check_feature_group_status(claims_feature_group)"
   ]
  },
  {
   "cell_type": "markdown",
   "id": "f56332b4-385c-4bf9-8055-e97f00393d9f",
   "metadata": {},
   "source": [
    "### Upload data into feature groups"
   ]
  },
  {
   "cell_type": "code",
   "execution_count": 23,
   "id": "b0a4c19b-6a8f-4e42-8b77-7e783dfd1a98",
   "metadata": {},
   "outputs": [
    {
     "data": {
      "text/plain": [
       "IngestionManagerPandas(feature_group_name='claims-feature-group-25-12-17-38', feature_definitions={'policy_id': {'FeatureName': 'policy_id', 'FeatureType': 'Integral'}, 'incident_severity': {'FeatureName': 'incident_severity', 'FeatureType': 'Fractional'}, 'num_vehicles_involved': {'FeatureName': 'num_vehicles_involved', 'FeatureType': 'Integral'}, 'num_injuries': {'FeatureName': 'num_injuries', 'FeatureType': 'Integral'}, 'num_witnesses': {'FeatureName': 'num_witnesses', 'FeatureType': 'Integral'}, 'police_report_available': {'FeatureName': 'police_report_available', 'FeatureType': 'Fractional'}, 'injury_claim': {'FeatureName': 'injury_claim', 'FeatureType': 'Integral'}, 'vehicle_claim': {'FeatureName': 'vehicle_claim', 'FeatureType': 'Integral'}, 'total_claim_amount': {'FeatureName': 'total_claim_amount', 'FeatureType': 'Integral'}, 'incident_month': {'FeatureName': 'incident_month', 'FeatureType': 'Integral'}, 'incident_day': {'FeatureName': 'incident_day', 'FeatureType': 'Integral'}, 'incident_dow': {'FeatureName': 'incident_dow', 'FeatureType': 'Integral'}, 'incident_hour': {'FeatureName': 'incident_hour', 'FeatureType': 'Integral'}, 'fraud': {'FeatureName': 'fraud', 'FeatureType': 'Integral'}, 'driver_relationship_self': {'FeatureName': 'driver_relationship_self', 'FeatureType': 'Fractional'}, 'driver_relationship_na': {'FeatureName': 'driver_relationship_na', 'FeatureType': 'Fractional'}, 'driver_relationship_spouse': {'FeatureName': 'driver_relationship_spouse', 'FeatureType': 'Fractional'}, 'driver_relationship_child': {'FeatureName': 'driver_relationship_child', 'FeatureType': 'Fractional'}, 'driver_relationship_other': {'FeatureName': 'driver_relationship_other', 'FeatureType': 'Fractional'}, 'incident_type_collision': {'FeatureName': 'incident_type_collision', 'FeatureType': 'Fractional'}, 'incident_type_breakin': {'FeatureName': 'incident_type_breakin', 'FeatureType': 'Fractional'}, 'incident_type_theft': {'FeatureName': 'incident_type_theft', 'FeatureType': 'Fractional'}, 'collision_type_front': {'FeatureName': 'collision_type_front', 'FeatureType': 'Fractional'}, 'collision_type_rear': {'FeatureName': 'collision_type_rear', 'FeatureType': 'Fractional'}, 'collision_type_side': {'FeatureName': 'collision_type_side', 'FeatureType': 'Fractional'}, 'collision_type_na': {'FeatureName': 'collision_type_na', 'FeatureType': 'Fractional'}, 'authorities_contacted_police': {'FeatureName': 'authorities_contacted_police', 'FeatureType': 'Fractional'}, 'authorities_contacted_none': {'FeatureName': 'authorities_contacted_none', 'FeatureType': 'Fractional'}, 'authorities_contacted_fire': {'FeatureName': 'authorities_contacted_fire', 'FeatureType': 'Fractional'}, 'authorities_contacted_ambulance': {'FeatureName': 'authorities_contacted_ambulance', 'FeatureType': 'Fractional'}, 'EventTime': {'FeatureName': 'EventTime', 'FeatureType': 'Fractional'}}, sagemaker_fs_runtime_client_config=<botocore.config.Config object at 0x7ffb02a1bf50>, sagemaker_session=<sagemaker.session.Session object at 0x7ffb3dc268a0>, max_workers=3, max_processes=1, profile_name=None, _async_result=<multiprocess.pool.MapResult object at 0x7ffaeb4a5670>, _processing_pool=<pool ProcessPool(ncpus=1)>, _failed_indices=[])"
      ]
     },
     "execution_count": 23,
     "metadata": {},
     "output_type": "execute_result"
    }
   ],
   "source": [
    "customers_feature_group.ingest(data_frame=customers_data, max_workers=3, wait=True) \n",
    "claims_feature_group.ingest(data_frame=claims_data, max_workers=3, wait=True) "
   ]
  },
  {
   "cell_type": "markdown",
   "id": "968bd966-4617-4a3f-ad59-e7cb928d5555",
   "metadata": {},
   "source": [
    "### If feature group already exists then initialize the feature group object and get the data"
   ]
  },
  {
   "cell_type": "code",
   "execution_count": 16,
   "id": "8b615a63-0e7b-4a6e-9ce6-691dd9c38b72",
   "metadata": {},
   "outputs": [
    {
     "name": "stdout",
     "output_type": "stream",
     "text": [
      "{'FeatureGroupSummaries': [{'FeatureGroupName': 'customers-feature-group-25-12-17-38', 'FeatureGroupArn': 'arn:aws:sagemaker:us-east-1:205930620783:feature-group/customers-feature-group-25-12-17-38', 'CreationTime': datetime.datetime(2025, 5, 25, 12, 22, 19, 134000, tzinfo=tzlocal()), 'FeatureGroupStatus': 'Created', 'OfflineStoreStatus': {'Status': 'Active'}}, {'FeatureGroupName': 'claims-feature-group-25-12-17-38', 'FeatureGroupArn': 'arn:aws:sagemaker:us-east-1:205930620783:feature-group/claims-feature-group-25-12-17-38', 'CreationTime': datetime.datetime(2025, 5, 25, 12, 22, 20, 178000, tzinfo=tzlocal()), 'FeatureGroupStatus': 'Created', 'OfflineStoreStatus': {'Status': 'Active'}}], 'ResponseMetadata': {'RequestId': '35d08d8f-917b-407c-8bdf-a2c049753087', 'HTTPStatusCode': 200, 'HTTPHeaders': {'x-amzn-requestid': '35d08d8f-917b-407c-8bdf-a2c049753087', 'content-type': 'application/x-amz-json-1.1', 'content-length': '569', 'date': 'Wed, 11 Jun 2025 12:12:27 GMT'}, 'RetryAttempts': 0}}\n",
      "\n"
     ]
    }
   ],
   "source": [
    "print(sagemaker_session.boto_session.client('sagemaker').list_feature_groups())\n",
    "print()\n",
    "feature_groups = boto3.client('sagemaker').list_feature_groups()"
   ]
  },
  {
   "cell_type": "code",
   "execution_count": 18,
   "id": "98e454d8-ec14-42df-9dbc-1ab57c27a5d4",
   "metadata": {},
   "outputs": [],
   "source": [
    "customers_feature_group_name = feature_groups['FeatureGroupSummaries'][0]['FeatureGroupName']\n",
    "claims_feature_group_name = feature_groups['FeatureGroupSummaries'][1]['FeatureGroupName']"
   ]
  },
  {
   "cell_type": "code",
   "execution_count": 20,
   "id": "8946fad5-10d4-4247-96c7-27c16eacf41a",
   "metadata": {},
   "outputs": [
    {
     "data": {
      "text/plain": [
       "{'FeatureGroupArn': 'arn:aws:sagemaker:us-east-1:205930620783:feature-group/claims-feature-group-25-12-17-38',\n",
       " 'FeatureGroupName': 'claims-feature-group-25-12-17-38',\n",
       " 'RecordIdentifierFeatureName': 'policy_id',\n",
       " 'EventTimeFeatureName': 'EventTime',\n",
       " 'FeatureDefinitions': [{'FeatureName': 'policy_id',\n",
       "   'FeatureType': 'Integral'},\n",
       "  {'FeatureName': 'incident_severity', 'FeatureType': 'Fractional'},\n",
       "  {'FeatureName': 'num_vehicles_involved', 'FeatureType': 'Integral'},\n",
       "  {'FeatureName': 'num_injuries', 'FeatureType': 'Integral'},\n",
       "  {'FeatureName': 'num_witnesses', 'FeatureType': 'Integral'},\n",
       "  {'FeatureName': 'police_report_available', 'FeatureType': 'Fractional'},\n",
       "  {'FeatureName': 'injury_claim', 'FeatureType': 'Integral'},\n",
       "  {'FeatureName': 'vehicle_claim', 'FeatureType': 'Integral'},\n",
       "  {'FeatureName': 'total_claim_amount', 'FeatureType': 'Integral'},\n",
       "  {'FeatureName': 'incident_month', 'FeatureType': 'Integral'},\n",
       "  {'FeatureName': 'incident_day', 'FeatureType': 'Integral'},\n",
       "  {'FeatureName': 'incident_dow', 'FeatureType': 'Integral'},\n",
       "  {'FeatureName': 'incident_hour', 'FeatureType': 'Integral'},\n",
       "  {'FeatureName': 'fraud', 'FeatureType': 'Integral'},\n",
       "  {'FeatureName': 'driver_relationship_self', 'FeatureType': 'Fractional'},\n",
       "  {'FeatureName': 'driver_relationship_na', 'FeatureType': 'Fractional'},\n",
       "  {'FeatureName': 'driver_relationship_spouse', 'FeatureType': 'Fractional'},\n",
       "  {'FeatureName': 'driver_relationship_child', 'FeatureType': 'Fractional'},\n",
       "  {'FeatureName': 'driver_relationship_other', 'FeatureType': 'Fractional'},\n",
       "  {'FeatureName': 'incident_type_collision', 'FeatureType': 'Fractional'},\n",
       "  {'FeatureName': 'incident_type_breakin', 'FeatureType': 'Fractional'},\n",
       "  {'FeatureName': 'incident_type_theft', 'FeatureType': 'Fractional'},\n",
       "  {'FeatureName': 'collision_type_front', 'FeatureType': 'Fractional'},\n",
       "  {'FeatureName': 'collision_type_rear', 'FeatureType': 'Fractional'},\n",
       "  {'FeatureName': 'collision_type_side', 'FeatureType': 'Fractional'},\n",
       "  {'FeatureName': 'collision_type_na', 'FeatureType': 'Fractional'},\n",
       "  {'FeatureName': 'authorities_contacted_police', 'FeatureType': 'Fractional'},\n",
       "  {'FeatureName': 'authorities_contacted_none', 'FeatureType': 'Fractional'},\n",
       "  {'FeatureName': 'authorities_contacted_fire', 'FeatureType': 'Fractional'},\n",
       "  {'FeatureName': 'authorities_contacted_ambulance',\n",
       "   'FeatureType': 'Fractional'},\n",
       "  {'FeatureName': 'EventTime', 'FeatureType': 'Fractional'}],\n",
       " 'CreationTime': datetime.datetime(2025, 5, 25, 12, 22, 20, 178000, tzinfo=tzlocal()),\n",
       " 'OnlineStoreConfig': {'EnableOnlineStore': True},\n",
       " 'OfflineStoreConfig': {'S3StorageConfig': {'S3Uri': 's3://sagemaker-us-east-1-205930620783/FraudDetection_AutoInsurance/data/feature_store',\n",
       "   'ResolvedOutputS3Uri': 's3://sagemaker-us-east-1-205930620783/FraudDetection_AutoInsurance/data/feature_store/205930620783/sagemaker/us-east-1/offline-store/claims-feature-group-25-12-17-38-1748175740/data'},\n",
       "  'DisableGlueTableCreation': False,\n",
       "  'DataCatalogConfig': {'TableName': 'claims_feature_group_25_12_17_38_1748175740',\n",
       "   'Catalog': 'AwsDataCatalog',\n",
       "   'Database': 'sagemaker_featurestore'}},\n",
       " 'ThroughputConfig': {'ThroughputMode': 'OnDemand'},\n",
       " 'RoleArn': 'arn:aws:iam::205930620783:role/service-role/AmazonSageMaker-ExecutionRole-20250401T145997',\n",
       " 'FeatureGroupStatus': 'Created',\n",
       " 'OfflineStoreStatus': {'Status': 'Active'},\n",
       " 'OnlineStoreTotalSizeBytes': 1286108,\n",
       " 'ResponseMetadata': {'RequestId': '7cae934e-1a2a-48f8-a8c4-8559f4f22193',\n",
       "  'HTTPStatusCode': 200,\n",
       "  'HTTPHeaders': {'x-amzn-requestid': '7cae934e-1a2a-48f8-a8c4-8559f4f22193',\n",
       "   'content-type': 'application/x-amz-json-1.1',\n",
       "   'content-length': '3612',\n",
       "   'date': 'Wed, 11 Jun 2025 12:14:09 GMT'},\n",
       "  'RetryAttempts': 0}}"
      ]
     },
     "execution_count": 20,
     "metadata": {},
     "output_type": "execute_result"
    }
   ],
   "source": [
    "claims_feature_group = FeatureGroup(name=claims_feature_group_name, sagemaker_session=sagemaker_session)\n",
    "customers_feature_group = FeatureGroup(name=customers_feature_group_name, sagemaker_session=sagemaker_session)\n",
    "claims_feature_group.describe()"
   ]
  },
  {
   "cell_type": "markdown",
   "id": "6afef51f-6bf2-47ea-978e-5f24b451f0ab",
   "metadata": {},
   "source": [
    "### Use Athena query to load the datasets"
   ]
  },
  {
   "cell_type": "code",
   "execution_count": 45,
   "id": "157a2018-20ae-4527-9ec9-d1f43a90a200",
   "metadata": {},
   "outputs": [
    {
     "name": "stdout",
     "output_type": "stream",
     "text": [
      "claims_feature_group_25_12_17_38_1748175740 \n",
      " sagemaker_featurestore\n",
      "customers_feature_group_25_12_17_38_1748175739 \n",
      " sagemaker_featurestore\n"
     ]
    },
    {
     "data": {
      "text/html": [
       "<pre style=\"white-space:pre;overflow-x:auto;line-height:normal;font-family:Menlo,'DejaVu Sans Mono',consolas,'Courier New',monospace\"><span style=\"color: #7fbfbf; text-decoration-color: #7fbfbf\">[06/11/25 12:51:15] </span><span style=\"color: #0069ff; text-decoration-color: #0069ff; font-weight: bold\">INFO    </span> Query <span style=\"color: #ffff00; text-decoration-color: #ffff00\">bcf51e81-efa6-4290-8ffd-c94e8faea2aa</span> is being executed.          <a href=\"file:///opt/conda/lib/python3.12/site-packages/sagemaker/session.py\" target=\"_blank\"><span style=\"color: #7f7f7f; text-decoration-color: #7f7f7f\">session.py</span></a><span style=\"color: #7f7f7f; text-decoration-color: #7f7f7f\">:</span><a href=\"file:///opt/conda/lib/python3.12/site-packages/sagemaker/session.py#6663\" target=\"_blank\"><span style=\"color: #7f7f7f; text-decoration-color: #7f7f7f\">6663</span></a>\n",
       "</pre>\n"
      ],
      "text/plain": [
       "\u001b[2;36m[06/11/25 12:51:15]\u001b[0m\u001b[2;36m \u001b[0m\u001b[1;38;2;0;105;255mINFO    \u001b[0m Query \u001b[93mbcf51e81-efa6-4290-8ffd-c94e8faea2aa\u001b[0m is being executed.          \u001b]8;id=552941;file:///opt/conda/lib/python3.12/site-packages/sagemaker/session.py\u001b\\\u001b[2msession.py\u001b[0m\u001b]8;;\u001b\\\u001b[2m:\u001b[0m\u001b]8;id=544797;file:///opt/conda/lib/python3.12/site-packages/sagemaker/session.py#6663\u001b\\\u001b[2m6663\u001b[0m\u001b]8;;\u001b\\\n"
      ]
     },
     "metadata": {},
     "output_type": "display_data"
    },
    {
     "data": {
      "text/html": [
       "<pre style=\"white-space:pre;overflow-x:auto;line-height:normal;font-family:Menlo,'DejaVu Sans Mono',consolas,'Courier New',monospace\"><span style=\"color: #7fbfbf; text-decoration-color: #7fbfbf\">[06/11/25 12:51:20] </span><span style=\"color: #0069ff; text-decoration-color: #0069ff; font-weight: bold\">INFO    </span> Query <span style=\"color: #ffff00; text-decoration-color: #ffff00\">bcf51e81-efa6-4290-8ffd-c94e8faea2aa</span> successfully executed.      <a href=\"file:///opt/conda/lib/python3.12/site-packages/sagemaker/session.py\" target=\"_blank\"><span style=\"color: #7f7f7f; text-decoration-color: #7f7f7f\">session.py</span></a><span style=\"color: #7f7f7f; text-decoration-color: #7f7f7f\">:</span><a href=\"file:///opt/conda/lib/python3.12/site-packages/sagemaker/session.py#6672\" target=\"_blank\"><span style=\"color: #7f7f7f; text-decoration-color: #7f7f7f\">6672</span></a>\n",
       "</pre>\n"
      ],
      "text/plain": [
       "\u001b[2;36m[06/11/25 12:51:20]\u001b[0m\u001b[2;36m \u001b[0m\u001b[1;38;2;0;105;255mINFO    \u001b[0m Query \u001b[93mbcf51e81-efa6-4290-8ffd-c94e8faea2aa\u001b[0m successfully executed.      \u001b]8;id=262141;file:///opt/conda/lib/python3.12/site-packages/sagemaker/session.py\u001b\\\u001b[2msession.py\u001b[0m\u001b]8;;\u001b\\\u001b[2m:\u001b[0m\u001b]8;id=508873;file:///opt/conda/lib/python3.12/site-packages/sagemaker/session.py#6672\u001b\\\u001b[2m6672\u001b[0m\u001b]8;;\u001b\\\n"
      ]
     },
     "metadata": {},
     "output_type": "display_data"
    },
    {
     "data": {
      "text/html": [
       "<pre style=\"white-space:pre;overflow-x:auto;line-height:normal;font-family:Menlo,'DejaVu Sans Mono',consolas,'Courier New',monospace\"><span style=\"color: #7fbfbf; text-decoration-color: #7fbfbf\">                    </span><span style=\"color: #0069ff; text-decoration-color: #0069ff; font-weight: bold\">INFO    </span> Query <span style=\"color: #ffff00; text-decoration-color: #ffff00\">d0430b00-7467-4d3f-b298-a46dcad657d9</span> is being executed.          <a href=\"file:///opt/conda/lib/python3.12/site-packages/sagemaker/session.py\" target=\"_blank\"><span style=\"color: #7f7f7f; text-decoration-color: #7f7f7f\">session.py</span></a><span style=\"color: #7f7f7f; text-decoration-color: #7f7f7f\">:</span><a href=\"file:///opt/conda/lib/python3.12/site-packages/sagemaker/session.py#6663\" target=\"_blank\"><span style=\"color: #7f7f7f; text-decoration-color: #7f7f7f\">6663</span></a>\n",
       "</pre>\n"
      ],
      "text/plain": [
       "\u001b[2;36m                   \u001b[0m\u001b[2;36m \u001b[0m\u001b[1;38;2;0;105;255mINFO    \u001b[0m Query \u001b[93md0430b00-7467-4d3f-b298-a46dcad657d9\u001b[0m is being executed.          \u001b]8;id=535678;file:///opt/conda/lib/python3.12/site-packages/sagemaker/session.py\u001b\\\u001b[2msession.py\u001b[0m\u001b]8;;\u001b\\\u001b[2m:\u001b[0m\u001b]8;id=56560;file:///opt/conda/lib/python3.12/site-packages/sagemaker/session.py#6663\u001b\\\u001b[2m6663\u001b[0m\u001b]8;;\u001b\\\n"
      ]
     },
     "metadata": {},
     "output_type": "display_data"
    },
    {
     "data": {
      "text/html": [
       "<pre style=\"white-space:pre;overflow-x:auto;line-height:normal;font-family:Menlo,'DejaVu Sans Mono',consolas,'Courier New',monospace\"><span style=\"color: #7fbfbf; text-decoration-color: #7fbfbf\">[06/11/25 12:51:25] </span><span style=\"color: #0069ff; text-decoration-color: #0069ff; font-weight: bold\">INFO    </span> Query <span style=\"color: #ffff00; text-decoration-color: #ffff00\">d0430b00-7467-4d3f-b298-a46dcad657d9</span> successfully executed.      <a href=\"file:///opt/conda/lib/python3.12/site-packages/sagemaker/session.py\" target=\"_blank\"><span style=\"color: #7f7f7f; text-decoration-color: #7f7f7f\">session.py</span></a><span style=\"color: #7f7f7f; text-decoration-color: #7f7f7f\">:</span><a href=\"file:///opt/conda/lib/python3.12/site-packages/sagemaker/session.py#6672\" target=\"_blank\"><span style=\"color: #7f7f7f; text-decoration-color: #7f7f7f\">6672</span></a>\n",
       "</pre>\n"
      ],
      "text/plain": [
       "\u001b[2;36m[06/11/25 12:51:25]\u001b[0m\u001b[2;36m \u001b[0m\u001b[1;38;2;0;105;255mINFO    \u001b[0m Query \u001b[93md0430b00-7467-4d3f-b298-a46dcad657d9\u001b[0m successfully executed.      \u001b]8;id=491417;file:///opt/conda/lib/python3.12/site-packages/sagemaker/session.py\u001b\\\u001b[2msession.py\u001b[0m\u001b]8;;\u001b\\\u001b[2m:\u001b[0m\u001b]8;id=754915;file:///opt/conda/lib/python3.12/site-packages/sagemaker/session.py#6672\u001b\\\u001b[2m6672\u001b[0m\u001b]8;;\u001b\\\n"
      ]
     },
     "metadata": {},
     "output_type": "display_data"
    },
    {
     "name": "stdout",
     "output_type": "stream",
     "text": [
      "is_deleted\n",
      "False    10000\n",
      "Name: count, dtype: int64\n",
      "True\n",
      "is_deleted\n",
      "False    10000\n",
      "Name: count, dtype: int64\n",
      "True\n"
     ]
    }
   ],
   "source": [
    "claims_query = claims_feature_group.athena_query()\n",
    "print(claims_query.table_name, \"\\n\", claims_query.database)\n",
    "customers_query = customers_feature_group.athena_query()\n",
    "print(customers_query.table_name, \"\\n\", customers_query.database)\n",
    "\n",
    "query1 = f\"SELECT * FROM {customers_query.table_name}\"\n",
    "query2 = f\"SELECT * FROM {claims_query.table_name}\"\n",
    "\n",
    "claims_query.run(query1, output_location=f\"s3://{BUCKET}/FraudDetection_AutoInsurance/data/query_results\")\n",
    "claims_query.wait() \n",
    "customers_dataset = claims_query.as_dataframe()\n",
    "claims_query.run(query2, output_location=f\"s3://{BUCKET}/FraudDetection_AutoInsurance/data/query_results\")\n",
    "claims_query.wait() \n",
    "claims_dataset = claims_query.as_dataframe()\n",
    "\n",
    "print(claims_dataset['is_deleted'].value_counts())\n",
    "print(claims_dataset['policy_id'].nunique() == claims_data['policy_id'].shape[0])\n",
    "print(customers_dataset['is_deleted'].value_counts())\n",
    "print(customers_dataset['policy_id'].nunique() == claims_data['policy_id'].shape[0])"
   ]
  },
  {
   "cell_type": "code",
   "execution_count": 47,
   "id": "44178ab1-f029-4742-8652-93a1940843be",
   "metadata": {},
   "outputs": [
    {
     "name": "stdout",
     "output_type": "stream",
     "text": [
      "(5000, 34)\n",
      "(5000, 22)\n",
      "(5000, 49)\n",
      "policy_id                            int64\n",
      "incident_severity                  float64\n",
      "num_vehicles_involved                int64\n",
      "num_injuries                         int64\n",
      "num_witnesses                        int64\n",
      "police_report_available            float64\n",
      "injury_claim                         int64\n",
      "vehicle_claim                        int64\n",
      "total_claim_amount                   int64\n",
      "incident_month                       int64\n",
      "incident_day                         int64\n",
      "incident_dow                         int64\n",
      "incident_hour                        int64\n",
      "fraud                                int64\n",
      "driver_relationship_self           float64\n",
      "driver_relationship_na             float64\n",
      "driver_relationship_spouse         float64\n",
      "driver_relationship_child          float64\n",
      "driver_relationship_other          float64\n",
      "incident_type_collision            float64\n",
      "incident_type_breakin              float64\n",
      "incident_type_theft                float64\n",
      "collision_type_front               float64\n",
      "collision_type_rear                float64\n",
      "collision_type_side                float64\n",
      "collision_type_na                  float64\n",
      "authorities_contacted_police       float64\n",
      "authorities_contacted_none         float64\n",
      "authorities_contacted_fire         float64\n",
      "authorities_contacted_ambulance    float64\n",
      "eventtime_x                        float64\n",
      "customer_age                         int64\n",
      "customer_education                   int64\n",
      "months_as_customer                   int64\n",
      "policy_deductable                    int64\n",
      "policy_annual_premium                int64\n",
      "policy_liability                     int64\n",
      "auto_year                            int64\n",
      "num_claims_past_year                 int64\n",
      "num_insurers_past_5_years            int64\n",
      "customer_gender_male               float64\n",
      "customer_gender_female             float64\n",
      "policy_state_ca                    float64\n",
      "policy_state_wa                    float64\n",
      "policy_state_az                    float64\n",
      "policy_state_or                    float64\n",
      "policy_state_nv                    float64\n",
      "policy_state_id                    float64\n",
      "eventtime_y                        float64\n",
      "dtype: object\n"
     ]
    }
   ],
   "source": [
    "# Drop the logically deleted records, and keep the latest records only based on the metadata columns. Delete the metadata columns in last\n",
    "\n",
    "keep_latest = lambda df: df.sort_values('write_time',ascending=False).drop_duplicates(['policy_id'], keep='first').reset_index(drop=True)\n",
    "claims_dataset = keep_latest(claims_dataset[claims_dataset['is_deleted']==False])\n",
    "customers_dataset = keep_latest(customers_dataset[customers_dataset['is_deleted']==False])\n",
    "\n",
    "metadata_columns = ['write_time', 'api_invocation_time', 'is_deleted']\n",
    "dataset = pd.merge(\n",
    "    claims_dataset.drop(columns=metadata_columns),\n",
    "    customers_dataset.drop(columns=metadata_columns),\n",
    "    on=['policy_id']\n",
    ")\n",
    "print(claims_dataset.shape) \n",
    "print(customers_dataset.shape) \n",
    "print(dataset.shape)\n",
    "print(dataset.dtypes)\n"
   ]
  },
  {
   "cell_type": "code",
   "execution_count": 49,
   "id": "2cf8ccab-eed4-4ff8-9180-03585c8a816e",
   "metadata": {},
   "outputs": [],
   "source": [
    "dataset_col_order = ['fraud']  + list(dataset.drop([\"fraud\", \"policy_id\"], axis=1).columns)\n",
    "train = dataset.sample(frac=.80, random_state=0)[dataset_col_order]\n",
    "test = dataset.drop(train.index)[dataset_col_order]\n",
    "train.to_csv(\"data/train.csv\", index=False)\n",
    "test.to_csv(\"data/test.csv\", index=False)\n",
    "dataset.to_csv(\"data/dataset.csv\", index=True)"
   ]
  },
  {
   "cell_type": "code",
   "execution_count": 50,
   "id": "d5d73d0b-267e-4d1a-b455-3813db9819db",
   "metadata": {},
   "outputs": [],
   "source": [
    "# Upload the data to S3\n",
    "s3_client = sagemaker_session.boto_session.client(\"s3\")\n",
    "s3_client.upload_file('data/train.csv', Bucket=BUCKET, Key=\"FraudDetection_AutoInsurance/data/train.csv\")\n",
    "s3_client.upload_file('data/test.csv', Bucket=BUCKET, Key=\"FraudDetection_AutoInsurance/data/test.csv\")\n",
    "s3_client.upload_file('data/dataset.csv', Bucket=BUCKET, Key=\"FraudDetection_AutoInsurance/data/dataset.csv\")\n"
   ]
  },
  {
   "cell_type": "code",
   "execution_count": 54,
   "id": "f0beffb5-a14a-4f05-971e-d702400952b0",
   "metadata": {},
   "outputs": [
    {
     "name": "stdout",
     "output_type": "stream",
     "text": [
      "(4000, 48)\n",
      "(4000, 48)\n"
     ]
    }
   ],
   "source": [
    "print(train.select_dtypes(['int','float']).shape)\n",
    "print(train.shape)"
   ]
  }
 ],
 "metadata": {
  "kernelspec": {
   "display_name": "Python 3 (ipykernel)",
   "language": "python",
   "name": "python3"
  },
  "language_info": {
   "codemirror_mode": {
    "name": "ipython",
    "version": 3
   },
   "file_extension": ".py",
   "mimetype": "text/x-python",
   "name": "python",
   "nbconvert_exporter": "python",
   "pygments_lexer": "ipython3",
   "version": "3.12.9"
  }
 },
 "nbformat": 4,
 "nbformat_minor": 5
}
