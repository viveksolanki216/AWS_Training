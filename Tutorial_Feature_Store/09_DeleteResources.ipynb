{
 "cells": [
  {
   "cell_type": "code",
   "execution_count": 1,
   "id": "f9d6ab92-7394-487e-ae02-3559b58cc24e",
   "metadata": {},
   "outputs": [],
   "source": [
    "# Feature Store \n",
    "## Delete Unncessary Resources to Save cost\n",
    "\n"
   ]
  },
  {
   "cell_type": "code",
   "execution_count": 6,
   "id": "b256d54c-9b2d-49f5-9184-f23f288a5ca5",
   "metadata": {},
   "outputs": [],
   "source": [
    "import sagemaker\n",
    "from sagemaker.session import Session\n",
    "from sagemaker.feature_store.feature_group import FeatureGroup"
   ]
  },
  {
   "cell_type": "code",
   "execution_count": 9,
   "id": "a30b39c6-d3ca-45de-85af-332448f5ce52",
   "metadata": {},
   "outputs": [],
   "source": [
    "sagemaker_session = Session()"
   ]
  },
  {
   "cell_type": "code",
   "execution_count": 10,
   "id": "5bab7093-0f5d-4ee7-9fb9-d2d9df9f7c5f",
   "metadata": {},
   "outputs": [],
   "source": [
    "# Intialize Feature Group objects\n",
    "claims_feature_group_name = \"claims-feature-group-20-06-17-56\"\n",
    "customers_feature_group_name = \"customers-feature-group-20-06-17-56\"\n",
    "\n",
    "claims_feature_group = FeatureGroup(name=claims_feature_group_name, sagemaker_session=sagemaker_session)\n",
    "customers_feature_group = FeatureGroup(name=customers_feature_group_name, sagemaker_session=sagemaker_session)"
   ]
  },
  {
   "cell_type": "code",
   "execution_count": 13,
   "id": "eded2e2a-9e03-4fd9-84b5-a9b31691af85",
   "metadata": {},
   "outputs": [],
   "source": [
    "claims_feature_group.delete()\n",
    "customers_feature_group.delete()"
   ]
  }
 ],
 "metadata": {
  "kernelspec": {
   "display_name": "Python 3 (ipykernel)",
   "language": "python",
   "name": "python3"
  },
  "language_info": {
   "codemirror_mode": {
    "name": "ipython",
    "version": 3
   },
   "file_extension": ".py",
   "mimetype": "text/x-python",
   "name": "python",
   "nbconvert_exporter": "python",
   "pygments_lexer": "ipython3",
   "version": "3.12.9"
  }
 },
 "nbformat": 4,
 "nbformat_minor": 5
}
