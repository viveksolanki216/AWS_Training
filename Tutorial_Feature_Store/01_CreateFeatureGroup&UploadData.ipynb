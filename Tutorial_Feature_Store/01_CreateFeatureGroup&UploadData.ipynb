{
 "cells": [
  {
   "cell_type": "markdown",
   "id": "861a7bb3-5b6e-4d83-a9a3-51721b971956",
   "metadata": {},
   "source": [
    "# Feature Store \n",
    "## FeatureGroup Creation, Ingest batch data and retrive records\n",
    "\n",
    "References:\n",
    " - https://docs.aws.amazon.com/sagemaker/latest/dg/feature-store-introduction-notebook.html\n",
    " - https://boto3.amazonaws.com/v1/documentation/api/1.20.9/reference/services/sagemaker-featurestore-runtime.html\n",
    "\n"
   ]
  },
  {
   "cell_type": "code",
   "execution_count": 1,
   "id": "4b58e160-70e5-4c58-b489-0433e25bf75b",
   "metadata": {},
   "outputs": [
    {
     "name": "stderr",
     "output_type": "stream",
     "text": [
      "/opt/conda/lib/python3.12/site-packages/pydantic/_internal/_fields.py:192: UserWarning: Field name \"json\" in \"MonitoringDatasetFormat\" shadows an attribute in parent \"Base\"\n",
      "  warnings.warn(\n"
     ]
    },
    {
     "name": "stdout",
     "output_type": "stream",
     "text": [
      "sagemaker.config INFO - Not applying SDK defaults from location: /etc/xdg/sagemaker/config.yaml\n",
      "sagemaker.config INFO - Not applying SDK defaults from location: /home/sagemaker-user/.config/sagemaker/config.yaml\n"
     ]
    }
   ],
   "source": [
    "from sagemaker import get_execution_role\n",
    "from sagemaker.session import Session\n",
    "import sagemaker\n",
    "import boto3\n",
    "import pandas as pd\n",
    "import numpy as np \n",
    "from time import strftime, gmtime\n",
    "import time\n",
    "from sagemaker.feature_store.feature_group import FeatureGroup"
   ]
  },
  {
   "cell_type": "code",
   "execution_count": 2,
   "id": "0164b39c-cb85-4cb2-9a75-fb58ecd164ae",
   "metadata": {},
   "outputs": [
    {
     "name": "stdout",
     "output_type": "stream",
     "text": [
      "us-east-1   sagemaker-us-east-1-205930620783   arn:aws:iam::205930620783:role/service-role/AmazonSageMaker-ExecutionRole-20250401T145997\n"
     ]
    }
   ],
   "source": [
    "sagemaker_session = Session()\n",
    "REGION = Session().boto_region_name\n",
    "BUCKET = Session().default_bucket()\n",
    "ROLE = get_execution_role()\n",
    "print(REGION, \" \", BUCKET, \" \", ROLE)\n",
    "\n",
    "PREFIX = \"FraudDetection_AutoInsurance\""
   ]
  },
  {
   "cell_type": "code",
   "execution_count": 3,
   "id": "027219f7-a9fb-4dd3-b364-3a5f2215a01c",
   "metadata": {},
   "outputs": [],
   "source": [
    "s3_uri = f\"s3://{BUCKET}\"\n",
    "\n",
    "claims_data = pd.read_csv(f\"{s3_uri}/{PREFIX}/data/claims_preprocessed.csv\")\n",
    "customers_data = pd.read_csv(f\"{s3_uri}/{PREFIX}/data/customers_preprocessed.csv\")"
   ]
  },
  {
   "cell_type": "code",
   "execution_count": 5,
   "id": "6cd2ea5c-301b-4772-baac-3fa6e8a85027",
   "metadata": {},
   "outputs": [
    {
     "name": "stdout",
     "output_type": "stream",
     "text": [
      "Index(['policy_id', 'incident_severity', 'num_vehicles_involved',\n",
      "       'num_injuries', 'num_witnesses', 'police_report_available',\n",
      "       'injury_claim', 'vehicle_claim', 'total_claim_amount', 'incident_month',\n",
      "       'incident_day', 'incident_dow', 'incident_hour', 'fraud',\n",
      "       'driver_relationship_self', 'driver_relationship_na',\n",
      "       'driver_relationship_spouse', 'driver_relationship_child',\n",
      "       'driver_relationship_other', 'incident_type_collision',\n",
      "       'incident_type_breakin', 'incident_type_theft', 'collision_type_front',\n",
      "       'collision_type_rear', 'collision_type_side', 'collision_type_na',\n",
      "       'authorities_contacted_police', 'authorities_contacted_none',\n",
      "       'authorities_contacted_fire', 'authorities_contacted_ambulance'],\n",
      "      dtype='object') \n",
      "\n",
      "Index(['policy_id', 'customer_age', 'customer_education', 'months_as_customer',\n",
      "       'policy_deductable', 'policy_annual_premium', 'policy_liability',\n",
      "       'auto_year', 'num_claims_past_year', 'num_insurers_past_5_years',\n",
      "       'customer_gender_male', 'customer_gender_female', 'policy_state_ca',\n",
      "       'policy_state_wa', 'policy_state_az', 'policy_state_or',\n",
      "       'policy_state_nv', 'policy_state_id'],\n",
      "      dtype='object') \n",
      "\n",
      "\n",
      "Policy id is the unique identifier in both cases\n",
      "5000 5000\n",
      "5000 5000\n"
     ]
    }
   ],
   "source": [
    "print(claims_data.columns, \"\\n\")\n",
    "print(customers_data.columns, \"\\n\")\n",
    "print()\n",
    "print(\"Policy id is the unique identifier in both cases\")\n",
    "print(claims_data.shape[0], claims_data['policy_id'].nunique())\n",
    "print(customers_data.shape[0], customers_data['policy_id'].nunique())"
   ]
  },
  {
   "cell_type": "markdown",
   "id": "f07e185c-53ca-4550-826b-ec8b19fdc505",
   "metadata": {},
   "source": [
    "### Create Two Feature Groups for claims and customers.\n",
    "Feature Groups is equivalent to tables/datasets."
   ]
  },
  {
   "cell_type": "code",
   "execution_count": 6,
   "id": "56a1ee50-6a96-404a-b247-229e083eb624",
   "metadata": {},
   "outputs": [
    {
     "name": "stdout",
     "output_type": "stream",
     "text": [
      "customers-feature-group-20-06-17-56 \n",
      " claims-feature-group-20-06-17-56\n"
     ]
    }
   ],
   "source": [
    "customers_feature_group_name = \"customers-feature-group-\" + strftime(\"%d-%H-%M-%S\", gmtime())\n",
    "claims_feature_group_name = \"claims-feature-group-\" + strftime(\"%d-%H-%M-%S\", gmtime())\n",
    "print(customers_feature_group_name, \"\\n\", claims_feature_group_name)"
   ]
  },
  {
   "cell_type": "code",
   "execution_count": 7,
   "id": "9e0e197d-a0c0-48b4-9c6a-571e040dcad4",
   "metadata": {},
   "outputs": [],
   "source": [
    "customers_feature_group = FeatureGroup(customers_feature_group_name, sagemaker_session)\n",
    "claims_feature_group = FeatureGroup(claims_feature_group_name, sagemaker_session)"
   ]
  },
  {
   "cell_type": "code",
   "execution_count": 8,
   "id": "b08522e7-4765-4789-8baa-22974065a407",
   "metadata": {},
   "outputs": [
    {
     "name": "stdout",
     "output_type": "stream",
     "text": [
      "0       1.745130e+09\n",
      "1       1.745130e+09\n",
      "2       1.745130e+09\n",
      "3       1.745130e+09\n",
      "4       1.745130e+09\n",
      "            ...     \n",
      "4995    1.745130e+09\n",
      "4996    1.745130e+09\n",
      "4997    1.745130e+09\n",
      "4998    1.745130e+09\n",
      "4999    1.745130e+09\n",
      "Name: EventTime, Length: 5000, dtype: float64\n"
     ]
    }
   ],
   "source": [
    "# Add event time in the datasets, that is required\n",
    "customers_data['EventTime'] = time.time()\n",
    "claims_data['EventTime'] = time.time()\n",
    "print(customers_data['EventTime'])"
   ]
  },
  {
   "cell_type": "markdown",
   "id": "3590f22a-3cd9-432a-ace8-dcbeb0b41453",
   "metadata": {},
   "source": [
    "### Load Feature Definitions into the feature groups"
   ]
  },
  {
   "cell_type": "code",
   "execution_count": 9,
   "id": "3efc7a67-8aa6-4693-aa79-7758fb1f6ffa",
   "metadata": {},
   "outputs": [
    {
     "data": {
      "text/plain": [
       "[FeatureDefinition(feature_name='policy_id', feature_type=<FeatureTypeEnum.INTEGRAL: 'Integral'>, collection_type=None),\n",
       " FeatureDefinition(feature_name='incident_severity', feature_type=<FeatureTypeEnum.FRACTIONAL: 'Fractional'>, collection_type=None),\n",
       " FeatureDefinition(feature_name='num_vehicles_involved', feature_type=<FeatureTypeEnum.INTEGRAL: 'Integral'>, collection_type=None),\n",
       " FeatureDefinition(feature_name='num_injuries', feature_type=<FeatureTypeEnum.INTEGRAL: 'Integral'>, collection_type=None),\n",
       " FeatureDefinition(feature_name='num_witnesses', feature_type=<FeatureTypeEnum.INTEGRAL: 'Integral'>, collection_type=None),\n",
       " FeatureDefinition(feature_name='police_report_available', feature_type=<FeatureTypeEnum.FRACTIONAL: 'Fractional'>, collection_type=None),\n",
       " FeatureDefinition(feature_name='injury_claim', feature_type=<FeatureTypeEnum.INTEGRAL: 'Integral'>, collection_type=None),\n",
       " FeatureDefinition(feature_name='vehicle_claim', feature_type=<FeatureTypeEnum.INTEGRAL: 'Integral'>, collection_type=None),\n",
       " FeatureDefinition(feature_name='total_claim_amount', feature_type=<FeatureTypeEnum.INTEGRAL: 'Integral'>, collection_type=None),\n",
       " FeatureDefinition(feature_name='incident_month', feature_type=<FeatureTypeEnum.INTEGRAL: 'Integral'>, collection_type=None),\n",
       " FeatureDefinition(feature_name='incident_day', feature_type=<FeatureTypeEnum.INTEGRAL: 'Integral'>, collection_type=None),\n",
       " FeatureDefinition(feature_name='incident_dow', feature_type=<FeatureTypeEnum.INTEGRAL: 'Integral'>, collection_type=None),\n",
       " FeatureDefinition(feature_name='incident_hour', feature_type=<FeatureTypeEnum.INTEGRAL: 'Integral'>, collection_type=None),\n",
       " FeatureDefinition(feature_name='fraud', feature_type=<FeatureTypeEnum.INTEGRAL: 'Integral'>, collection_type=None),\n",
       " FeatureDefinition(feature_name='driver_relationship_self', feature_type=<FeatureTypeEnum.FRACTIONAL: 'Fractional'>, collection_type=None),\n",
       " FeatureDefinition(feature_name='driver_relationship_na', feature_type=<FeatureTypeEnum.FRACTIONAL: 'Fractional'>, collection_type=None),\n",
       " FeatureDefinition(feature_name='driver_relationship_spouse', feature_type=<FeatureTypeEnum.FRACTIONAL: 'Fractional'>, collection_type=None),\n",
       " FeatureDefinition(feature_name='driver_relationship_child', feature_type=<FeatureTypeEnum.FRACTIONAL: 'Fractional'>, collection_type=None),\n",
       " FeatureDefinition(feature_name='driver_relationship_other', feature_type=<FeatureTypeEnum.FRACTIONAL: 'Fractional'>, collection_type=None),\n",
       " FeatureDefinition(feature_name='incident_type_collision', feature_type=<FeatureTypeEnum.FRACTIONAL: 'Fractional'>, collection_type=None),\n",
       " FeatureDefinition(feature_name='incident_type_breakin', feature_type=<FeatureTypeEnum.FRACTIONAL: 'Fractional'>, collection_type=None),\n",
       " FeatureDefinition(feature_name='incident_type_theft', feature_type=<FeatureTypeEnum.FRACTIONAL: 'Fractional'>, collection_type=None),\n",
       " FeatureDefinition(feature_name='collision_type_front', feature_type=<FeatureTypeEnum.FRACTIONAL: 'Fractional'>, collection_type=None),\n",
       " FeatureDefinition(feature_name='collision_type_rear', feature_type=<FeatureTypeEnum.FRACTIONAL: 'Fractional'>, collection_type=None),\n",
       " FeatureDefinition(feature_name='collision_type_side', feature_type=<FeatureTypeEnum.FRACTIONAL: 'Fractional'>, collection_type=None),\n",
       " FeatureDefinition(feature_name='collision_type_na', feature_type=<FeatureTypeEnum.FRACTIONAL: 'Fractional'>, collection_type=None),\n",
       " FeatureDefinition(feature_name='authorities_contacted_police', feature_type=<FeatureTypeEnum.FRACTIONAL: 'Fractional'>, collection_type=None),\n",
       " FeatureDefinition(feature_name='authorities_contacted_none', feature_type=<FeatureTypeEnum.FRACTIONAL: 'Fractional'>, collection_type=None),\n",
       " FeatureDefinition(feature_name='authorities_contacted_fire', feature_type=<FeatureTypeEnum.FRACTIONAL: 'Fractional'>, collection_type=None),\n",
       " FeatureDefinition(feature_name='authorities_contacted_ambulance', feature_type=<FeatureTypeEnum.FRACTIONAL: 'Fractional'>, collection_type=None),\n",
       " FeatureDefinition(feature_name='EventTime', feature_type=<FeatureTypeEnum.FRACTIONAL: 'Fractional'>, collection_type=None)]"
      ]
     },
     "execution_count": 9,
     "metadata": {},
     "output_type": "execute_result"
    }
   ],
   "source": [
    "customers_feature_group.load_feature_definitions(data_frame=customers_data)\n",
    "claims_feature_group.load_feature_definitions(data_frame=claims_data)"
   ]
  },
  {
   "cell_type": "markdown",
   "id": "2cecff9e-2ce0-4339-8a9c-68676aec49ca",
   "metadata": {},
   "source": [
    "### The following calls create to create two feature groups, customers_feature_group and orders_feature_group, respectively:\n",
    "Point to note, only the necessary structure will be created on \"Feature Store\" we still need to load the data yet."
   ]
  },
  {
   "cell_type": "code",
   "execution_count": 10,
   "id": "fceb2493-9034-40ff-b767-bc84c3f3af62",
   "metadata": {},
   "outputs": [
    {
     "data": {
      "text/plain": [
       "{'FeatureGroupArn': 'arn:aws:sagemaker:us-east-1:205930620783:feature-group/claims-feature-group-20-06-17-56',\n",
       " 'ResponseMetadata': {'RequestId': '91371b5b-1678-4466-94ab-4c8405b45d30',\n",
       "  'HTTPStatusCode': 200,\n",
       "  'HTTPHeaders': {'x-amzn-requestid': '91371b5b-1678-4466-94ab-4c8405b45d30',\n",
       "   'content-type': 'application/x-amz-json-1.1',\n",
       "   'content-length': '109',\n",
       "   'date': 'Sun, 20 Apr 2025 06:19:31 GMT'},\n",
       "  'RetryAttempts': 2}}"
      ]
     },
     "execution_count": 10,
     "metadata": {},
     "output_type": "execute_result"
    }
   ],
   "source": [
    "\n",
    "customers_feature_group.create(\n",
    "    s3_uri = f\"{s3_uri}/{PREFIX}/data/feature_store\",\n",
    "    record_identifier_name='policy_id',\n",
    "    event_time_feature_name=\"EventTime\",\n",
    "    role_arn=ROLE,\n",
    "    enable_online_store=True\n",
    ")\n",
    "\n",
    "\n",
    "claims_feature_group.create(\n",
    "    s3_uri = f\"{s3_uri}/{PREFIX}/data/feature_store\",\n",
    "    record_identifier_name='policy_id',\n",
    "    event_time_feature_name=\"EventTime\",\n",
    "    role_arn=ROLE,\n",
    "    enable_online_store=True\n",
    ")"
   ]
  },
  {
   "cell_type": "code",
   "execution_count": 11,
   "id": "d9bff051-a147-46f1-b361-f95f5610255d",
   "metadata": {},
   "outputs": [
    {
     "name": "stdout",
     "output_type": "stream",
     "text": [
      "{'FeatureGroupArn': 'arn:aws:sagemaker:us-east-1:205930620783:feature-group/customers-feature-group-20-06-17-56', 'FeatureGroupName': 'customers-feature-group-20-06-17-56', 'RecordIdentifierFeatureName': 'policy_id', 'EventTimeFeatureName': 'EventTime', 'FeatureDefinitions': [{'FeatureName': 'policy_id', 'FeatureType': 'Integral'}, {'FeatureName': 'customer_age', 'FeatureType': 'Integral'}, {'FeatureName': 'customer_education', 'FeatureType': 'Integral'}, {'FeatureName': 'months_as_customer', 'FeatureType': 'Integral'}, {'FeatureName': 'policy_deductable', 'FeatureType': 'Integral'}, {'FeatureName': 'policy_annual_premium', 'FeatureType': 'Integral'}, {'FeatureName': 'policy_liability', 'FeatureType': 'Integral'}, {'FeatureName': 'auto_year', 'FeatureType': 'Integral'}, {'FeatureName': 'num_claims_past_year', 'FeatureType': 'Integral'}, {'FeatureName': 'num_insurers_past_5_years', 'FeatureType': 'Integral'}, {'FeatureName': 'customer_gender_male', 'FeatureType': 'Fractional'}, {'FeatureName': 'customer_gender_female', 'FeatureType': 'Fractional'}, {'FeatureName': 'policy_state_ca', 'FeatureType': 'Fractional'}, {'FeatureName': 'policy_state_wa', 'FeatureType': 'Fractional'}, {'FeatureName': 'policy_state_az', 'FeatureType': 'Fractional'}, {'FeatureName': 'policy_state_or', 'FeatureType': 'Fractional'}, {'FeatureName': 'policy_state_nv', 'FeatureType': 'Fractional'}, {'FeatureName': 'policy_state_id', 'FeatureType': 'Fractional'}, {'FeatureName': 'EventTime', 'FeatureType': 'Fractional'}], 'CreationTime': datetime.datetime(2025, 4, 20, 6, 19, 28, 702000, tzinfo=tzlocal()), 'OnlineStoreConfig': {'EnableOnlineStore': True}, 'OfflineStoreConfig': {'S3StorageConfig': {'S3Uri': 's3://sagemaker-us-east-1-205930620783/FraudDetection_AutoInsurance/data/feature_store', 'ResolvedOutputS3Uri': 's3://sagemaker-us-east-1-205930620783/FraudDetection_AutoInsurance/data/feature_store/205930620783/sagemaker/us-east-1/offline-store/customers-feature-group-20-06-17-56-1745129968/data'}, 'DisableGlueTableCreation': False}, 'ThroughputConfig': {'ThroughputMode': 'OnDemand'}, 'RoleArn': 'arn:aws:iam::205930620783:role/service-role/AmazonSageMaker-ExecutionRole-20250401T145997', 'FeatureGroupStatus': 'Creating', 'ResponseMetadata': {'RequestId': '2e3e9c45-250f-4b09-9a6d-caef575b8e2c', 'HTTPStatusCode': 200, 'HTTPHeaders': {'x-amzn-requestid': '2e3e9c45-250f-4b09-9a6d-caef575b8e2c', 'content-type': 'application/x-amz-json-1.1', 'content-length': '2553', 'date': 'Sun, 20 Apr 2025 06:19:34 GMT'}, 'RetryAttempts': 0}}\n"
     ]
    }
   ],
   "source": [
    "print(customers_feature_group.describe())"
   ]
  },
  {
   "cell_type": "markdown",
   "id": "b8fe74e7-f6ad-49a6-b64b-e5bd0540652c",
   "metadata": {},
   "source": [
    "### List Feature Groups"
   ]
  },
  {
   "cell_type": "code",
   "execution_count": 12,
   "id": "2ed6cac7-a39c-459f-a531-5a43fbad2eeb",
   "metadata": {},
   "outputs": [
    {
     "name": "stdout",
     "output_type": "stream",
     "text": [
      "{'FeatureGroupSummaries': [{'FeatureGroupName': 'customers-feature-group-20-06-17-56', 'FeatureGroupArn': 'arn:aws:sagemaker:us-east-1:205930620783:feature-group/customers-feature-group-20-06-17-56', 'CreationTime': datetime.datetime(2025, 4, 20, 6, 19, 28, 702000, tzinfo=tzlocal()), 'FeatureGroupStatus': 'Created'}, {'FeatureGroupName': 'claims-feature-group-20-06-17-56', 'FeatureGroupArn': 'arn:aws:sagemaker:us-east-1:205930620783:feature-group/claims-feature-group-20-06-17-56', 'CreationTime': datetime.datetime(2025, 4, 20, 6, 19, 30, 828000, tzinfo=tzlocal()), 'FeatureGroupStatus': 'Creating'}], 'ResponseMetadata': {'RequestId': '4eb90569-66ec-4c9a-89b3-d41f0a6b4a95', 'HTTPStatusCode': 200, 'HTTPHeaders': {'x-amzn-requestid': '4eb90569-66ec-4c9a-89b3-d41f0a6b4a95', 'content-type': 'application/x-amz-json-1.1', 'content-length': '488', 'date': 'Sun, 20 Apr 2025 06:19:45 GMT'}, 'RetryAttempts': 0}}\n",
      "\n",
      "{'FeatureGroupSummaries': [{'FeatureGroupName': 'customers-feature-group-20-06-17-56', 'FeatureGroupArn': 'arn:aws:sagemaker:us-east-1:205930620783:feature-group/customers-feature-group-20-06-17-56', 'CreationTime': datetime.datetime(2025, 4, 20, 6, 19, 28, 702000, tzinfo=tzlocal()), 'FeatureGroupStatus': 'Created'}, {'FeatureGroupName': 'claims-feature-group-20-06-17-56', 'FeatureGroupArn': 'arn:aws:sagemaker:us-east-1:205930620783:feature-group/claims-feature-group-20-06-17-56', 'CreationTime': datetime.datetime(2025, 4, 20, 6, 19, 30, 828000, tzinfo=tzlocal()), 'FeatureGroupStatus': 'Creating'}], 'ResponseMetadata': {'RequestId': 'f3e4b8df-5f44-4dc7-9673-11fb70f81d49', 'HTTPStatusCode': 200, 'HTTPHeaders': {'x-amzn-requestid': 'f3e4b8df-5f44-4dc7-9673-11fb70f81d49', 'content-type': 'application/x-amz-json-1.1', 'content-length': '488', 'date': 'Sun, 20 Apr 2025 06:19:46 GMT'}, 'RetryAttempts': 0}}\n"
     ]
    }
   ],
   "source": [
    "print(sagemaker_session.boto_session.client('sagemaker').list_feature_groups())\n",
    "print()\n",
    "print(boto3.client('sagemaker').list_feature_groups())"
   ]
  },
  {
   "cell_type": "code",
   "execution_count": 13,
   "id": "f4cde7f5-7456-4306-96fd-0fe7066c50cd",
   "metadata": {},
   "outputs": [
    {
     "name": "stdout",
     "output_type": "stream",
     "text": [
      "FeatureGroup customers-feature-group-20-06-17-56 successfully created.\n",
      "FeatureGroup claims-feature-group-20-06-17-56 successfully created.\n"
     ]
    }
   ],
   "source": [
    "def check_feature_group_status(feature_group):\n",
    "    status = feature_group.describe().get(\"FeatureGroupStatus\")\n",
    "    while status == \"Creating\":\n",
    "        print(\"Waiting for Feature Group to be Created\")\n",
    "        time.sleep(5)\n",
    "        status = feature_group.describe().get(\"FeatureGroupStatus\")\n",
    "    print(f\"FeatureGroup {feature_group.name} successfully created.\")\n",
    "\n",
    "check_feature_group_status(customers_feature_group)\n",
    "check_feature_group_status(claims_feature_group)"
   ]
  },
  {
   "cell_type": "code",
   "execution_count": 14,
   "id": "b0a4c19b-6a8f-4e42-8b77-7e783dfd1a98",
   "metadata": {},
   "outputs": [
    {
     "data": {
      "text/plain": [
       "IngestionManagerPandas(feature_group_name='claims-feature-group-20-06-17-56', feature_definitions={'policy_id': {'FeatureName': 'policy_id', 'FeatureType': 'Integral'}, 'incident_severity': {'FeatureName': 'incident_severity', 'FeatureType': 'Fractional'}, 'num_vehicles_involved': {'FeatureName': 'num_vehicles_involved', 'FeatureType': 'Integral'}, 'num_injuries': {'FeatureName': 'num_injuries', 'FeatureType': 'Integral'}, 'num_witnesses': {'FeatureName': 'num_witnesses', 'FeatureType': 'Integral'}, 'police_report_available': {'FeatureName': 'police_report_available', 'FeatureType': 'Fractional'}, 'injury_claim': {'FeatureName': 'injury_claim', 'FeatureType': 'Integral'}, 'vehicle_claim': {'FeatureName': 'vehicle_claim', 'FeatureType': 'Integral'}, 'total_claim_amount': {'FeatureName': 'total_claim_amount', 'FeatureType': 'Integral'}, 'incident_month': {'FeatureName': 'incident_month', 'FeatureType': 'Integral'}, 'incident_day': {'FeatureName': 'incident_day', 'FeatureType': 'Integral'}, 'incident_dow': {'FeatureName': 'incident_dow', 'FeatureType': 'Integral'}, 'incident_hour': {'FeatureName': 'incident_hour', 'FeatureType': 'Integral'}, 'fraud': {'FeatureName': 'fraud', 'FeatureType': 'Integral'}, 'driver_relationship_self': {'FeatureName': 'driver_relationship_self', 'FeatureType': 'Fractional'}, 'driver_relationship_na': {'FeatureName': 'driver_relationship_na', 'FeatureType': 'Fractional'}, 'driver_relationship_spouse': {'FeatureName': 'driver_relationship_spouse', 'FeatureType': 'Fractional'}, 'driver_relationship_child': {'FeatureName': 'driver_relationship_child', 'FeatureType': 'Fractional'}, 'driver_relationship_other': {'FeatureName': 'driver_relationship_other', 'FeatureType': 'Fractional'}, 'incident_type_collision': {'FeatureName': 'incident_type_collision', 'FeatureType': 'Fractional'}, 'incident_type_breakin': {'FeatureName': 'incident_type_breakin', 'FeatureType': 'Fractional'}, 'incident_type_theft': {'FeatureName': 'incident_type_theft', 'FeatureType': 'Fractional'}, 'collision_type_front': {'FeatureName': 'collision_type_front', 'FeatureType': 'Fractional'}, 'collision_type_rear': {'FeatureName': 'collision_type_rear', 'FeatureType': 'Fractional'}, 'collision_type_side': {'FeatureName': 'collision_type_side', 'FeatureType': 'Fractional'}, 'collision_type_na': {'FeatureName': 'collision_type_na', 'FeatureType': 'Fractional'}, 'authorities_contacted_police': {'FeatureName': 'authorities_contacted_police', 'FeatureType': 'Fractional'}, 'authorities_contacted_none': {'FeatureName': 'authorities_contacted_none', 'FeatureType': 'Fractional'}, 'authorities_contacted_fire': {'FeatureName': 'authorities_contacted_fire', 'FeatureType': 'Fractional'}, 'authorities_contacted_ambulance': {'FeatureName': 'authorities_contacted_ambulance', 'FeatureType': 'Fractional'}, 'EventTime': {'FeatureName': 'EventTime', 'FeatureType': 'Fractional'}}, sagemaker_fs_runtime_client_config=<botocore.config.Config object at 0x7f81a22c4050>, sagemaker_session=<sagemaker.session.Session object at 0x7f81a2f1ca40>, max_workers=3, max_processes=1, profile_name=None, _async_result=<multiprocess.pool.MapResult object at 0x7f819fc43680>, _processing_pool=<pool ProcessPool(ncpus=1)>, _failed_indices=[])"
      ]
     },
     "execution_count": 14,
     "metadata": {},
     "output_type": "execute_result"
    }
   ],
   "source": [
    "customers_feature_group.ingest(data_frame=customers_data, max_workers=3, wait=True) \n",
    "claims_feature_group.ingest(data_frame=claims_data, max_workers=3, wait=True) "
   ]
  },
  {
   "cell_type": "code",
   "execution_count": 15,
   "id": "78e0928e-44a1-44ad-99ee-7af672a98437",
   "metadata": {},
   "outputs": [
    {
     "name": "stdout",
     "output_type": "stream",
     "text": [
      "{'ResponseMetadata': {'RequestId': '4c8deea1-b96c-4d38-8490-97e8aa385dcf', 'HTTPStatusCode': 200, 'HTTPHeaders': {'x-amzn-requestid': '4c8deea1-b96c-4d38-8490-97e8aa385dcf', 'content-type': 'application/json', 'content-length': '1595', 'date': 'Sun, 20 Apr 2025 06:21:34 GMT'}, 'RetryAttempts': 0}, 'Record': [{'FeatureName': 'policy_id', 'ValueAsString': '1'}, {'FeatureName': 'customer_age', 'ValueAsString': '54'}, {'FeatureName': 'customer_education', 'ValueAsString': '2'}, {'FeatureName': 'months_as_customer', 'ValueAsString': '381'}, {'FeatureName': 'policy_deductable', 'ValueAsString': '750'}, {'FeatureName': 'policy_annual_premium', 'ValueAsString': '3000'}, {'FeatureName': 'policy_liability', 'ValueAsString': '1'}, {'FeatureName': 'auto_year', 'ValueAsString': '2019'}, {'FeatureName': 'num_claims_past_year', 'ValueAsString': '0'}, {'FeatureName': 'num_insurers_past_5_years', 'ValueAsString': '1'}, {'FeatureName': 'customer_gender_male', 'ValueAsString': '0.0'}, {'FeatureName': 'customer_gender_female', 'ValueAsString': '1.0'}, {'FeatureName': 'policy_state_ca', 'ValueAsString': '1.0'}, {'FeatureName': 'policy_state_wa', 'ValueAsString': '0.0'}, {'FeatureName': 'policy_state_az', 'ValueAsString': '0.0'}, {'FeatureName': 'policy_state_or', 'ValueAsString': '0.0'}, {'FeatureName': 'policy_state_nv', 'ValueAsString': '0.0'}, {'FeatureName': 'policy_state_id', 'ValueAsString': '0.0'}, {'FeatureName': 'EventTime', 'ValueAsString': '1745129899.8059692'}]}\n"
     ]
    }
   ],
   "source": [
    "customer_id = 1\n",
    "sample_record = sagemaker_session.boto_session.client('sagemaker-featurestore-runtime', region_name=REGION).get_record(FeatureGroupName=customers_feature_group_name, RecordIdentifierValueAsString=str(customer_id))\n",
    "print(sample_record)"
   ]
  },
  {
   "cell_type": "code",
   "execution_count": 18,
   "id": "77ba130f-5f4c-40ba-8b40-c391ed01466f",
   "metadata": {},
   "outputs": [],
   "source": [
    "all_records = sagemaker_session.boto_session.client(\n",
    "    \"sagemaker-featurestore-runtime\", region_name=REGION\n",
    ").batch_get_record(\n",
    "    Identifiers=[\n",
    "        {\n",
    "            \"FeatureGroupName\": customers_feature_group_name,\n",
    "            \"RecordIdentifiersValueAsString\": [\"1\", \"2\"],\n",
    "        },\n",
    "        {\n",
    "            \"FeatureGroupName\": claims_feature_group_name,\n",
    "            \"RecordIdentifiersValueAsString\": [\"1\", \"2\"],\n",
    "        },\n",
    "    ]\n",
    ")"
   ]
  },
  {
   "cell_type": "code",
   "execution_count": 19,
   "id": "be09d50c-ec4a-4cdd-b06a-7702705efec9",
   "metadata": {},
   "outputs": [
    {
     "data": {
      "text/plain": [
       "{'ResponseMetadata': {'RequestId': 'ee2474eb-228b-4fbc-977d-e7f538bf2243',\n",
       "  'HTTPStatusCode': 200,\n",
       "  'HTTPHeaders': {'x-amzn-requestid': 'ee2474eb-228b-4fbc-977d-e7f538bf2243',\n",
       "   'content-type': 'application/json',\n",
       "   'content-length': '8913',\n",
       "   'date': 'Sun, 20 Apr 2025 06:29:17 GMT'},\n",
       "  'RetryAttempts': 0},\n",
       " 'Records': [{'FeatureGroupName': 'claims-feature-group-20-06-17-56',\n",
       "   'RecordIdentifierValueAsString': '2',\n",
       "   'Record': [{'FeatureName': 'policy_id', 'ValueAsString': '2'},\n",
       "    {'FeatureName': 'incident_severity', 'ValueAsString': '1.0'},\n",
       "    {'FeatureName': 'num_vehicles_involved', 'ValueAsString': '2'},\n",
       "    {'FeatureName': 'num_injuries', 'ValueAsString': '3'},\n",
       "    {'FeatureName': 'num_witnesses', 'ValueAsString': '0'},\n",
       "    {'FeatureName': 'police_report_available', 'ValueAsString': '0.0'},\n",
       "    {'FeatureName': 'injury_claim', 'ValueAsString': '30000'},\n",
       "    {'FeatureName': 'vehicle_claim', 'ValueAsString': '19500'},\n",
       "    {'FeatureName': 'total_claim_amount', 'ValueAsString': '49500'},\n",
       "    {'FeatureName': 'incident_month', 'ValueAsString': '2'},\n",
       "    {'FeatureName': 'incident_day', 'ValueAsString': '26'},\n",
       "    {'FeatureName': 'incident_dow', 'ValueAsString': '1'},\n",
       "    {'FeatureName': 'incident_hour', 'ValueAsString': '9'},\n",
       "    {'FeatureName': 'fraud', 'ValueAsString': '0'},\n",
       "    {'FeatureName': 'driver_relationship_self', 'ValueAsString': '1.0'},\n",
       "    {'FeatureName': 'driver_relationship_na', 'ValueAsString': '0.0'},\n",
       "    {'FeatureName': 'driver_relationship_spouse', 'ValueAsString': '0.0'},\n",
       "    {'FeatureName': 'driver_relationship_child', 'ValueAsString': '0.0'},\n",
       "    {'FeatureName': 'driver_relationship_other', 'ValueAsString': '0.0'},\n",
       "    {'FeatureName': 'incident_type_collision', 'ValueAsString': '1.0'},\n",
       "    {'FeatureName': 'incident_type_breakin', 'ValueAsString': '0.0'},\n",
       "    {'FeatureName': 'incident_type_theft', 'ValueAsString': '0.0'},\n",
       "    {'FeatureName': 'collision_type_front', 'ValueAsString': '0.0'},\n",
       "    {'FeatureName': 'collision_type_rear', 'ValueAsString': '1.0'},\n",
       "    {'FeatureName': 'collision_type_side', 'ValueAsString': '0.0'},\n",
       "    {'FeatureName': 'collision_type_na', 'ValueAsString': '0.0'},\n",
       "    {'FeatureName': 'authorities_contacted_police', 'ValueAsString': '1.0'},\n",
       "    {'FeatureName': 'authorities_contacted_none', 'ValueAsString': '0.0'},\n",
       "    {'FeatureName': 'authorities_contacted_fire', 'ValueAsString': '0.0'},\n",
       "    {'FeatureName': 'authorities_contacted_ambulance', 'ValueAsString': '0.0'},\n",
       "    {'FeatureName': 'EventTime', 'ValueAsString': '1745129899.807623'}]},\n",
       "  {'FeatureGroupName': 'claims-feature-group-20-06-17-56',\n",
       "   'RecordIdentifierValueAsString': '1',\n",
       "   'Record': [{'FeatureName': 'policy_id', 'ValueAsString': '1'},\n",
       "    {'FeatureName': 'incident_severity', 'ValueAsString': '1.0'},\n",
       "    {'FeatureName': 'num_vehicles_involved', 'ValueAsString': '3'},\n",
       "    {'FeatureName': 'num_injuries', 'ValueAsString': '0'},\n",
       "    {'FeatureName': 'num_witnesses', 'ValueAsString': '2'},\n",
       "    {'FeatureName': 'police_report_available', 'ValueAsString': '1.0'},\n",
       "    {'FeatureName': 'injury_claim', 'ValueAsString': '0'},\n",
       "    {'FeatureName': 'vehicle_claim', 'ValueAsString': '15000'},\n",
       "    {'FeatureName': 'total_claim_amount', 'ValueAsString': '15000'},\n",
       "    {'FeatureName': 'incident_month', 'ValueAsString': '11'},\n",
       "    {'FeatureName': 'incident_day', 'ValueAsString': '18'},\n",
       "    {'FeatureName': 'incident_dow', 'ValueAsString': '0'},\n",
       "    {'FeatureName': 'incident_hour', 'ValueAsString': '7'},\n",
       "    {'FeatureName': 'fraud', 'ValueAsString': '0'},\n",
       "    {'FeatureName': 'driver_relationship_self', 'ValueAsString': '1.0'},\n",
       "    {'FeatureName': 'driver_relationship_na', 'ValueAsString': '0.0'},\n",
       "    {'FeatureName': 'driver_relationship_spouse', 'ValueAsString': '0.0'},\n",
       "    {'FeatureName': 'driver_relationship_child', 'ValueAsString': '0.0'},\n",
       "    {'FeatureName': 'driver_relationship_other', 'ValueAsString': '0.0'},\n",
       "    {'FeatureName': 'incident_type_collision', 'ValueAsString': '1.0'},\n",
       "    {'FeatureName': 'incident_type_breakin', 'ValueAsString': '0.0'},\n",
       "    {'FeatureName': 'incident_type_theft', 'ValueAsString': '0.0'},\n",
       "    {'FeatureName': 'collision_type_front', 'ValueAsString': '0.0'},\n",
       "    {'FeatureName': 'collision_type_rear', 'ValueAsString': '1.0'},\n",
       "    {'FeatureName': 'collision_type_side', 'ValueAsString': '0.0'},\n",
       "    {'FeatureName': 'collision_type_na', 'ValueAsString': '0.0'},\n",
       "    {'FeatureName': 'authorities_contacted_police', 'ValueAsString': '1.0'},\n",
       "    {'FeatureName': 'authorities_contacted_none', 'ValueAsString': '0.0'},\n",
       "    {'FeatureName': 'authorities_contacted_fire', 'ValueAsString': '0.0'},\n",
       "    {'FeatureName': 'authorities_contacted_ambulance', 'ValueAsString': '0.0'},\n",
       "    {'FeatureName': 'EventTime', 'ValueAsString': '1745129899.807623'}]},\n",
       "  {'FeatureGroupName': 'customers-feature-group-20-06-17-56',\n",
       "   'RecordIdentifierValueAsString': '2',\n",
       "   'Record': [{'FeatureName': 'policy_id', 'ValueAsString': '2'},\n",
       "    {'FeatureName': 'customer_age', 'ValueAsString': '41'},\n",
       "    {'FeatureName': 'customer_education', 'ValueAsString': '3'},\n",
       "    {'FeatureName': 'months_as_customer', 'ValueAsString': '31'},\n",
       "    {'FeatureName': 'policy_deductable', 'ValueAsString': '750'},\n",
       "    {'FeatureName': 'policy_annual_premium', 'ValueAsString': '3000'},\n",
       "    {'FeatureName': 'policy_liability', 'ValueAsString': '3'},\n",
       "    {'FeatureName': 'auto_year', 'ValueAsString': '2017'},\n",
       "    {'FeatureName': 'num_claims_past_year', 'ValueAsString': '0'},\n",
       "    {'FeatureName': 'num_insurers_past_5_years', 'ValueAsString': '3'},\n",
       "    {'FeatureName': 'customer_gender_male', 'ValueAsString': '1.0'},\n",
       "    {'FeatureName': 'customer_gender_female', 'ValueAsString': '0.0'},\n",
       "    {'FeatureName': 'policy_state_ca', 'ValueAsString': '0.0'},\n",
       "    {'FeatureName': 'policy_state_wa', 'ValueAsString': '0.0'},\n",
       "    {'FeatureName': 'policy_state_az', 'ValueAsString': '1.0'},\n",
       "    {'FeatureName': 'policy_state_or', 'ValueAsString': '0.0'},\n",
       "    {'FeatureName': 'policy_state_nv', 'ValueAsString': '0.0'},\n",
       "    {'FeatureName': 'policy_state_id', 'ValueAsString': '0.0'},\n",
       "    {'FeatureName': 'EventTime', 'ValueAsString': '1745129899.8059692'}]},\n",
       "  {'FeatureGroupName': 'customers-feature-group-20-06-17-56',\n",
       "   'RecordIdentifierValueAsString': '1',\n",
       "   'Record': [{'FeatureName': 'policy_id', 'ValueAsString': '1'},\n",
       "    {'FeatureName': 'customer_age', 'ValueAsString': '54'},\n",
       "    {'FeatureName': 'customer_education', 'ValueAsString': '2'},\n",
       "    {'FeatureName': 'months_as_customer', 'ValueAsString': '381'},\n",
       "    {'FeatureName': 'policy_deductable', 'ValueAsString': '750'},\n",
       "    {'FeatureName': 'policy_annual_premium', 'ValueAsString': '3000'},\n",
       "    {'FeatureName': 'policy_liability', 'ValueAsString': '1'},\n",
       "    {'FeatureName': 'auto_year', 'ValueAsString': '2019'},\n",
       "    {'FeatureName': 'num_claims_past_year', 'ValueAsString': '0'},\n",
       "    {'FeatureName': 'num_insurers_past_5_years', 'ValueAsString': '1'},\n",
       "    {'FeatureName': 'customer_gender_male', 'ValueAsString': '0.0'},\n",
       "    {'FeatureName': 'customer_gender_female', 'ValueAsString': '1.0'},\n",
       "    {'FeatureName': 'policy_state_ca', 'ValueAsString': '1.0'},\n",
       "    {'FeatureName': 'policy_state_wa', 'ValueAsString': '0.0'},\n",
       "    {'FeatureName': 'policy_state_az', 'ValueAsString': '0.0'},\n",
       "    {'FeatureName': 'policy_state_or', 'ValueAsString': '0.0'},\n",
       "    {'FeatureName': 'policy_state_nv', 'ValueAsString': '0.0'},\n",
       "    {'FeatureName': 'policy_state_id', 'ValueAsString': '0.0'},\n",
       "    {'FeatureName': 'EventTime', 'ValueAsString': '1745129899.8059692'}]}],\n",
       " 'Errors': [],\n",
       " 'UnprocessedIdentifiers': []}"
      ]
     },
     "execution_count": 19,
     "metadata": {},
     "output_type": "execute_result"
    }
   ],
   "source": [
    "all_records"
   ]
  },
  {
   "cell_type": "code",
   "execution_count": 21,
   "id": "57254db7-bbae-4fb6-992a-7e63d9af71ce",
   "metadata": {},
   "outputs": [
    {
     "data": {
      "text/plain": [
       "{'FeatureGroupArn': 'arn:aws:sagemaker:us-east-1:205930620783:feature-group/customers-feature-group-20-06-17-56',\n",
       " 'FeatureGroupName': 'customers-feature-group-20-06-17-56',\n",
       " 'RecordIdentifierFeatureName': 'policy_id',\n",
       " 'EventTimeFeatureName': 'EventTime',\n",
       " 'FeatureDefinitions': [{'FeatureName': 'policy_id',\n",
       "   'FeatureType': 'Integral'},\n",
       "  {'FeatureName': 'customer_age', 'FeatureType': 'Integral'},\n",
       "  {'FeatureName': 'customer_education', 'FeatureType': 'Integral'},\n",
       "  {'FeatureName': 'months_as_customer', 'FeatureType': 'Integral'},\n",
       "  {'FeatureName': 'policy_deductable', 'FeatureType': 'Integral'},\n",
       "  {'FeatureName': 'policy_annual_premium', 'FeatureType': 'Integral'},\n",
       "  {'FeatureName': 'policy_liability', 'FeatureType': 'Integral'},\n",
       "  {'FeatureName': 'auto_year', 'FeatureType': 'Integral'},\n",
       "  {'FeatureName': 'num_claims_past_year', 'FeatureType': 'Integral'},\n",
       "  {'FeatureName': 'num_insurers_past_5_years', 'FeatureType': 'Integral'},\n",
       "  {'FeatureName': 'customer_gender_male', 'FeatureType': 'Fractional'},\n",
       "  {'FeatureName': 'customer_gender_female', 'FeatureType': 'Fractional'},\n",
       "  {'FeatureName': 'policy_state_ca', 'FeatureType': 'Fractional'},\n",
       "  {'FeatureName': 'policy_state_wa', 'FeatureType': 'Fractional'},\n",
       "  {'FeatureName': 'policy_state_az', 'FeatureType': 'Fractional'},\n",
       "  {'FeatureName': 'policy_state_or', 'FeatureType': 'Fractional'},\n",
       "  {'FeatureName': 'policy_state_nv', 'FeatureType': 'Fractional'},\n",
       "  {'FeatureName': 'policy_state_id', 'FeatureType': 'Fractional'},\n",
       "  {'FeatureName': 'EventTime', 'FeatureType': 'Fractional'}],\n",
       " 'CreationTime': datetime.datetime(2025, 4, 20, 6, 19, 28, 702000, tzinfo=tzlocal()),\n",
       " 'OnlineStoreConfig': {'EnableOnlineStore': True},\n",
       " 'OfflineStoreConfig': {'S3StorageConfig': {'S3Uri': 's3://sagemaker-us-east-1-205930620783/FraudDetection_AutoInsurance/data/feature_store',\n",
       "   'ResolvedOutputS3Uri': 's3://sagemaker-us-east-1-205930620783/FraudDetection_AutoInsurance/data/feature_store/205930620783/sagemaker/us-east-1/offline-store/customers-feature-group-20-06-17-56-1745129968/data'},\n",
       "  'DisableGlueTableCreation': False,\n",
       "  'DataCatalogConfig': {'TableName': 'customers_feature_group_20_06_17_56_1745129968',\n",
       "   'Catalog': 'AwsDataCatalog',\n",
       "   'Database': 'sagemaker_featurestore'}},\n",
       " 'ThroughputConfig': {'ThroughputMode': 'OnDemand'},\n",
       " 'RoleArn': 'arn:aws:iam::205930620783:role/service-role/AmazonSageMaker-ExecutionRole-20250401T145997',\n",
       " 'FeatureGroupStatus': 'Created',\n",
       " 'OfflineStoreStatus': {'Status': 'Active'},\n",
       " 'OnlineStoreTotalSizeBytes': 0,\n",
       " 'ResponseMetadata': {'RequestId': 'bdca76f2-40fa-4d54-94bd-a150b0fe2baa',\n",
       "  'HTTPStatusCode': 200,\n",
       "  'HTTPHeaders': {'x-amzn-requestid': 'bdca76f2-40fa-4d54-94bd-a150b0fe2baa',\n",
       "   'content-type': 'application/x-amz-json-1.1',\n",
       "   'content-length': '2799',\n",
       "   'date': 'Sun, 20 Apr 2025 07:32:34 GMT'},\n",
       "  'RetryAttempts': 0}}"
      ]
     },
     "execution_count": 21,
     "metadata": {},
     "output_type": "execute_result"
    }
   ],
   "source": [
    "customers_feature_group.describe()"
   ]
  }
 ],
 "metadata": {
  "kernelspec": {
   "display_name": "Python 3 (ipykernel)",
   "language": "python",
   "name": "python3"
  },
  "language_info": {
   "codemirror_mode": {
    "name": "ipython",
    "version": 3
   },
   "file_extension": ".py",
   "mimetype": "text/x-python",
   "name": "python",
   "nbconvert_exporter": "python",
   "pygments_lexer": "ipython3",
   "version": "3.12.9"
  }
 },
 "nbformat": 4,
 "nbformat_minor": 5
}
