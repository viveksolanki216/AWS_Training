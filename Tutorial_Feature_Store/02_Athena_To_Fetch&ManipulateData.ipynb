{
 "cells": [
  {
   "cell_type": "code",
   "execution_count": 1,
   "id": "7af034cf-0632-4bd8-b43a-246d52794878",
   "metadata": {},
   "outputs": [],
   "source": [
    "# Feature Store \n",
    "## \n",
    "\n"
   ]
  },
  {
   "cell_type": "code",
   "execution_count": 27,
   "id": "e0496155-00e4-40a7-a392-726fc719693b",
   "metadata": {},
   "outputs": [],
   "source": [
    "import sagemaker\n",
    "import boto3\n",
    "import pandas as pd \n",
    "import numpy as np \n",
    "from sagemaker.feature_store.feature_group import FeatureGroup"
   ]
  },
  {
   "cell_type": "code",
   "execution_count": 28,
   "id": "edede9b4-35cf-4bd8-9b31-101374914d9a",
   "metadata": {},
   "outputs": [
    {
     "name": "stdout",
     "output_type": "stream",
     "text": [
      "us-east-1 \n",
      " sagemaker-us-east-1-205930620783\n",
      "us-east-1\n"
     ]
    }
   ],
   "source": [
    "sagemaker_session = sagemaker.Session()\n",
    "REGION  = sagemaker_session.boto_region_name\n",
    "BUCKET = sagemaker_session.default_bucket()\n",
    "print(REGION, \"\\n\", BUCKET)\n",
    "print(boto3.Session().region_name)\n",
    "\n",
    "boto_session  = boto3.Session(region_name=REGION)\n",
    "fs_client = boto_session.client(service_name=\"sagemaker-featurestore-runtime\")\n"
   ]
  },
  {
   "cell_type": "code",
   "execution_count": 29,
   "id": "1d842a3c-6334-497a-ac73-4bd9d3a85346",
   "metadata": {},
   "outputs": [],
   "source": [
    "# Intialize Feature Group objects\n",
    "claims_feature_group_name = \"claims-feature-group-20-06-17-56\"\n",
    "customers_feature_group_name = \"customers-feature-group-20-06-17-56\"\n",
    "\n",
    "claims_feature_group = FeatureGroup(name=claims_feature_group_name, sagemaker_session=sagemaker_session)\n",
    "customers_feature_group = FeatureGroup(name=customers_feature_group_name, sagemaker_session=sagemaker_session)"
   ]
  },
  {
   "cell_type": "code",
   "execution_count": 30,
   "id": "684ddb7a-62f5-4768-b1f1-b66cd44b0835",
   "metadata": {},
   "outputs": [
    {
     "data": {
      "text/plain": [
       "{'FeatureGroupArn': 'arn:aws:sagemaker:us-east-1:205930620783:feature-group/claims-feature-group-20-06-17-56',\n",
       " 'FeatureGroupName': 'claims-feature-group-20-06-17-56',\n",
       " 'RecordIdentifierFeatureName': 'policy_id',\n",
       " 'EventTimeFeatureName': 'EventTime',\n",
       " 'FeatureDefinitions': [{'FeatureName': 'policy_id',\n",
       "   'FeatureType': 'Integral'},\n",
       "  {'FeatureName': 'incident_severity', 'FeatureType': 'Fractional'},\n",
       "  {'FeatureName': 'num_vehicles_involved', 'FeatureType': 'Integral'},\n",
       "  {'FeatureName': 'num_injuries', 'FeatureType': 'Integral'},\n",
       "  {'FeatureName': 'num_witnesses', 'FeatureType': 'Integral'},\n",
       "  {'FeatureName': 'police_report_available', 'FeatureType': 'Fractional'},\n",
       "  {'FeatureName': 'injury_claim', 'FeatureType': 'Integral'},\n",
       "  {'FeatureName': 'vehicle_claim', 'FeatureType': 'Integral'},\n",
       "  {'FeatureName': 'total_claim_amount', 'FeatureType': 'Integral'},\n",
       "  {'FeatureName': 'incident_month', 'FeatureType': 'Integral'},\n",
       "  {'FeatureName': 'incident_day', 'FeatureType': 'Integral'},\n",
       "  {'FeatureName': 'incident_dow', 'FeatureType': 'Integral'},\n",
       "  {'FeatureName': 'incident_hour', 'FeatureType': 'Integral'},\n",
       "  {'FeatureName': 'fraud', 'FeatureType': 'Integral'},\n",
       "  {'FeatureName': 'driver_relationship_self', 'FeatureType': 'Fractional'},\n",
       "  {'FeatureName': 'driver_relationship_na', 'FeatureType': 'Fractional'},\n",
       "  {'FeatureName': 'driver_relationship_spouse', 'FeatureType': 'Fractional'},\n",
       "  {'FeatureName': 'driver_relationship_child', 'FeatureType': 'Fractional'},\n",
       "  {'FeatureName': 'driver_relationship_other', 'FeatureType': 'Fractional'},\n",
       "  {'FeatureName': 'incident_type_collision', 'FeatureType': 'Fractional'},\n",
       "  {'FeatureName': 'incident_type_breakin', 'FeatureType': 'Fractional'},\n",
       "  {'FeatureName': 'incident_type_theft', 'FeatureType': 'Fractional'},\n",
       "  {'FeatureName': 'collision_type_front', 'FeatureType': 'Fractional'},\n",
       "  {'FeatureName': 'collision_type_rear', 'FeatureType': 'Fractional'},\n",
       "  {'FeatureName': 'collision_type_side', 'FeatureType': 'Fractional'},\n",
       "  {'FeatureName': 'collision_type_na', 'FeatureType': 'Fractional'},\n",
       "  {'FeatureName': 'authorities_contacted_police', 'FeatureType': 'Fractional'},\n",
       "  {'FeatureName': 'authorities_contacted_none', 'FeatureType': 'Fractional'},\n",
       "  {'FeatureName': 'authorities_contacted_fire', 'FeatureType': 'Fractional'},\n",
       "  {'FeatureName': 'authorities_contacted_ambulance',\n",
       "   'FeatureType': 'Fractional'},\n",
       "  {'FeatureName': 'EventTime', 'FeatureType': 'Fractional'}],\n",
       " 'CreationTime': datetime.datetime(2025, 4, 20, 6, 19, 30, 828000, tzinfo=tzlocal()),\n",
       " 'OnlineStoreConfig': {'EnableOnlineStore': True},\n",
       " 'OfflineStoreConfig': {'S3StorageConfig': {'S3Uri': 's3://sagemaker-us-east-1-205930620783/FraudDetection_AutoInsurance/data/feature_store',\n",
       "   'ResolvedOutputS3Uri': 's3://sagemaker-us-east-1-205930620783/FraudDetection_AutoInsurance/data/feature_store/205930620783/sagemaker/us-east-1/offline-store/claims-feature-group-20-06-17-56-1745129970/data'},\n",
       "  'DisableGlueTableCreation': False,\n",
       "  'DataCatalogConfig': {'TableName': 'claims_feature_group_20_06_17_56_1745129970',\n",
       "   'Catalog': 'AwsDataCatalog',\n",
       "   'Database': 'sagemaker_featurestore'}},\n",
       " 'ThroughputConfig': {'ThroughputMode': 'OnDemand'},\n",
       " 'RoleArn': 'arn:aws:iam::205930620783:role/service-role/AmazonSageMaker-ExecutionRole-20250401T145997',\n",
       " 'FeatureGroupStatus': 'Created',\n",
       " 'OfflineStoreStatus': {'Status': 'Active'},\n",
       " 'OnlineStoreTotalSizeBytes': 0,\n",
       " 'ResponseMetadata': {'RequestId': '5acca007-017b-479b-bbb7-b3e91507faa5',\n",
       "  'HTTPStatusCode': 200,\n",
       "  'HTTPHeaders': {'x-amzn-requestid': '5acca007-017b-479b-bbb7-b3e91507faa5',\n",
       "   'content-type': 'application/x-amz-json-1.1',\n",
       "   'content-length': '3603',\n",
       "   'date': 'Sun, 20 Apr 2025 09:29:15 GMT'},\n",
       "  'RetryAttempts': 0}}"
      ]
     },
     "execution_count": 30,
     "metadata": {},
     "output_type": "execute_result"
    }
   ],
   "source": [
    "claims_feature_group.describe()"
   ]
  },
  {
   "cell_type": "code",
   "execution_count": 31,
   "id": "701f7d1d-b694-4cd8-85aa-c27c6b8d5268",
   "metadata": {},
   "outputs": [
    {
     "data": {
      "text/plain": [
       "'claims_feature_group_20_06_17_56_1745129970'"
      ]
     },
     "execution_count": 31,
     "metadata": {},
     "output_type": "execute_result"
    }
   ],
   "source": [
    "claims_feature_group.describe()['OfflineStoreConfig']['DataCatalogConfig']['TableName']"
   ]
  },
  {
   "cell_type": "code",
   "execution_count": 36,
   "id": "2293bba6-9b6a-4132-82e7-60dec2090771",
   "metadata": {},
   "outputs": [
    {
     "name": "stdout",
     "output_type": "stream",
     "text": [
      "claims_feature_group_20_06_17_56_1745129970 \n",
      " sagemaker_featurestore\n",
      "customers_feature_group_20_06_17_56_1745129968 \n",
      " sagemaker_featurestore\n"
     ]
    }
   ],
   "source": [
    "claims_query = claims_feature_group.athena_query()\n",
    "print(claims_query.table_name, \"\\n\", claims_query.database)\n",
    "customers_query = customers_feature_group.athena_query()\n",
    "print(customers_query.table_name, \"\\n\", customers_query.database)\n"
   ]
  },
  {
   "cell_type": "markdown",
   "id": "77f22b9e-1622-4b83-9a39-a01c205f2190",
   "metadata": {},
   "source": [
    "# Write a SQL query to join both the tables and select all the columns"
   ]
  },
  {
   "cell_type": "code",
   "execution_count": 47,
   "id": "fec54f1e-5bae-416e-9d35-420c710dc38e",
   "metadata": {},
   "outputs": [
    {
     "name": "stdout",
     "output_type": "stream",
     "text": [
      " \n",
      "    SELECT * \n",
      "    FROM claims_feature_group_20_06_17_56_1745129970 LEFT JOIN customers_feature_group_20_06_17_56_1745129968 \n",
      "    ON claims_feature_group_20_06_17_56_1745129970.policy_id = customers_feature_group_20_06_17_56_1745129968.policy_id \n",
      "\n"
     ]
    },
    {
     "data": {
      "text/html": [
       "<pre style=\"white-space:pre;overflow-x:auto;line-height:normal;font-family:Menlo,'DejaVu Sans Mono',consolas,'Courier New',monospace\"><span style=\"color: #7fbfbf; text-decoration-color: #7fbfbf\">[04/20/25 10:02:02] </span><span style=\"color: #0069ff; text-decoration-color: #0069ff; font-weight: bold\">INFO    </span> Query <span style=\"color: #ffff00; text-decoration-color: #ffff00\">db52336d-53cd-4034-ad58-76eda6ac0df2</span> is being executed.          <a href=\"file:///opt/conda/lib/python3.12/site-packages/sagemaker/session.py\" target=\"_blank\"><span style=\"color: #7f7f7f; text-decoration-color: #7f7f7f\">session.py</span></a><span style=\"color: #7f7f7f; text-decoration-color: #7f7f7f\">:</span><a href=\"file:///opt/conda/lib/python3.12/site-packages/sagemaker/session.py#6663\" target=\"_blank\"><span style=\"color: #7f7f7f; text-decoration-color: #7f7f7f\">6663</span></a>\n",
       "</pre>\n"
      ],
      "text/plain": [
       "\u001b[2;36m[04/20/25 10:02:02]\u001b[0m\u001b[2;36m \u001b[0m\u001b[1;38;2;0;105;255mINFO    \u001b[0m Query \u001b[93mdb52336d-53cd-4034-ad58-76eda6ac0df2\u001b[0m is being executed.          \u001b]8;id=904799;file:///opt/conda/lib/python3.12/site-packages/sagemaker/session.py\u001b\\\u001b[2msession.py\u001b[0m\u001b]8;;\u001b\\\u001b[2m:\u001b[0m\u001b]8;id=542042;file:///opt/conda/lib/python3.12/site-packages/sagemaker/session.py#6663\u001b\\\u001b[2m6663\u001b[0m\u001b]8;;\u001b\\\n"
      ]
     },
     "metadata": {},
     "output_type": "display_data"
    },
    {
     "data": {
      "text/html": [
       "<pre style=\"white-space:pre;overflow-x:auto;line-height:normal;font-family:Menlo,'DejaVu Sans Mono',consolas,'Courier New',monospace\"><span style=\"color: #7fbfbf; text-decoration-color: #7fbfbf\">[04/20/25 10:02:07] </span><span style=\"color: #0069ff; text-decoration-color: #0069ff; font-weight: bold\">INFO    </span> Query <span style=\"color: #ffff00; text-decoration-color: #ffff00\">db52336d-53cd-4034-ad58-76eda6ac0df2</span> successfully executed.      <a href=\"file:///opt/conda/lib/python3.12/site-packages/sagemaker/session.py\" target=\"_blank\"><span style=\"color: #7f7f7f; text-decoration-color: #7f7f7f\">session.py</span></a><span style=\"color: #7f7f7f; text-decoration-color: #7f7f7f\">:</span><a href=\"file:///opt/conda/lib/python3.12/site-packages/sagemaker/session.py#6672\" target=\"_blank\"><span style=\"color: #7f7f7f; text-decoration-color: #7f7f7f\">6672</span></a>\n",
       "</pre>\n"
      ],
      "text/plain": [
       "\u001b[2;36m[04/20/25 10:02:07]\u001b[0m\u001b[2;36m \u001b[0m\u001b[1;38;2;0;105;255mINFO    \u001b[0m Query \u001b[93mdb52336d-53cd-4034-ad58-76eda6ac0df2\u001b[0m successfully executed.      \u001b]8;id=341393;file:///opt/conda/lib/python3.12/site-packages/sagemaker/session.py\u001b\\\u001b[2msession.py\u001b[0m\u001b]8;;\u001b\\\u001b[2m:\u001b[0m\u001b]8;id=548169;file:///opt/conda/lib/python3.12/site-packages/sagemaker/session.py#6672\u001b\\\u001b[2m6672\u001b[0m\u001b]8;;\u001b\\\n"
      ]
     },
     "metadata": {},
     "output_type": "display_data"
    }
   ],
   "source": [
    "query = f\"\"\" \n",
    "    SELECT * \n",
    "    FROM {claims_query.table_name} LEFT JOIN {customers_query.table_name} \n",
    "    ON {claims_query.table_name}.policy_id = {customers_query.table_name}.policy_id \n",
    "\"\"\"\n",
    "print(query)\n",
    "\n",
    "claims_query.run(query, output_location=f\"s3://{BUCKET}/FraudDetection_AutoInsurance/data/query_results\")\n",
    "claims_query.wait() \n",
    "dataset = claims_query.as_dataframe()"
   ]
  },
  {
   "cell_type": "code",
   "execution_count": 48,
   "id": "41348a1f-69ae-465a-a29b-1a15b828de36",
   "metadata": {},
   "outputs": [],
   "source": [
    "dataset_col_order = ['fraud']  + list(dataset.drop([\"fraud\", \"policy_id\"], axis=1).columns)\n",
    "train = dataset.sample(frac=.80, random_state=0)[dataset_col_order]\n",
    "test = dataset.drop(train.index)[dataset_col_order]\n",
    "train.to_csv(\"data/train.csv\", index=False)\n",
    "test.to_csv(\"data/test.csv\", index=False)\n",
    "dataset.to_csv(\"data/dataset.csv\", index=True)"
   ]
  },
  {
   "cell_type": "code",
   "execution_count": 50,
   "id": "0a998685-9491-45ba-81d3-258984e359ac",
   "metadata": {},
   "outputs": [],
   "source": [
    "# Upload the data to S3\n",
    "s3_client = boto_session.client(\"s3\")\n",
    "s3_client.upload_file('data/train.csv', Bucket=BUCKET, Key=\"FraudDetection_AutoInsurance/data/train.csv\")\n",
    "s3_client.upload_file('data/test.csv', Bucket=BUCKET, Key=\"FraudDetection_AutoInsurance/data/test.csv\")\n",
    "s3_client.upload_file('data/dataset.csv', Bucket=BUCKET, Key=\"FraudDetection_AutoInsurance/data/dataset.csv\")\n"
   ]
  }
 ],
 "metadata": {
  "kernelspec": {
   "display_name": "Python 3 (ipykernel)",
   "language": "python",
   "name": "python3"
  },
  "language_info": {
   "codemirror_mode": {
    "name": "ipython",
    "version": 3
   },
   "file_extension": ".py",
   "mimetype": "text/x-python",
   "name": "python",
   "nbconvert_exporter": "python",
   "pygments_lexer": "ipython3",
   "version": "3.12.9"
  }
 },
 "nbformat": 4,
 "nbformat_minor": 5
}
