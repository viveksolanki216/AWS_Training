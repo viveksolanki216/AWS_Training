{
 "cells": [
  {
   "cell_type": "markdown",
   "id": "673c081f-55bc-492d-8697-cc6411f51aff",
   "metadata": {},
   "source": [
    "## Amazon Sagemaker Clarify 01\n",
    "### Fairness and Explainability\n",
    "- AWS Docs Link: https://docs.aws.amazon.com/sagemaker/latest/dg/clarify-configure-processing-jobs.html\n",
    "- ReadTheDocs Link: https://sagemaker-examples.readthedocs.io/en/latest/sagemaker-clarify/fairness_and_explainability/fairness_and_explainability.html\n",
    "\n",
    "Amazon SageMaker Clarify helps improve your machine learning models by detecting potential bias and helping explain how these models make predictions. The fairness and explainability functionality provided by SageMaker Clarify takes a step towards enabling AWS customers to build trustworthy and understandable machine learning models. The product comes with the tools to help you with the following tasks.\n",
    "\n",
    "Measure biases that can occur during each stage of the ML lifecycle (data collection, model training and tuning, and monitoring of ML models deployed for inference).\n",
    "\n",
    "Generate model governance reports targeting risk and compliance teams and external regulators.\n",
    "\n",
    "Provide explanations of the data, models, and monitoring used to assess predictions.\n",
    "\n",
    "This sample notebook walks you through:\n",
    "1. Key terms and concepts needed to understand SageMaker Clarify\n",
    "2. Measuring the pre-training bias of a dataset and post-training bias of a model\n",
    "3. Explaining the importance of the various input features on the model’s decision\n",
    "4. Accessing the reports through SageMaker Studio if you have an instance set up.\n",
    "\n",
    "   \n",
    "In doing so, the notebook first trains a SageMaker XGBoost model using training dataset, then use Amazon SageMaker Python SDK to launch SageMaker Clarify jobs to analyze an example dataset in CSV format. In more details:\n",
    "\n",
    "- Create an Instance of Sagemaker Clarify, specify the EC2 instance type, count, execution role, and sagemaker session.\n",
    "- Now define some configurations on\n",
    "  - DataConfig: how data is defined\n",
    "  - ModelConfig: how model shall take input-output at what instance the model should be hosted to make inferences,\n",
    "  - ModelPredictedLabelConfig: what should be the tresholds for probability to assign labels.\n",
    "  - BiasConfig: For what factor you think bias needs to be analyzed.\n",
    "\n",
    "\n",
    "#### Important Notes\n",
    "1. The datatype of the target label in train/test data should be same, otherwise when you run the clarify process it will raise an error. The clarify will get the predictions and assigne the integer labels, so the label in the data should also be in integer."
   ]
  },
  {
   "cell_type": "code",
   "execution_count": 2,
   "id": "9bd0ff73-3305-4e6c-9260-6c904a7ad67b",
   "metadata": {},
   "outputs": [
    {
     "name": "stderr",
     "output_type": "stream",
     "text": [
      "/opt/conda/lib/python3.12/site-packages/pydantic/_internal/_fields.py:192: UserWarning: Field name \"json\" in \"MonitoringDatasetFormat\" shadows an attribute in parent \"Base\"\n",
      "  warnings.warn(\n"
     ]
    },
    {
     "name": "stdout",
     "output_type": "stream",
     "text": [
      "sagemaker.config INFO - Not applying SDK defaults from location: /etc/xdg/sagemaker/config.yaml\n",
      "sagemaker.config INFO - Not applying SDK defaults from location: /home/sagemaker-user/.config/sagemaker/config.yaml\n"
     ]
    }
   ],
   "source": [
    "import pandas as pd    \n",
    "import numpy as np    \n",
    "import boto3   \n",
    "import sagemaker  "
   ]
  },
  {
   "cell_type": "code",
   "execution_count": 3,
   "id": "5b217b1d-02e3-4aa5-b1f0-c5186acf22b9",
   "metadata": {},
   "outputs": [
    {
     "name": "stdout",
     "output_type": "stream",
     "text": [
      "arn:aws:iam::205930620783:role/service-role/AmazonSageMaker-ExecutionRole-20250401T145997\n",
      "us-east-1\n",
      "sagemaker-us-east-1-205930620783\n"
     ]
    }
   ],
   "source": [
    "ROLE = sagemaker.get_execution_role()\n",
    "print(ROLE)\n",
    "\n",
    "boto_session = boto3.session.Session()\n",
    "REGION = boto_session.region_name\n",
    "print(REGION)\n",
    "\n",
    "sagemaker_session = sagemaker.session.Session(boto_session=boto_session)\n",
    "BUCKET = sagemaker_session.default_bucket()\n",
    "print(BUCKET)\n",
    "\n",
    "s3_boto_client = boto_session.client(\"s3\")\n",
    "sagemaker_boto_client = boto_session.client(\"sagemaker\")\n",
    "\n",
    "PREFIX_KEY = \"DEMO-sagemaker-clarify\"\n"
   ]
  },
  {
   "cell_type": "code",
   "execution_count": 11,
   "id": "cea462c7-612b-4f62-a85c-c69fb62eeb6a",
   "metadata": {},
   "outputs": [
    {
     "name": "stdout",
     "output_type": "stream",
     "text": [
      "Target_>50K  :  ['Target_>50K', 'Age', 'fnlwgt', 'Education-Num', 'Capital Gain', 'Capital Loss', 'Hours per week', 'Workclass_Federal-gov', 'Workclass_Local-gov', 'Workclass_Never-worked', 'Workclass_Private', 'Workclass_Self-emp-inc', 'Workclass_Self-emp-not-inc', 'Workclass_State-gov', 'Workclass_Without-pay', 'Education_11th', 'Education_12th', 'Education_1st-4th', 'Education_5th-6th', 'Education_7th-8th', 'Education_9th', 'Education_Assoc-acdm', 'Education_Assoc-voc', 'Education_Bachelors', 'Education_Doctorate', 'Education_HS-grad', 'Education_Masters', 'Education_Preschool', 'Education_Prof-school', 'Education_Some-college', 'Marital Status_Married-AF-spouse', 'Marital Status_Married-civ-spouse', 'Marital Status_Married-spouse-absent', 'Marital Status_Never-married', 'Marital Status_Separated', 'Marital Status_Widowed', 'Occupation_Adm-clerical', 'Occupation_Armed-Forces', 'Occupation_Craft-repair', 'Occupation_Exec-managerial', 'Occupation_Farming-fishing', 'Occupation_Handlers-cleaners', 'Occupation_Machine-op-inspct', 'Occupation_Other-service', 'Occupation_Priv-house-serv', 'Occupation_Prof-specialty', 'Occupation_Protective-serv', 'Occupation_Sales', 'Occupation_Tech-support', 'Occupation_Transport-moving', 'Relationship_Not-in-family', 'Relationship_Other-relative', 'Relationship_Own-child', 'Relationship_Unmarried', 'Relationship_Wife', 'Ethnic group_Asian-Pac-Islander', 'Ethnic group_Black', 'Ethnic group_Other', 'Ethnic group_White', 'Sex_Male', 'Country_Cambodia', 'Country_Canada', 'Country_China', 'Country_Columbia', 'Country_Cuba', 'Country_Dominican-Republic', 'Country_Ecuador', 'Country_El-Salvador', 'Country_England', 'Country_France', 'Country_Germany', 'Country_Greece', 'Country_Guatemala', 'Country_Haiti', 'Country_Holand-Netherlands', 'Country_Honduras', 'Country_Hong', 'Country_Hungary', 'Country_India', 'Country_Iran', 'Country_Ireland', 'Country_Italy', 'Country_Jamaica', 'Country_Japan', 'Country_Laos', 'Country_Mexico', 'Country_Nicaragua', 'Country_Outlying-US(Guam-USVI-etc)', 'Country_Peru', 'Country_Philippines', 'Country_Poland', 'Country_Portugal', 'Country_Puerto-Rico', 'Country_Scotland', 'Country_South', 'Country_Taiwan', 'Country_Thailand', 'Country_Trinadad&Tobago', 'Country_United-States', 'Country_Vietnam', 'Country_Yugoslavia']\n",
      "Target_>50K\n",
      "0.0    24720\n",
      "1.0     7841\n",
      "Name: count, dtype: int64\n",
      "0\n",
      "float64\n",
      "Convert to int\n",
      "s3://sagemaker-us-east-1-205930620783/DEMO-sagemaker-clarify/data/train_preocessed.csv\n"
     ]
    }
   ],
   "source": [
    "\n",
    "train_uri = f\"s3://sagemaker-us-east-1-205930620783/DEMO-sagemaker-clarify/data/train_preocessed.csv\"\n",
    "\n",
    "train_data = pd.read_csv(train_uri)\n",
    "FEATURES = train_data.columns.tolist()\n",
    "TARGET = FEATURES[0]\n",
    "#FEATURES = FEATURES[1:]\n",
    "print(TARGET, \" : \", FEATURES)\n",
    "print(train_data[TARGET].value_counts())\n",
    "print(train_data[TARGET].isna().sum())\n",
    "#print(train_data.dtypes)\n",
    "\n",
    "print(train_data[TARGET].dtype)\n",
    "if train_data[TARGET].dtype != 'int':\n",
    "    print(\"Convert to int\")\n",
    "    train_data[TARGET] = train_data[TARGET].astype('int')\n",
    "    train_data.to_csv(\"data/train_preocessed.csv\", index=False)\n",
    "    from sagemaker.s3 import S3Uploader\n",
    "    train_uri = S3Uploader.upload(\"data/train_preocessed.csv\", \"s3://{}/{}/data\".format(BUCKET, PREFIX_KEY))\n",
    "    #test_uri = S3Uploader.upload(\"test_features.csv\", \"s3://{}/{}\".format(bucket, prefix))\n",
    "    print(train_uri)"
   ]
  },
  {
   "cell_type": "markdown",
   "id": "6b0009ca-6482-48d4-9c48-cb12cc647118",
   "metadata": {},
   "source": [
    "### Create a sagemaker clarify processor"
   ]
  },
  {
   "cell_type": "code",
   "execution_count": 12,
   "id": "46df227b-b7d4-48a0-a20a-84dcb31a042c",
   "metadata": {},
   "outputs": [
    {
     "data": {
      "text/html": [
       "<pre style=\"white-space:pre;overflow-x:auto;line-height:normal;font-family:Menlo,'DejaVu Sans Mono',consolas,'Courier New',monospace\"><span style=\"color: #7fbfbf; text-decoration-color: #7fbfbf\">[06/01/25 07:07:51] </span><span style=\"color: #0069ff; text-decoration-color: #0069ff; font-weight: bold\">INFO    </span> Ignoring unnecessary instance type: <span style=\"color: #e100e1; text-decoration-color: #e100e1; font-style: italic\">None</span>.                            <a href=\"file:///opt/conda/lib/python3.12/site-packages/sagemaker/image_uris.py\" target=\"_blank\"><span style=\"color: #7f7f7f; text-decoration-color: #7f7f7f\">image_uris.py</span></a><span style=\"color: #7f7f7f; text-decoration-color: #7f7f7f\">:</span><a href=\"file:///opt/conda/lib/python3.12/site-packages/sagemaker/image_uris.py#530\" target=\"_blank\"><span style=\"color: #7f7f7f; text-decoration-color: #7f7f7f\">530</span></a>\n",
       "</pre>\n"
      ],
      "text/plain": [
       "\u001b[2;36m[06/01/25 07:07:51]\u001b[0m\u001b[2;36m \u001b[0m\u001b[1;38;2;0;105;255mINFO    \u001b[0m Ignoring unnecessary instance type: \u001b[3;38;2;225;0;225mNone\u001b[0m.                            \u001b]8;id=718661;file:///opt/conda/lib/python3.12/site-packages/sagemaker/image_uris.py\u001b\\\u001b[2mimage_uris.py\u001b[0m\u001b]8;;\u001b\\\u001b[2m:\u001b[0m\u001b]8;id=759522;file:///opt/conda/lib/python3.12/site-packages/sagemaker/image_uris.py#530\u001b\\\u001b[2m530\u001b[0m\u001b]8;;\u001b\\\n"
      ]
     },
     "metadata": {},
     "output_type": "display_data"
    }
   ],
   "source": [
    "from sagemaker import clarify\n",
    "\n",
    "clarify_processor = clarify.SageMakerClarifyProcessor(role=ROLE, instance_count=1, instance_type=\"ml.m5.xlarge\", sagemaker_session=sagemaker_session)"
   ]
  },
  {
   "cell_type": "markdown",
   "id": "1c4575f3-6dcc-4206-8b17-fa6259235b8f",
   "metadata": {},
   "source": [
    "## Detecting Bias\n",
    "SageMaker Clarify helps you detect possible pre-training and post-training biases using a variety of metrics.\n",
    "\n",
    "### Writing DataConfig\n",
    "A DataConfig object communicates some basic information about data I/O to SageMaker Clarify. For our example here we provide the below information:\n"
   ]
  },
  {
   "cell_type": "code",
   "execution_count": 13,
   "id": "ddd7af8a-1fe1-403c-b6a9-b1463610534c",
   "metadata": {},
   "outputs": [],
   "source": [
    "bias_report_output_path = \"s3://{}/{}/clarify-bias\".format(BUCKET, PREFIX_KEY)\n",
    "bias_data_config = clarify.DataConfig(\n",
    "    s3_data_input_path=train_uri,\n",
    "    s3_output_path=bias_report_output_path,\n",
    "    label=TARGET,\n",
    "    headers=FEATURES,\n",
    "    dataset_type=\"text/csv\",\n",
    ")"
   ]
  },
  {
   "cell_type": "markdown",
   "id": "0dab8cba-490a-4864-af92-c5331b16b680",
   "metadata": {},
   "source": [
    "### Writing ModelConfig\n",
    "A ModelConfig object communicates information about your trained model. To avoid additional traffic to the production models, SageMaker Clarify sets up and tears down a dedicated endpoint when processing. For our example here we provide the below information:\n",
    "Sagemaker clarify will use the input features to predict the outcomes and will see if model predictios are bias towards any feature like gender, race.\n",
    "\n",
    "-  model_name: name of the concerned model, using name of the xgboost model trained earlier\n",
    "- instance_type and initial_instance_count specify your preferred instance type and instance count used to run your model on during SageMaker Clarify’s processing. The example dataset is small, so a single standard instance is good enough to run this example.\n",
    "- accept_type denotes the endpoint response payload format, and content_type denotes the payload format of request to the endpoint. As per the example model we created above both of these will be text/csv.\n"
   ]
  },
  {
   "cell_type": "code",
   "execution_count": 16,
   "id": "3ebf74d5-cb41-409b-bd2c-5c55a99d71fc",
   "metadata": {},
   "outputs": [],
   "source": [
    "\n",
    "model_config = clarify.ModelConfig(\n",
    "    model_name=\"Model-Adult-Dataset-31-05-2025-18-20-58\",\n",
    "    instance_type=\"ml.c5.xlarge\",\n",
    "    instance_count=1,\n",
    "    accept_type=\"text/csv\", # Endpoint Reponse Type\n",
    "    content_type=\"text/csv\", # Endpoint Input Type\n",
    ")"
   ]
  },
  {
   "cell_type": "markdown",
   "id": "e3c91005-2825-41fa-965c-a23e8fe40e99",
   "metadata": {},
   "source": [
    "### Writing ModelPredictedLabelConfig\n",
    "A ModelPredictedLabelConfig provides information on the format of your predictions. XGBoost model outputs probabilities of samples, so SageMaker Clarify invokes the endpoint then uses probability_threshold to convert the probability to binary labels for bias analysis. Prediction above the threshold is interpreted as label value 1 and below or equal as label value 0.\n"
   ]
  },
  {
   "cell_type": "code",
   "execution_count": 17,
   "id": "7820af4c-c0be-4ce5-ae20-22c9d28c91d3",
   "metadata": {},
   "outputs": [],
   "source": [
    "predictions_config = clarify.ModelPredictedLabelConfig(probability_threshold=0.5)"
   ]
  },
  {
   "cell_type": "markdown",
   "id": "5591e190-9201-4801-9310-df6d993aab7d",
   "metadata": {},
   "source": [
    "### Writing BiasConfig\n",
    "BiasConfig contains configuration values for detecting bias using a Clarify container.\n",
    "\n",
    "For our demo we provide the following information in BiasConfig API:\n",
    "- label_values_or_threshold: List of label value(s) or threshold to indicate positive outcome used for bias metrics. Here positive outcome is earning >$50,000.\n",
    "- facet_name: Sensitive columns of the dataset, “Sex” is the category\n",
    "- facet_values_or_threshold: values of the sensitive group, “Female” respondents are the sensitive group.\n",
    "- group_name: This example has selected the “Age” column which is used to form subgroups for the measurement of bias metric Conditional Demographic Disparity (CDD) or Conditional Demographic Disparity in Predicted Labels (CDDPL).\n",
    "\n",
    "SageMaker Clarify can handle both categorical and continuous data for facet: values_or_threshold and for label_values_or_threshold. In this case we are using categorical data. \n",
    "\n",
    "**The results will show if the model has a preference for records of one sex over the other.**"
   ]
  },
  {
   "cell_type": "code",
   "execution_count": 18,
   "id": "54baeb15-7bab-41d3-8815-33d7ac7f4323",
   "metadata": {},
   "outputs": [],
   "source": [
    "\n",
    "bias_config = clarify.BiasConfig(\n",
    "    label_values_or_threshold=[1], facet_name=\"Sex_Male\", facet_values_or_threshold=[0], group_name=\"Age\"\n",
    ")"
   ]
  },
  {
   "cell_type": "markdown",
   "id": "398a76f8-5288-48c8-ab6f-cee5ec9017d0",
   "metadata": {},
   "source": [
    "#### Pre-training Bias\n",
    "Bias can be present in your data before any model training occurs. Inspecting your data for bias before training begins can help detect any data collection gaps, inform your feature engineering, and help you understand what societal biases the data may reflect.\n",
    "\n",
    "Computing pre-training bias metrics does not require a trained model.\n",
    "\n",
    "#### Post-training Bias\n",
    "Computing post-training bias metrics does require a trained model.\n",
    "\n",
    "Unbiased training data (as determined by concepts of fairness measured by bias metric) may still result in biased model predictions after training. Whether this occurs depends on several factors including hyperparameter choices.\n",
    "\n",
    "You can run these options separately with run_pre_training_bias() and run_post_training_bias() or at the same time with run_bias() as shown below. We use following additional parameters for the api call:\n",
    "\n",
    "- pre_training_methods: Pre-training bias metrics to be computed. The detailed description of the metrics can be found on Measure Pre-training Bias. This example sets methods to “all” to compute all the pre-training bias metrics.\n",
    "- post_training_methods: Post-training bias metrics to be computed. The detailed description of the metrics can be found on Measure Post-training Bias. This example sets methods to “all” to compute all the post-training bias metrics."
   ]
  },
  {
   "cell_type": "code",
   "execution_count": null,
   "id": "b9cc8040-83e5-41d4-97d2-a4382a0878df",
   "metadata": {},
   "outputs": [
    {
     "data": {
      "text/html": [
       "<pre style=\"white-space:pre;overflow-x:auto;line-height:normal;font-family:Menlo,'DejaVu Sans Mono',consolas,'Courier New',monospace\"><span style=\"color: #7fbfbf; text-decoration-color: #7fbfbf\">[06/01/25 07:10:04] </span><span style=\"color: #0069ff; text-decoration-color: #0069ff; font-weight: bold\">INFO    </span> Analysis Config: <span style=\"font-weight: bold\">{</span><span style=\"color: #008700; text-decoration-color: #008700\">'dataset_type'</span>: <span style=\"color: #008700; text-decoration-color: #008700\">'text/csv'</span>, <span style=\"color: #008700; text-decoration-color: #008700\">'headers'</span>:               <a href=\"file:///opt/conda/lib/python3.12/site-packages/sagemaker/clarify.py\" target=\"_blank\"><span style=\"color: #7f7f7f; text-decoration-color: #7f7f7f\">clarify.py</span></a><span style=\"color: #7f7f7f; text-decoration-color: #7f7f7f\">:</span><a href=\"file:///opt/conda/lib/python3.12/site-packages/sagemaker/clarify.py#1987\" target=\"_blank\"><span style=\"color: #7f7f7f; text-decoration-color: #7f7f7f\">1987</span></a>\n",
       "<span style=\"color: #7fbfbf; text-decoration-color: #7fbfbf\">                    </span>         <span style=\"font-weight: bold\">[</span><span style=\"color: #008700; text-decoration-color: #008700\">'Target_&gt;50K'</span>, <span style=\"color: #008700; text-decoration-color: #008700\">'Age'</span>, <span style=\"color: #008700; text-decoration-color: #008700\">'fnlwgt'</span>, <span style=\"color: #008700; text-decoration-color: #008700\">'Education-Num'</span>, <span style=\"color: #008700; text-decoration-color: #008700\">'Capital Gain'</span>,      <span style=\"color: #7f7f7f; text-decoration-color: #7f7f7f\">               </span>\n",
       "<span style=\"color: #7fbfbf; text-decoration-color: #7fbfbf\">                    </span>         <span style=\"color: #008700; text-decoration-color: #008700\">'Capital Loss'</span>, <span style=\"color: #008700; text-decoration-color: #008700\">'Hours per week'</span>, <span style=\"color: #008700; text-decoration-color: #008700\">'Workclass_Federal-gov'</span>,             <span style=\"color: #7f7f7f; text-decoration-color: #7f7f7f\">               </span>\n",
       "<span style=\"color: #7fbfbf; text-decoration-color: #7fbfbf\">                    </span>         <span style=\"color: #008700; text-decoration-color: #008700\">'Workclass_Local-gov'</span>, <span style=\"color: #008700; text-decoration-color: #008700\">'Workclass_Never-worked'</span>, <span style=\"color: #008700; text-decoration-color: #008700\">'Workclass_Private'</span>,  <span style=\"color: #7f7f7f; text-decoration-color: #7f7f7f\">               </span>\n",
       "<span style=\"color: #7fbfbf; text-decoration-color: #7fbfbf\">                    </span>         <span style=\"color: #008700; text-decoration-color: #008700\">'Workclass_Self-emp-inc'</span>, <span style=\"color: #008700; text-decoration-color: #008700\">'Workclass_Self-emp-not-inc'</span>,                <span style=\"color: #7f7f7f; text-decoration-color: #7f7f7f\">               </span>\n",
       "<span style=\"color: #7fbfbf; text-decoration-color: #7fbfbf\">                    </span>         <span style=\"color: #008700; text-decoration-color: #008700\">'Workclass_State-gov'</span>, <span style=\"color: #008700; text-decoration-color: #008700\">'Workclass_Without-pay'</span>, <span style=\"color: #008700; text-decoration-color: #008700\">'Education_11th'</span>,      <span style=\"color: #7f7f7f; text-decoration-color: #7f7f7f\">               </span>\n",
       "<span style=\"color: #7fbfbf; text-decoration-color: #7fbfbf\">                    </span>         <span style=\"color: #008700; text-decoration-color: #008700\">'Education_12th'</span>, <span style=\"color: #008700; text-decoration-color: #008700\">'Education_1st-4th'</span>, <span style=\"color: #008700; text-decoration-color: #008700\">'Education_5th-6th'</span>,            <span style=\"color: #7f7f7f; text-decoration-color: #7f7f7f\">               </span>\n",
       "<span style=\"color: #7fbfbf; text-decoration-color: #7fbfbf\">                    </span>         <span style=\"color: #008700; text-decoration-color: #008700\">'Education_7th-8th'</span>, <span style=\"color: #008700; text-decoration-color: #008700\">'Education_9th'</span>, <span style=\"color: #008700; text-decoration-color: #008700\">'Education_Assoc-acdm'</span>,          <span style=\"color: #7f7f7f; text-decoration-color: #7f7f7f\">               </span>\n",
       "<span style=\"color: #7fbfbf; text-decoration-color: #7fbfbf\">                    </span>         <span style=\"color: #008700; text-decoration-color: #008700\">'Education_Assoc-voc'</span>, <span style=\"color: #008700; text-decoration-color: #008700\">'Education_Bachelors'</span>, <span style=\"color: #008700; text-decoration-color: #008700\">'Education_Doctorate'</span>,   <span style=\"color: #7f7f7f; text-decoration-color: #7f7f7f\">               </span>\n",
       "<span style=\"color: #7fbfbf; text-decoration-color: #7fbfbf\">                    </span>         <span style=\"color: #008700; text-decoration-color: #008700\">'Education_HS-grad'</span>, <span style=\"color: #008700; text-decoration-color: #008700\">'Education_Masters'</span>, <span style=\"color: #008700; text-decoration-color: #008700\">'Education_Preschool'</span>,       <span style=\"color: #7f7f7f; text-decoration-color: #7f7f7f\">               </span>\n",
       "<span style=\"color: #7fbfbf; text-decoration-color: #7fbfbf\">                    </span>         <span style=\"color: #008700; text-decoration-color: #008700\">'Education_Prof-school'</span>, <span style=\"color: #008700; text-decoration-color: #008700\">'Education_Some-college'</span>, <span style=\"color: #008700; text-decoration-color: #008700\">'Marital </span>           <span style=\"color: #7f7f7f; text-decoration-color: #7f7f7f\">               </span>\n",
       "<span style=\"color: #7fbfbf; text-decoration-color: #7fbfbf\">                    </span>         <span style=\"color: #008700; text-decoration-color: #008700\">Status_Married-AF-spouse'</span>, <span style=\"color: #008700; text-decoration-color: #008700\">'Marital Status_Married-civ-spouse'</span>,        <span style=\"color: #7f7f7f; text-decoration-color: #7f7f7f\">               </span>\n",
       "<span style=\"color: #7fbfbf; text-decoration-color: #7fbfbf\">                    </span>         <span style=\"color: #008700; text-decoration-color: #008700\">'Marital Status_Married-spouse-absent'</span>, <span style=\"color: #008700; text-decoration-color: #008700\">'Marital </span>                      <span style=\"color: #7f7f7f; text-decoration-color: #7f7f7f\">               </span>\n",
       "<span style=\"color: #7fbfbf; text-decoration-color: #7fbfbf\">                    </span>         <span style=\"color: #008700; text-decoration-color: #008700\">Status_Never-married'</span>, <span style=\"color: #008700; text-decoration-color: #008700\">'Marital Status_Separated'</span>, <span style=\"color: #008700; text-decoration-color: #008700\">'Marital </span>           <span style=\"color: #7f7f7f; text-decoration-color: #7f7f7f\">               </span>\n",
       "<span style=\"color: #7fbfbf; text-decoration-color: #7fbfbf\">                    </span>         <span style=\"color: #008700; text-decoration-color: #008700\">Status_Widowed'</span>, <span style=\"color: #008700; text-decoration-color: #008700\">'Occupation_Adm-clerical'</span>, <span style=\"color: #008700; text-decoration-color: #008700\">'Occupation_Armed-Forces'</span>, <span style=\"color: #7f7f7f; text-decoration-color: #7f7f7f\">               </span>\n",
       "<span style=\"color: #7fbfbf; text-decoration-color: #7fbfbf\">                    </span>         <span style=\"color: #008700; text-decoration-color: #008700\">'Occupation_Craft-repair'</span>, <span style=\"color: #008700; text-decoration-color: #008700\">'Occupation_Exec-managerial'</span>,               <span style=\"color: #7f7f7f; text-decoration-color: #7f7f7f\">               </span>\n",
       "<span style=\"color: #7fbfbf; text-decoration-color: #7fbfbf\">                    </span>         <span style=\"color: #008700; text-decoration-color: #008700\">'Occupation_Farming-fishing'</span>, <span style=\"color: #008700; text-decoration-color: #008700\">'Occupation_Handlers-cleaners'</span>,          <span style=\"color: #7f7f7f; text-decoration-color: #7f7f7f\">               </span>\n",
       "<span style=\"color: #7fbfbf; text-decoration-color: #7fbfbf\">                    </span>         <span style=\"color: #008700; text-decoration-color: #008700\">'Occupation_Machine-op-inspct'</span>, <span style=\"color: #008700; text-decoration-color: #008700\">'Occupation_Other-service'</span>,            <span style=\"color: #7f7f7f; text-decoration-color: #7f7f7f\">               </span>\n",
       "<span style=\"color: #7fbfbf; text-decoration-color: #7fbfbf\">                    </span>         <span style=\"color: #008700; text-decoration-color: #008700\">'Occupation_Priv-house-serv'</span>, <span style=\"color: #008700; text-decoration-color: #008700\">'Occupation_Prof-specialty'</span>,             <span style=\"color: #7f7f7f; text-decoration-color: #7f7f7f\">               </span>\n",
       "<span style=\"color: #7fbfbf; text-decoration-color: #7fbfbf\">                    </span>         <span style=\"color: #008700; text-decoration-color: #008700\">'Occupation_Protective-serv'</span>, <span style=\"color: #008700; text-decoration-color: #008700\">'Occupation_Sales'</span>,                      <span style=\"color: #7f7f7f; text-decoration-color: #7f7f7f\">               </span>\n",
       "<span style=\"color: #7fbfbf; text-decoration-color: #7fbfbf\">                    </span>         <span style=\"color: #008700; text-decoration-color: #008700\">'Occupation_Tech-support'</span>, <span style=\"color: #008700; text-decoration-color: #008700\">'Occupation_Transport-moving'</span>,              <span style=\"color: #7f7f7f; text-decoration-color: #7f7f7f\">               </span>\n",
       "<span style=\"color: #7fbfbf; text-decoration-color: #7fbfbf\">                    </span>         <span style=\"color: #008700; text-decoration-color: #008700\">'Relationship_Not-in-family'</span>, <span style=\"color: #008700; text-decoration-color: #008700\">'Relationship_Other-relative'</span>,           <span style=\"color: #7f7f7f; text-decoration-color: #7f7f7f\">               </span>\n",
       "<span style=\"color: #7fbfbf; text-decoration-color: #7fbfbf\">                    </span>         <span style=\"color: #008700; text-decoration-color: #008700\">'Relationship_Own-child'</span>, <span style=\"color: #008700; text-decoration-color: #008700\">'Relationship_Unmarried'</span>,                    <span style=\"color: #7f7f7f; text-decoration-color: #7f7f7f\">               </span>\n",
       "<span style=\"color: #7fbfbf; text-decoration-color: #7fbfbf\">                    </span>         <span style=\"color: #008700; text-decoration-color: #008700\">'Relationship_Wife'</span>, <span style=\"color: #008700; text-decoration-color: #008700\">'Ethnic group_Asian-Pac-Islander'</span>, <span style=\"color: #008700; text-decoration-color: #008700\">'Ethnic </span>       <span style=\"color: #7f7f7f; text-decoration-color: #7f7f7f\">               </span>\n",
       "<span style=\"color: #7fbfbf; text-decoration-color: #7fbfbf\">                    </span>         <span style=\"color: #008700; text-decoration-color: #008700\">group_Black'</span>, <span style=\"color: #008700; text-decoration-color: #008700\">'Ethnic group_Other'</span>, <span style=\"color: #008700; text-decoration-color: #008700\">'Ethnic group_White'</span>, <span style=\"color: #008700; text-decoration-color: #008700\">'Sex_Male'</span>,  <span style=\"color: #7f7f7f; text-decoration-color: #7f7f7f\">               </span>\n",
       "<span style=\"color: #7fbfbf; text-decoration-color: #7fbfbf\">                    </span>         <span style=\"color: #008700; text-decoration-color: #008700\">'Country_Cambodia'</span>, <span style=\"color: #008700; text-decoration-color: #008700\">'Country_Canada'</span>, <span style=\"color: #008700; text-decoration-color: #008700\">'Country_China'</span>,                 <span style=\"color: #7f7f7f; text-decoration-color: #7f7f7f\">               </span>\n",
       "<span style=\"color: #7fbfbf; text-decoration-color: #7fbfbf\">                    </span>         <span style=\"color: #008700; text-decoration-color: #008700\">'Country_Columbia'</span>, <span style=\"color: #008700; text-decoration-color: #008700\">'Country_Cuba'</span>, <span style=\"color: #008700; text-decoration-color: #008700\">'Country_Dominican-Republic'</span>,      <span style=\"color: #7f7f7f; text-decoration-color: #7f7f7f\">               </span>\n",
       "<span style=\"color: #7fbfbf; text-decoration-color: #7fbfbf\">                    </span>         <span style=\"color: #008700; text-decoration-color: #008700\">'Country_Ecuador'</span>, <span style=\"color: #008700; text-decoration-color: #008700\">'Country_El-Salvador'</span>, <span style=\"color: #008700; text-decoration-color: #008700\">'Country_England'</span>,           <span style=\"color: #7f7f7f; text-decoration-color: #7f7f7f\">               </span>\n",
       "<span style=\"color: #7fbfbf; text-decoration-color: #7fbfbf\">                    </span>         <span style=\"color: #008700; text-decoration-color: #008700\">'Country_France'</span>, <span style=\"color: #008700; text-decoration-color: #008700\">'Country_Germany'</span>, <span style=\"color: #008700; text-decoration-color: #008700\">'Country_Greece'</span>,                 <span style=\"color: #7f7f7f; text-decoration-color: #7f7f7f\">               </span>\n",
       "<span style=\"color: #7fbfbf; text-decoration-color: #7fbfbf\">                    </span>         <span style=\"color: #008700; text-decoration-color: #008700\">'Country_Guatemala'</span>, <span style=\"color: #008700; text-decoration-color: #008700\">'Country_Haiti'</span>, <span style=\"color: #008700; text-decoration-color: #008700\">'Country_Holand-Netherlands'</span>,    <span style=\"color: #7f7f7f; text-decoration-color: #7f7f7f\">               </span>\n",
       "<span style=\"color: #7fbfbf; text-decoration-color: #7fbfbf\">                    </span>         <span style=\"color: #008700; text-decoration-color: #008700\">'Country_Honduras'</span>, <span style=\"color: #008700; text-decoration-color: #008700\">'Country_Hong'</span>, <span style=\"color: #008700; text-decoration-color: #008700\">'Country_Hungary'</span>,                 <span style=\"color: #7f7f7f; text-decoration-color: #7f7f7f\">               </span>\n",
       "<span style=\"color: #7fbfbf; text-decoration-color: #7fbfbf\">                    </span>         <span style=\"color: #008700; text-decoration-color: #008700\">'Country_India'</span>, <span style=\"color: #008700; text-decoration-color: #008700\">'Country_Iran'</span>, <span style=\"color: #008700; text-decoration-color: #008700\">'Country_Ireland'</span>, <span style=\"color: #008700; text-decoration-color: #008700\">'Country_Italy'</span>,   <span style=\"color: #7f7f7f; text-decoration-color: #7f7f7f\">               </span>\n",
       "<span style=\"color: #7fbfbf; text-decoration-color: #7fbfbf\">                    </span>         <span style=\"color: #008700; text-decoration-color: #008700\">'Country_Jamaica'</span>, <span style=\"color: #008700; text-decoration-color: #008700\">'Country_Japan'</span>, <span style=\"color: #008700; text-decoration-color: #008700\">'Country_Laos'</span>, <span style=\"color: #008700; text-decoration-color: #008700\">'Country_Mexico'</span>,  <span style=\"color: #7f7f7f; text-decoration-color: #7f7f7f\">               </span>\n",
       "<span style=\"color: #7fbfbf; text-decoration-color: #7fbfbf\">                    </span>         <span style=\"color: #008700; text-decoration-color: #008700\">'Country_Nicaragua'</span>, <span style=\"color: #008700; text-decoration-color: #008700\">'Country_Outlying-US</span><span style=\"color: #008700; text-decoration-color: #008700; font-weight: bold\">(</span><span style=\"color: #008700; text-decoration-color: #008700\">Guam-USVI-etc</span><span style=\"color: #008700; text-decoration-color: #008700; font-weight: bold\">)</span><span style=\"color: #008700; text-decoration-color: #008700\">'</span>,             <span style=\"color: #7f7f7f; text-decoration-color: #7f7f7f\">               </span>\n",
       "<span style=\"color: #7fbfbf; text-decoration-color: #7fbfbf\">                    </span>         <span style=\"color: #008700; text-decoration-color: #008700\">'Country_Peru'</span>, <span style=\"color: #008700; text-decoration-color: #008700\">'Country_Philippines'</span>, <span style=\"color: #008700; text-decoration-color: #008700\">'Country_Poland'</span>,               <span style=\"color: #7f7f7f; text-decoration-color: #7f7f7f\">               </span>\n",
       "<span style=\"color: #7fbfbf; text-decoration-color: #7fbfbf\">                    </span>         <span style=\"color: #008700; text-decoration-color: #008700\">'Country_Portugal'</span>, <span style=\"color: #008700; text-decoration-color: #008700\">'Country_Puerto-Rico'</span>, <span style=\"color: #008700; text-decoration-color: #008700\">'Country_Scotland'</span>,         <span style=\"color: #7f7f7f; text-decoration-color: #7f7f7f\">               </span>\n",
       "<span style=\"color: #7fbfbf; text-decoration-color: #7fbfbf\">                    </span>         <span style=\"color: #008700; text-decoration-color: #008700\">'Country_South'</span>, <span style=\"color: #008700; text-decoration-color: #008700\">'Country_Taiwan'</span>, <span style=\"color: #008700; text-decoration-color: #008700\">'Country_Thailand'</span>,                 <span style=\"color: #7f7f7f; text-decoration-color: #7f7f7f\">               </span>\n",
       "<span style=\"color: #7fbfbf; text-decoration-color: #7fbfbf\">                    </span>         <span style=\"color: #008700; text-decoration-color: #008700\">'Country_Trinadad&amp;Tobago'</span>, <span style=\"color: #008700; text-decoration-color: #008700\">'Country_United-States'</span>, <span style=\"color: #008700; text-decoration-color: #008700\">'Country_Vietnam'</span>, <span style=\"color: #7f7f7f; text-decoration-color: #7f7f7f\">               </span>\n",
       "<span style=\"color: #7fbfbf; text-decoration-color: #7fbfbf\">                    </span>         <span style=\"color: #008700; text-decoration-color: #008700\">'Country_Yugoslavia'</span><span style=\"font-weight: bold\">]</span>, <span style=\"color: #008700; text-decoration-color: #008700\">'label'</span>: <span style=\"color: #008700; text-decoration-color: #008700\">'Target_&gt;50K'</span>,                         <span style=\"color: #7f7f7f; text-decoration-color: #7f7f7f\">               </span>\n",
       "<span style=\"color: #7fbfbf; text-decoration-color: #7fbfbf\">                    </span>         <span style=\"color: #008700; text-decoration-color: #008700\">'label_values_or_threshold'</span>: <span style=\"font-weight: bold\">[</span><span style=\"color: #008080; text-decoration-color: #008080; font-weight: bold\">1</span><span style=\"font-weight: bold\">]</span>, <span style=\"color: #008700; text-decoration-color: #008700\">'facet'</span>: <span style=\"font-weight: bold\">[{</span><span style=\"color: #008700; text-decoration-color: #008700\">'name_or_index'</span>:          <span style=\"color: #7f7f7f; text-decoration-color: #7f7f7f\">               </span>\n",
       "<span style=\"color: #7fbfbf; text-decoration-color: #7fbfbf\">                    </span>         <span style=\"color: #008700; text-decoration-color: #008700\">'Sex_Male'</span>, <span style=\"color: #008700; text-decoration-color: #008700\">'value_or_threshold'</span>: <span style=\"font-weight: bold\">[</span><span style=\"color: #008080; text-decoration-color: #008080; font-weight: bold\">0</span><span style=\"font-weight: bold\">]}]</span>, <span style=\"color: #008700; text-decoration-color: #008700\">'group_variable'</span>: <span style=\"color: #008700; text-decoration-color: #008700\">'Age'</span>,      <span style=\"color: #7f7f7f; text-decoration-color: #7f7f7f\">               </span>\n",
       "<span style=\"color: #7fbfbf; text-decoration-color: #7fbfbf\">                    </span>         <span style=\"color: #008700; text-decoration-color: #008700\">'methods'</span>: <span style=\"font-weight: bold\">{</span><span style=\"color: #008700; text-decoration-color: #008700\">'report'</span>: <span style=\"font-weight: bold\">{</span><span style=\"color: #008700; text-decoration-color: #008700\">'name'</span>: <span style=\"color: #008700; text-decoration-color: #008700\">'report'</span>, <span style=\"color: #008700; text-decoration-color: #008700\">'title'</span>: <span style=\"color: #008700; text-decoration-color: #008700\">'Analysis Report'</span><span style=\"font-weight: bold\">}</span>,  <span style=\"color: #7f7f7f; text-decoration-color: #7f7f7f\">               </span>\n",
       "<span style=\"color: #7fbfbf; text-decoration-color: #7fbfbf\">                    </span>         <span style=\"color: #008700; text-decoration-color: #008700\">'pre_training_bias'</span>: <span style=\"font-weight: bold\">{</span><span style=\"color: #008700; text-decoration-color: #008700\">'methods'</span>: <span style=\"color: #008700; text-decoration-color: #008700\">'all'</span><span style=\"font-weight: bold\">}</span>, <span style=\"color: #008700; text-decoration-color: #008700\">'post_training_bias'</span>:         <span style=\"color: #7f7f7f; text-decoration-color: #7f7f7f\">               </span>\n",
       "<span style=\"color: #7fbfbf; text-decoration-color: #7fbfbf\">                    </span>         <span style=\"font-weight: bold\">{</span><span style=\"color: #008700; text-decoration-color: #008700\">'methods'</span>: <span style=\"color: #008700; text-decoration-color: #008700\">'all'</span><span style=\"font-weight: bold\">}}</span>, <span style=\"color: #008700; text-decoration-color: #008700\">'predictor'</span>: <span style=\"font-weight: bold\">{</span><span style=\"color: #008700; text-decoration-color: #008700\">'model_name'</span>:                       <span style=\"color: #7f7f7f; text-decoration-color: #7f7f7f\">               </span>\n",
       "<span style=\"color: #7fbfbf; text-decoration-color: #7fbfbf\">                    </span>         <span style=\"color: #008700; text-decoration-color: #008700\">'Model-Adult-Dataset-31-05-2025-18-20-58'</span>, <span style=\"color: #008700; text-decoration-color: #008700\">'instance_type'</span>:            <span style=\"color: #7f7f7f; text-decoration-color: #7f7f7f\">               </span>\n",
       "<span style=\"color: #7fbfbf; text-decoration-color: #7fbfbf\">                    </span>         <span style=\"color: #008700; text-decoration-color: #008700\">'ml.c5.xlarge'</span>, <span style=\"color: #008700; text-decoration-color: #008700\">'initial_instance_count'</span>: <span style=\"color: #008080; text-decoration-color: #008080; font-weight: bold\">1</span>, <span style=\"color: #008700; text-decoration-color: #008700\">'accept_type'</span>:            <span style=\"color: #7f7f7f; text-decoration-color: #7f7f7f\">               </span>\n",
       "<span style=\"color: #7fbfbf; text-decoration-color: #7fbfbf\">                    </span>         <span style=\"color: #008700; text-decoration-color: #008700\">'text/csv'</span>, <span style=\"color: #008700; text-decoration-color: #008700\">'content_type'</span>: <span style=\"color: #008700; text-decoration-color: #008700\">'text/csv'</span><span style=\"font-weight: bold\">}</span>, <span style=\"color: #008700; text-decoration-color: #008700\">'probability_threshold'</span>: <span style=\"color: #008080; text-decoration-color: #008080; font-weight: bold\">0.5</span><span style=\"font-weight: bold\">}</span> <span style=\"color: #7f7f7f; text-decoration-color: #7f7f7f\">               </span>\n",
       "</pre>\n"
      ],
      "text/plain": [
       "\u001b[2;36m[06/01/25 07:10:04]\u001b[0m\u001b[2;36m \u001b[0m\u001b[1;38;2;0;105;255mINFO    \u001b[0m Analysis Config: \u001b[1m{\u001b[0m\u001b[38;2;0;135;0m'dataset_type'\u001b[0m: \u001b[38;2;0;135;0m'text/csv'\u001b[0m, \u001b[38;2;0;135;0m'headers'\u001b[0m:               \u001b]8;id=379558;file:///opt/conda/lib/python3.12/site-packages/sagemaker/clarify.py\u001b\\\u001b[2mclarify.py\u001b[0m\u001b]8;;\u001b\\\u001b[2m:\u001b[0m\u001b]8;id=34359;file:///opt/conda/lib/python3.12/site-packages/sagemaker/clarify.py#1987\u001b\\\u001b[2m1987\u001b[0m\u001b]8;;\u001b\\\n",
       "\u001b[2;36m                    \u001b[0m         \u001b[1m[\u001b[0m\u001b[38;2;0;135;0m'Target_>50K'\u001b[0m, \u001b[38;2;0;135;0m'Age'\u001b[0m, \u001b[38;2;0;135;0m'fnlwgt'\u001b[0m, \u001b[38;2;0;135;0m'Education-Num'\u001b[0m, \u001b[38;2;0;135;0m'Capital Gain'\u001b[0m,      \u001b[2m               \u001b[0m\n",
       "\u001b[2;36m                    \u001b[0m         \u001b[38;2;0;135;0m'Capital Loss'\u001b[0m, \u001b[38;2;0;135;0m'Hours per week'\u001b[0m, \u001b[38;2;0;135;0m'Workclass_Federal-gov'\u001b[0m,             \u001b[2m               \u001b[0m\n",
       "\u001b[2;36m                    \u001b[0m         \u001b[38;2;0;135;0m'Workclass_Local-gov'\u001b[0m, \u001b[38;2;0;135;0m'Workclass_Never-worked'\u001b[0m, \u001b[38;2;0;135;0m'Workclass_Private'\u001b[0m,  \u001b[2m               \u001b[0m\n",
       "\u001b[2;36m                    \u001b[0m         \u001b[38;2;0;135;0m'Workclass_Self-emp-inc'\u001b[0m, \u001b[38;2;0;135;0m'Workclass_Self-emp-not-inc'\u001b[0m,                \u001b[2m               \u001b[0m\n",
       "\u001b[2;36m                    \u001b[0m         \u001b[38;2;0;135;0m'Workclass_State-gov'\u001b[0m, \u001b[38;2;0;135;0m'Workclass_Without-pay'\u001b[0m, \u001b[38;2;0;135;0m'Education_11th'\u001b[0m,      \u001b[2m               \u001b[0m\n",
       "\u001b[2;36m                    \u001b[0m         \u001b[38;2;0;135;0m'Education_12th'\u001b[0m, \u001b[38;2;0;135;0m'Education_1st-4th'\u001b[0m, \u001b[38;2;0;135;0m'Education_5th-6th'\u001b[0m,            \u001b[2m               \u001b[0m\n",
       "\u001b[2;36m                    \u001b[0m         \u001b[38;2;0;135;0m'Education_7th-8th'\u001b[0m, \u001b[38;2;0;135;0m'Education_9th'\u001b[0m, \u001b[38;2;0;135;0m'Education_Assoc-acdm'\u001b[0m,          \u001b[2m               \u001b[0m\n",
       "\u001b[2;36m                    \u001b[0m         \u001b[38;2;0;135;0m'Education_Assoc-voc'\u001b[0m, \u001b[38;2;0;135;0m'Education_Bachelors'\u001b[0m, \u001b[38;2;0;135;0m'Education_Doctorate'\u001b[0m,   \u001b[2m               \u001b[0m\n",
       "\u001b[2;36m                    \u001b[0m         \u001b[38;2;0;135;0m'Education_HS-grad'\u001b[0m, \u001b[38;2;0;135;0m'Education_Masters'\u001b[0m, \u001b[38;2;0;135;0m'Education_Preschool'\u001b[0m,       \u001b[2m               \u001b[0m\n",
       "\u001b[2;36m                    \u001b[0m         \u001b[38;2;0;135;0m'Education_Prof-school'\u001b[0m, \u001b[38;2;0;135;0m'Education_Some-college'\u001b[0m, \u001b[38;2;0;135;0m'Marital \u001b[0m           \u001b[2m               \u001b[0m\n",
       "\u001b[2;36m                    \u001b[0m         \u001b[38;2;0;135;0mStatus_Married-AF-spouse'\u001b[0m, \u001b[38;2;0;135;0m'Marital Status_Married-civ-spouse'\u001b[0m,        \u001b[2m               \u001b[0m\n",
       "\u001b[2;36m                    \u001b[0m         \u001b[38;2;0;135;0m'Marital Status_Married-spouse-absent'\u001b[0m, \u001b[38;2;0;135;0m'Marital \u001b[0m                      \u001b[2m               \u001b[0m\n",
       "\u001b[2;36m                    \u001b[0m         \u001b[38;2;0;135;0mStatus_Never-married'\u001b[0m, \u001b[38;2;0;135;0m'Marital Status_Separated'\u001b[0m, \u001b[38;2;0;135;0m'Marital \u001b[0m           \u001b[2m               \u001b[0m\n",
       "\u001b[2;36m                    \u001b[0m         \u001b[38;2;0;135;0mStatus_Widowed'\u001b[0m, \u001b[38;2;0;135;0m'Occupation_Adm-clerical'\u001b[0m, \u001b[38;2;0;135;0m'Occupation_Armed-Forces'\u001b[0m, \u001b[2m               \u001b[0m\n",
       "\u001b[2;36m                    \u001b[0m         \u001b[38;2;0;135;0m'Occupation_Craft-repair'\u001b[0m, \u001b[38;2;0;135;0m'Occupation_Exec-managerial'\u001b[0m,               \u001b[2m               \u001b[0m\n",
       "\u001b[2;36m                    \u001b[0m         \u001b[38;2;0;135;0m'Occupation_Farming-fishing'\u001b[0m, \u001b[38;2;0;135;0m'Occupation_Handlers-cleaners'\u001b[0m,          \u001b[2m               \u001b[0m\n",
       "\u001b[2;36m                    \u001b[0m         \u001b[38;2;0;135;0m'Occupation_Machine-op-inspct'\u001b[0m, \u001b[38;2;0;135;0m'Occupation_Other-service'\u001b[0m,            \u001b[2m               \u001b[0m\n",
       "\u001b[2;36m                    \u001b[0m         \u001b[38;2;0;135;0m'Occupation_Priv-house-serv'\u001b[0m, \u001b[38;2;0;135;0m'Occupation_Prof-specialty'\u001b[0m,             \u001b[2m               \u001b[0m\n",
       "\u001b[2;36m                    \u001b[0m         \u001b[38;2;0;135;0m'Occupation_Protective-serv'\u001b[0m, \u001b[38;2;0;135;0m'Occupation_Sales'\u001b[0m,                      \u001b[2m               \u001b[0m\n",
       "\u001b[2;36m                    \u001b[0m         \u001b[38;2;0;135;0m'Occupation_Tech-support'\u001b[0m, \u001b[38;2;0;135;0m'Occupation_Transport-moving'\u001b[0m,              \u001b[2m               \u001b[0m\n",
       "\u001b[2;36m                    \u001b[0m         \u001b[38;2;0;135;0m'Relationship_Not-in-family'\u001b[0m, \u001b[38;2;0;135;0m'Relationship_Other-relative'\u001b[0m,           \u001b[2m               \u001b[0m\n",
       "\u001b[2;36m                    \u001b[0m         \u001b[38;2;0;135;0m'Relationship_Own-child'\u001b[0m, \u001b[38;2;0;135;0m'Relationship_Unmarried'\u001b[0m,                    \u001b[2m               \u001b[0m\n",
       "\u001b[2;36m                    \u001b[0m         \u001b[38;2;0;135;0m'Relationship_Wife'\u001b[0m, \u001b[38;2;0;135;0m'Ethnic group_Asian-Pac-Islander'\u001b[0m, \u001b[38;2;0;135;0m'Ethnic \u001b[0m       \u001b[2m               \u001b[0m\n",
       "\u001b[2;36m                    \u001b[0m         \u001b[38;2;0;135;0mgroup_Black'\u001b[0m, \u001b[38;2;0;135;0m'Ethnic group_Other'\u001b[0m, \u001b[38;2;0;135;0m'Ethnic group_White'\u001b[0m, \u001b[38;2;0;135;0m'Sex_Male'\u001b[0m,  \u001b[2m               \u001b[0m\n",
       "\u001b[2;36m                    \u001b[0m         \u001b[38;2;0;135;0m'Country_Cambodia'\u001b[0m, \u001b[38;2;0;135;0m'Country_Canada'\u001b[0m, \u001b[38;2;0;135;0m'Country_China'\u001b[0m,                 \u001b[2m               \u001b[0m\n",
       "\u001b[2;36m                    \u001b[0m         \u001b[38;2;0;135;0m'Country_Columbia'\u001b[0m, \u001b[38;2;0;135;0m'Country_Cuba'\u001b[0m, \u001b[38;2;0;135;0m'Country_Dominican-Republic'\u001b[0m,      \u001b[2m               \u001b[0m\n",
       "\u001b[2;36m                    \u001b[0m         \u001b[38;2;0;135;0m'Country_Ecuador'\u001b[0m, \u001b[38;2;0;135;0m'Country_El-Salvador'\u001b[0m, \u001b[38;2;0;135;0m'Country_England'\u001b[0m,           \u001b[2m               \u001b[0m\n",
       "\u001b[2;36m                    \u001b[0m         \u001b[38;2;0;135;0m'Country_France'\u001b[0m, \u001b[38;2;0;135;0m'Country_Germany'\u001b[0m, \u001b[38;2;0;135;0m'Country_Greece'\u001b[0m,                 \u001b[2m               \u001b[0m\n",
       "\u001b[2;36m                    \u001b[0m         \u001b[38;2;0;135;0m'Country_Guatemala'\u001b[0m, \u001b[38;2;0;135;0m'Country_Haiti'\u001b[0m, \u001b[38;2;0;135;0m'Country_Holand-Netherlands'\u001b[0m,    \u001b[2m               \u001b[0m\n",
       "\u001b[2;36m                    \u001b[0m         \u001b[38;2;0;135;0m'Country_Honduras'\u001b[0m, \u001b[38;2;0;135;0m'Country_Hong'\u001b[0m, \u001b[38;2;0;135;0m'Country_Hungary'\u001b[0m,                 \u001b[2m               \u001b[0m\n",
       "\u001b[2;36m                    \u001b[0m         \u001b[38;2;0;135;0m'Country_India'\u001b[0m, \u001b[38;2;0;135;0m'Country_Iran'\u001b[0m, \u001b[38;2;0;135;0m'Country_Ireland'\u001b[0m, \u001b[38;2;0;135;0m'Country_Italy'\u001b[0m,   \u001b[2m               \u001b[0m\n",
       "\u001b[2;36m                    \u001b[0m         \u001b[38;2;0;135;0m'Country_Jamaica'\u001b[0m, \u001b[38;2;0;135;0m'Country_Japan'\u001b[0m, \u001b[38;2;0;135;0m'Country_Laos'\u001b[0m, \u001b[38;2;0;135;0m'Country_Mexico'\u001b[0m,  \u001b[2m               \u001b[0m\n",
       "\u001b[2;36m                    \u001b[0m         \u001b[38;2;0;135;0m'Country_Nicaragua'\u001b[0m, \u001b[38;2;0;135;0m'Country_Outlying-US\u001b[0m\u001b[1;38;2;0;135;0m(\u001b[0m\u001b[38;2;0;135;0mGuam-USVI-etc\u001b[0m\u001b[1;38;2;0;135;0m)\u001b[0m\u001b[38;2;0;135;0m'\u001b[0m,             \u001b[2m               \u001b[0m\n",
       "\u001b[2;36m                    \u001b[0m         \u001b[38;2;0;135;0m'Country_Peru'\u001b[0m, \u001b[38;2;0;135;0m'Country_Philippines'\u001b[0m, \u001b[38;2;0;135;0m'Country_Poland'\u001b[0m,               \u001b[2m               \u001b[0m\n",
       "\u001b[2;36m                    \u001b[0m         \u001b[38;2;0;135;0m'Country_Portugal'\u001b[0m, \u001b[38;2;0;135;0m'Country_Puerto-Rico'\u001b[0m, \u001b[38;2;0;135;0m'Country_Scotland'\u001b[0m,         \u001b[2m               \u001b[0m\n",
       "\u001b[2;36m                    \u001b[0m         \u001b[38;2;0;135;0m'Country_South'\u001b[0m, \u001b[38;2;0;135;0m'Country_Taiwan'\u001b[0m, \u001b[38;2;0;135;0m'Country_Thailand'\u001b[0m,                 \u001b[2m               \u001b[0m\n",
       "\u001b[2;36m                    \u001b[0m         \u001b[38;2;0;135;0m'Country_Trinadad&Tobago'\u001b[0m, \u001b[38;2;0;135;0m'Country_United-States'\u001b[0m, \u001b[38;2;0;135;0m'Country_Vietnam'\u001b[0m, \u001b[2m               \u001b[0m\n",
       "\u001b[2;36m                    \u001b[0m         \u001b[38;2;0;135;0m'Country_Yugoslavia'\u001b[0m\u001b[1m]\u001b[0m, \u001b[38;2;0;135;0m'label'\u001b[0m: \u001b[38;2;0;135;0m'Target_>50K'\u001b[0m,                         \u001b[2m               \u001b[0m\n",
       "\u001b[2;36m                    \u001b[0m         \u001b[38;2;0;135;0m'label_values_or_threshold'\u001b[0m: \u001b[1m[\u001b[0m\u001b[1;36m1\u001b[0m\u001b[1m]\u001b[0m, \u001b[38;2;0;135;0m'facet'\u001b[0m: \u001b[1m[\u001b[0m\u001b[1m{\u001b[0m\u001b[38;2;0;135;0m'name_or_index'\u001b[0m:          \u001b[2m               \u001b[0m\n",
       "\u001b[2;36m                    \u001b[0m         \u001b[38;2;0;135;0m'Sex_Male'\u001b[0m, \u001b[38;2;0;135;0m'value_or_threshold'\u001b[0m: \u001b[1m[\u001b[0m\u001b[1;36m0\u001b[0m\u001b[1m]\u001b[0m\u001b[1m}\u001b[0m\u001b[1m]\u001b[0m, \u001b[38;2;0;135;0m'group_variable'\u001b[0m: \u001b[38;2;0;135;0m'Age'\u001b[0m,      \u001b[2m               \u001b[0m\n",
       "\u001b[2;36m                    \u001b[0m         \u001b[38;2;0;135;0m'methods'\u001b[0m: \u001b[1m{\u001b[0m\u001b[38;2;0;135;0m'report'\u001b[0m: \u001b[1m{\u001b[0m\u001b[38;2;0;135;0m'name'\u001b[0m: \u001b[38;2;0;135;0m'report'\u001b[0m, \u001b[38;2;0;135;0m'title'\u001b[0m: \u001b[38;2;0;135;0m'Analysis Report'\u001b[0m\u001b[1m}\u001b[0m,  \u001b[2m               \u001b[0m\n",
       "\u001b[2;36m                    \u001b[0m         \u001b[38;2;0;135;0m'pre_training_bias'\u001b[0m: \u001b[1m{\u001b[0m\u001b[38;2;0;135;0m'methods'\u001b[0m: \u001b[38;2;0;135;0m'all'\u001b[0m\u001b[1m}\u001b[0m, \u001b[38;2;0;135;0m'post_training_bias'\u001b[0m:         \u001b[2m               \u001b[0m\n",
       "\u001b[2;36m                    \u001b[0m         \u001b[1m{\u001b[0m\u001b[38;2;0;135;0m'methods'\u001b[0m: \u001b[38;2;0;135;0m'all'\u001b[0m\u001b[1m}\u001b[0m\u001b[1m}\u001b[0m, \u001b[38;2;0;135;0m'predictor'\u001b[0m: \u001b[1m{\u001b[0m\u001b[38;2;0;135;0m'model_name'\u001b[0m:                       \u001b[2m               \u001b[0m\n",
       "\u001b[2;36m                    \u001b[0m         \u001b[38;2;0;135;0m'Model-Adult-Dataset-31-05-2025-18-20-58'\u001b[0m, \u001b[38;2;0;135;0m'instance_type'\u001b[0m:            \u001b[2m               \u001b[0m\n",
       "\u001b[2;36m                    \u001b[0m         \u001b[38;2;0;135;0m'ml.c5.xlarge'\u001b[0m, \u001b[38;2;0;135;0m'initial_instance_count'\u001b[0m: \u001b[1;36m1\u001b[0m, \u001b[38;2;0;135;0m'accept_type'\u001b[0m:            \u001b[2m               \u001b[0m\n",
       "\u001b[2;36m                    \u001b[0m         \u001b[38;2;0;135;0m'text/csv'\u001b[0m, \u001b[38;2;0;135;0m'content_type'\u001b[0m: \u001b[38;2;0;135;0m'text/csv'\u001b[0m\u001b[1m}\u001b[0m, \u001b[38;2;0;135;0m'probability_threshold'\u001b[0m: \u001b[1;36m0.5\u001b[0m\u001b[1m}\u001b[0m \u001b[2m               \u001b[0m\n"
      ]
     },
     "metadata": {},
     "output_type": "display_data"
    },
    {
     "data": {
      "text/html": [
       "<pre style=\"white-space:pre;overflow-x:auto;line-height:normal;font-family:Menlo,'DejaVu Sans Mono',consolas,'Courier New',monospace\"><span style=\"color: #7fbfbf; text-decoration-color: #7fbfbf\">[06/01/25 07:10:05] </span><span style=\"color: #0069ff; text-decoration-color: #0069ff; font-weight: bold\">INFO    </span> Creating processing-job with name Clarify-Bias-<span style=\"color: #008080; text-decoration-color: #008080; font-weight: bold\">2025</span>-06-01-07-10-04-980 <a href=\"file:///opt/conda/lib/python3.12/site-packages/sagemaker/session.py\" target=\"_blank\"><span style=\"color: #7f7f7f; text-decoration-color: #7f7f7f\">session.py</span></a><span style=\"color: #7f7f7f; text-decoration-color: #7f7f7f\">:</span><a href=\"file:///opt/conda/lib/python3.12/site-packages/sagemaker/session.py#1575\" target=\"_blank\"><span style=\"color: #7f7f7f; text-decoration-color: #7f7f7f\">1575</span></a>\n",
       "</pre>\n"
      ],
      "text/plain": [
       "\u001b[2;36m[06/01/25 07:10:05]\u001b[0m\u001b[2;36m \u001b[0m\u001b[1;38;2;0;105;255mINFO    \u001b[0m Creating processing-job with name Clarify-Bias-\u001b[1;36m2025\u001b[0m-06-01-07-10-04-980 \u001b]8;id=73196;file:///opt/conda/lib/python3.12/site-packages/sagemaker/session.py\u001b\\\u001b[2msession.py\u001b[0m\u001b]8;;\u001b\\\u001b[2m:\u001b[0m\u001b]8;id=383402;file:///opt/conda/lib/python3.12/site-packages/sagemaker/session.py#1575\u001b\\\u001b[2m1575\u001b[0m\u001b]8;;\u001b\\\n"
      ]
     },
     "metadata": {},
     "output_type": "display_data"
    },
    {
     "name": "stdout",
     "output_type": "stream",
     "text": [
      "........"
     ]
    }
   ],
   "source": [
    "# The job takes about 10 minutes to run\n",
    "clarify_processor.run_bias(\n",
    "    data_config=bias_data_config,\n",
    "    bias_config=bias_config,\n",
    "    model_config=model_config,\n",
    "    model_predicted_label_config=predictions_config,\n",
    "    pre_training_methods=\"all\",\n",
    "    post_training_methods=\"all\",\n",
    ")"
   ]
  }
 ],
 "metadata": {
  "kernelspec": {
   "display_name": "Python 3 (ipykernel)",
   "language": "python",
   "name": "python3"
  },
  "language_info": {
   "codemirror_mode": {
    "name": "ipython",
    "version": 3
   },
   "file_extension": ".py",
   "mimetype": "text/x-python",
   "name": "python",
   "nbconvert_exporter": "python",
   "pygments_lexer": "ipython3",
   "version": "3.12.9"
  }
 },
 "nbformat": 4,
 "nbformat_minor": 5
}
